{
 "cells": [
  {
   "cell_type": "code",
   "execution_count": 2,
   "id": "62ce3f52-25c4-4f34-9faa-93afefb9fbce",
   "metadata": {},
   "outputs": [
    {
     "name": "stdout",
     "output_type": "stream",
     "text": [
      "Collecting package metadata (current_repodata.json): ...working... done\n",
      "Solving environment: ...working... done\n",
      "\n",
      "## Package Plan ##\n",
      "\n",
      "  environment location: C:\\Users\\BIT\\anaconda3\n",
      "\n",
      "  added / updated specs:\n",
      "    - pymongo\n",
      "\n",
      "\n",
      "The following packages will be downloaded:\n",
      "\n",
      "    package                    |            build\n",
      "    ---------------------------|-----------------\n",
      "    pymongo-3.12.0             |   py39hd77b12b_0         1.3 MB\n",
      "    ------------------------------------------------------------\n",
      "                                           Total:         1.3 MB\n",
      "\n",
      "The following NEW packages will be INSTALLED:\n",
      "\n",
      "  pymongo            pkgs/main/win-64::pymongo-3.12.0-py39hd77b12b_0\n",
      "\n",
      "\n",
      "\n",
      "Downloading and Extracting Packages\n",
      "\n",
      "pymongo-3.12.0       | 1.3 MB    |            |   0% \n",
      "pymongo-3.12.0       | 1.3 MB    | ########## | 100% \n",
      "pymongo-3.12.0       | 1.3 MB    | ########## | 100% \n",
      "Preparing transaction: ...working... done\n",
      "Verifying transaction: ...working... done\n",
      "Executing transaction: ...working... done\n"
     ]
    }
   ],
   "source": [
    "! conda install -y pymongo"
   ]
  },
  {
   "cell_type": "code",
   "execution_count": 3,
   "id": "24ace1e2-d142-4c60-8a86-b13f71068c4b",
   "metadata": {},
   "outputs": [],
   "source": [
    "import pymongo"
   ]
  },
  {
   "cell_type": "code",
   "execution_count": 4,
   "id": "5208bbe9-ad86-4a0d-8b1f-a04ef6606e97",
   "metadata": {},
   "outputs": [],
   "source": [
    "import gridfs"
   ]
  },
  {
   "cell_type": "code",
   "execution_count": 5,
   "id": "e8781503-02e6-4493-b8c7-4c8967c7410e",
   "metadata": {},
   "outputs": [],
   "source": [
    "client = pymongo.MongoClient()"
   ]
  },
  {
   "cell_type": "code",
   "execution_count": 6,
   "id": "fce48059-28d7-4800-973f-1ebdbf3b901b",
   "metadata": {},
   "outputs": [],
   "source": [
    "db = client.test"
   ]
  },
  {
   "cell_type": "code",
   "execution_count": 7,
   "id": "01de3b5e-121d-4a44-a806-4eee1a0a66c9",
   "metadata": {},
   "outputs": [],
   "source": [
    "fs = gridfs.GridFS(db)"
   ]
  },
  {
   "cell_type": "code",
   "execution_count": 8,
   "id": "19b0bd28-b062-441d-be28-4e64c207828e",
   "metadata": {},
   "outputs": [],
   "source": [
    "file_id = fs.put(b\"Hello, World\", filename=\"foo.txt\")"
   ]
  },
  {
   "cell_type": "code",
   "execution_count": 9,
   "id": "204536e5-e77d-4429-83aa-0af4a9da4262",
   "metadata": {},
   "outputs": [
    {
     "data": {
      "text/plain": [
       "['foo.txt']"
      ]
     },
     "execution_count": 9,
     "metadata": {},
     "output_type": "execute_result"
    }
   ],
   "source": [
    "fs.list()"
   ]
  },
  {
   "cell_type": "code",
   "execution_count": 10,
   "id": "8d3c56b6-2db2-4056-ab87-9db0f51a4827",
   "metadata": {},
   "outputs": [
    {
     "data": {
      "text/plain": [
       "b'Hello, World'"
      ]
     },
     "execution_count": 10,
     "metadata": {},
     "output_type": "execute_result"
    }
   ],
   "source": [
    "fs.get(file_id).read()"
   ]
  },
  {
   "cell_type": "code",
   "execution_count": null,
   "id": "7e4b8322-ea80-41ba-920e-6ff7ba56a84a",
   "metadata": {},
   "outputs": [],
   "source": []
  },
  {
   "cell_type": "code",
   "execution_count": null,
   "id": "7dff8eab-4f35-4b61-9e84-c9525aec01ac",
   "metadata": {},
   "outputs": [],
   "source": []
  }
 ],
 "metadata": {
  "kernelspec": {
   "display_name": "Python 3 (ipykernel)",
   "language": "python",
   "name": "python3"
  },
  "language_info": {
   "codemirror_mode": {
    "name": "ipython",
    "version": 3
   },
   "file_extension": ".py",
   "mimetype": "text/x-python",
   "name": "python",
   "nbconvert_exporter": "python",
   "pygments_lexer": "ipython3",
   "version": "3.9.7"
  }
 },
 "nbformat": 4,
 "nbformat_minor": 5
}
