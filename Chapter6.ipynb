{
 "cells": [
  {
   "cell_type": "markdown",
   "id": "7d0988f9-3a1e-4060-9083-07f86867a719",
   "metadata": {},
   "source": [
    "# Chapter 6\n",
    "\n",
    " - 반복"
   ]
  },
  {
   "cell_type": "code",
   "execution_count": null,
   "id": "d868d6ee-0deb-4ef1-8e5f-399c9374976b",
   "metadata": {},
   "outputs": [],
   "source": [
    "# for 변수 in range(시작값, 끝값+1, 증가값) :\n",
    "    # 이 부분을 반복"
   ]
  },
  {
   "cell_type": "code",
   "execution_count": 1,
   "id": "84b363cd-921e-41de-814d-fdf46b628777",
   "metadata": {},
   "outputs": [
    {
     "name": "stdout",
     "output_type": "stream",
     "text": [
      "안녕하세요... 0\n",
      "안녕하세요... 2\n",
      "안녕하세요... 4\n",
      "안녕하세요... 6\n",
      "안녕하세요... 8\n"
     ]
    }
   ],
   "source": [
    "for i in range(0, 10, 2) :\n",
    "    print('안녕하세요...', i)"
   ]
  },
  {
   "cell_type": "code",
   "execution_count": 2,
   "id": "daf2531d-1d33-4605-9295-5cb58e0d1228",
   "metadata": {},
   "outputs": [
    {
     "name": "stdout",
     "output_type": "stream",
     "text": [
      "안녕하세요... 20\n",
      "안녕하세요... 22\n",
      "안녕하세요... 24\n",
      "안녕하세요... 26\n",
      "안녕하세요... 28\n",
      "안녕하세요... 30\n",
      "안녕하세요... 32\n",
      "안녕하세요... 34\n",
      "안녕하세요... 36\n",
      "안녕하세요... 38\n",
      "안녕하세요... 40\n",
      "안녕하세요... 42\n",
      "안녕하세요... 44\n",
      "안녕하세요... 46\n",
      "안녕하세요... 48\n"
     ]
    }
   ],
   "source": [
    "for i in range(20, 50, 2) :\n",
    "    print('안녕하세요...', i)"
   ]
  },
  {
   "cell_type": "code",
   "execution_count": 3,
   "id": "bf1a43a7-003c-4ac0-aef0-6ba809ebc97a",
   "metadata": {},
   "outputs": [
    {
     "data": {
      "text/plain": [
       "range(0, 5)"
      ]
     },
     "execution_count": 3,
     "metadata": {},
     "output_type": "execute_result"
    }
   ],
   "source": [
    "range(0, 5, 1)"
   ]
  },
  {
   "cell_type": "code",
   "execution_count": 4,
   "id": "0097d6eb-8d60-4192-a8cf-a4af9ad56749",
   "metadata": {},
   "outputs": [
    {
     "data": {
      "text/plain": [
       "range"
      ]
     },
     "execution_count": 4,
     "metadata": {},
     "output_type": "execute_result"
    }
   ],
   "source": [
    "type(range(0, 5, 1))"
   ]
  },
  {
   "cell_type": "code",
   "execution_count": 5,
   "id": "8418bb81-0e39-4228-9d25-ded52cff2435",
   "metadata": {},
   "outputs": [
    {
     "data": {
      "text/plain": [
       "list"
      ]
     },
     "execution_count": 5,
     "metadata": {},
     "output_type": "execute_result"
    }
   ],
   "source": [
    "type([0, 1, 3, 5, 9, 10])"
   ]
  },
  {
   "cell_type": "code",
   "execution_count": 6,
   "id": "787aac6e-6852-4bcf-8bb4-fb2ddd5e4176",
   "metadata": {},
   "outputs": [
    {
     "name": "stdout",
     "output_type": "stream",
     "text": [
      "0\n",
      "1\n",
      "3\n",
      "5\n",
      "9\n",
      "10\n"
     ]
    }
   ],
   "source": [
    "# 리스트\n",
    "for i in [0, 1, 3, 5, 9, 10] :\n",
    "    print(i)"
   ]
  },
  {
   "cell_type": "code",
   "execution_count": 7,
   "id": "5772a01d-a5dc-47de-a649-7213243904c5",
   "metadata": {},
   "outputs": [
    {
     "name": "stdout",
     "output_type": "stream",
     "text": [
      "하나\n",
      "100\n",
      "-0.934\n",
      "range(1, 3)\n"
     ]
    }
   ],
   "source": [
    "for i in['하나', 100, -0.934, range(1,3,1)] :\n",
    "    print(i)"
   ]
  },
  {
   "cell_type": "code",
   "execution_count": 8,
   "id": "2bea371e-bafb-47d6-8f5f-b40df2b43f7d",
   "metadata": {},
   "outputs": [
    {
     "name": "stdout",
     "output_type": "stream",
     "text": [
      "0 : 안녕하세요? for 문을 공부 중입니다. ^^\n",
      "1 : 안녕하세요? for 문을 공부 중입니다. ^^\n",
      "2 : 안녕하세요? for 문을 공부 중입니다. ^^\n"
     ]
    }
   ],
   "source": [
    "for i in range(0, 3, 1) :\n",
    "    print(\"%d : 안녕하세요? for 문을 공부 중입니다. ^^\" % i)"
   ]
  },
  {
   "cell_type": "code",
   "execution_count": 9,
   "id": "577c0bb5-d8b7-45e3-889b-bde270407086",
   "metadata": {},
   "outputs": [
    {
     "name": "stdout",
     "output_type": "stream",
     "text": [
      "0 : 안녕하세요? for 문을 공부 중입니다. ^^\n",
      "1 : 안녕하세요? for 문을 공부 중입니다. ^^\n",
      "2 : 안녕하세요? for 문을 공부 중입니다. ^^\n"
     ]
    }
   ],
   "source": [
    "for i in range(0, 3, 1) :\n",
    "    print(f\"{i} : 안녕하세요? for 문을 공부 중입니다. ^^\")"
   ]
  },
  {
   "cell_type": "code",
   "execution_count": 10,
   "id": "b1e3efcd-cdd7-40fe-895e-cc0f7141e3c5",
   "metadata": {},
   "outputs": [
    {
     "name": "stdout",
     "output_type": "stream",
     "text": [
      "0 : 안녕하세요? for 문을 공부 중입니다. ^^\n",
      "1 : 안녕하세요? for 문을 공부 중입니다. ^^\n",
      "2 : 안녕하세요? for 문을 공부 중입니다. ^^\n"
     ]
    }
   ],
   "source": [
    "for i in range(0, 3, 1) :\n",
    "    print(\"{} : 안녕하세요? for 문을 공부 중입니다. ^^\".format(i))"
   ]
  },
  {
   "cell_type": "markdown",
   "id": "def462d4-a6f2-456f-b518-accd30b9e7c2",
   "metadata": {},
   "source": [
    "던더~(_)"
   ]
  },
  {
   "cell_type": "code",
   "execution_count": 11,
   "id": "13469869-67a1-4b7d-bc71-ab66c64386b6",
   "metadata": {},
   "outputs": [
    {
     "name": "stdout",
     "output_type": "stream",
     "text": [
      "안녕하세요... \n",
      "안녕하세요... \n",
      "안녕하세요... \n"
     ]
    }
   ],
   "source": [
    "for _ in range(1, 4, 1) :\n",
    "    print('안녕하세요... ')"
   ]
  },
  {
   "cell_type": "code",
   "execution_count": 12,
   "id": "ef5c5f01-7678-47d7-ae5f-381680ba4f7c",
   "metadata": {},
   "outputs": [
    {
     "name": "stdout",
     "output_type": "stream",
     "text": [
      "안녕하세요...  5\n",
      "안녕하세요...  4\n",
      "안녕하세요...  3\n",
      "안녕하세요...  2\n",
      "안녕하세요...  1\n",
      "안녕하세요...  0\n",
      "안녕하세요...  -1\n",
      "안녕하세요...  -2\n",
      "안녕하세요...  -3\n",
      "안녕하세요...  -4\n"
     ]
    }
   ],
   "source": [
    "for i in range(5, -5, -1) :\n",
    "    print('안녕하세요... ', i)"
   ]
  },
  {
   "cell_type": "code",
   "execution_count": 13,
   "id": "cf8bc8a9-0017-41d3-8e88-2b25e98e55b5",
   "metadata": {},
   "outputs": [
    {
     "name": "stdout",
     "output_type": "stream",
     "text": [
      "3 \n",
      "2 \n",
      "1 \n",
      "0 \n",
      "-1 \n"
     ]
    }
   ],
   "source": [
    "for i in range(3, -2, -1) :\n",
    "    print('%d ' % i)"
   ]
  },
  {
   "cell_type": "code",
   "execution_count": 14,
   "id": "ca9d92b6-64ba-4299-b672-15a24973cc09",
   "metadata": {},
   "outputs": [
    {
     "name": "stdout",
     "output_type": "stream",
     "text": [
      "3 2 1 0 -1 "
     ]
    }
   ],
   "source": [
    "for i in range(3, -2, -1) :\n",
    "    print('%d ' % i, end=\"\")"
   ]
  },
  {
   "cell_type": "code",
   "execution_count": 15,
   "id": "5bcafe64-05b7-46cd-a2af-c2caeddd9d5e",
   "metadata": {},
   "outputs": [
    {
     "data": {
      "text/plain": [
       "\u001b[1;31mDocstring:\u001b[0m\n",
       "print(value, ..., sep=' ', end='\\n', file=sys.stdout, flush=False)\n",
       "\n",
       "Prints the values to a stream, or to sys.stdout by default.\n",
       "Optional keyword arguments:\n",
       "file:  a file-like object (stream); defaults to the current sys.stdout.\n",
       "sep:   string inserted between values, default a space.\n",
       "end:   string appended after the last value, default a newline.\n",
       "flush: whether to forcibly flush the stream.\n",
       "\u001b[1;31mType:\u001b[0m      builtin_function_or_method\n"
      ]
     },
     "metadata": {},
     "output_type": "display_data"
    }
   ],
   "source": [
    "print?"
   ]
  },
  {
   "cell_type": "code",
   "execution_count": 16,
   "id": "28ac3126-4f8b-4ac2-8de7-83f6259689b5",
   "metadata": {},
   "outputs": [
    {
     "name": "stdout",
     "output_type": "stream",
     "text": [
      "3 \t2 \t1 \t0 \t-1 \t"
     ]
    }
   ],
   "source": [
    "for i in range(3, -2, -1) :\n",
    "    print('%d ' % i, end=\"\\t\")"
   ]
  },
  {
   "cell_type": "code",
   "execution_count": 17,
   "id": "efc4df8e-3830-43cc-a82c-13fce98a60bb",
   "metadata": {},
   "outputs": [
    {
     "name": "stdout",
     "output_type": "stream",
     "text": [
      "1에서 10까지의 합계 : 55\n"
     ]
    }
   ],
   "source": [
    "i, hap = 0, 0\n",
    "\n",
    "for i in range(1, 11, 1) :\n",
    "    hap += i\n",
    "    \n",
    "print(\"1에서 10까지의 합계 : %d\" % hap)"
   ]
  },
  {
   "cell_type": "code",
   "execution_count": 18,
   "id": "9b5a22c0-6687-4fe5-a32e-0ee8cd7cb1b6",
   "metadata": {},
   "outputs": [
    {
     "name": "stdout",
     "output_type": "stream",
     "text": [
      "500과 1000 사이에 있는 홀수의 합계 : 187500\n"
     ]
    }
   ],
   "source": [
    "i, hap = 0, 0\n",
    "\n",
    "for i in range(501, 1001, 2) :\n",
    "    hap += i\n",
    "    \n",
    "print(f\"500과 1000 사이에 있는 홀수의 합계 : {hap}\")"
   ]
  },
  {
   "cell_type": "code",
   "execution_count": 19,
   "id": "b484cf98-f3a6-42da-a138-26b26060e55a",
   "metadata": {},
   "outputs": [
    {
     "name": "stdout",
     "output_type": "stream",
     "text": [
      "500과 1000 사이에 있는 짝수의 합계 : 188250\n"
     ]
    }
   ],
   "source": [
    "i, hap = 0, 0\n",
    "\n",
    "for i in range(500, 1001, 2) :\n",
    "    hap += i\n",
    "    \n",
    "print(\"500과 1000 사이에 있는 짝수의 합계 : {}\".format(hap))"
   ]
  },
  {
   "cell_type": "code",
   "execution_count": 20,
   "id": "02f9a480-6863-4445-93b8-b9826117f788",
   "metadata": {},
   "outputs": [
    {
     "name": "stdin",
     "output_type": "stream",
     "text": [
      "값을 입력하세요 :  1\n"
     ]
    },
    {
     "name": "stdout",
     "output_type": "stream",
     "text": [
      "1에서 1까지의 합계 : 1\n"
     ]
    }
   ],
   "source": [
    "i, hap, num = 0, 0, 0\n",
    "\n",
    "num = int(input(\"값을 입력하세요 : \"))\n",
    "\n",
    "for i in range(1, num+1, 1) :\n",
    "    hap += i\n",
    "    \n",
    "print(\"1에서 %d까지의 합계 : %d\" % (num, hap))"
   ]
  },
  {
   "cell_type": "code",
   "execution_count": 21,
   "id": "a79b0980-62fe-4526-a1c5-ae0f290d1b7e",
   "metadata": {},
   "outputs": [
    {
     "name": "stdin",
     "output_type": "stream",
     "text": [
      "시작값을 입력하세요 :  1\n",
      "끝값값을 입력하세요 :  1\n",
      "증가값을 입력하세요 :  1\n"
     ]
    },
    {
     "name": "stdout",
     "output_type": "stream",
     "text": [
      "1에서 1까지 1씩 증가시킨 값의 합계 : 1\n"
     ]
    }
   ],
   "source": [
    "i, hap = 0, 0\n",
    "num1, num2, num3 = 0, 0, 0\n",
    "\n",
    "num1 = int(input(\"시작값을 입력하세요 : \"))\n",
    "num2 = int(input(\"끝값값을 입력하세요 : \"))\n",
    "num3 = int(input(\"증가값을 입력하세요 : \"))\n",
    "\n",
    "for i in range(num1, num2+1, num3) :\n",
    "    hap += i\n",
    "    \n",
    "print(\"%d에서 %d까지 %d씩 증가시킨 값의 합계 : %d\" % (num1, num2, num3, hap))"
   ]
  },
  {
   "cell_type": "markdown",
   "id": "ca1b924b-b69f-479c-887f-8e249d775abb",
   "metadata": {},
   "source": [
    "## 중첩 for"
   ]
  },
  {
   "cell_type": "code",
   "execution_count": 22,
   "id": "02c2e555-e40b-456e-af6a-8ccca6ff1f19",
   "metadata": {},
   "outputs": [
    {
     "name": "stdout",
     "output_type": "stream",
     "text": [
      "안녕하세요:  11 1\n",
      "안녕하세요:  12 1\n",
      "안녕하세요:  13 1\n",
      "안녕하세요:  14 1\n",
      "안녕하세요:  15 1\n",
      "안녕하세요:  11 2\n",
      "안녕하세요:  12 2\n",
      "안녕하세요:  13 2\n",
      "안녕하세요:  14 2\n",
      "안녕하세요:  15 2\n",
      "안녕하세요:  11 3\n",
      "안녕하세요:  12 3\n",
      "안녕하세요:  13 3\n",
      "안녕하세요:  14 3\n",
      "안녕하세요:  15 3\n",
      "안녕하세요:  11 4\n",
      "안녕하세요:  12 4\n",
      "안녕하세요:  13 4\n",
      "안녕하세요:  14 4\n",
      "안녕하세요:  15 4\n"
     ]
    }
   ],
   "source": [
    "for i in range(1, 5, 1) :\n",
    "    for j in range(11, 16, 1) :\n",
    "        print('안녕하세요: ', j, i)"
   ]
  },
  {
   "cell_type": "code",
   "execution_count": 23,
   "id": "a1f0b7d4-2a18-40ce-9973-b92ed4164166",
   "metadata": {},
   "outputs": [
    {
     "name": "stdout",
     "output_type": "stream",
     "text": [
      "2 X 1 =  2\n",
      "2 X 2 =  4\n",
      "2 X 3 =  6\n",
      "2 X 4 =  8\n",
      "2 X 5 = 10\n",
      "2 X 6 = 12\n",
      "2 X 7 = 14\n",
      "2 X 8 = 16\n",
      "2 X 9 = 18\n",
      "\n",
      "3 X 1 =  3\n",
      "3 X 2 =  6\n",
      "3 X 3 =  9\n",
      "3 X 4 = 12\n",
      "3 X 5 = 15\n",
      "3 X 6 = 18\n",
      "3 X 7 = 21\n",
      "3 X 8 = 24\n",
      "3 X 9 = 27\n",
      "\n",
      "4 X 1 =  4\n",
      "4 X 2 =  8\n",
      "4 X 3 = 12\n",
      "4 X 4 = 16\n",
      "4 X 5 = 20\n",
      "4 X 6 = 24\n",
      "4 X 7 = 28\n",
      "4 X 8 = 32\n",
      "4 X 9 = 36\n",
      "\n",
      "5 X 1 =  5\n",
      "5 X 2 = 10\n",
      "5 X 3 = 15\n",
      "5 X 4 = 20\n",
      "5 X 5 = 25\n",
      "5 X 6 = 30\n",
      "5 X 7 = 35\n",
      "5 X 8 = 40\n",
      "5 X 9 = 45\n",
      "\n",
      "6 X 1 =  6\n",
      "6 X 2 = 12\n",
      "6 X 3 = 18\n",
      "6 X 4 = 24\n",
      "6 X 5 = 30\n",
      "6 X 6 = 36\n",
      "6 X 7 = 42\n",
      "6 X 8 = 48\n",
      "6 X 9 = 54\n",
      "\n",
      "7 X 1 =  7\n",
      "7 X 2 = 14\n",
      "7 X 3 = 21\n",
      "7 X 4 = 28\n",
      "7 X 5 = 35\n",
      "7 X 6 = 42\n",
      "7 X 7 = 49\n",
      "7 X 8 = 56\n",
      "7 X 9 = 63\n",
      "\n",
      "8 X 1 =  8\n",
      "8 X 2 = 16\n",
      "8 X 3 = 24\n",
      "8 X 4 = 32\n",
      "8 X 5 = 40\n",
      "8 X 6 = 48\n",
      "8 X 7 = 56\n",
      "8 X 8 = 64\n",
      "8 X 9 = 72\n",
      "\n",
      "9 X 1 =  9\n",
      "9 X 2 = 18\n",
      "9 X 3 = 27\n",
      "9 X 4 = 36\n",
      "9 X 5 = 45\n",
      "9 X 6 = 54\n",
      "9 X 7 = 63\n",
      "9 X 8 = 72\n",
      "9 X 9 = 81\n",
      "\n"
     ]
    }
   ],
   "source": [
    "i, k = 0, 0\n",
    "\n",
    "for i in range(2, 10, 1) :\n",
    "    for k in range(1, 10, 1) :\n",
    "        print(\"%d X %d = %2d\" % (i, k, i*k))\n",
    "    print(\"\")"
   ]
  },
  {
   "cell_type": "markdown",
   "id": "b86651ff-a18e-432a-8dca-d75c519adffa",
   "metadata": {},
   "source": [
    "## 별 그리기\n",
    "\n",
    "for 반복문으로 피라미드(삼각형) 그려보세요.\n",
    "```\n",
    "*\n",
    "**\n",
    "***\n",
    "****\n",
    "*****\n",
    "```"
   ]
  },
  {
   "cell_type": "code",
   "execution_count": 24,
   "id": "e2c6e2c9-cb2d-4f2d-a233-d3c0fa30745a",
   "metadata": {},
   "outputs": [
    {
     "name": "stdout",
     "output_type": "stream",
     "text": [
      "*\n",
      "**\n",
      "***\n",
      "****\n",
      "*****\n"
     ]
    }
   ],
   "source": [
    "i, k = 0, 0\n",
    "\n",
    "for i in range(1, 6) :\n",
    "    for k in range(1, i+1) :\n",
    "        print(\"*\", end='')\n",
    "    print()"
   ]
  },
  {
   "cell_type": "markdown",
   "id": "ef81b983-cb78-4c6f-9756-fd5a128f2d53",
   "metadata": {},
   "source": [
    "## while"
   ]
  },
  {
   "cell_type": "code",
   "execution_count": 25,
   "id": "9965a612-8818-4b79-8b99-e113ff5d4f97",
   "metadata": {},
   "outputs": [
    {
     "name": "stdout",
     "output_type": "stream",
     "text": [
      "0\n",
      "1\n",
      "2\n"
     ]
    }
   ],
   "source": [
    "# for처럼 반복적인\n",
    "i = 0\n",
    "\n",
    "while i < 3 :\n",
    "    print(i)\n",
    "    i += 1 # break 되는 조건"
   ]
  },
  {
   "cell_type": "code",
   "execution_count": 1,
   "id": "f15b1ce9-3b7a-4c7b-8eab-ad7939f589b8",
   "metadata": {},
   "outputs": [
    {
     "name": "stdout",
     "output_type": "stream",
     "text": [
      "1에서 10까지의 합계 : 55\n"
     ]
    }
   ],
   "source": [
    "i, hap = 0, 0\n",
    "\n",
    "i = 1\n",
    "while i < 11 :\n",
    "    hap += i\n",
    "    i += 1\n",
    "    \n",
    "print(\"1에서 10까지의 합계 : %d\" % (hap))"
   ]
  },
  {
   "cell_type": "code",
   "execution_count": null,
   "id": "239f449d-e5c8-420b-a0ce-298da89809dd",
   "metadata": {},
   "outputs": [],
   "source": [
    "ch = \"\"\n",
    "a, b = 0, 0\n",
    "​\n",
    "while True :\n",
    "    a = int(input(\"계산할 첫 번째 수를 입력하세요 : \"))\n",
    "    b = int(input(\"계산할 두 번째 수를 입력하세요 : \"))\n",
    "    ch = input(\"계산할 연산자를 입력하세요 : \")\n",
    "    \n",
    "    if (ch == \"+\") :\n",
    "        print(\"%d + %d = %d\" % (a, b, a + b))\n",
    "    elif (ch == \"-\") :\n",
    "        print(\"%d - %d = %d\" % (a, b, a - b))\n",
    "    elif (ch == \"*\") :\n",
    "        print(\"%d * %d = %d\" % (a, b, a * b))\n",
    "    elif (ch == \"/\") :\n",
    "        print(\"%d / %d = %d\" % (a, b, a / b))\n",
    "    elif (ch == \"%\") :\n",
    "        print(\"%d %% %d = %d\" % (a, b, a % b))\n",
    "    elif (ch == \"//\") :\n",
    "        print(\"%d // %d = %d\" % (a, b, a // b))\n",
    "    elif (ch == \"**\") :\n",
    "        print(\"%d ** %d = %d\" % (a, b, a ** b))\n",
    "    else :\n",
    "        print(\"연산자를 잘못 입력했습니다.\")"
   ]
  },
  {
   "cell_type": "markdown",
   "id": "823b60b2-218c-444e-8327-adfc51279194",
   "metadata": {},
   "source": [
    "## break"
   ]
  },
  {
   "cell_type": "code",
   "execution_count": 27,
   "id": "ced254fe-0250-4675-83f3-e8b9a875e483",
   "metadata": {},
   "outputs": [
    {
     "name": "stdout",
     "output_type": "stream",
     "text": [
      "for 1 times:\n"
     ]
    }
   ],
   "source": [
    "for i in range(1, 100) :\n",
    "    print(\"for %d times:\" % i)\n",
    "    break"
   ]
  },
  {
   "cell_type": "code",
   "execution_count": null,
   "id": "1b37cc97-7e93-4b8c-abbd-a9c07901ed4a",
   "metadata": {},
   "outputs": [],
   "source": []
  },
  {
   "cell_type": "code",
   "execution_count": 28,
   "id": "2d72acdd-f621-49e8-ac31-24a1ee3eb8aa",
   "metadata": {},
   "outputs": [],
   "source": [
    "t = \"\"\"안녕하세요.\n",
    "반갑습니다.\n",
    "\"\"\""
   ]
  },
  {
   "cell_type": "code",
   "execution_count": 29,
   "id": "ae8a725f-0bea-4966-a1b1-33385ee107a5",
   "metadata": {},
   "outputs": [
    {
     "name": "stdin",
     "output_type": "stream",
     "text": [
      "더할 첫 번째 수를 입력하세요 :  0\n"
     ]
    },
    {
     "name": "stdout",
     "output_type": "stream",
     "text": [
      "0이 입력됐습니다 끝냅니다\n",
      "0을 입력해 반복문을 탈출했습니다\n"
     ]
    }
   ],
   "source": [
    "hap = 0\n",
    "a, b = 0, 0\n",
    "\n",
    "while True :\n",
    "    a = int(input(\"더할 첫 번째 수를 입력하세요 : \"))\n",
    "    if a == 0 :\n",
    "        print(\"0이 입력됐습니다 끝냅니다\")\n",
    "        break\n",
    "    b = int(input(\"더할 첫 번째 수를 입력하세요 : \"))\n",
    "    hap = a + b\n",
    "    print(\"%d + %d = %d\" % (a, b, hap))\n",
    "    \n",
    "print(\"0을 입력해 반복문을 탈출했습니다\")"
   ]
  },
  {
   "cell_type": "markdown",
   "id": "d768ee83-a194-4292-bb46-93eb39217f51",
   "metadata": {},
   "source": [
    "## continue"
   ]
  },
  {
   "cell_type": "code",
   "execution_count": 26,
   "id": "273507bc-1681-47ec-8229-2bd0713f034c",
   "metadata": {},
   "outputs": [
    {
     "name": "stdout",
     "output_type": "stream",
     "text": [
      "for 1 times : \n",
      "for 2 times : \n",
      "for 4 times : \n",
      "for 5 times : \n",
      "for 7 times : \n",
      "for 8 times : \n",
      "for 10 times : \n",
      "for 11 times : \n",
      "for 13 times : \n",
      "for 14 times : \n",
      "for 16 times : \n",
      "for 17 times : \n",
      "for 19 times : \n",
      "for 20 times : \n",
      "for 22 times : \n",
      "for 23 times : \n",
      "for 25 times : \n",
      "for 26 times : \n",
      "for 28 times : \n",
      "for 29 times : \n",
      "for 31 times : \n",
      "for 32 times : \n",
      "for 34 times : \n",
      "for 35 times : \n",
      "for 37 times : \n",
      "for 38 times : \n",
      "for 40 times : \n",
      "for 41 times : \n",
      "for 43 times : \n",
      "for 44 times : \n",
      "for 46 times : \n",
      "for 47 times : \n",
      "for 49 times : \n",
      "for 50 times : \n",
      "for 52 times : \n",
      "for 53 times : \n",
      "for 55 times : \n",
      "for 56 times : \n",
      "for 58 times : \n",
      "for 59 times : \n",
      "for 61 times : \n",
      "for 62 times : \n",
      "for 64 times : \n",
      "for 65 times : \n",
      "for 67 times : \n",
      "for 68 times : \n",
      "for 70 times : \n",
      "for 71 times : \n",
      "for 73 times : \n",
      "for 74 times : \n",
      "for 76 times : \n",
      "for 77 times : \n",
      "for 79 times : \n",
      "for 80 times : \n",
      "for 82 times : \n",
      "for 83 times : \n",
      "for 85 times : \n",
      "for 86 times : \n",
      "for 88 times : \n",
      "for 89 times : \n",
      "for 91 times : \n",
      "for 92 times : \n",
      "for 94 times : \n",
      "for 95 times : \n",
      "for 97 times : \n",
      "for 98 times : \n"
     ]
    }
   ],
   "source": [
    "for i in range(1, 100) :\n",
    "    if i % 3 == 0 :\n",
    "        continue\n",
    "    print(\"for %d times : \" % i)"
   ]
  },
  {
   "cell_type": "markdown",
   "id": "ef9f887b-66f4-45a2-9dde-ba1bfdeead5c",
   "metadata": {},
   "source": [
    "## p177 연습문제 :\n",
    "\n",
    " - 6번\n",
    " - 8번 while 수정"
   ]
  },
  {
   "cell_type": "code",
   "execution_count": 30,
   "id": "1621798a-64d5-4ecb-b60c-e4109a75e467",
   "metadata": {},
   "outputs": [
    {
     "name": "stdout",
     "output_type": "stream",
     "text": [
      "쿡북~\n",
      "쿡북~\n",
      "쿡북~\n",
      "쿡북~\n",
      "쿡북~\n",
      "쿡북~\n",
      "쿡북~\n",
      "쿡북~\n",
      "쿡북~\n",
      "쿡북~\n",
      "쿡북~\n",
      "쿡북~\n",
      "쿡북~\n",
      "쿡북~\n",
      "쿡북~\n",
      "쿡북~\n",
      "쿡북~\n",
      "쿡북~\n",
      "쿡북~\n",
      "쿡북~\n",
      "쿡북~\n",
      "쿡북~\n",
      "쿡북~\n",
      "쿡북~\n"
     ]
    }
   ],
   "source": [
    "for i in range(4) :\n",
    "    for j in range(3) :\n",
    "        for k in range(2) :\n",
    "            print(\"쿡북~\")"
   ]
  },
  {
   "cell_type": "code",
   "execution_count": 32,
   "id": "7c145536-739a-43bd-bbd6-0b068e48a2cd",
   "metadata": {},
   "outputs": [
    {
     "name": "stdout",
     "output_type": "stream",
     "text": [
      "23088\n"
     ]
    }
   ],
   "source": [
    "hap = 0\n",
    "for n in range(1234, 4568) :\n",
    "    if n%444 == 0 :\n",
    "        hap += n\n",
    "        \n",
    "print(hap)"
   ]
  },
  {
   "cell_type": "code",
   "execution_count": 35,
   "id": "bfc32859-a988-46f5-a2ae-8ffc59a0ade7",
   "metadata": {},
   "outputs": [
    {
     "name": "stdout",
     "output_type": "stream",
     "text": [
      "23088\n"
     ]
    }
   ],
   "source": [
    "hap = 0\n",
    "n = 1234\n",
    "while n < 4568 :\n",
    "    if n % 444 == 0 :\n",
    "        hap += n\n",
    "    n += 1\n",
    "print(hap)"
   ]
  },
  {
   "cell_type": "code",
   "execution_count": 7,
   "id": "05031a6e-c743-4dad-bcff-20f2fd344396",
   "metadata": {},
   "outputs": [
    {
     "name": "stdout",
     "output_type": "stream",
     "text": [
      "40722\n"
     ]
    }
   ],
   "source": [
    "hap, i = 0, 0\n",
    "\n",
    "for i in range(3333, 10000) :\n",
    "    if i % 1234 != 0 :\n",
    "        continue\n",
    "        \n",
    "    hap += i\n",
    "    \n",
    "    if hap >= 100000 :\n",
    "        break\n",
    "        \n",
    "print(hap)"
   ]
  },
  {
   "cell_type": "code",
   "execution_count": null,
   "id": "5c84699b-c067-43a6-b84e-23dc357acacc",
   "metadata": {},
   "outputs": [],
   "source": [
    "## 전역 변수 선언 부분 ##\n",
    "i, k = 0, 0\n",
    "\n",
    "## 메인 코드 부분 #\n",
    "i = 0\n",
    "while i < 9 :\n",
    "    if i < 5 :\n",
    "        k = 0\n",
    "        while k <4 - i :\n",
    "            print(' ', end = '')\n",
    "            k += 1\n",
    "        k = 0\n",
    "        while k < i * 2 + 1 : \n",
    "            print('\\u2605', end = '')\n",
    "            k += 1\n",
    "    else :\n",
    "        k = 0\n",
    "        while k < i - 4 :\n",
    "            print(' ', end = '')\n",
    "            k += 1\n",
    "        k = 0\n",
    "        while k < (9 - i) * 2 - 1:\n",
    "            print('\\u2605', end = '')\n",
    "            k += 1\n",
    "    print()\n",
    "    i += 1"
   ]
  }
 ],
 "metadata": {
  "kernelspec": {
   "display_name": "Python 3 (ipykernel)",
   "language": "python",
   "name": "python3"
  },
  "language_info": {
   "codemirror_mode": {
    "name": "ipython",
    "version": 3
   },
   "file_extension": ".py",
   "mimetype": "text/x-python",
   "name": "python",
   "nbconvert_exporter": "python",
   "pygments_lexer": "ipython3",
   "version": "3.9.7"
  }
 },
 "nbformat": 4,
 "nbformat_minor": 5
}
