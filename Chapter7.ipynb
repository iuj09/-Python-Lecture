{
 "cells": [
  {
   "cell_type": "markdown",
   "id": "847607e8-e799-4918-a97a-b957c629fc26",
   "metadata": {},
   "source": [
    "# 리스트"
   ]
  },
  {
   "cell_type": "code",
   "execution_count": 139,
   "id": "e41e6a72-6d96-4feb-adfb-e469e3d6ffe6",
   "metadata": {},
   "outputs": [],
   "source": [
    "a = ['1', 1, 1000, '파', '이', '썬']"
   ]
  },
  {
   "cell_type": "code",
   "execution_count": 140,
   "id": "964c5d04-c149-4153-9b38-88a11c9b0ee1",
   "metadata": {},
   "outputs": [
    {
     "data": {
      "text/plain": [
       "list"
      ]
     },
     "execution_count": 140,
     "metadata": {},
     "output_type": "execute_result"
    }
   ],
   "source": [
    "type(a)"
   ]
  },
  {
   "cell_type": "code",
   "execution_count": 141,
   "id": "879de109-ed5b-4401-9f8f-59f4a27d9229",
   "metadata": {},
   "outputs": [
    {
     "data": {
      "text/plain": [
       "'1'"
      ]
     },
     "execution_count": 141,
     "metadata": {},
     "output_type": "execute_result"
    }
   ],
   "source": [
    "# index\n",
    "a[0]"
   ]
  },
  {
   "cell_type": "code",
   "execution_count": 142,
   "id": "ec96411f-349e-42c0-bc3e-203ce4bfc102",
   "metadata": {},
   "outputs": [
    {
     "data": {
      "text/plain": [
       "('이', '썬')"
      ]
     },
     "execution_count": 142,
     "metadata": {},
     "output_type": "execute_result"
    }
   ],
   "source": [
    "a[4], a[5]"
   ]
  },
  {
   "cell_type": "code",
   "execution_count": 143,
   "id": "284264c1-aa75-4c1c-a56c-50fa21e04725",
   "metadata": {},
   "outputs": [
    {
     "ename": "IndexError",
     "evalue": "list index out of range",
     "output_type": "error",
     "traceback": [
      "\u001b[1;31m---------------------------------------------------------------------------\u001b[0m",
      "\u001b[1;31mIndexError\u001b[0m                                Traceback (most recent call last)",
      "\u001b[1;32m~\\AppData\\Local\\Temp/ipykernel_9980/510490795.py\u001b[0m in \u001b[0;36m<module>\u001b[1;34m\u001b[0m\n\u001b[1;32m----> 1\u001b[1;33m \u001b[0ma\u001b[0m\u001b[1;33m[\u001b[0m\u001b[1;36m6\u001b[0m\u001b[1;33m]\u001b[0m\u001b[1;33m\u001b[0m\u001b[1;33m\u001b[0m\u001b[0m\n\u001b[0m",
      "\u001b[1;31mIndexError\u001b[0m: list index out of range"
     ]
    }
   ],
   "source": [
    "a[6]"
   ]
  },
  {
   "cell_type": "code",
   "execution_count": 144,
   "id": "6faa0f87-b738-4a04-8169-6c46595d38b6",
   "metadata": {},
   "outputs": [
    {
     "name": "stdout",
     "output_type": "stream",
     "text": [
      "1\n",
      "1\n",
      "1000\n",
      "파\n",
      "이\n",
      "썬\n"
     ]
    }
   ],
   "source": [
    "for i in a :\n",
    "    print(i)"
   ]
  },
  {
   "cell_type": "code",
   "execution_count": 145,
   "id": "a0652f1a-b65a-4988-9159-37d78fbd75cb",
   "metadata": {},
   "outputs": [],
   "source": [
    "b = [a, 1, 3, 5, 7, 9]"
   ]
  },
  {
   "cell_type": "code",
   "execution_count": 146,
   "id": "ec5fb27f-53ba-450e-907a-998bfa1dfbaf",
   "metadata": {},
   "outputs": [
    {
     "data": {
      "text/plain": [
       "[['1', 1, 1000, '파', '이', '썬'], 1, 3, 5, 7, 9]"
      ]
     },
     "execution_count": 146,
     "metadata": {},
     "output_type": "execute_result"
    }
   ],
   "source": [
    "b"
   ]
  },
  {
   "cell_type": "code",
   "execution_count": 147,
   "id": "0802c022-7740-4fa7-93d1-cddf8582f217",
   "metadata": {},
   "outputs": [],
   "source": [
    "a = []"
   ]
  },
  {
   "cell_type": "code",
   "execution_count": 148,
   "id": "c64d39e6-c947-46b8-931b-68dd25c2e9fd",
   "metadata": {},
   "outputs": [
    {
     "data": {
      "text/plain": [
       "list"
      ]
     },
     "execution_count": 148,
     "metadata": {},
     "output_type": "execute_result"
    }
   ],
   "source": [
    "type(a)"
   ]
  },
  {
   "cell_type": "code",
   "execution_count": 149,
   "id": "9649c79d-d1bf-49a8-94e7-168b0bc3ba5c",
   "metadata": {},
   "outputs": [],
   "source": [
    "a.append(1)\n",
    "a.append('둘')\n",
    "a.append(3)"
   ]
  },
  {
   "cell_type": "code",
   "execution_count": 150,
   "id": "d6b1f09d-68b9-4430-8f94-ac5b46f10158",
   "metadata": {},
   "outputs": [
    {
     "data": {
      "text/plain": [
       "[1, '둘', 3]"
      ]
     },
     "execution_count": 150,
     "metadata": {},
     "output_type": "execute_result"
    }
   ],
   "source": [
    "a"
   ]
  },
  {
   "cell_type": "code",
   "execution_count": 151,
   "id": "3239aeec-98cc-4167-9fa5-e65ee55fdc32",
   "metadata": {},
   "outputs": [
    {
     "name": "stdout",
     "output_type": "stream",
     "text": [
      "1\n",
      "둘\n",
      "3\n"
     ]
    }
   ],
   "source": [
    "for i in a :\n",
    "    print(i)"
   ]
  },
  {
   "cell_type": "code",
   "execution_count": 152,
   "id": "0617d59d-2b5f-46d8-90b4-e4062ac0293c",
   "metadata": {},
   "outputs": [
    {
     "name": "stdout",
     "output_type": "stream",
     "text": [
      "1\n",
      "둘\n",
      "3\n"
     ]
    }
   ],
   "source": [
    "for i in range(0, 3) :\n",
    "    print(a[i])"
   ]
  },
  {
   "cell_type": "code",
   "execution_count": 153,
   "id": "543f9886-1cd7-48d3-a663-ab12b64499a8",
   "metadata": {},
   "outputs": [
    {
     "data": {
      "text/plain": [
       "3"
      ]
     },
     "execution_count": 153,
     "metadata": {},
     "output_type": "execute_result"
    }
   ],
   "source": [
    "len(a)"
   ]
  },
  {
   "cell_type": "code",
   "execution_count": 154,
   "id": "e716f8ee-3faa-424d-9e21-5c0b076901c0",
   "metadata": {},
   "outputs": [
    {
     "name": "stdout",
     "output_type": "stream",
     "text": [
      "1\n",
      "둘\n",
      "3\n"
     ]
    }
   ],
   "source": [
    "for i in range(0, len(a)) :\n",
    "    print(a[i])"
   ]
  },
  {
   "cell_type": "code",
   "execution_count": 155,
   "id": "361e6dd2-cf5e-47b4-a26e-0b3d96b203c1",
   "metadata": {},
   "outputs": [
    {
     "name": "stdin",
     "output_type": "stream",
     "text": [
      "1번째 숫자 :  10\n",
      "2번째 숫자 :  20\n",
      "3번째 숫자 :  30\n",
      "4번째 숫자 :  40\n"
     ]
    },
    {
     "name": "stdout",
     "output_type": "stream",
     "text": [
      "합계 ==> 100\n"
     ]
    }
   ],
   "source": [
    "aa = []\n",
    "for i in range(0, 4) :\n",
    "    aa.append(0)\n",
    "hap = 0\n",
    "\n",
    "for i in range(0, 4) :\n",
    "    aa[i] = int(input(str(i + 1) + \"번째 숫자 : \"))\n",
    "    \n",
    "hap = aa[0] + aa[1] + aa[2] + aa[3]\n",
    "\n",
    "print(\"합계 ==> %d\" % hap)"
   ]
  },
  {
   "cell_type": "code",
   "execution_count": 156,
   "id": "9f131ab3-ccdc-49ab-a310-5f2cf19fb1b1",
   "metadata": {},
   "outputs": [
    {
     "name": "stdin",
     "output_type": "stream",
     "text": [
      "1번째 숫자 :  10\n",
      "2번째 숫자 :  20\n",
      "3번째 숫자 :  30\n",
      "4번째 숫자 :  40\n",
      "5번째 숫자 :  50\n",
      "6번째 숫자 :  60\n",
      "7번째 숫자 :  70\n"
     ]
    },
    {
     "name": "stdout",
     "output_type": "stream",
     "text": [
      "합계 ==> 280\n"
     ]
    }
   ],
   "source": [
    "aa = []\n",
    "for i in range(0, 7) :\n",
    "    aa.append(0)\n",
    "hap = 0\n",
    "\n",
    "#for i in range(0, 4) :\n",
    "for i in range(0, len(aa)) :\n",
    "    aa[i] = int(input(str(i + 1) + \"번째 숫자 : \"))\n",
    "    \n",
    "# hap = aa[0] + aa[1] + aa[2] + aa[3]\n",
    "# 합산을 이용해 for 변경\n",
    "for i in range(0, len(aa)) :\n",
    "    hap += aa[i]\n",
    "\n",
    "print(\"합계 ==> %d\" % hap)"
   ]
  },
  {
   "cell_type": "markdown",
   "id": "cc662e0c-9c16-416e-91e7-f90a78508198",
   "metadata": {},
   "source": [
    "p192\n",
    "\n",
    " - 역순으로 된 인덱스"
   ]
  },
  {
   "cell_type": "code",
   "execution_count": 157,
   "id": "2c284f41-2385-4fdc-ba78-85868631dea9",
   "metadata": {},
   "outputs": [
    {
     "name": "stdout",
     "output_type": "stream",
     "text": [
      "bb[0]에는 198이, bb[99]에는 0이 입력됩니다.\n"
     ]
    }
   ],
   "source": [
    "aa = []\n",
    "bb = []\n",
    "value = 0\n",
    "\n",
    "for i in range(0, 100) :\n",
    "    aa.append(value)\n",
    "    value += 2\n",
    "    \n",
    "for i in range(0, 100) :\n",
    "    bb.append(aa[99 - i])\n",
    "    \n",
    "print(\"bb[0]에는 %d이, bb[99]에는 %d이 입력됩니다.\" % (bb[0], bb[99]))"
   ]
  },
  {
   "cell_type": "markdown",
   "id": "10f512a1-b4a2-45cd-a8a4-d57783acc16f",
   "metadata": {},
   "source": [
    "### 리스트 인덱싱"
   ]
  },
  {
   "cell_type": "code",
   "execution_count": 158,
   "id": "d183849f-a06d-4a99-819f-84501421508f",
   "metadata": {},
   "outputs": [
    {
     "data": {
      "text/plain": [
       "[10, 20, 30, 40]"
      ]
     },
     "execution_count": 158,
     "metadata": {},
     "output_type": "execute_result"
    }
   ],
   "source": [
    "aa = [10, 20, 30, 40]\n",
    "aa"
   ]
  },
  {
   "cell_type": "code",
   "execution_count": 159,
   "id": "1322e5a5-95aa-4049-a995-1a55beaa2f98",
   "metadata": {},
   "outputs": [
    {
     "data": {
      "text/plain": [
       "(10, 30, 20)"
      ]
     },
     "execution_count": 159,
     "metadata": {},
     "output_type": "execute_result"
    }
   ],
   "source": [
    "aa[0], aa[2], aa[1]"
   ]
  },
  {
   "cell_type": "code",
   "execution_count": 160,
   "id": "486141ae-a30b-414f-a814-901bc9c48dca",
   "metadata": {},
   "outputs": [
    {
     "data": {
      "text/plain": [
       "(40, 30)"
      ]
     },
     "execution_count": 160,
     "metadata": {},
     "output_type": "execute_result"
    }
   ],
   "source": [
    "aa[-1], aa[-2]"
   ]
  },
  {
   "cell_type": "code",
   "execution_count": 161,
   "id": "44fdcbdc-e638-425e-90df-83eaef71d4e7",
   "metadata": {},
   "outputs": [
    {
     "data": {
      "text/plain": [
       "[10]"
      ]
     },
     "execution_count": 161,
     "metadata": {},
     "output_type": "execute_result"
    }
   ],
   "source": [
    "# 인덱스 범위 ':'\n",
    "aa[0:1]  # 끝은 stop - 1"
   ]
  },
  {
   "cell_type": "code",
   "execution_count": 162,
   "id": "54b73907-c1a8-4303-adac-e538b180d506",
   "metadata": {},
   "outputs": [
    {
     "data": {
      "text/plain": [
       "[20, 30, 40]"
      ]
     },
     "execution_count": 162,
     "metadata": {},
     "output_type": "execute_result"
    }
   ],
   "source": [
    "aa[1:]"
   ]
  },
  {
   "cell_type": "code",
   "execution_count": 163,
   "id": "ecb84851-f25c-4b4c-92a9-d2ff7f9daf26",
   "metadata": {},
   "outputs": [
    {
     "data": {
      "text/plain": [
       "[10, 20]"
      ]
     },
     "execution_count": 163,
     "metadata": {},
     "output_type": "execute_result"
    }
   ],
   "source": [
    "aa[:2]"
   ]
  },
  {
   "cell_type": "code",
   "execution_count": 164,
   "id": "873aedf2-ceba-44f6-9606-724a5b67c100",
   "metadata": {},
   "outputs": [
    {
     "data": {
      "text/plain": [
       "[10, 20, 30, 40]"
      ]
     },
     "execution_count": 164,
     "metadata": {},
     "output_type": "execute_result"
    }
   ],
   "source": [
    "aa[:]"
   ]
  },
  {
   "cell_type": "code",
   "execution_count": 165,
   "id": "1ef9a12f-c4e9-4302-a496-4e340757cc8e",
   "metadata": {},
   "outputs": [],
   "source": [
    "_ = aa[:]  # copy"
   ]
  },
  {
   "cell_type": "markdown",
   "id": "42302e7e-50ee-4801-9a9f-3398e37a1f10",
   "metadata": {},
   "source": [
    "### in, not in"
   ]
  },
  {
   "cell_type": "code",
   "execution_count": 166,
   "id": "ff1b7cb2-9cf5-4088-93a0-17cf8d0af293",
   "metadata": {},
   "outputs": [
    {
     "data": {
      "text/plain": [
       "False"
      ]
     },
     "execution_count": 166,
     "metadata": {},
     "output_type": "execute_result"
    }
   ],
   "source": [
    "11 in aa"
   ]
  },
  {
   "cell_type": "markdown",
   "id": "cf2e52b7-e860-4908-8b0e-61ff58238ed1",
   "metadata": {},
   "source": [
    "### broadcasting"
   ]
  },
  {
   "cell_type": "code",
   "execution_count": 167,
   "id": "68bc85df-4715-4640-855b-fc8130d829cc",
   "metadata": {},
   "outputs": [
    {
     "data": {
      "text/plain": [
       "([10, 20, 30, 40], [50, 60, 70, 80])"
      ]
     },
     "execution_count": 167,
     "metadata": {},
     "output_type": "execute_result"
    }
   ],
   "source": [
    "a = [10, 20, 30, 40]\n",
    "b = [50, 60, 70, 80]\n",
    "a, b"
   ]
  },
  {
   "cell_type": "code",
   "execution_count": 168,
   "id": "0052e6de-e235-426f-8b5e-813b96ff313a",
   "metadata": {},
   "outputs": [
    {
     "name": "stdout",
     "output_type": "stream",
     "text": [
      "[10, 20, 30, 40, 10, 20, 30, 40]\n"
     ]
    }
   ],
   "source": [
    "print(a * 2)"
   ]
  },
  {
   "cell_type": "code",
   "execution_count": 169,
   "id": "ff32f26c-1553-499d-a506-4a31654ee56c",
   "metadata": {},
   "outputs": [
    {
     "ename": "TypeError",
     "evalue": "can only concatenate list (not \"int\") to list",
     "output_type": "error",
     "traceback": [
      "\u001b[1;31m---------------------------------------------------------------------------\u001b[0m",
      "\u001b[1;31mTypeError\u001b[0m                                 Traceback (most recent call last)",
      "\u001b[1;32m~\\AppData\\Local\\Temp/ipykernel_9980/559713107.py\u001b[0m in \u001b[0;36m<module>\u001b[1;34m\u001b[0m\n\u001b[1;32m----> 1\u001b[1;33m \u001b[0mprint\u001b[0m\u001b[1;33m(\u001b[0m\u001b[0ma\u001b[0m \u001b[1;33m+\u001b[0m \u001b[1;36m2\u001b[0m\u001b[1;33m)\u001b[0m\u001b[1;33m\u001b[0m\u001b[1;33m\u001b[0m\u001b[0m\n\u001b[0m",
      "\u001b[1;31mTypeError\u001b[0m: can only concatenate list (not \"int\") to list"
     ]
    }
   ],
   "source": [
    "print(a + 2)"
   ]
  },
  {
   "cell_type": "code",
   "execution_count": 170,
   "id": "9f5061b6-f6df-4320-84fd-8ea9345551f3",
   "metadata": {},
   "outputs": [
    {
     "ename": "TypeError",
     "evalue": "unsupported operand type(s) for -: 'list' and 'int'",
     "output_type": "error",
     "traceback": [
      "\u001b[1;31m---------------------------------------------------------------------------\u001b[0m",
      "\u001b[1;31mTypeError\u001b[0m                                 Traceback (most recent call last)",
      "\u001b[1;32m~\\AppData\\Local\\Temp/ipykernel_9980/3592445512.py\u001b[0m in \u001b[0;36m<module>\u001b[1;34m\u001b[0m\n\u001b[1;32m----> 1\u001b[1;33m \u001b[0ma\u001b[0m \u001b[1;33m-\u001b[0m \u001b[1;36m2\u001b[0m\u001b[1;33m\u001b[0m\u001b[1;33m\u001b[0m\u001b[0m\n\u001b[0m",
      "\u001b[1;31mTypeError\u001b[0m: unsupported operand type(s) for -: 'list' and 'int'"
     ]
    }
   ],
   "source": [
    "a - 2"
   ]
  },
  {
   "cell_type": "code",
   "execution_count": 171,
   "id": "b74879fe-dc09-4364-8b70-4e55bd303e96",
   "metadata": {},
   "outputs": [
    {
     "data": {
      "text/plain": [
       "[10, 20, 30, 40, 50, 60, 70, 80]"
      ]
     },
     "execution_count": 171,
     "metadata": {},
     "output_type": "execute_result"
    }
   ],
   "source": [
    "a + b"
   ]
  },
  {
   "cell_type": "code",
   "execution_count": 172,
   "id": "9b20f889-dfed-4377-b934-5fa4da662104",
   "metadata": {},
   "outputs": [
    {
     "ename": "TypeError",
     "evalue": "can't multiply sequence by non-int of type 'list'",
     "output_type": "error",
     "traceback": [
      "\u001b[1;31m---------------------------------------------------------------------------\u001b[0m",
      "\u001b[1;31mTypeError\u001b[0m                                 Traceback (most recent call last)",
      "\u001b[1;32m~\\AppData\\Local\\Temp/ipykernel_9980/937666681.py\u001b[0m in \u001b[0;36m<module>\u001b[1;34m\u001b[0m\n\u001b[1;32m----> 1\u001b[1;33m \u001b[0ma\u001b[0m \u001b[1;33m*\u001b[0m \u001b[0mb\u001b[0m\u001b[1;33m\u001b[0m\u001b[1;33m\u001b[0m\u001b[0m\n\u001b[0m",
      "\u001b[1;31mTypeError\u001b[0m: can't multiply sequence by non-int of type 'list'"
     ]
    }
   ],
   "source": [
    "a * b"
   ]
  },
  {
   "cell_type": "code",
   "execution_count": 173,
   "id": "02bfd5fd-fe0d-4859-93a8-0c3ac6edec35",
   "metadata": {},
   "outputs": [
    {
     "data": {
      "text/plain": [
       "[10, 30, 50, 70]"
      ]
     },
     "execution_count": 173,
     "metadata": {},
     "output_type": "execute_result"
    }
   ],
   "source": [
    "a = [10, 20, 30, 40, 50, 60, 70, 80]\n",
    "\n",
    "a[::2]"
   ]
  },
  {
   "cell_type": "code",
   "execution_count": 174,
   "id": "21245254-6ed1-421d-9dac-425685901001",
   "metadata": {},
   "outputs": [
    {
     "data": {
      "text/plain": [
       "[80, 60, 40, 20]"
      ]
     },
     "execution_count": 174,
     "metadata": {},
     "output_type": "execute_result"
    }
   ],
   "source": [
    "a[::-2]"
   ]
  },
  {
   "cell_type": "markdown",
   "id": "8043a7fe-cc91-4b98-9d91-84a17b909be0",
   "metadata": {},
   "source": [
    "값의 변경\n",
    "\n",
    " - 불변형 자료 : string, tuple\n",
    " - 가변형 자료 : list, dict"
   ]
  },
  {
   "cell_type": "code",
   "execution_count": null,
   "id": "9128588a-30c5-43c3-a67e-2cd455ae1aef",
   "metadata": {},
   "outputs": [],
   "source": []
  },
  {
   "cell_type": "markdown",
   "id": "7b3c7abc-3c18-4eee-8b3a-f7b33fab8111",
   "metadata": {},
   "source": [
    "### list() 함수"
   ]
  },
  {
   "cell_type": "code",
   "execution_count": 175,
   "id": "caa73d14-bda3-4735-aa97-dea0681522ae",
   "metadata": {},
   "outputs": [
    {
     "data": {
      "text/plain": [
       "[1, 2, 3, 4, 5]"
      ]
     },
     "execution_count": 175,
     "metadata": {},
     "output_type": "execute_result"
    }
   ],
   "source": [
    "nums = list(range(1, 100))\n",
    "nums[:5]"
   ]
  },
  {
   "cell_type": "code",
   "execution_count": 176,
   "id": "10fc31cb-e410-4c36-9aa4-e8a2a0cdb00a",
   "metadata": {},
   "outputs": [
    {
     "data": {
      "text/plain": [
       "\u001b[1;31mInit signature:\u001b[0m \u001b[0mlist\u001b[0m\u001b[1;33m(\u001b[0m\u001b[0miterable\u001b[0m\u001b[1;33m=\u001b[0m\u001b[1;33m(\u001b[0m\u001b[1;33m)\u001b[0m\u001b[1;33m,\u001b[0m \u001b[1;33m/\u001b[0m\u001b[1;33m)\u001b[0m\u001b[1;33m\u001b[0m\u001b[1;33m\u001b[0m\u001b[0m\n",
       "\u001b[1;31mDocstring:\u001b[0m     \n",
       "Built-in mutable sequence.\n",
       "\n",
       "If no argument is given, the constructor creates a new empty list.\n",
       "The argument must be an iterable if specified.\n",
       "\u001b[1;31mType:\u001b[0m           type\n",
       "\u001b[1;31mSubclasses:\u001b[0m     _HashedSeq, StackSummary, DeferredConfigList, SList, _ImmutableLineList, FormattedText, NodeList, _ExplodedList, Stack, _Accumulator, ...\n"
      ]
     },
     "metadata": {},
     "output_type": "display_data"
    }
   ],
   "source": [
    "list?"
   ]
  },
  {
   "cell_type": "markdown",
   "id": "6afbc175-60b3-494e-8988-4a8e44623a6e",
   "metadata": {},
   "source": [
    "# 리스트 값의 변경"
   ]
  },
  {
   "cell_type": "code",
   "execution_count": 177,
   "id": "1e706b48-96fd-4c74-887f-a6a809019fe1",
   "metadata": {},
   "outputs": [
    {
     "name": "stdout",
     "output_type": "stream",
     "text": [
      "[1, 2, 3, 4, 5, 6, 7, 8, 9]\n"
     ]
    }
   ],
   "source": [
    "a = list( range(1, 10))\n",
    "print(a)"
   ]
  },
  {
   "cell_type": "code",
   "execution_count": 178,
   "id": "d3c4bf7f-5886-4e58-bd0b-a057bb27cc95",
   "metadata": {},
   "outputs": [
    {
     "name": "stdout",
     "output_type": "stream",
     "text": [
      "[1, 2, 300, 4, 5, 6, 7, 8, 9]\n"
     ]
    }
   ],
   "source": [
    "a[2] = 300\n",
    "print(a)"
   ]
  },
  {
   "cell_type": "code",
   "execution_count": 179,
   "id": "cc1faedc-f5b2-4250-a56f-fc972819dd20",
   "metadata": {},
   "outputs": [
    {
     "name": "stdout",
     "output_type": "stream",
     "text": [
      "[1, 200, 201, 300, 4, 5, 6, 7, 8, 9]\n"
     ]
    }
   ],
   "source": [
    "a[1:2] = [200, 201]\n",
    "print(a)"
   ]
  },
  {
   "cell_type": "code",
   "execution_count": 180,
   "id": "2e2df21d-17f8-4541-9ad0-7227cae6a828",
   "metadata": {},
   "outputs": [
    {
     "data": {
      "text/plain": [
       "[200]"
      ]
     },
     "execution_count": 180,
     "metadata": {},
     "output_type": "execute_result"
    }
   ],
   "source": [
    "a[1:2]"
   ]
  },
  {
   "cell_type": "code",
   "execution_count": 181,
   "id": "71be5d9f-0c82-4f9d-b4b7-030f4e11aa80",
   "metadata": {},
   "outputs": [
    {
     "data": {
      "text/plain": [
       "[200, 201, 300]"
      ]
     },
     "execution_count": 181,
     "metadata": {},
     "output_type": "execute_result"
    }
   ],
   "source": [
    "a[1:4]"
   ]
  },
  {
   "cell_type": "code",
   "execution_count": 182,
   "id": "eeeb79c2-905e-4112-b3e9-17826903c5fc",
   "metadata": {},
   "outputs": [
    {
     "name": "stdout",
     "output_type": "stream",
     "text": [
      "[1, 200, 201, 300, [200, 201], 5, 6, 7, 8, 9]\n"
     ]
    }
   ],
   "source": [
    "a[4] = [200, 201]\n",
    "print(a)"
   ]
  },
  {
   "cell_type": "code",
   "execution_count": 183,
   "id": "af4e410e-5c7d-4d1b-b892-de540fc56960",
   "metadata": {},
   "outputs": [
    {
     "name": "stdout",
     "output_type": "stream",
     "text": [
      "[1, 200, 201, 300, 5, 6, 7, 8, 9]\n"
     ]
    }
   ],
   "source": [
    "del(a[4])\n",
    "print(a)"
   ]
  },
  {
   "cell_type": "code",
   "execution_count": 184,
   "id": "432b721e-7858-48d3-84d1-cc3275600847",
   "metadata": {},
   "outputs": [
    {
     "name": "stdout",
     "output_type": "stream",
     "text": [
      "[1, 200, 201, 6, 7, 8, 9]\n"
     ]
    }
   ],
   "source": [
    "del(a[3:5])\n",
    "print(a)"
   ]
  },
  {
   "cell_type": "code",
   "execution_count": 185,
   "id": "08fc68d6-68c6-4edc-b057-c964f92785ff",
   "metadata": {},
   "outputs": [
    {
     "name": "stdout",
     "output_type": "stream",
     "text": [
      "[[], 200, 201, 6, 7, 8, 9]\n"
     ]
    }
   ],
   "source": [
    "a[0] = []\n",
    "print(a)"
   ]
  },
  {
   "cell_type": "code",
   "execution_count": 186,
   "id": "25690e19-0f9b-43cc-ba4e-2a26ebbf7666",
   "metadata": {},
   "outputs": [
    {
     "name": "stdout",
     "output_type": "stream",
     "text": [
      "[6, 7, 8, 9]\n"
     ]
    }
   ],
   "source": [
    "a[0:3] = []\n",
    "print(a)"
   ]
  },
  {
   "cell_type": "markdown",
   "id": "fff3b074-6755-4cc3-9d34-793f8e0f2aad",
   "metadata": {},
   "source": [
    "## 집계 함수\n",
    " - sum(), mean(), max(), min(), count()\n",
    " - len()"
   ]
  },
  {
   "cell_type": "code",
   "execution_count": 187,
   "id": "618a1cd2-acf1-4b96-beba-e470c731cf5c",
   "metadata": {},
   "outputs": [],
   "source": [
    "a = [-100, -5, 9, 999, 777, -678]"
   ]
  },
  {
   "cell_type": "code",
   "execution_count": 188,
   "id": "f29ff701-f06d-49a3-9c6e-cf85b10a959d",
   "metadata": {},
   "outputs": [
    {
     "data": {
      "text/plain": [
       "6"
      ]
     },
     "execution_count": 188,
     "metadata": {},
     "output_type": "execute_result"
    }
   ],
   "source": [
    "len(a)"
   ]
  },
  {
   "cell_type": "code",
   "execution_count": 189,
   "id": "114f3c03-dea4-4126-aadc-76d25d370b23",
   "metadata": {},
   "outputs": [
    {
     "name": "stdout",
     "output_type": "stream",
     "text": [
      "1002\n"
     ]
    }
   ],
   "source": [
    "hap = 0\n",
    "\n",
    "for i in a :\n",
    "    hap += i\n",
    "print(hap)"
   ]
  },
  {
   "cell_type": "code",
   "execution_count": 190,
   "id": "8a64666f-a761-4ffe-84fc-bc869d4d82e2",
   "metadata": {},
   "outputs": [
    {
     "name": "stdout",
     "output_type": "stream",
     "text": [
      "6\n"
     ]
    }
   ],
   "source": [
    "count = 0\n",
    "\n",
    "for i in a :\n",
    "    count += 1\n",
    "print(count)"
   ]
  },
  {
   "cell_type": "code",
   "execution_count": 191,
   "id": "9e466891-d690-4646-8136-c6e571105481",
   "metadata": {},
   "outputs": [
    {
     "data": {
      "text/plain": [
       "1002"
      ]
     },
     "execution_count": 191,
     "metadata": {},
     "output_type": "execute_result"
    }
   ],
   "source": [
    "sum(a)"
   ]
  },
  {
   "cell_type": "code",
   "execution_count": 192,
   "id": "d8af49f2-d3bc-4835-ba45-07a8c652a5cd",
   "metadata": {},
   "outputs": [
    {
     "data": {
      "text/plain": [
       "-678"
      ]
     },
     "execution_count": 192,
     "metadata": {},
     "output_type": "execute_result"
    }
   ],
   "source": [
    "min(a)"
   ]
  },
  {
   "cell_type": "code",
   "execution_count": 193,
   "id": "5c4df1d5-30e4-4698-9538-90edbc3ef2b4",
   "metadata": {},
   "outputs": [
    {
     "data": {
      "text/plain": [
       "999"
      ]
     },
     "execution_count": 193,
     "metadata": {},
     "output_type": "execute_result"
    }
   ],
   "source": [
    "max(a)"
   ]
  },
  {
   "cell_type": "markdown",
   "id": "4c3fce90-4b01-42cc-9aa9-bd97a467d661",
   "metadata": {},
   "source": [
    "p197 실습"
   ]
  },
  {
   "cell_type": "code",
   "execution_count": 194,
   "id": "e0b6caaa-8411-4efe-82f6-0da0c665d4ad",
   "metadata": {},
   "outputs": [],
   "source": [
    "myList = [30, 10, 20]"
   ]
  },
  {
   "cell_type": "code",
   "execution_count": 195,
   "id": "b863fdf9-3957-42db-8297-c89624113945",
   "metadata": {},
   "outputs": [
    {
     "data": {
      "text/plain": [
       "[30, 10, 20, 40]"
      ]
     },
     "execution_count": 195,
     "metadata": {},
     "output_type": "execute_result"
    }
   ],
   "source": [
    "myList.append(40)\n",
    "myList"
   ]
  },
  {
   "cell_type": "code",
   "execution_count": 196,
   "id": "65552d75-abb0-46b8-ae82-721aca930e54",
   "metadata": {},
   "outputs": [
    {
     "ename": "IndexError",
     "evalue": "list assignment index out of range",
     "output_type": "error",
     "traceback": [
      "\u001b[1;31m---------------------------------------------------------------------------\u001b[0m",
      "\u001b[1;31mIndexError\u001b[0m                                Traceback (most recent call last)",
      "\u001b[1;32m~\\AppData\\Local\\Temp/ipykernel_9980/3968470.py\u001b[0m in \u001b[0;36m<module>\u001b[1;34m\u001b[0m\n\u001b[1;32m----> 1\u001b[1;33m \u001b[1;32mdel\u001b[0m\u001b[1;33m(\u001b[0m\u001b[0mmyList\u001b[0m\u001b[1;33m[\u001b[0m\u001b[1;36m4\u001b[0m\u001b[1;33m]\u001b[0m\u001b[1;33m)\u001b[0m\u001b[1;33m\u001b[0m\u001b[1;33m\u001b[0m\u001b[0m\n\u001b[0m",
      "\u001b[1;31mIndexError\u001b[0m: list assignment index out of range"
     ]
    }
   ],
   "source": [
    "del(myList[4])"
   ]
  },
  {
   "cell_type": "code",
   "execution_count": 197,
   "id": "706eacd7-55b3-4829-849c-c1d67acdd77d",
   "metadata": {},
   "outputs": [
    {
     "data": {
      "text/plain": [
       "[30, 10, 20, 40]"
      ]
     },
     "execution_count": 197,
     "metadata": {},
     "output_type": "execute_result"
    }
   ],
   "source": [
    "myList"
   ]
  },
  {
   "cell_type": "code",
   "execution_count": 198,
   "id": "054e4823-9172-440c-bd19-bc14fcb76c09",
   "metadata": {},
   "outputs": [
    {
     "data": {
      "text/plain": [
       "[10, 20, 30, 40]"
      ]
     },
     "execution_count": 198,
     "metadata": {},
     "output_type": "execute_result"
    }
   ],
   "source": [
    "myList.sort()\n",
    "myList"
   ]
  },
  {
   "cell_type": "code",
   "execution_count": 199,
   "id": "46d4e0e0-2fcf-4260-9217-699f1a217431",
   "metadata": {},
   "outputs": [
    {
     "data": {
      "text/plain": [
       "[40, 30, 20, 10]"
      ]
     },
     "execution_count": 199,
     "metadata": {},
     "output_type": "execute_result"
    }
   ],
   "source": [
    "myList.reverse()\n",
    "myList"
   ]
  },
  {
   "cell_type": "code",
   "execution_count": 200,
   "id": "be3532ba-9fb6-4637-b0bc-f03855f1107e",
   "metadata": {},
   "outputs": [
    {
     "data": {
      "text/plain": [
       "[40, 30, 222, 20, 10]"
      ]
     },
     "execution_count": 200,
     "metadata": {},
     "output_type": "execute_result"
    }
   ],
   "source": [
    "myList.insert(2, 222)\n",
    "myList"
   ]
  },
  {
   "cell_type": "code",
   "execution_count": 201,
   "id": "9ef7f077-c122-42a8-a3db-909067e94a42",
   "metadata": {},
   "outputs": [
    {
     "data": {
      "text/plain": [
       "[40, 30, 222, 20, 10, 77, 88, 77]"
      ]
     },
     "execution_count": 201,
     "metadata": {},
     "output_type": "execute_result"
    }
   ],
   "source": [
    "myList.extend([77, 88, 77])\n",
    "myList"
   ]
  },
  {
   "cell_type": "code",
   "execution_count": 202,
   "id": "1870cbaa-5961-44ed-8a6b-3fdff5f8d6fe",
   "metadata": {},
   "outputs": [
    {
     "data": {
      "text/plain": [
       "2"
      ]
     },
     "execution_count": 202,
     "metadata": {},
     "output_type": "execute_result"
    }
   ],
   "source": [
    "myList.count(77)"
   ]
  },
  {
   "cell_type": "code",
   "execution_count": 203,
   "id": "da2330e0-2f1c-43b6-b499-ff50a9171280",
   "metadata": {},
   "outputs": [
    {
     "data": {
      "text/plain": [
       "[40, 30, 222, 20, 10, 88, 77]"
      ]
     },
     "execution_count": 203,
     "metadata": {},
     "output_type": "execute_result"
    }
   ],
   "source": [
    "myList.remove(77)\n",
    "myList"
   ]
  },
  {
   "cell_type": "markdown",
   "id": "1e576a7d-433b-4076-ab48-7a1e110392d5",
   "metadata": {},
   "source": [
    "sorted vs list.sort()"
   ]
  },
  {
   "cell_type": "code",
   "execution_count": 204,
   "id": "08af1035-e7d8-4691-947b-6a3ac6426fa7",
   "metadata": {},
   "outputs": [],
   "source": [
    "myList = [30, 10, 20]"
   ]
  },
  {
   "cell_type": "code",
   "execution_count": 205,
   "id": "fd0de7f4-b1ef-4737-9c7d-8580c9241a65",
   "metadata": {},
   "outputs": [
    {
     "data": {
      "text/plain": [
       "[10, 20, 30]"
      ]
     },
     "execution_count": 205,
     "metadata": {},
     "output_type": "execute_result"
    }
   ],
   "source": [
    "sorted(myList)"
   ]
  },
  {
   "cell_type": "code",
   "execution_count": 206,
   "id": "7d18cd02-cef0-4409-a089-fe0f9ce28233",
   "metadata": {},
   "outputs": [
    {
     "data": {
      "text/plain": [
       "[30, 10, 20]"
      ]
     },
     "execution_count": 206,
     "metadata": {},
     "output_type": "execute_result"
    }
   ],
   "source": [
    "myList"
   ]
  },
  {
   "cell_type": "code",
   "execution_count": 207,
   "id": "32b3e901-ad48-417d-907d-79196ce455d4",
   "metadata": {},
   "outputs": [
    {
     "data": {
      "text/plain": [
       "[10, 20, 30]"
      ]
     },
     "execution_count": 207,
     "metadata": {},
     "output_type": "execute_result"
    }
   ],
   "source": [
    "myList.sort()\n",
    "myList"
   ]
  },
  {
   "cell_type": "markdown",
   "id": "470722c6-0ceb-4937-a918-3e1417a3a67e",
   "metadata": {},
   "source": [
    "## 2차원 리스트"
   ]
  },
  {
   "cell_type": "code",
   "execution_count": 208,
   "id": "b1467a08-2688-4673-8a82-7c15c9fc1a54",
   "metadata": {},
   "outputs": [],
   "source": [
    "a = [[1,2,3,4],\n",
    "    [5,6,7,8],\n",
    "    [9,10,11,12]]"
   ]
  },
  {
   "cell_type": "code",
   "execution_count": 209,
   "id": "6327f159-a549-4933-971b-8bccb14cad1d",
   "metadata": {},
   "outputs": [
    {
     "data": {
      "text/plain": [
       "3"
      ]
     },
     "execution_count": 209,
     "metadata": {},
     "output_type": "execute_result"
    }
   ],
   "source": [
    "len(a)"
   ]
  },
  {
   "cell_type": "code",
   "execution_count": 210,
   "id": "f153295d-7c85-4041-aaa6-8916f33a3006",
   "metadata": {},
   "outputs": [
    {
     "data": {
      "text/plain": [
       "([1, 2, 3, 4], [5, 6, 7, 8], [[5, 6, 7, 8], [9, 10, 11, 12]])"
      ]
     },
     "execution_count": 210,
     "metadata": {},
     "output_type": "execute_result"
    }
   ],
   "source": [
    "a[0], a[1], a[1:3]"
   ]
  },
  {
   "cell_type": "code",
   "execution_count": 211,
   "id": "521da49f-f84e-4d51-abbe-f7ca561f3a7b",
   "metadata": {},
   "outputs": [
    {
     "data": {
      "text/plain": [
       "2"
      ]
     },
     "execution_count": 211,
     "metadata": {},
     "output_type": "execute_result"
    }
   ],
   "source": [
    "a[0][1]"
   ]
  },
  {
   "cell_type": "code",
   "execution_count": 212,
   "id": "a6d399ce-03ce-451f-88e5-e77832134200",
   "metadata": {},
   "outputs": [
    {
     "name": "stdout",
     "output_type": "stream",
     "text": [
      "  1   2   3   4 \n",
      "  5   6   7   8 \n",
      "  9  10  11  12 \n"
     ]
    }
   ],
   "source": [
    "list1 = []\n",
    "list2 = []\n",
    "value = 1\n",
    "for i in range(0, 3) :\n",
    "    for k in range(0, 4) :\n",
    "        list1.append(value)\n",
    "        value += 1\n",
    "    list2.append(list1)\n",
    "    list1 = []\n",
    "    \n",
    "for i in range(0, 3) :\n",
    "    for k in range(0, 4) :\n",
    "        print(\"%3d\" % list2[i][k], end = \" \")\n",
    "    print(\"\")"
   ]
  },
  {
   "cell_type": "markdown",
   "id": "12e92ca4-e176-4287-87ff-4fac1e8183be",
   "metadata": {},
   "source": [
    "# 튜플"
   ]
  },
  {
   "cell_type": "code",
   "execution_count": 213,
   "id": "c6b7eb36-f46e-4ef7-800a-103e0a53f71f",
   "metadata": {},
   "outputs": [
    {
     "data": {
      "text/plain": [
       "(1, 2, 3, 4, 5)"
      ]
     },
     "execution_count": 213,
     "metadata": {},
     "output_type": "execute_result"
    }
   ],
   "source": [
    "tt1 = (1, 2, 3, 4, 5)\n",
    "tt1"
   ]
  },
  {
   "cell_type": "code",
   "execution_count": 214,
   "id": "a80ab1ca-50fd-46c9-a9b6-38147ef51d26",
   "metadata": {},
   "outputs": [
    {
     "data": {
      "text/plain": [
       "(0, 10, 5)"
      ]
     },
     "execution_count": 214,
     "metadata": {},
     "output_type": "execute_result"
    }
   ],
   "source": [
    "a, b, c = 0, 10, 5\n",
    "a, b, c"
   ]
  },
  {
   "cell_type": "code",
   "execution_count": 215,
   "id": "bbd9d681-ada5-49b8-aea2-497b5e1edcc3",
   "metadata": {},
   "outputs": [
    {
     "data": {
      "text/plain": [
       "tuple"
      ]
     },
     "execution_count": 215,
     "metadata": {},
     "output_type": "execute_result"
    }
   ],
   "source": [
    "type(tt1)"
   ]
  },
  {
   "cell_type": "code",
   "execution_count": 216,
   "id": "d425e3da-1e34-4280-a1b7-e710c354da08",
   "metadata": {},
   "outputs": [
    {
     "data": {
      "text/plain": [
       "()"
      ]
     },
     "execution_count": 216,
     "metadata": {},
     "output_type": "execute_result"
    }
   ],
   "source": [
    "tt1 = ()\n",
    "tt1"
   ]
  },
  {
   "cell_type": "code",
   "execution_count": 217,
   "id": "871eb329-cd83-448d-b417-347e1053a41a",
   "metadata": {},
   "outputs": [
    {
     "data": {
      "text/plain": [
       "(10, 20, 30)"
      ]
     },
     "execution_count": 217,
     "metadata": {},
     "output_type": "execute_result"
    }
   ],
   "source": [
    "tt2 = 10, 20, 30\n",
    "tt2"
   ]
  },
  {
   "cell_type": "code",
   "execution_count": 218,
   "id": "a8b79c8f-6b4a-4e83-a279-5019c75c2654",
   "metadata": {},
   "outputs": [
    {
     "data": {
      "text/plain": [
       "10"
      ]
     },
     "execution_count": 218,
     "metadata": {},
     "output_type": "execute_result"
    }
   ],
   "source": [
    "tt2 = 10\n",
    "tt2"
   ]
  },
  {
   "cell_type": "code",
   "execution_count": 219,
   "id": "fa15e6d5-42de-46ba-a2c6-5c3e21d34bec",
   "metadata": {},
   "outputs": [
    {
     "data": {
      "text/plain": [
       "(10,)"
      ]
     },
     "execution_count": 219,
     "metadata": {},
     "output_type": "execute_result"
    }
   ],
   "source": [
    "tt2 = 10,\n",
    "tt2"
   ]
  },
  {
   "cell_type": "markdown",
   "id": "91eef8d7-05ea-43d1-a816-ad1fe1855e8a",
   "metadata": {},
   "source": [
    "### 불변형"
   ]
  },
  {
   "cell_type": "code",
   "execution_count": 220,
   "id": "2a049d70-ee29-492a-8953-c4e1e3c3b79b",
   "metadata": {},
   "outputs": [
    {
     "data": {
      "text/plain": [
       "(10, 20, 30, 40, 50, 60, 70)"
      ]
     },
     "execution_count": 220,
     "metadata": {},
     "output_type": "execute_result"
    }
   ],
   "source": [
    "tt2 = 10, 20, 30, 40, 50, 60, 70\n",
    "tt2"
   ]
  },
  {
   "cell_type": "code",
   "execution_count": 221,
   "id": "96de284b-793e-4b2c-97a2-47c9d3f2c1c3",
   "metadata": {},
   "outputs": [
    {
     "data": {
      "text/plain": [
       "(10, 30)"
      ]
     },
     "execution_count": 221,
     "metadata": {},
     "output_type": "execute_result"
    }
   ],
   "source": [
    "tt2[0], tt2[2]"
   ]
  },
  {
   "cell_type": "code",
   "execution_count": 222,
   "id": "8c5bd53b-104f-43fd-95d7-b1f7d36395b4",
   "metadata": {},
   "outputs": [
    {
     "data": {
      "text/plain": [
       "(30, 40, 50)"
      ]
     },
     "execution_count": 222,
     "metadata": {},
     "output_type": "execute_result"
    }
   ],
   "source": [
    "tt2[2:5]"
   ]
  },
  {
   "cell_type": "code",
   "execution_count": 223,
   "id": "d2015740-8ff2-4572-a9f0-80ba2c809892",
   "metadata": {},
   "outputs": [
    {
     "data": {
      "text/plain": [
       "50"
      ]
     },
     "execution_count": 223,
     "metadata": {},
     "output_type": "execute_result"
    }
   ],
   "source": [
    "tt2[-3]"
   ]
  },
  {
   "cell_type": "code",
   "execution_count": 224,
   "id": "df59f4d4-6103-4eec-be38-aec3ee2e8cb4",
   "metadata": {},
   "outputs": [
    {
     "data": {
      "text/plain": [
       "(60, 70)"
      ]
     },
     "execution_count": 224,
     "metadata": {},
     "output_type": "execute_result"
    }
   ],
   "source": [
    "tt2[-2:]"
   ]
  },
  {
   "cell_type": "code",
   "execution_count": 225,
   "id": "7f79de3c-a36b-4446-8b87-1ebdb22cd325",
   "metadata": {},
   "outputs": [
    {
     "ename": "TypeError",
     "evalue": "'tuple' object does not support item assignment",
     "output_type": "error",
     "traceback": [
      "\u001b[1;31m---------------------------------------------------------------------------\u001b[0m",
      "\u001b[1;31mTypeError\u001b[0m                                 Traceback (most recent call last)",
      "\u001b[1;32m~\\AppData\\Local\\Temp/ipykernel_9980/1822700653.py\u001b[0m in \u001b[0;36m<module>\u001b[1;34m\u001b[0m\n\u001b[1;32m----> 1\u001b[1;33m \u001b[0mtt2\u001b[0m\u001b[1;33m[\u001b[0m\u001b[1;36m0\u001b[0m\u001b[1;33m]\u001b[0m \u001b[1;33m=\u001b[0m \u001b[1;36m1000\u001b[0m\u001b[1;33m\u001b[0m\u001b[1;33m\u001b[0m\u001b[0m\n\u001b[0m",
      "\u001b[1;31mTypeError\u001b[0m: 'tuple' object does not support item assignment"
     ]
    }
   ],
   "source": [
    "tt2[0] = 1000"
   ]
  },
  {
   "cell_type": "code",
   "execution_count": 226,
   "id": "8f7445b8-3b05-4e3f-9dfe-2c09e7577f7e",
   "metadata": {},
   "outputs": [
    {
     "ename": "TypeError",
     "evalue": "'tuple' object does not support item assignment",
     "output_type": "error",
     "traceback": [
      "\u001b[1;31m---------------------------------------------------------------------------\u001b[0m",
      "\u001b[1;31mTypeError\u001b[0m                                 Traceback (most recent call last)",
      "\u001b[1;32m~\\AppData\\Local\\Temp/ipykernel_9980/236188005.py\u001b[0m in \u001b[0;36m<module>\u001b[1;34m\u001b[0m\n\u001b[1;32m----> 1\u001b[1;33m \u001b[0mtt2\u001b[0m\u001b[1;33m[\u001b[0m\u001b[1;36m1\u001b[0m\u001b[1;33m:\u001b[0m\u001b[1;36m2\u001b[0m\u001b[1;33m]\u001b[0m \u001b[1;33m=\u001b[0m \u001b[1;33m(\u001b[0m\u001b[1;36m10\u001b[0m\u001b[1;33m,\u001b[0m \u001b[1;36m20\u001b[0m\u001b[1;33m)\u001b[0m\u001b[1;33m\u001b[0m\u001b[1;33m\u001b[0m\u001b[0m\n\u001b[0m\u001b[0;32m      2\u001b[0m \u001b[0mtt2\u001b[0m\u001b[1;33m\u001b[0m\u001b[1;33m\u001b[0m\u001b[0m\n",
      "\u001b[1;31mTypeError\u001b[0m: 'tuple' object does not support item assignment"
     ]
    }
   ],
   "source": [
    "tt2[1:2] = (10, 20)\n",
    "tt2"
   ]
  },
  {
   "cell_type": "code",
   "execution_count": 227,
   "id": "9bbd6bb3-4845-4346-a6ae-396a623e447b",
   "metadata": {},
   "outputs": [
    {
     "ename": "TypeError",
     "evalue": "'tuple' object doesn't support item deletion",
     "output_type": "error",
     "traceback": [
      "\u001b[1;31m---------------------------------------------------------------------------\u001b[0m",
      "\u001b[1;31mTypeError\u001b[0m                                 Traceback (most recent call last)",
      "\u001b[1;32m~\\AppData\\Local\\Temp/ipykernel_9980/2265084623.py\u001b[0m in \u001b[0;36m<module>\u001b[1;34m\u001b[0m\n\u001b[1;32m----> 1\u001b[1;33m \u001b[1;32mdel\u001b[0m\u001b[1;33m(\u001b[0m\u001b[0mtt2\u001b[0m\u001b[1;33m[\u001b[0m\u001b[1;36m1\u001b[0m\u001b[1;33m]\u001b[0m\u001b[1;33m)\u001b[0m\u001b[1;33m\u001b[0m\u001b[1;33m\u001b[0m\u001b[0m\n\u001b[0m",
      "\u001b[1;31mTypeError\u001b[0m: 'tuple' object doesn't support item deletion"
     ]
    }
   ],
   "source": [
    "del(tt2[1])"
   ]
  },
  {
   "cell_type": "code",
   "execution_count": 228,
   "id": "0652fa9c-e339-4d64-b9b3-c9e9a0f3f5ca",
   "metadata": {},
   "outputs": [],
   "source": [
    "del(tt2)"
   ]
  },
  {
   "cell_type": "code",
   "execution_count": 229,
   "id": "e3b5058a-f9b6-4d5c-8472-21264ed151d9",
   "metadata": {},
   "outputs": [],
   "source": [
    "tt2 = ('A', 'B')\n",
    "tt1 = (10, 20, 30, 40)"
   ]
  },
  {
   "cell_type": "code",
   "execution_count": 230,
   "id": "9b67b2a6-bbea-4bea-829b-f67f60497594",
   "metadata": {},
   "outputs": [
    {
     "ename": "TypeError",
     "evalue": "can only concatenate tuple (not \"int\") to tuple",
     "output_type": "error",
     "traceback": [
      "\u001b[1;31m---------------------------------------------------------------------------\u001b[0m",
      "\u001b[1;31mTypeError\u001b[0m                                 Traceback (most recent call last)",
      "\u001b[1;32m~\\AppData\\Local\\Temp/ipykernel_9980/3363798814.py\u001b[0m in \u001b[0;36m<module>\u001b[1;34m\u001b[0m\n\u001b[1;32m----> 1\u001b[1;33m \u001b[0mtt2\u001b[0m \u001b[1;33m+\u001b[0m \u001b[1;36m2\u001b[0m\u001b[1;33m\u001b[0m\u001b[1;33m\u001b[0m\u001b[0m\n\u001b[0m",
      "\u001b[1;31mTypeError\u001b[0m: can only concatenate tuple (not \"int\") to tuple"
     ]
    }
   ],
   "source": [
    "tt2 + 2"
   ]
  },
  {
   "cell_type": "code",
   "execution_count": 231,
   "id": "d33733e8-4054-4f0f-9164-731396adce7b",
   "metadata": {},
   "outputs": [
    {
     "data": {
      "text/plain": [
       "('A', 'B', 'A', 'B')"
      ]
     },
     "execution_count": 231,
     "metadata": {},
     "output_type": "execute_result"
    }
   ],
   "source": [
    "tt2 * 2"
   ]
  },
  {
   "cell_type": "code",
   "execution_count": 232,
   "id": "f943ad9d-0837-42d7-95ed-886d17bcf34e",
   "metadata": {},
   "outputs": [
    {
     "data": {
      "text/plain": [
       "('A', 'B', 10, 20, 30, 40)"
      ]
     },
     "execution_count": 232,
     "metadata": {},
     "output_type": "execute_result"
    }
   ],
   "source": [
    "tt2 + tt1"
   ]
  },
  {
   "cell_type": "code",
   "execution_count": null,
   "id": "412ed3c2-b5ff-4ca6-a605-d11596f30772",
   "metadata": {},
   "outputs": [],
   "source": [
    "tt2 = tuple(range(1, 10))\n"
   ]
  },
  {
   "cell_type": "markdown",
   "id": "c118a059-2a4c-4f6a-9127-ae15d0763488",
   "metadata": {},
   "source": [
    "## 리스트 <-> 튜플 변환\n",
    "\n",
    " - list()\n",
    " - tuple()"
   ]
  },
  {
   "cell_type": "code",
   "execution_count": 233,
   "id": "2fa66613-39ad-4766-a3bf-32fd034c6c47",
   "metadata": {},
   "outputs": [],
   "source": [
    "li = [1,2,3,4,5]\n",
    "t1 = [-9, -8, -7, -6]"
   ]
  },
  {
   "cell_type": "code",
   "execution_count": 234,
   "id": "044848dd-4971-40ad-bc78-34f80c28ac76",
   "metadata": {},
   "outputs": [
    {
     "data": {
      "text/plain": [
       "(1, 2, 3, 4, 5)"
      ]
     },
     "execution_count": 234,
     "metadata": {},
     "output_type": "execute_result"
    }
   ],
   "source": [
    "tuple(li)"
   ]
  },
  {
   "cell_type": "code",
   "execution_count": 235,
   "id": "22938356-b91b-47f8-845c-637906ecfc4c",
   "metadata": {},
   "outputs": [
    {
     "data": {
      "text/plain": [
       "[-9, -8, -7, -6]"
      ]
     },
     "execution_count": 235,
     "metadata": {},
     "output_type": "execute_result"
    }
   ],
   "source": [
    "list(t1)"
   ]
  },
  {
   "cell_type": "markdown",
   "id": "c7af837f-8d7a-4723-9ee9-84c6864a2a2c",
   "metadata": {},
   "source": [
    "# 딕셔너리"
   ]
  },
  {
   "cell_type": "code",
   "execution_count": 236,
   "id": "bdfea4da-7dfc-4a45-b91a-a9090f3eb206",
   "metadata": {},
   "outputs": [
    {
     "data": {
      "text/plain": [
       "(list, tuple)"
      ]
     },
     "execution_count": 236,
     "metadata": {},
     "output_type": "execute_result"
    }
   ],
   "source": [
    "li = []\n",
    "t1 = ()\n",
    "type(li), type(t1)"
   ]
  },
  {
   "cell_type": "code",
   "execution_count": 237,
   "id": "dad93979-0cd8-46a1-b7f9-8cbf21fb2d9e",
   "metadata": {},
   "outputs": [
    {
     "data": {
      "text/plain": [
       "dict"
      ]
     },
     "execution_count": 237,
     "metadata": {},
     "output_type": "execute_result"
    }
   ],
   "source": [
    "dic1 = {}\n",
    "type(dic1)"
   ]
  },
  {
   "cell_type": "code",
   "execution_count": 238,
   "id": "980c2a39-9e08-445e-82d0-ba0fb33aee70",
   "metadata": {},
   "outputs": [
    {
     "data": {
      "text/plain": [
       "{1: 'a', 2: 'b', 3: 'c'}"
      ]
     },
     "execution_count": 238,
     "metadata": {},
     "output_type": "execute_result"
    }
   ],
   "source": [
    "dic1 = {1:'a', 2:'b', 3:'c'}\n",
    "dic1"
   ]
  },
  {
   "cell_type": "code",
   "execution_count": 239,
   "id": "31c03e16-edf9-46c4-8770-d608ae824c12",
   "metadata": {},
   "outputs": [
    {
     "data": {
      "text/plain": [
       "'a'"
      ]
     },
     "execution_count": 239,
     "metadata": {},
     "output_type": "execute_result"
    }
   ],
   "source": [
    "dic1[1]"
   ]
  },
  {
   "cell_type": "code",
   "execution_count": 240,
   "id": "d03862e5-3a0b-4041-abad-a9d5b4eee9ae",
   "metadata": {},
   "outputs": [],
   "source": [
    "dic1 = {'a' :  123, 'b' : 234, 'c' : 456}"
   ]
  },
  {
   "cell_type": "code",
   "execution_count": 241,
   "id": "1881ae6d-7138-416a-a019-1a7eed411e4a",
   "metadata": {},
   "outputs": [
    {
     "data": {
      "text/plain": [
       "123"
      ]
     },
     "execution_count": 241,
     "metadata": {},
     "output_type": "execute_result"
    }
   ],
   "source": [
    "dic1['a']"
   ]
  },
  {
   "cell_type": "code",
   "execution_count": 242,
   "id": "12eb4213-f665-4c89-a67c-5938b2ceb728",
   "metadata": {},
   "outputs": [
    {
     "data": {
      "text/plain": [
       "{'학번': 1000, '이름': '홍길동', '학과': '컴퓨터학과'}"
      ]
     },
     "execution_count": 242,
     "metadata": {},
     "output_type": "execute_result"
    }
   ],
   "source": [
    "student1 = {'학번' : 1000, '이름' : '홍길동', '학과' : '컴퓨터학과'}\n",
    "student1"
   ]
  },
  {
   "cell_type": "code",
   "execution_count": 243,
   "id": "0e9ac49f-a535-4308-8209-28500309a21b",
   "metadata": {},
   "outputs": [
    {
     "data": {
      "text/plain": [
       "1000"
      ]
     },
     "execution_count": 243,
     "metadata": {},
     "output_type": "execute_result"
    }
   ],
   "source": [
    "student1['학번']"
   ]
  },
  {
   "cell_type": "code",
   "execution_count": 244,
   "id": "4e1be8d9-7b6a-4201-b399-906cae4c6dd9",
   "metadata": {},
   "outputs": [
    {
     "data": {
      "text/plain": [
       "{'학번': 1000, '이름': '홍길동', '학과': '컴퓨터학과', '연락처': '000-222--3333'}"
      ]
     },
     "execution_count": 244,
     "metadata": {},
     "output_type": "execute_result"
    }
   ],
   "source": [
    "student1['연락처'] = '000-222--3333'\n",
    "student1"
   ]
  },
  {
   "cell_type": "code",
   "execution_count": 245,
   "id": "ebdfb446-0769-47f0-96e4-32d8c9a2c4bc",
   "metadata": {},
   "outputs": [
    {
     "data": {
      "text/plain": [
       "{'학번': 1000, '이름': '홍길동', '학과': '컴퓨터학과', '연락처': ''}"
      ]
     },
     "execution_count": 245,
     "metadata": {},
     "output_type": "execute_result"
    }
   ],
   "source": [
    "student1['연락처'] = ''\n",
    "student1"
   ]
  },
  {
   "cell_type": "code",
   "execution_count": 246,
   "id": "617697ee-7aa4-46e2-b584-e37182b03167",
   "metadata": {},
   "outputs": [],
   "source": [
    "del student1['연락처']"
   ]
  },
  {
   "cell_type": "code",
   "execution_count": 247,
   "id": "2c3c9861-d01b-49d9-9ac7-e58b896b7c93",
   "metadata": {},
   "outputs": [
    {
     "data": {
      "text/plain": [
       "{'학번': 1000, '이름': '홍길동', '학과': '컴퓨터학과'}"
      ]
     },
     "execution_count": 247,
     "metadata": {},
     "output_type": "execute_result"
    }
   ],
   "source": [
    "student1"
   ]
  },
  {
   "cell_type": "code",
   "execution_count": 248,
   "id": "3d32d096-95ff-45e5-a284-28fbe0a022c2",
   "metadata": {},
   "outputs": [
    {
     "data": {
      "text/plain": [
       "{'학번': 2000, '이름': '홍길동', '학과': '컴퓨터학과'}"
      ]
     },
     "execution_count": 248,
     "metadata": {},
     "output_type": "execute_result"
    }
   ],
   "source": [
    "student1 = {'학번':1000, '이름':'홍길동', '학과':'컴퓨터학과', '학번':2000}\n",
    "student1"
   ]
  },
  {
   "cell_type": "code",
   "execution_count": 249,
   "id": "53174918-a2ac-4804-9e10-0adb25325353",
   "metadata": {},
   "outputs": [
    {
     "data": {
      "text/plain": [
       "'홍길동'"
      ]
     },
     "execution_count": 249,
     "metadata": {},
     "output_type": "execute_result"
    }
   ],
   "source": [
    "student1.get('이름') "
   ]
  },
  {
   "cell_type": "code",
   "execution_count": 250,
   "id": "e2bea40a-8821-4cbb-9cf1-8603a9039c1e",
   "metadata": {},
   "outputs": [
    {
     "ename": "KeyError",
     "evalue": "'주소'",
     "output_type": "error",
     "traceback": [
      "\u001b[1;31m---------------------------------------------------------------------------\u001b[0m",
      "\u001b[1;31mKeyError\u001b[0m                                  Traceback (most recent call last)",
      "\u001b[1;32m~\\AppData\\Local\\Temp/ipykernel_9980/4148728907.py\u001b[0m in \u001b[0;36m<module>\u001b[1;34m\u001b[0m\n\u001b[1;32m----> 1\u001b[1;33m \u001b[0mstudent1\u001b[0m\u001b[1;33m[\u001b[0m\u001b[1;34m'주소'\u001b[0m\u001b[1;33m]\u001b[0m\u001b[1;33m\u001b[0m\u001b[1;33m\u001b[0m\u001b[0m\n\u001b[0m",
      "\u001b[1;31mKeyError\u001b[0m: '주소'"
     ]
    }
   ],
   "source": [
    "student1['주소']"
   ]
  },
  {
   "cell_type": "code",
   "execution_count": 251,
   "id": "ad27e2bb-eb5a-4f26-a013-ff61dadc83c8",
   "metadata": {},
   "outputs": [],
   "source": [
    "student1.get('주소')"
   ]
  },
  {
   "cell_type": "code",
   "execution_count": 252,
   "id": "a00ffc30-9328-408c-8e21-4b88d6fd23a3",
   "metadata": {},
   "outputs": [
    {
     "data": {
      "text/plain": [
       "dict_keys(['학번', '이름', '학과'])"
      ]
     },
     "execution_count": 252,
     "metadata": {},
     "output_type": "execute_result"
    }
   ],
   "source": [
    "student1.keys()"
   ]
  },
  {
   "cell_type": "code",
   "execution_count": 253,
   "id": "5fd5b7de-c4d0-4aed-af0f-ef723c943625",
   "metadata": {},
   "outputs": [
    {
     "data": {
      "text/plain": [
       "dict_values([2000, '홍길동', '컴퓨터학과'])"
      ]
     },
     "execution_count": 253,
     "metadata": {},
     "output_type": "execute_result"
    }
   ],
   "source": [
    "student1.values()"
   ]
  },
  {
   "cell_type": "code",
   "execution_count": 254,
   "id": "8d55c6b7-da7c-4e8e-b5ea-9f935de85e03",
   "metadata": {},
   "outputs": [
    {
     "data": {
      "text/plain": [
       "dict_items([('학번', 2000), ('이름', '홍길동'), ('학과', '컴퓨터학과')])"
      ]
     },
     "execution_count": 254,
     "metadata": {},
     "output_type": "execute_result"
    }
   ],
   "source": [
    "student1.items()"
   ]
  },
  {
   "cell_type": "code",
   "execution_count": 255,
   "id": "90eadee0-6aef-4064-b2fd-33ea00a3b7c6",
   "metadata": {},
   "outputs": [
    {
     "data": {
      "text/plain": [
       "False"
      ]
     },
     "execution_count": 255,
     "metadata": {},
     "output_type": "execute_result"
    }
   ],
   "source": [
    "'홍길동' in student1"
   ]
  },
  {
   "cell_type": "code",
   "execution_count": 256,
   "id": "bd5359fa-0d1a-4daf-9371-e6a5a29a0a36",
   "metadata": {},
   "outputs": [
    {
     "data": {
      "text/plain": [
       "True"
      ]
     },
     "execution_count": 256,
     "metadata": {},
     "output_type": "execute_result"
    }
   ],
   "source": [
    "'이름' in student1"
   ]
  },
  {
   "cell_type": "code",
   "execution_count": 257,
   "id": "5dbfdab5-2920-4cd1-a2bf-b50dbbe113dd",
   "metadata": {},
   "outputs": [
    {
     "name": "stdout",
     "output_type": "stream",
     "text": [
      "2000\n",
      "홍길동\n",
      "컴퓨터학과\n"
     ]
    }
   ],
   "source": [
    "for key in student1.keys():\n",
    "    print(student1[key])"
   ]
  },
  {
   "cell_type": "code",
   "execution_count": 258,
   "id": "33d9f037-47b9-426e-85d5-59e12908e349",
   "metadata": {},
   "outputs": [
    {
     "name": "stdout",
     "output_type": "stream",
     "text": [
      "2000\n",
      "홍길동\n",
      "컴퓨터학과\n"
     ]
    }
   ],
   "source": [
    "for k, v in student1.items():\n",
    "    print(student1[k])"
   ]
  },
  {
   "cell_type": "code",
   "execution_count": 259,
   "id": "e9617fcc-ed28-4459-afad-a4283a2c6744",
   "metadata": {},
   "outputs": [
    {
     "name": "stdout",
     "output_type": "stream",
     "text": [
      "학번 2000\n",
      "이름 홍길동\n",
      "학과 컴퓨터학과\n"
     ]
    }
   ],
   "source": [
    "for k, v in student1.items():\n",
    "    print(k, v)"
   ]
  },
  {
   "cell_type": "code",
   "execution_count": 260,
   "id": "c30c2502-d8e1-4c52-93a3-24d79fd69470",
   "metadata": {},
   "outputs": [
    {
     "name": "stdin",
     "output_type": "stream",
     "text": [
      "['떡볶이', '짜장면', '라면', '피자', '맥주', '치킨', '삼겹살'] 중 좋아하는 음식은? 라면\n"
     ]
    },
    {
     "name": "stdout",
     "output_type": "stream",
     "text": [
      "<라면> 궁합 음식은 <김치>입니다.\n"
     ]
    },
    {
     "name": "stdin",
     "output_type": "stream",
     "text": [
      "['떡볶이', '짜장면', '라면', '피자', '맥주', '치킨', '삼겹살'] 중 좋아하는 음식은? 끝\n"
     ]
    }
   ],
   "source": [
    "## 변수 선언 부분 ##\n",
    "foods = {\"떡볶이\":\"오뎅\",\n",
    "         \"짜장면\":\"단무지\",\n",
    "         \"라면\":\"김치\",\n",
    "         \"피자\":\"피클\",\n",
    "         \"맥주\":\"땅콩\",\n",
    "         \"치킨\":\"치킨무\",\n",
    "         \"삼겹살\":\"상추\"};\n",
    "\n",
    "## 메인 코드 부분 ##\n",
    "while (True) :\n",
    "    myfood = input(str(list(foods.keys())) + \" 중 좋아하는 음식은?\")\n",
    "    if myfood in foods :\n",
    "        print(\"<%s> 궁합 음식은 <%s>입니다.\" % (myfood, foods.get(myfood)))\n",
    "    elif myfood == \"끝\" :\n",
    "        break\n",
    "    else :\n",
    "        print(\"그런 음식이 없습니다. 확인해 보세요.\")"
   ]
  },
  {
   "cell_type": "code",
   "execution_count": 261,
   "id": "920f0bde-43f6-4496-baf5-91132a0bf9f5",
   "metadata": {},
   "outputs": [
    {
     "name": "stdin",
     "output_type": "stream",
     "text": [
      "['닭', '개', '곰', '고등어', '명태', '말', '호랑이'] 중 새끼 이름을 알고 싶은 동물은? 닭\n"
     ]
    },
    {
     "name": "stdout",
     "output_type": "stream",
     "text": [
      "<닭>의 새끼는 <병아리>입니다.\n"
     ]
    },
    {
     "name": "stdin",
     "output_type": "stream",
     "text": [
      "['닭', '개', '곰', '고등어', '명태', '말', '호랑이'] 중 새끼 이름을 알고 싶은 동물은? 끝\n"
     ]
    }
   ],
   "source": [
    "## 변수 선언 부분 ##\n",
    "animals = {\"닭\":\"병아리\",\n",
    "         \"개\":\"강아지\",\n",
    "         \"곰\":\"능소니\",\n",
    "         \"고등어\":\"고도리\",\n",
    "         \"명태\":\"노가리\",\n",
    "         \"말\":\"망아지\",\n",
    "         \"호랑이\":\"개호주\"};\n",
    "\n",
    "## 메인 코드 부분 ##\n",
    "while (True) :\n",
    "    baby = input(str(list(animals.keys())) + \" 중 새끼 이름을 알고 싶은 동물은?\")\n",
    "    if baby in animals :\n",
    "        print(\"<%s>의 새끼는 <%s>입니다.\" % (baby, animals.get(baby)))\n",
    "    elif baby == \"끝\" :\n",
    "        break\n",
    "    else :\n",
    "        print(\"해당 동물의 정보가 없습니다.\")"
   ]
  },
  {
   "cell_type": "markdown",
   "id": "9daa04ce-68e0-41ab-9c26-2d5ea829f598",
   "metadata": {},
   "source": [
    "## 세트"
   ]
  },
  {
   "cell_type": "code",
   "execution_count": 262,
   "id": "545606df-eece-4965-a8fb-1dbe7962a4ba",
   "metadata": {},
   "outputs": [
    {
     "data": {
      "text/plain": [
       "{1, 2, 3, 4}"
      ]
     },
     "execution_count": 262,
     "metadata": {},
     "output_type": "execute_result"
    }
   ],
   "source": [
    "mySet1 = {1, 2, 3, 3, 3, 4}\n",
    "mySet1"
   ]
  },
  {
   "cell_type": "code",
   "execution_count": 263,
   "id": "52d6f497-ae75-40a5-81fd-0e8d7c94affe",
   "metadata": {},
   "outputs": [
    {
     "data": {
      "text/plain": [
       "{}"
      ]
     },
     "execution_count": 263,
     "metadata": {},
     "output_type": "execute_result"
    }
   ],
   "source": [
    "s2 = {}\n",
    "s2"
   ]
  },
  {
   "cell_type": "code",
   "execution_count": 264,
   "id": "c924db66-9400-4749-8435-8fbe80592b27",
   "metadata": {},
   "outputs": [
    {
     "data": {
      "text/plain": [
       "set()"
      ]
     },
     "execution_count": 264,
     "metadata": {},
     "output_type": "execute_result"
    }
   ],
   "source": [
    "s2 = set()\n",
    "s2"
   ]
  },
  {
   "cell_type": "code",
   "execution_count": 265,
   "id": "6a247fae-fe75-4f5c-96d1-37dcd5703171",
   "metadata": {},
   "outputs": [
    {
     "data": {
      "text/plain": [
       "set"
      ]
     },
     "execution_count": 265,
     "metadata": {},
     "output_type": "execute_result"
    }
   ],
   "source": [
    "type(s2)"
   ]
  },
  {
   "cell_type": "code",
   "execution_count": 266,
   "id": "1cdffb1d-fec9-46bc-96a5-94a66f2710ff",
   "metadata": {},
   "outputs": [],
   "source": [
    "s1 = {1, 2, 3, 4, 5}\n",
    "s2 = {4, 5, 6, 7}"
   ]
  },
  {
   "cell_type": "code",
   "execution_count": 267,
   "id": "9a25e1d5-2e62-4990-81e5-e83a489202c1",
   "metadata": {},
   "outputs": [
    {
     "data": {
      "text/plain": [
       "{4, 5}"
      ]
     },
     "execution_count": 267,
     "metadata": {},
     "output_type": "execute_result"
    }
   ],
   "source": [
    "s1 & s2 #교"
   ]
  },
  {
   "cell_type": "code",
   "execution_count": 268,
   "id": "a52c03b3-2773-41ea-b479-b3f3b602a0dd",
   "metadata": {},
   "outputs": [
    {
     "data": {
      "text/plain": [
       "{1, 2, 3, 4, 5, 6, 7}"
      ]
     },
     "execution_count": 268,
     "metadata": {},
     "output_type": "execute_result"
    }
   ],
   "source": [
    "s1 | s2 #합"
   ]
  },
  {
   "cell_type": "code",
   "execution_count": 269,
   "id": "4b469d00-9283-4268-b2c9-f4548441d92d",
   "metadata": {},
   "outputs": [
    {
     "data": {
      "text/plain": [
       "{1, 2, 3, 6, 7}"
      ]
     },
     "execution_count": 269,
     "metadata": {},
     "output_type": "execute_result"
    }
   ],
   "source": [
    "s1 ^ s2"
   ]
  },
  {
   "cell_type": "code",
   "execution_count": 270,
   "id": "899f3973-0414-4a3a-a06d-30ae471581c3",
   "metadata": {},
   "outputs": [
    {
     "data": {
      "text/plain": [
       "{1, 2, 3}"
      ]
     },
     "execution_count": 270,
     "metadata": {},
     "output_type": "execute_result"
    }
   ],
   "source": [
    "s1 - s2"
   ]
  },
  {
   "cell_type": "code",
   "execution_count": 271,
   "id": "12223628-4dd6-4e6e-8632-2997d69a4cb6",
   "metadata": {},
   "outputs": [
    {
     "data": {
      "text/plain": [
       "{4, 5}"
      ]
     },
     "execution_count": 271,
     "metadata": {},
     "output_type": "execute_result"
    }
   ],
   "source": [
    "s1.intersection(s2)"
   ]
  },
  {
   "cell_type": "code",
   "execution_count": 272,
   "id": "76a402f0-2409-47a4-807b-fe47a5f330ec",
   "metadata": {},
   "outputs": [
    {
     "data": {
      "text/plain": [
       "{1, 2, 3, 4, 5, 6, 7}"
      ]
     },
     "execution_count": 272,
     "metadata": {},
     "output_type": "execute_result"
    }
   ],
   "source": [
    "s1.union(s2)"
   ]
  },
  {
   "cell_type": "code",
   "execution_count": 273,
   "id": "97303825-fe06-437f-b736-88814bfd4f31",
   "metadata": {},
   "outputs": [
    {
     "data": {
      "text/plain": [
       "{1, 2, 3}"
      ]
     },
     "execution_count": 273,
     "metadata": {},
     "output_type": "execute_result"
    }
   ],
   "source": [
    "s1.difference(s2)"
   ]
  },
  {
   "cell_type": "code",
   "execution_count": 274,
   "id": "1d89abc0-d89e-44d3-8a21-80a7a985bd1e",
   "metadata": {},
   "outputs": [
    {
     "data": {
      "text/plain": [
       "{1, 2, 3, 6, 7}"
      ]
     },
     "execution_count": 274,
     "metadata": {},
     "output_type": "execute_result"
    }
   ],
   "source": [
    "s1.symmetric_difference(s2)"
   ]
  },
  {
   "cell_type": "markdown",
   "id": "4a0ebde3-c11a-4b10-81a5-4d98029207cd",
   "metadata": {},
   "source": [
    "## 컴프리헨션"
   ]
  },
  {
   "cell_type": "code",
   "execution_count": 275,
   "id": "6cdd6d43-f2ef-4c2d-a408-198729ac0ef2",
   "metadata": {},
   "outputs": [
    {
     "data": {
      "text/plain": [
       "[2, 4, 6, 8, 10]"
      ]
     },
     "execution_count": 275,
     "metadata": {},
     "output_type": "execute_result"
    }
   ],
   "source": [
    "[num * 2 for num in range(1, 6)]"
   ]
  },
  {
   "cell_type": "code",
   "execution_count": 276,
   "id": "a1491555-26bf-4407-8b62-8ebd47252a44",
   "metadata": {},
   "outputs": [
    {
     "data": {
      "text/plain": [
       "[2, 4, 6, 8, 10]"
      ]
     },
     "execution_count": 276,
     "metadata": {},
     "output_type": "execute_result"
    }
   ],
   "source": [
    "numlist = [num * 2 for num in range(1, 6)]\n",
    "numlist"
   ]
  },
  {
   "cell_type": "code",
   "execution_count": 277,
   "id": "e4bd1ca8-515d-42bd-b79f-48c077f291b2",
   "metadata": {},
   "outputs": [
    {
     "data": {
      "text/plain": [
       "list"
      ]
     },
     "execution_count": 277,
     "metadata": {},
     "output_type": "execute_result"
    }
   ],
   "source": [
    "type(numlist)"
   ]
  },
  {
   "cell_type": "code",
   "execution_count": 278,
   "id": "cc712612-3b23-4316-9b72-2eec21039934",
   "metadata": {},
   "outputs": [
    {
     "data": {
      "text/plain": [
       "[3, 6, 9, 12, 15, 18]"
      ]
     },
     "execution_count": 278,
     "metadata": {},
     "output_type": "execute_result"
    }
   ],
   "source": [
    "[num for num in range(1, 21) if num % 3 == 0]"
   ]
  },
  {
   "cell_type": "code",
   "execution_count": 279,
   "id": "f191cbeb-3f7e-4efa-8a0c-4b614b7e884e",
   "metadata": {},
   "outputs": [],
   "source": [
    "foods = ['떡볶이', '짜장면', '라면', '피자', '맥주']\n",
    "sides = ['오뎅', '단무지', '김치']"
   ]
  },
  {
   "cell_type": "code",
   "execution_count": 280,
   "id": "40184e9d-a810-4b9c-b5df-828900903250",
   "metadata": {},
   "outputs": [
    {
     "name": "stdout",
     "output_type": "stream",
     "text": [
      "떡볶이 오뎅\n",
      "짜장면 단무지\n",
      "라면 김치\n"
     ]
    }
   ],
   "source": [
    "for f, s in zip(foods, sides) :\n",
    "    print(f, s)"
   ]
  },
  {
   "cell_type": "code",
   "execution_count": 281,
   "id": "4d2241d2-8d2a-4a17-a822-b3365faa772d",
   "metadata": {},
   "outputs": [
    {
     "data": {
      "text/plain": [
       "<zip at 0x1ebee111c40>"
      ]
     },
     "execution_count": 281,
     "metadata": {},
     "output_type": "execute_result"
    }
   ],
   "source": [
    "zip(foods, sides)"
   ]
  },
  {
   "cell_type": "code",
   "execution_count": 282,
   "id": "463415c6-5111-4fbc-a35f-91c1292b0cb5",
   "metadata": {},
   "outputs": [
    {
     "data": {
      "text/plain": [
       "{'떡볶이': '오뎅', '짜장면': '단무지', '라면': '김치'}"
      ]
     },
     "execution_count": 282,
     "metadata": {},
     "output_type": "execute_result"
    }
   ],
   "source": [
    "foods = ['떡볶이', '짜장면', '라면', '피자', '맥주']\n",
    "sides = ['오뎅', '단무지', '김치']\n",
    "dic = dict(zip(foods, sides))\n",
    "dic"
   ]
  },
  {
   "cell_type": "code",
   "execution_count": 283,
   "id": "95656187-3dc5-46d0-9eab-ca5a3cd328c2",
   "metadata": {},
   "outputs": [
    {
     "data": {
      "text/plain": [
       "[('떡볶이', '오뎅'), ('짜장면', '단무지'), ('라면', '김치')]"
      ]
     },
     "execution_count": 283,
     "metadata": {},
     "output_type": "execute_result"
    }
   ],
   "source": [
    "foods = ['떡볶이', '짜장면', '라면', '피자', '맥주']\n",
    "sides = ['오뎅', '단무지', '김치']\n",
    "tupList = list(zip(foods, sides))\n",
    "tupList"
   ]
  },
  {
   "cell_type": "markdown",
   "id": "7da5f444-8d53-40d8-9200-30ee1f87317e",
   "metadata": {},
   "source": [
    "## 복사: 얕은복사/깊은복사\n",
    "\n",
    " - copy by calue\n",
    " - copy by reference 문제 회피(새로운 객체 id 생성)"
   ]
  },
  {
   "cell_type": "code",
   "execution_count": 284,
   "id": "6470f588-da7e-415a-8d4c-bad25fc37024",
   "metadata": {},
   "outputs": [],
   "source": [
    "li = [1, 2, 3, 4]\n",
    "li2 = li"
   ]
  },
  {
   "cell_type": "code",
   "execution_count": 285,
   "id": "629de25d-32ec-4b17-af7d-3bafca885b3c",
   "metadata": {},
   "outputs": [
    {
     "data": {
      "text/plain": [
       "[1, 2, 3, 4]"
      ]
     },
     "execution_count": 285,
     "metadata": {},
     "output_type": "execute_result"
    }
   ],
   "source": [
    "li2"
   ]
  },
  {
   "cell_type": "code",
   "execution_count": 123,
   "id": "b7418de8-80e9-4b87-ad40-cae0cf6b9d72",
   "metadata": {},
   "outputs": [
    {
     "data": {
      "text/plain": [
       "2112824021824"
      ]
     },
     "execution_count": 123,
     "metadata": {},
     "output_type": "execute_result"
    }
   ],
   "source": [
    "id(li)"
   ]
  },
  {
   "cell_type": "code",
   "execution_count": 286,
   "id": "c948ebac-419b-430e-bcb6-449ad750ab56",
   "metadata": {},
   "outputs": [
    {
     "data": {
      "text/plain": [
       "2112822186496"
      ]
     },
     "execution_count": 286,
     "metadata": {},
     "output_type": "execute_result"
    }
   ],
   "source": [
    "id(li2)"
   ]
  },
  {
   "cell_type": "code",
   "execution_count": 1,
   "id": "a506ad8d-a881-4883-895a-dadd4df0e986",
   "metadata": {},
   "outputs": [
    {
     "name": "stdout",
     "output_type": "stream",
     "text": [
      "['짜장면', '탕수육', '군만두']\n",
      "['짬뽕', '탕수육', '군만두', '깐풍기']\n"
     ]
    }
   ],
   "source": [
    "oldList = ['짜장면', '탕수육', '군만두']\n",
    "newList = oldList\n",
    "print(newList)\n",
    "oldList[0] = '짬뽕'\n",
    "oldList.append('깐풍기')\n",
    "print(newList)"
   ]
  },
  {
   "cell_type": "code",
   "execution_count": 289,
   "id": "bf963507-d547-4637-81c9-417ed05e1903",
   "metadata": {},
   "outputs": [
    {
     "data": {
      "text/plain": [
       "2112823369152"
      ]
     },
     "execution_count": 289,
     "metadata": {},
     "output_type": "execute_result"
    }
   ],
   "source": [
    "id(oldList)"
   ]
  },
  {
   "cell_type": "code",
   "execution_count": 290,
   "id": "ee838d7d-b5db-4034-8a96-cc5278040d77",
   "metadata": {},
   "outputs": [
    {
     "data": {
      "text/plain": [
       "2112823369152"
      ]
     },
     "execution_count": 290,
     "metadata": {},
     "output_type": "execute_result"
    }
   ],
   "source": [
    "id(newList)"
   ]
  },
  {
   "cell_type": "code",
   "execution_count": 291,
   "id": "316232cb-6203-4c06-9dff-7e1c34bab8ff",
   "metadata": {},
   "outputs": [
    {
     "name": "stdout",
     "output_type": "stream",
     "text": [
      "['짜장면', '탕수육', '군만두']\n"
     ]
    }
   ],
   "source": [
    "oldList = ['짜장면', '탕수육', '군만두']\n",
    "newList = oldList[:]\n",
    "print(newList)"
   ]
  },
  {
   "cell_type": "code",
   "execution_count": 292,
   "id": "007127c9-300a-476a-a2ec-4d3547fc169b",
   "metadata": {},
   "outputs": [
    {
     "name": "stdout",
     "output_type": "stream",
     "text": [
      "['짜장면', '탕수육', '군만두']\n"
     ]
    }
   ],
   "source": [
    "oldList[0] = '짬뽕'\n",
    "oldList.append('깐풍기')\n",
    "print(newList)"
   ]
  },
  {
   "cell_type": "code",
   "execution_count": 2,
   "id": "8eecd4c3-58ac-4bb9-bee1-8683e581aa35",
   "metadata": {},
   "outputs": [
    {
     "name": "stdout",
     "output_type": "stream",
     "text": [
      "['짜장면', '탕수육', '군만두']\n",
      "['짜장면', '탕수육', '군만두']\n"
     ]
    }
   ],
   "source": [
    "oldList = ['짜장면', '탕수육', '군만두']\n",
    "newList = oldList[:] # copy by reference(deep copy)\n",
    "print(newList)\n",
    "oldList[0] = '짬뽕'\n",
    "oldList.append('깐풍기')\n",
    "print(newList)"
   ]
  },
  {
   "cell_type": "code",
   "execution_count": 294,
   "id": "c88d5b4c-e6e7-47b4-8006-d4d5800c8949",
   "metadata": {},
   "outputs": [
    {
     "data": {
      "text/plain": [
       "2112821590272"
      ]
     },
     "execution_count": 294,
     "metadata": {},
     "output_type": "execute_result"
    }
   ],
   "source": [
    "id(oldList)"
   ]
  },
  {
   "cell_type": "code",
   "execution_count": 295,
   "id": "e8ffb3b8-731c-4be8-95c3-62811da2d50e",
   "metadata": {},
   "outputs": [
    {
     "data": {
      "text/plain": [
       "2112823327296"
      ]
     },
     "execution_count": 295,
     "metadata": {},
     "output_type": "execute_result"
    }
   ],
   "source": [
    "id(newList)"
   ]
  },
  {
   "cell_type": "code",
   "execution_count": 4,
   "id": "2546af01-d1a4-4360-9621-2afe4a4d3a62",
   "metadata": {},
   "outputs": [],
   "source": [
    "oldlist = [1, 2, 3]\n",
    "newlist = oldlist.copy()"
   ]
  },
  {
   "cell_type": "code",
   "execution_count": 5,
   "id": "2450e851-05f3-48bd-8b3b-60a62c218e6e",
   "metadata": {},
   "outputs": [
    {
     "data": {
      "text/plain": [
       "1877500107328"
      ]
     },
     "execution_count": 5,
     "metadata": {},
     "output_type": "execute_result"
    }
   ],
   "source": [
    "id(oldlist)"
   ]
  },
  {
   "cell_type": "code",
   "execution_count": 6,
   "id": "0d44eeed-3e88-413f-8318-6d3c2a2c376c",
   "metadata": {},
   "outputs": [
    {
     "data": {
      "text/plain": [
       "1877500150336"
      ]
     },
     "execution_count": 6,
     "metadata": {},
     "output_type": "execute_result"
    }
   ],
   "source": [
    "id(newlist)"
   ]
  }
 ],
 "metadata": {
  "kernelspec": {
   "display_name": "Python 3 (ipykernel)",
   "language": "python",
   "name": "python3"
  },
  "language_info": {
   "codemirror_mode": {
    "name": "ipython",
    "version": 3
   },
   "file_extension": ".py",
   "mimetype": "text/x-python",
   "name": "python",
   "nbconvert_exporter": "python",
   "pygments_lexer": "ipython3",
   "version": "3.9.7"
  }
 },
 "nbformat": 4,
 "nbformat_minor": 5
}
