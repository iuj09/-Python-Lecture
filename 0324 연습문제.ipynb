{
 "cells": [
  {
   "cell_type": "markdown",
   "id": "fb5ec5f1-dc97-41bb-ae18-7ef339655035",
   "metadata": {},
   "source": [
    "Chapter8"
   ]
  },
  {
   "cell_type": "code",
   "execution_count": 2,
   "id": "087f0b87-0dfe-4d94-985e-a6a2482b5181",
   "metadata": {},
   "outputs": [],
   "source": [
    "ss='IT_CookBook'"
   ]
  },
  {
   "cell_type": "code",
   "execution_count": null,
   "id": "8c2766e0-7774-4773-814e-8619eaf37790",
   "metadata": {},
   "outputs": [],
   "source": [
    "1.  2번 ss[1:2] -> 'T_' => 'T'\n",
    "    4번 ss[:4] -> 'IT_Co' => 'IT_C'\n",
    "    5번 ss[0:-1] -> 'IT_CookBook' => 'IT_CookBoo'"
   ]
  },
  {
   "cell_type": "code",
   "execution_count": null,
   "id": "8dbcc48a-9a0d-42a2-b3fb-bbc1683463c1",
   "metadata": {},
   "outputs": [],
   "source": [
    "2.  print(ss[0]) -> P\n",
    "    print(ss[1:2]) -> y\n",
    "    print(ss[-3:-1]) -> ho\n",
    "    print(ss[3:]) -> hon"
   ]
  },
  {
   "cell_type": "code",
   "execution_count": null,
   "id": "0fd9f55c-56f7-4569-b18e-a8671db95652",
   "metadata": {},
   "outputs": [],
   "source": [
    "3.  (1) str1 + str2 = 'HanbitNetwork'\n",
    "    (2) 2 * str1 = 'HanbitHanbit'\n",
    "    (3) str1 * str2 = TypeError: can't multiply sequence by non-int of type 'str'\n",
    "    (4) str1 / str2 = TypeError: unsupported operand type(s) for /: 'str' and 'str'\n",
    "    (5) TypeError: unsupported operand type(s) for -: 'str' and 'str'"
   ]
  },
  {
   "cell_type": "code",
   "execution_count": 10,
   "id": "83d7f55d-356e-410d-8d2d-33b4e966df51",
   "metadata": {},
   "outputs": [
    {
     "name": "stdout",
     "output_type": "stream",
     "text": [
      "n#h#y#_#o#b#o#c#t#\n"
     ]
    }
   ],
   "source": [
    "#4. \n",
    "\n",
    "instr='it_cookbook_python'\n",
    "outstr=''\n",
    "\n",
    "for i in range(0,len(instr)): #문자열 길이만큼 반복\n",
    "            if i%2==0:     #홀수번째 경우\n",
    "               outstr += instr[len(instr) - (i + 1)]\n",
    "              \n",
    "            else:\n",
    "               outstr +='#'\n",
    "               \n",
    "print(outstr)"
   ]
  },
  {
   "cell_type": "code",
   "execution_count": null,
   "id": "a9bba141-9739-4842-8795-70d0d2209386",
   "metadata": {},
   "outputs": [],
   "source": [
    "5.  1 for\n",
    "    2 len(ss)\n",
    "    3 ss[i]"
   ]
  },
  {
   "cell_type": "code",
   "execution_count": null,
   "id": "7dc9e3f6-cdd0-4b87-aa8e-cec2a96cd764",
   "metadata": {},
   "outputs": [],
   "source": [
    "6.  (1) title()\n",
    "    (2) upper()\n",
    "    (3) swapcase()\n",
    "    (4) lower()"
   ]
  },
  {
   "cell_type": "code",
   "execution_count": null,
   "id": "77862c43-fb9a-40ce-94d4-d09e8559aa95",
   "metadata": {},
   "outputs": [],
   "source": [
    "7.  (1) str1.count('코딩') => 3\n",
    "    (2) str1.rfind('코딩') => 22\n",
    "    (3) str1.startswith('코딩') => True\n",
    "    (4) str1.find('파이썬') => 7"
   ]
  },
  {
   "cell_type": "code",
   "execution_count": null,
   "id": "1888beaf-4658-430b-aa90-5ab2849a3d49",
   "metadata": {},
   "outputs": [],
   "source": [
    "8. 2번 ss.replace('파이썬', 'Python')"
   ]
  },
  {
   "cell_type": "code",
   "execution_count": null,
   "id": "7be94400-6a02-4acc-9f77-8168e9d6af67",
   "metadata": {},
   "outputs": [],
   "source": [
    "9. "
   ]
  },
  {
   "cell_type": "code",
   "execution_count": null,
   "id": "008e6931-d0f1-4135-92c1-c15c27208ea2",
   "metadata": {},
   "outputs": [],
   "source": [
    "10. 2번 ss.join('#')"
   ]
  },
  {
   "cell_type": "markdown",
   "id": "4bee9441-31f5-4f8c-b374-40d20c2093e2",
   "metadata": {},
   "source": [
    "Chapter9"
   ]
  },
  {
   "cell_type": "code",
   "execution_count": null,
   "id": "5191f60d-2a7d-4cae-ae3a-270b65f36c2e",
   "metadata": {},
   "outputs": [],
   "source": [
    "1.  1번 함수는 뒤에 함수명() 처럼 뒤에 괄호 또는 '함수명[]처럼 뒤에 대괄호가 붙는다.'\n",
    "    3번 '파이썬은 자체 함수는 제공하지 않지만,' 필요시 사용자가 직접 만들어서 사용할 수 있다."
   ]
  },
  {
   "cell_type": "code",
   "execution_count": null,
   "id": "dfcf1120-697f-4308-a267-a2ee805ac5ae",
   "metadata": {},
   "outputs": [],
   "source": [
    "2.  1번 : 매개변수\n",
    "    2번 : 반환값"
   ]
  },
  {
   "cell_type": "code",
   "execution_count": null,
   "id": "7ba45815-2fc2-49b6-972a-23b5bf386d61",
   "metadata": {},
   "outputs": [],
   "source": [
    "3.  1번 : v1, v2, v3\n",
    "    2번 : return result"
   ]
  },
  {
   "cell_type": "code",
   "execution_count": 1,
   "id": "b7db8720-c3c5-4ca1-b6b2-b67274dbd234",
   "metadata": {},
   "outputs": [
    {
     "name": "stdout",
     "output_type": "stream",
     "text": [
      "100\n",
      "10\n"
     ]
    }
   ],
   "source": [
    "def f1() :\n",
    "    print(var)\n",
    "    \n",
    "def f2() :\n",
    "    var = 10\n",
    "    print(var)\n",
    "    \n",
    "var = 100\n",
    "f1()\n",
    "f2()"
   ]
  },
  {
   "cell_type": "code",
   "execution_count": null,
   "id": "0f03be81-48d6-4a90-b30f-d5512883124c",
   "metadata": {},
   "outputs": [],
   "source": [
    "4.  f1() => 100\n",
    "    f2() => 10"
   ]
  },
  {
   "cell_type": "code",
   "execution_count": null,
   "id": "90bc449f-6596-48c9-86e4-9a5725f899c7",
   "metadata": {},
   "outputs": [],
   "source": [
    "5.  1번 '반환값은 반드시 1개 이상 있어야 한다.' # 없을 수도 있음\n",
    "    2번 "
   ]
  },
  {
   "cell_type": "code",
   "execution_count": null,
   "id": "ea3fac00-488c-4597-944e-c01a3cda3bf2",
   "metadata": {},
   "outputs": [],
   "source": [
    "6. 3번 그냥 아무 것도 하지 않고 비워 놓을 때 사용한다.\n",
    "\n",
    " # 5번 if 문에서만 사용한다 -> if 문 뿐만 아니라 반복문에서도 사용이 가능하다."
   ]
  },
  {
   "cell_type": "code",
   "execution_count": null,
   "id": "c847bb7b-ce33-4c25-9879-eaa85c7396d4",
   "metadata": {},
   "outputs": [],
   "source": [
    "7."
   ]
  },
  {
   "cell_type": "code",
   "execution_count": 18,
   "id": "d5221d31-1b18-4dd0-a111-45b5d728d1e7",
   "metadata": {},
   "outputs": [
    {
     "name": "stdout",
     "output_type": "stream",
     "text": [
      "5\n",
      "6\n",
      "6\n",
      "6\n"
     ]
    }
   ],
   "source": [
    "8. \n",
    "\n",
    "#p1, p2, p3=1,2,3\n",
    "\n",
    "def myf(p1=0,p2=2,p3=3):\n",
    "    ret=p1+p2+p3\n",
    "    return ret\n",
    "\n",
    "print(myf())\n",
    "print(myf(1))\n",
    "print(myf(1,2))\n",
    "print(myf(1,2,3))"
   ]
  },
  {
   "cell_type": "code",
   "execution_count": null,
   "id": "f23861c1-6ec1-42be-ab07-cf401fd5d1e7",
   "metadata": {},
   "outputs": [],
   "source": [
    "9.  2번 '파이썬은 자체 모듈을 제공하지 않지만', 필요하면 직접 모듈을 만들어서 사용할 수 있다. # 자체 모듈도 제공함\n",
    "    5번 패키지는 모듈을 모아 놓은 것으로 '파일'의 형태로 제공된다. # 폴더의 형태로 제공"
   ]
  },
  {
   "cell_type": "code",
   "execution_count": null,
   "id": "7be1532f-f3a8-49ab-ba18-f40ec23d5489",
   "metadata": {},
   "outputs": [],
   "source": [
    "10. 7행 - 'func2'에 대한 정의가 이루어 지지 않음"
   ]
  },
  {
   "cell_type": "code",
   "execution_count": 3,
   "id": "bd33963f-b22c-4158-81a1-7b08c7e3c362",
   "metadata": {},
   "outputs": [
    {
     "name": "stdout",
     "output_type": "stream",
     "text": [
      "300\n"
     ]
    },
    {
     "ename": "NameError",
     "evalue": "name 'func2' is not defined",
     "output_type": "error",
     "traceback": [
      "\u001b[1;31m---------------------------------------------------------------------------\u001b[0m",
      "\u001b[1;31mNameError\u001b[0m                                 Traceback (most recent call last)",
      "\u001b[1;32m~\\AppData\\Local\\Temp/ipykernel_2360/3105345584.py\u001b[0m in \u001b[0;36m<module>\u001b[1;34m\u001b[0m\n\u001b[0;32m      5\u001b[0m \u001b[1;33m\u001b[0m\u001b[0m\n\u001b[0;32m      6\u001b[0m \u001b[0mprint\u001b[0m\u001b[1;33m(\u001b[0m\u001b[0mfunc1\u001b[0m\u001b[1;33m(\u001b[0m\u001b[1;36m100\u001b[0m\u001b[1;33m,\u001b[0m \u001b[1;36m200\u001b[0m\u001b[1;33m)\u001b[0m\u001b[1;33m)\u001b[0m\u001b[1;33m\u001b[0m\u001b[1;33m\u001b[0m\u001b[0m\n\u001b[1;32m----> 7\u001b[1;33m \u001b[0mprint\u001b[0m\u001b[1;33m(\u001b[0m\u001b[0mfunc2\u001b[0m\u001b[1;33m(\u001b[0m\u001b[1;36m100\u001b[0m\u001b[1;33m,\u001b[0m \u001b[1;36m200\u001b[0m\u001b[1;33m)\u001b[0m\u001b[1;33m)\u001b[0m\u001b[1;33m\u001b[0m\u001b[1;33m\u001b[0m\u001b[0m\n\u001b[0m",
      "\u001b[1;31mNameError\u001b[0m: name 'func2' is not defined"
     ]
    }
   ],
   "source": [
    "def func1(v1, v2) :\n",
    "    def func2(num1, num2) :\n",
    "        return num1 + num2\n",
    "    return func2(v1, v2)\n",
    "\n",
    "print(func1(100, 200))\n",
    "print(func2(100, 200))"
   ]
  },
  {
   "cell_type": "code",
   "execution_count": 22,
   "id": "8e7d5c2a-0ec3-44be-a6f3-c995de8685f5",
   "metadata": {},
   "outputs": [
    {
     "name": "stdout",
     "output_type": "stream",
     "text": [
      "5050\n"
     ]
    }
   ],
   "source": [
    "def addNumber(num):\n",
    "    if num<=1:\n",
    "        return num\n",
    "    else:\n",
    "        return num+addNumber(num-1)\n",
    "    \n",
    "print(addNumber(100))"
   ]
  },
  {
   "cell_type": "code",
   "execution_count": null,
   "id": "f9a5a6f3-4f29-4865-b768-2e41cd26218b",
   "metadata": {},
   "outputs": [],
   "source": []
  },
  {
   "cell_type": "code",
   "execution_count": null,
   "id": "e50a988a-9cad-4684-8ab1-783928d75a81",
   "metadata": {},
   "outputs": [],
   "source": []
  },
  {
   "cell_type": "markdown",
   "id": "390539e1-4de8-476b-8cb4-f92f92f4ef75",
   "metadata": {},
   "source": [
    "Chapter12"
   ]
  },
  {
   "cell_type": "code",
   "execution_count": null,
   "id": "8848b013-91fb-4c5f-be50-2c266ce87da8",
   "metadata": {},
   "outputs": [],
   "source": [
    "1. 4번 기능은 '변수' 형태로 표현한다. # 함수 형식으로 구현한다."
   ]
  },
  {
   "cell_type": "code",
   "execution_count": null,
   "id": "2470f834-0478-4f00-b253-21beb7bc0fcf",
   "metadata": {},
   "outputs": [],
   "source": [
    "class Car :\n",
    "    color = \"\"\n",
    "    speed = 0\n",
    "    \n",
    "    def upSpeed(value) :   # def upSpeed(self, value)\n",
    "        speed += value     # self.speed += value"
   ]
  },
  {
   "cell_type": "code",
   "execution_count": null,
   "id": "d7b03438-ab26-4ac1-ad61-2d24b2217f66",
   "metadata": {},
   "outputs": [],
   "source": [
    "3.  2번 생성자의 이름은 '__initialize()__'로 사용한다. # 생성자는 __init__()라는 이름을 갖는다.\n",
    "    3번 '생성자는 반드시 클래스 안에 1개 이상 코드로 작성해야 한다' # 생성자 없이 클래스 작성이 가능하다."
   ]
  },
  {
   "cell_type": "code",
   "execution_count": null,
   "id": "706c6cc9-262b-413f-b31b-7932c971fb8a",
   "metadata": {},
   "outputs": [],
   "source": [
    "class Horse :\n",
    "    speed = 0\n",
    "    \n",
    "    def __init__(self) :\n",
    "        self.speed = 50"
   ]
  },
  {
   "cell_type": "code",
   "execution_count": null,
   "id": "21dd18cd-3b8c-49b2-91df-83a2ade5aea7",
   "metadata": {},
   "outputs": [],
   "source": [
    "5.  1번 클래스 변수를 선언할 때는 'static'을 앞에 붙인다. # 앞에 클래스 명을 붙인다.\n",
    "    4번 클래스 변수는 아무 것도 붙이지 않고 '변수명'형식으로 사용한다."
   ]
  },
  {
   "cell_type": "code",
   "execution_count": 5,
   "id": "52694c95-f357-4018-8e0c-3af62c8a3c07",
   "metadata": {},
   "outputs": [
    {
     "name": "stdout",
     "output_type": "stream",
     "text": [
      "슈퍼 클래스\n",
      "서브 클래스\n"
     ]
    }
   ],
   "source": [
    "class Car :\n",
    "    def method(self):\n",
    "        print(\"슈퍼 클래스\")\n",
    "        \n",
    "class Sedan(Car) :\n",
    "    def method(self):\n",
    "        print(\"서브 클래스\")\n",
    "        \n",
    "myCar = Car()\n",
    "mySedan = Sedan()\n",
    "myCar.method()\n",
    "mySedan.method()"
   ]
  },
  {
   "cell_type": "code",
   "execution_count": null,
   "id": "5415a0e9-e436-4951-8736-f850ca636668",
   "metadata": {},
   "outputs": [],
   "source": [
    "6. 3번 슈퍼 클래스 서브 클래스"
   ]
  },
  {
   "cell_type": "code",
   "execution_count": null,
   "id": "09220bb9-6a42-45fc-8647-dc3e255faad9",
   "metadata": {},
   "outputs": [],
   "source": [
    "class Car :\n",
    "    speed = 0\n",
    "    \n",
    "    def upSpeed(self, value) :\n",
    "        self.speed = self.speed + value\n",
    "        \n",
    "class RVCar(Car) :\n",
    "    seatNum = 0\n",
    "    \n",
    "    def getSeatNum(self) :\n",
    "        return self.seatNum"
   ]
  },
  {
   "cell_type": "code",
   "execution_count": null,
   "id": "d52d259a-0bc6-44f6-983f-25fe64a20760",
   "metadata": {},
   "outputs": [],
   "source": [
    "7. class RVCar(Car)"
   ]
  },
  {
   "cell_type": "code",
   "execution_count": null,
   "id": "80b88464-4625-475e-ae3a-c553d6a7232f",
   "metadata": {},
   "outputs": [],
   "source": [
    "8. 2번 오버라이딩된 메소드에서 슈퍼 클래스의 메소드를 호출할 때 사용한다.\n",
    "\n",
    "   # 서브 클래스에서 메서드 오버라이딩을 할 때, 슈퍼 클래스의 메서드나 속성을 사용해야 하는 경우에 Super() 메서드를 사용한다. "
   ]
  },
  {
   "cell_type": "code",
   "execution_count": null,
   "id": "7f0bcd5e-f979-4b5c-92cb-7bfd453f680a",
   "metadata": {},
   "outputs": [],
   "source": [
    "9.  (1) __ne__() : 인스턴스 사이의 비교 연산자(!=)가 사용될 때 호출되는 메서드다.\n",
    "    (2) __del__() : 소멸자라고 부르며 인스턴스가 제거될 때는 자동으로 호출된다.\n",
    "    (3) __add__() : 인스턴스 사이의 덧셈 작업이 일어나면 실행되는 메서드다.\n",
    "    (4) __repr__() : 인스턴스를 print() 함수를 이용해 출력할 때 실행되는 메서드다.\n",
    "    (5) __le__() : 인스턴스 사이의 비교 연산자(<=)가 사용될 때 호출되는 메서드다.\n",
    "    \n",
    "# 비교 메서드\n",
    "\n",
    "< : __lt__()\n",
    "<= : __le__()\n",
    "> : __gt__()\n",
    ">= : __ge__()\n",
    "== : __eq__()\n",
    "!= : __ne__()"
   ]
  },
  {
   "cell_type": "code",
   "execution_count": null,
   "id": "2c335ca6-052d-45bc-9f03-bbd8259f2bc8",
   "metadata": {},
   "outputs": [],
   "source": [
    "10. 4번 raise NotImplementedError()"
   ]
  },
  {
   "cell_type": "code",
   "execution_count": null,
   "id": "1954574a-ba3e-4eb3-a492-8736dff8cba9",
   "metadata": {},
   "outputs": [],
   "source": [
    "class SuperClass :\n",
    "    def method(self) :\n",
    "        raise NotImplementedError()\n",
    "        \n",
    "class SubClass(SuperClass) :\n",
    "    pass\n",
    "\n",
    "sub = SubClass()\n",
    "sub.method()"
   ]
  },
  {
   "cell_type": "code",
   "execution_count": null,
   "id": "663372c2-b0e3-4825-a0c8-1988e0f52c86",
   "metadata": {},
   "outputs": [],
   "source": []
  }
 ],
 "metadata": {
  "kernelspec": {
   "display_name": "Python 3 (ipykernel)",
   "language": "python",
   "name": "python3"
  },
  "language_info": {
   "codemirror_mode": {
    "name": "ipython",
    "version": 3
   },
   "file_extension": ".py",
   "mimetype": "text/x-python",
   "name": "python",
   "nbconvert_exporter": "python",
   "pygments_lexer": "ipython3",
   "version": "3.9.7"
  }
 },
 "nbformat": 4,
 "nbformat_minor": 5
}
