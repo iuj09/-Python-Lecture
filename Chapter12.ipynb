{
 "cells": [
  {
   "cell_type": "markdown",
   "id": "b6152ebb-aeb8-4878-81d9-0ec87d6777e8",
   "metadata": {},
   "source": [
    "# Chapter12"
   ]
  },
  {
   "cell_type": "code",
   "execution_count": 2,
   "id": "c63dd569-c485-4458-8bf7-7e480dae9f6a",
   "metadata": {},
   "outputs": [],
   "source": [
    "class Car :\n",
    "    # 속성 : 필드\n",
    "    color = \"\"  # 색상\n",
    "    speed = 0   # 현재_속도\n",
    "    \n",
    "    # 메서드\n",
    "    def upSpeed(self, value) :  # def upSpeed(증가할_속도량)\n",
    "        self.speed += value     # 현재 속도에서 증가할_속도량만큼 속도를 올리는 코드\n",
    "        \n",
    "    def downSpeed(self, value) : # def downSpeed(감소할_속도량)\n",
    "        self.speed -= value      # 현재 속도에서 감소할_속도량만큼 속도를 내리는 코드\n",
    "        \n",
    "    def print() :\n",
    "        print(\"Car class\")"
   ]
  },
  {
   "cell_type": "code",
   "execution_count": 3,
   "id": "36c12081-3c11-4b6f-80ca-3238738acc59",
   "metadata": {},
   "outputs": [
    {
     "data": {
      "text/plain": [
       "__main__.Car"
      ]
     },
     "execution_count": 3,
     "metadata": {},
     "output_type": "execute_result"
    }
   ],
   "source": [
    "Car"
   ]
  },
  {
   "cell_type": "code",
   "execution_count": 4,
   "id": "fc582129-16cb-465d-9b3f-d1079d7da08f",
   "metadata": {},
   "outputs": [
    {
     "data": {
      "text/plain": [
       "type"
      ]
     },
     "execution_count": 4,
     "metadata": {},
     "output_type": "execute_result"
    }
   ],
   "source": [
    "type(Car)"
   ]
  },
  {
   "cell_type": "code",
   "execution_count": 5,
   "id": "a498a7dc-d234-49d9-a4a5-d9b5ba399a5e",
   "metadata": {},
   "outputs": [],
   "source": [
    "car1 = Car()\n",
    "car2 = Car()\n",
    "car3 = Car()"
   ]
  },
  {
   "cell_type": "code",
   "execution_count": 6,
   "id": "0c6f57c5-b603-42fa-9e48-239142b327c0",
   "metadata": {},
   "outputs": [
    {
     "data": {
      "text/plain": [
       "__main__.Car"
      ]
     },
     "execution_count": 6,
     "metadata": {},
     "output_type": "execute_result"
    }
   ],
   "source": [
    "type(car1)"
   ]
  },
  {
   "cell_type": "code",
   "execution_count": 7,
   "id": "d384c4aa-21bd-4c57-b3c0-74f0b4b7c90b",
   "metadata": {},
   "outputs": [
    {
     "data": {
      "text/plain": [
       "<__main__.Car at 0x21ea3b1e1f0>"
      ]
     },
     "execution_count": 7,
     "metadata": {},
     "output_type": "execute_result"
    }
   ],
   "source": [
    "car1"
   ]
  },
  {
   "cell_type": "code",
   "execution_count": 9,
   "id": "5e9097b0-5ea3-4c0a-bddf-418401531c96",
   "metadata": {},
   "outputs": [],
   "source": [
    "car1.color = \"빨강\"\n",
    "car1.speed = 0\n",
    "car2.color = \"파랑\"\n",
    "car2.speed = 0\n",
    "car3.color = \"노랑\"\n",
    "car3.speed = 0"
   ]
  },
  {
   "cell_type": "code",
   "execution_count": 14,
   "id": "a8399fe2-ee1c-49d3-bcc0-e79c9877efa9",
   "metadata": {},
   "outputs": [
    {
     "name": "stdout",
     "output_type": "stream",
     "text": [
      "car1: 빨강 60\n"
     ]
    }
   ],
   "source": [
    "car1.upSpeed(30)\n",
    "print(\"car1:\", car1.color, car1.speed)"
   ]
  },
  {
   "cell_type": "code",
   "execution_count": 15,
   "id": "a9829d90-a4c7-4b63-b346-94e846a0b324",
   "metadata": {},
   "outputs": [
    {
     "name": "stdout",
     "output_type": "stream",
     "text": [
      "car2: 파랑 60\n"
     ]
    }
   ],
   "source": [
    "car2.upSpeed(60)\n",
    "print(\"car2:\", car2.color, car2.speed)"
   ]
  },
  {
   "cell_type": "code",
   "execution_count": 16,
   "id": "f23bc590-1dd9-4fca-be1b-6f9e9444aa53",
   "metadata": {},
   "outputs": [
    {
     "name": "stdout",
     "output_type": "stream",
     "text": [
      "car3: 노랑 0\n"
     ]
    }
   ],
   "source": [
    "car3.upSpeed(0)\n",
    "print(\"car3:\", car3.color, car3.speed)"
   ]
  },
  {
   "cell_type": "markdown",
   "id": "72d5134b-f41d-474c-91ad-56f4f0fdf36d",
   "metadata": {},
   "source": [
    "### 생성자의 개념 : 인스턴스를 생성하면서 필드값을 초기화시키는 함수\n",
    "\n",
    "### 생성자의 기본\n",
    "\n",
    " - 생성자의 기본 형태 : __init__()라는 이름"
   ]
  },
  {
   "cell_type": "markdown",
   "id": "69153c65-feb0-4738-bd7c-fdbb67adea8a",
   "metadata": {},
   "source": [
    "생성자 추가"
   ]
  },
  {
   "cell_type": "code",
   "execution_count": 19,
   "id": "eef25253-0f03-4648-a8db-5aa99e6b07f8",
   "metadata": {},
   "outputs": [],
   "source": [
    "class Car :\n",
    "    # 속성 : 필드\n",
    "    color = \"\"  \n",
    "    speed = 0   \n",
    "    \n",
    "    #생성자\n",
    "    def __init__(self) :\n",
    "        self.color = '빨강'\n",
    "        self.speed = 0\n",
    "    \n",
    "    # 메서드\n",
    "    def upSpeed(self, value) :  \n",
    "        self.speed += value     \n",
    "        \n",
    "    def downSpeed(self, value) : \n",
    "        self.speed -= value      \n",
    "        \n",
    "    def print() :\n",
    "        print(\"Car class\")"
   ]
  },
  {
   "cell_type": "code",
   "execution_count": 20,
   "id": "3b99c6a1-e2c3-449c-b09a-be0054d9a881",
   "metadata": {},
   "outputs": [
    {
     "name": "stdout",
     "output_type": "stream",
     "text": [
      "빨강 빨강\n"
     ]
    }
   ],
   "source": [
    "car1 = Car()\n",
    "car2 = Car()\n",
    "\n",
    "print(car1.color, car2.color)"
   ]
  },
  {
   "cell_type": "code",
   "execution_count": null,
   "id": "744730e7-f8b2-4352-85d1-e87999af8b8c",
   "metadata": {},
   "outputs": [],
   "source": []
  },
  {
   "cell_type": "markdown",
   "id": "9c451187-40fa-4821-af83-3129a59845fa",
   "metadata": {},
   "source": [
    "### 매개변수가 있는 생성자"
   ]
  },
  {
   "cell_type": "code",
   "execution_count": 21,
   "id": "18921309-111d-4343-bc85-4e333557dbb9",
   "metadata": {},
   "outputs": [],
   "source": [
    "class Car :\n",
    "    # 속성 : 필드\n",
    "    color = \"\"  \n",
    "    speed = 0   \n",
    "    \n",
    "    #생성자\n",
    "    def __init__(self, v1, v2) :\n",
    "        self.color = v1\n",
    "        self.speed = v2\n",
    "    \n",
    "    # 메서드\n",
    "    def upSpeed(self, value) :  \n",
    "        self.speed += value     \n",
    "        \n",
    "    def downSpeed(self, value) : \n",
    "        self.speed -= value      \n",
    "        \n",
    "    def print(self) :\n",
    "        print(self.color, self.speed)"
   ]
  },
  {
   "cell_type": "code",
   "execution_count": 22,
   "id": "37bd47b6-a9e3-42d4-9396-0eb1363b3057",
   "metadata": {},
   "outputs": [],
   "source": [
    "car1 = Car(\"노랑\", 0)\n",
    "car2 = Car(\"오렌지\", 0)"
   ]
  },
  {
   "cell_type": "code",
   "execution_count": 23,
   "id": "bcfe66f4-3f88-4e1c-8bd6-ed99abcaf624",
   "metadata": {},
   "outputs": [
    {
     "name": "stdout",
     "output_type": "stream",
     "text": [
      "노랑 0\n",
      "오렌지 0\n"
     ]
    },
    {
     "data": {
      "text/plain": [
       "(None, None)"
      ]
     },
     "execution_count": 23,
     "metadata": {},
     "output_type": "execute_result"
    }
   ],
   "source": [
    "car1.print(), car2.print()"
   ]
  },
  {
   "cell_type": "markdown",
   "id": "1dcc2c36-7c6e-420c-9e6d-e832ca69430f",
   "metadata": {},
   "source": [
    "### 인스턴스 변수/클래스 변수(파이썬)"
   ]
  },
  {
   "cell_type": "code",
   "execution_count": 25,
   "id": "ede5c778-32d2-4c50-a725-ea6328e17996",
   "metadata": {},
   "outputs": [],
   "source": [
    "class Car :\n",
    "    # 속성 : 필드\n",
    "    color = \"\"  \n",
    "    speed = 0   \n",
    "    count = 0   # 클래스 변수(영역)\n",
    "    \n",
    "    #생성자\n",
    "    def __init__(self) :\n",
    "        self.speed = 0\n",
    "        Car.count += 1\n",
    "    \n",
    "    # 메서드\n",
    "    def upSpeed(self, value) :  \n",
    "        self.speed += value     \n",
    "        \n",
    "    def downSpeed(self, value) : \n",
    "        self.speed -= value      \n",
    "        \n",
    "    def print(self) :\n",
    "        print(self.color, self.speed)"
   ]
  },
  {
   "cell_type": "code",
   "execution_count": 26,
   "id": "ffd3b932-4932-4f0d-abbb-927b36120bcc",
   "metadata": {},
   "outputs": [],
   "source": [
    "car1 = Car()\n",
    "car1.speed = 30"
   ]
  },
  {
   "cell_type": "code",
   "execution_count": 27,
   "id": "19310e57-d63e-4ebb-9e4c-a2162d0d1b95",
   "metadata": {},
   "outputs": [
    {
     "data": {
      "text/plain": [
       "30"
      ]
     },
     "execution_count": 27,
     "metadata": {},
     "output_type": "execute_result"
    }
   ],
   "source": [
    "car1.speed"
   ]
  },
  {
   "cell_type": "code",
   "execution_count": 29,
   "id": "291d37f8-ce12-418a-8b35-d4bab38b463f",
   "metadata": {},
   "outputs": [
    {
     "data": {
      "text/plain": [
       "1"
      ]
     },
     "execution_count": 29,
     "metadata": {},
     "output_type": "execute_result"
    }
   ],
   "source": [
    "car1.count"
   ]
  },
  {
   "cell_type": "code",
   "execution_count": 30,
   "id": "7fc238b9-fbdd-449b-8bb4-f51b8159cb94",
   "metadata": {},
   "outputs": [
    {
     "data": {
      "text/plain": [
       "1"
      ]
     },
     "execution_count": 30,
     "metadata": {},
     "output_type": "execute_result"
    }
   ],
   "source": [
    "Car.count"
   ]
  },
  {
   "cell_type": "code",
   "execution_count": 31,
   "id": "d12afab5-a71d-48c7-9d40-72733ef3c6fb",
   "metadata": {},
   "outputs": [],
   "source": [
    "car2 = Car()\n",
    "car2.speed = 60"
   ]
  },
  {
   "cell_type": "code",
   "execution_count": 32,
   "id": "cb4090d3-f57a-4975-a1ff-e025f923967e",
   "metadata": {},
   "outputs": [
    {
     "data": {
      "text/plain": [
       "60"
      ]
     },
     "execution_count": 32,
     "metadata": {},
     "output_type": "execute_result"
    }
   ],
   "source": [
    "car2.speed"
   ]
  },
  {
   "cell_type": "code",
   "execution_count": 33,
   "id": "24335d0e-4368-476c-9a5f-4ed7237cc736",
   "metadata": {},
   "outputs": [
    {
     "data": {
      "text/plain": [
       "2"
      ]
     },
     "execution_count": 33,
     "metadata": {},
     "output_type": "execute_result"
    }
   ],
   "source": [
    "car2.count"
   ]
  },
  {
   "cell_type": "code",
   "execution_count": 34,
   "id": "92a54580-177b-4a79-bc90-fedd0ba66bbd",
   "metadata": {},
   "outputs": [
    {
     "data": {
      "text/plain": [
       "2"
      ]
     },
     "execution_count": 34,
     "metadata": {},
     "output_type": "execute_result"
    }
   ],
   "source": [
    "Car.count"
   ]
  },
  {
   "cell_type": "code",
   "execution_count": 35,
   "id": "40714b74-ffe3-4265-9a02-31dc287f9006",
   "metadata": {},
   "outputs": [
    {
     "data": {
      "text/plain": [
       "2"
      ]
     },
     "execution_count": 35,
     "metadata": {},
     "output_type": "execute_result"
    }
   ],
   "source": [
    "car1.count"
   ]
  },
  {
   "cell_type": "code",
   "execution_count": 36,
   "id": "07cc1666-6ac3-4211-8a8b-c83dff9b216d",
   "metadata": {},
   "outputs": [],
   "source": [
    "car2.count = 1000"
   ]
  },
  {
   "cell_type": "code",
   "execution_count": 37,
   "id": "10e5eb67-f896-4765-bda5-ba2cbd3210a7",
   "metadata": {},
   "outputs": [
    {
     "data": {
      "text/plain": [
       "2"
      ]
     },
     "execution_count": 37,
     "metadata": {},
     "output_type": "execute_result"
    }
   ],
   "source": [
    "car1.count"
   ]
  },
  {
   "cell_type": "code",
   "execution_count": 38,
   "id": "66b233d3-69e4-434c-93e3-2b088233e07b",
   "metadata": {},
   "outputs": [
    {
     "data": {
      "text/plain": [
       "2"
      ]
     },
     "execution_count": 38,
     "metadata": {},
     "output_type": "execute_result"
    }
   ],
   "source": [
    "Car.count"
   ]
  },
  {
   "cell_type": "markdown",
   "id": "6d9dd773-2211-4f7e-a21b-c1cf69e4dae5",
   "metadata": {},
   "source": [
    "## 상속의 개념\n",
    "\n",
    " - 클래스의 상속(Inheritance) : 기존 클래스에 있는 필드와 메서드를 그대로 물려받는 새로운 클래스를 만드는 것"
   ]
  },
  {
   "cell_type": "code",
   "execution_count": 40,
   "id": "da80279b-ec37-4857-9919-62367007102f",
   "metadata": {},
   "outputs": [],
   "source": [
    "class Car :\n",
    "    speed = 0\n",
    "    \n",
    "    def upspeed(self, v) :\n",
    "        self.speed += v\n",
    "        print('속도', self.speed)"
   ]
  },
  {
   "cell_type": "code",
   "execution_count": 41,
   "id": "77571e44-d39c-47b5-baf1-865008b92e13",
   "metadata": {},
   "outputs": [],
   "source": [
    "class Sedan(Car) :\n",
    "    def upspeed(self, v) :\n",
    "        self.speed += v\n",
    "        \n",
    "        if self.speed > 150 :\n",
    "            self.speed = 150"
   ]
  },
  {
   "cell_type": "code",
   "execution_count": 42,
   "id": "435a52f7-ff4e-424e-a3be-0ed949014745",
   "metadata": {},
   "outputs": [],
   "source": [
    "class Truck(Car) :\n",
    "    pass"
   ]
  },
  {
   "cell_type": "code",
   "execution_count": 43,
   "id": "a371c30f-0ca0-46ec-ab84-b7e2de497225",
   "metadata": {},
   "outputs": [],
   "source": [
    "truck1 = Truck()\n",
    "sedan1 = Sedan()"
   ]
  },
  {
   "cell_type": "code",
   "execution_count": 44,
   "id": "dd8a01c4-b8fe-4a63-8ac5-9da7e6b35368",
   "metadata": {},
   "outputs": [
    {
     "name": "stdout",
     "output_type": "stream",
     "text": [
      "속도 100\n"
     ]
    }
   ],
   "source": [
    "truck1.upspeed(100)"
   ]
  },
  {
   "cell_type": "code",
   "execution_count": 45,
   "id": "4888a779-60aa-4568-8d17-5bf4bc40a618",
   "metadata": {},
   "outputs": [],
   "source": [
    "sedan1.upspeed(300)"
   ]
  }
 ],
 "metadata": {
  "kernelspec": {
   "display_name": "Python 3 (ipykernel)",
   "language": "python",
   "name": "python3"
  },
  "language_info": {
   "codemirror_mode": {
    "name": "ipython",
    "version": 3
   },
   "file_extension": ".py",
   "mimetype": "text/x-python",
   "name": "python",
   "nbconvert_exporter": "python",
   "pygments_lexer": "ipython3",
   "version": "3.9.7"
  }
 },
 "nbformat": 4,
 "nbformat_minor": 5
}
