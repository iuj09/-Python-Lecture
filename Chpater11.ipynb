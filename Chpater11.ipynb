{
 "cells": [
  {
   "cell_type": "markdown",
   "id": "7689eaa3-75d7-4d5c-ac23-5590fbd16209",
   "metadata": {},
   "source": [
    "# Chapter11"
   ]
  },
  {
   "cell_type": "code",
   "execution_count": null,
   "id": "024d074f-11e2-4ae9-a468-8a29f6e9ff4e",
   "metadata": {},
   "outputs": [],
   "source": [
    "inFp = None\n",
    "inStr = \"\"\n"
   ]
  },
  {
   "cell_type": "code",
   "execution_count": 4,
   "id": "ce094c72-8789-40a0-b430-f3fb829b9847",
   "metadata": {},
   "outputs": [],
   "source": [
    "inFp = open(\"Module1.py\", \"r\", encoding = 'utf-8')"
   ]
  },
  {
   "cell_type": "code",
   "execution_count": 23,
   "id": "8b314c61-4aa8-4c57-813f-668a17ce729a",
   "metadata": {},
   "outputs": [
    {
     "data": {
      "text/plain": [
       "_io.TextIOWrapper"
      ]
     },
     "execution_count": 23,
     "metadata": {},
     "output_type": "execute_result"
    }
   ],
   "source": [
    "type(inFp)"
   ]
  },
  {
   "cell_type": "code",
   "execution_count": 7,
   "id": "8c188e47-a883-46af-9468-1dfdf875aecd",
   "metadata": {},
   "outputs": [
    {
     "data": {
      "text/plain": [
       "'    \\n'"
      ]
     },
     "execution_count": 7,
     "metadata": {},
     "output_type": "execute_result"
    }
   ],
   "source": [
    "inStr = inFp.readline()\n",
    "inStr"
   ]
  },
  {
   "cell_type": "code",
   "execution_count": 8,
   "id": "f82a184b-7e5e-4540-9129-71d64892e858",
   "metadata": {},
   "outputs": [
    {
     "name": "stdout",
     "output_type": "stream",
     "text": [
      "def func2() :\n",
      "    print(\"Module1.py의 func2()이 호출됨.\")\n"
     ]
    }
   ],
   "source": [
    "inStr = inFp.readline()\n",
    "print(inStr, end =\"\")\n",
    "\n",
    "inStr = inFp.readline()\n",
    "print(inStr, end =\"\")"
   ]
  },
  {
   "cell_type": "code",
   "execution_count": 39,
   "id": "830ad35b-efbe-44d5-9c7a-cfe20d1010a9",
   "metadata": {},
   "outputs": [],
   "source": [
    "inFp.close()"
   ]
  },
  {
   "cell_type": "code",
   "execution_count": 36,
   "id": "deb7ef08-026a-46f6-9665-b5ac88ee71f1",
   "metadata": {},
   "outputs": [
    {
     "data": {
      "text/plain": [
       "'    print(\"Module1.py의 func1()이 호출됨.\")\\n    \\ndef func2() :\\n    print(\"Module1.py의 func2()이 호출됨.\")\\n    \\ndef func3() :\\n    print(\"Module1.py의 func3()이 호출됨.\")\\n    \\nPI = 3.14'"
      ]
     },
     "execution_count": 36,
     "metadata": {},
     "output_type": "execute_result"
    }
   ],
   "source": [
    "inFp.read()"
   ]
  },
  {
   "cell_type": "code",
   "execution_count": 38,
   "id": "56d21647-3396-46ae-984a-9a10f9a84bdc",
   "metadata": {},
   "outputs": [
    {
     "data": {
      "text/plain": [
       "['def func1() :\\n',\n",
       " '    print(\"Module1.py의 func1()이 호출됨.\")\\n',\n",
       " '    \\n',\n",
       " 'def func2() :\\n',\n",
       " '    print(\"Module1.py의 func2()이 호출됨.\")\\n',\n",
       " '    \\n',\n",
       " 'def func3() :\\n',\n",
       " '    print(\"Module1.py의 func3()이 호출됨.\")\\n',\n",
       " '    \\n',\n",
       " 'PI = 3.14']"
      ]
     },
     "execution_count": 38,
     "metadata": {},
     "output_type": "execute_result"
    }
   ],
   "source": [
    "inFp.readlines()"
   ]
  },
  {
   "cell_type": "markdown",
   "id": "ecce56cb-c5f9-4f90-ab63-662c2d06f8aa",
   "metadata": {},
   "source": [
    "## open => 작업 => close"
   ]
  },
  {
   "cell_type": "code",
   "execution_count": 40,
   "id": "f3674dec-ce47-4329-97ba-470091b446fc",
   "metadata": {},
   "outputs": [
    {
     "name": "stdout",
     "output_type": "stream",
     "text": [
      "def func1() :\n",
      "    print(\"Module1.py의 func1()이 호출됨.\")\n",
      "    \n",
      "def func2() :\n",
      "    print(\"Module1.py의 func2()이 호출됨.\")\n",
      "    \n",
      "def func3() :\n",
      "    print(\"Module1.py의 func3()이 호출됨.\")\n",
      "    \n",
      "PI = 3.14"
     ]
    }
   ],
   "source": [
    "inFp = open(\"Module1.py\", \"r\", encoding = 'utf-8')\n",
    "\n",
    "while True :\n",
    "    inStr = inFp.readline()\n",
    "    if inStr == \"\" :  # end\n",
    "        break;\n",
    "    print(inStr, end = \"\")\n",
    "    \n",
    "inFp.close()"
   ]
  },
  {
   "cell_type": "markdown",
   "id": "b347f929-be3e-4a50-94fd-bf4d2ad4c651",
   "metadata": {},
   "source": [
    "**with..as**"
   ]
  },
  {
   "cell_type": "code",
   "execution_count": 41,
   "id": "5b234d81-2bc6-4462-adaf-3ade65517fd4",
   "metadata": {},
   "outputs": [
    {
     "name": "stdout",
     "output_type": "stream",
     "text": [
      "def func1() :\n",
      "\n",
      "    print(\"Module1.py의 func1()이 호출됨.\")\n",
      "\n",
      "    \n",
      "\n",
      "def func2() :\n",
      "\n",
      "    print(\"Module1.py의 func2()이 호출됨.\")\n",
      "\n",
      "    \n",
      "\n",
      "def func3() :\n",
      "\n",
      "    print(\"Module1.py의 func3()이 호출됨.\")\n",
      "\n",
      "    \n",
      "\n",
      "PI = 3.14\n"
     ]
    }
   ],
   "source": [
    "with open(\"Module1.py\", \"r\", encoding = 'utf-8') as f :\n",
    "    while True :\n",
    "        str = f.readline()\n",
    "        if str == '' :\n",
    "            break\n",
    "        print(str)"
   ]
  },
  {
   "cell_type": "code",
   "execution_count": 2,
   "id": "3bf262e0-600c-4339-aaf3-1ed2871ac5a1",
   "metadata": {},
   "outputs": [
    {
     "ename": "SyntaxError",
     "evalue": "EOL while scanning string literal (Temp/ipykernel_4564/2864575526.py, line 42)",
     "output_type": "error",
     "traceback": [
      "\u001b[1;36m  File \u001b[1;32m\"C:\\Users\\BIT\\AppData\\Local\\Temp/ipykernel_4564/2864575526.py\"\u001b[1;36m, line \u001b[1;32m42\u001b[0m\n\u001b[1;33m    filename = RAW/ tree.raw'\u001b[0m\n\u001b[1;37m                             ^\u001b[0m\n\u001b[1;31mSyntaxError\u001b[0m\u001b[1;31m:\u001b[0m EOL while scanning string literal\n"
     ]
    }
   ],
   "source": [
    "from tkinter import *\n",
    "\n",
    "## 함수 선언 부분 ##\n",
    "def loadImage(fname) :\n",
    "    global inImage, XSIZE, YSIZE\n",
    "    fp = open(fname, 'rb')\n",
    "              \n",
    "    for i in range(0, XSIZE) :\n",
    "        tmpList = []\n",
    "        for k in range(0, YSIZE) :\n",
    "            data = int(ord(fp.read(1)))\n",
    "            tmpList.append(data)\n",
    "            inImage.append(tmpList)\n",
    "            \n",
    "        fp.close()\n",
    "        \n",
    "    def displayImage(image) :\n",
    "        global XSIZE, YSIZE\n",
    "        rgbString = \"\"\n",
    "        for i in range(0, XSIZE) :\n",
    "            tmpString = \"\"\n",
    "            for k in range(0, YSIZE) :\n",
    "                data = image[i][k]\n",
    "                tmpString += \"#%02x#%02x#%02x \" % (data, data, data)  # x뒤에 한 칸 공백\n",
    "            rgbString += \"{\" + tmpString + \"} \"                        # }뒤에 한 칸 공백\n",
    "        paper.put(rgbString)\n",
    "        \n",
    "## 전역 변수 선언 부분 ##\n",
    "window = None\n",
    "canvas = None\n",
    "XSIZE, YSIZE = 256, 256\n",
    "inImage = []              # 2차원 리스트(메모리)\n",
    "\n",
    "## 메인 코드 부분 ##\n",
    "window = Tk()\n",
    "window.title(\"흑백 사진 보기\")\n",
    "canvas = Canvas(window, height = XSIZE, width = YSIZE)\n",
    "paper = PhotoImage(width = XSIZE, height = YSIZE)\n",
    "canvas.create_image((XSIZE / 2, YSIZE / 2), image = paper, state = \"normal\")\n",
    "\n",
    "#파일 --> 메모리\n",
    "filename = RAW/ tree.raw'\n",
    "loadImage(filename)\n",
    "\n",
    "# 메모리 --> 화면\n",
    "displayImage(inImage)\n",
    "\n",
    "canvas.pack()\n",
    "window.mainloop()"
   ]
  },
  {
   "cell_type": "code",
   "execution_count": null,
   "id": "e5a219de-ac94-48e8-aee5-537c8f828577",
   "metadata": {},
   "outputs": [],
   "source": []
  },
  {
   "cell_type": "code",
   "execution_count": null,
   "id": "ce889789-a25b-440a-8560-c7d5e8b95628",
   "metadata": {},
   "outputs": [],
   "source": []
  }
 ],
 "metadata": {
  "kernelspec": {
   "display_name": "Python 3 (ipykernel)",
   "language": "python",
   "name": "python3"
  },
  "language_info": {
   "codemirror_mode": {
    "name": "ipython",
    "version": 3
   },
   "file_extension": ".py",
   "mimetype": "text/x-python",
   "name": "python",
   "nbconvert_exporter": "python",
   "pygments_lexer": "ipython3",
   "version": "3.9.7"
  }
 },
 "nbformat": 4,
 "nbformat_minor": 5
}
