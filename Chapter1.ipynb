{
 "cells": [
  {
   "cell_type": "code",
   "execution_count": 3,
   "id": "321d03ad-904e-420b-b291-329b7473e94e",
   "metadata": {},
   "outputs": [],
   "source": [
    "a = 100\n",
    "b = 50"
   ]
  },
  {
   "cell_type": "code",
   "execution_count": 8,
   "id": "a8109f6e-eba2-4a86-af67-f6dcf027fc49",
   "metadata": {},
   "outputs": [
    {
     "ename": "SyntaxError",
     "evalue": "invalid syntax (Temp/ipykernel_4632/1219936217.py, line 1)",
     "output_type": "error",
     "traceback": [
      "\u001b[1;36m  File \u001b[1;32m\"C:\\Users\\BIT\\AppData\\Local\\Temp/ipykernel_4632/1219936217.py\"\u001b[1;36m, line \u001b[1;32m1\u001b[0m\n\u001b[1;33m    abc = 100 sdfadg\u001b[0m\n\u001b[1;37m              ^\u001b[0m\n\u001b[1;31mSyntaxError\u001b[0m\u001b[1;31m:\u001b[0m invalid syntax\n"
     ]
    }
   ],
   "source": [
    "abc = 100 sdfadg"
   ]
  },
  {
   "cell_type": "code",
   "execution_count": 13,
   "id": "58a4668a-bf38-4448-83c6-5c3b79598eb2",
   "metadata": {},
   "outputs": [
    {
     "ename": "SyntaxError",
     "evalue": "invalid syntax (Temp/ipykernel_4632/4076024086.py, line 1)",
     "output_type": "error",
     "traceback": [
      "\u001b[1;36m  File \u001b[1;32m\"C:\\Users\\BIT\\AppData\\Local\\Temp/ipykernel_4632/4076024086.py\"\u001b[1;36m, line \u001b[1;32m1\u001b[0m\n\u001b[1;33m    abc = 100 101\u001b[0m\n\u001b[1;37m              ^\u001b[0m\n\u001b[1;31mSyntaxError\u001b[0m\u001b[1;31m:\u001b[0m invalid syntax\n"
     ]
    }
   ],
   "source": [
    "abc = 100 101"
   ]
  },
  {
   "cell_type": "code",
   "execution_count": 15,
   "id": "ebe13ef6-52ae-4e8d-a68b-7425477948f0",
   "metadata": {},
   "outputs": [],
   "source": [
    "a = 100"
   ]
  },
  {
   "cell_type": "code",
   "execution_count": 17,
   "id": "68dc1510-39c6-49e7-b6ae-7422e63218da",
   "metadata": {},
   "outputs": [
    {
     "data": {
      "text/plain": [
       "100"
      ]
     },
     "execution_count": 17,
     "metadata": {},
     "output_type": "execute_result"
    }
   ],
   "source": [
    "a"
   ]
  },
  {
   "cell_type": "code",
   "execution_count": 18,
   "id": "30214a52-6b94-415a-9bbc-0748ff0467c2",
   "metadata": {},
   "outputs": [
    {
     "name": "stdout",
     "output_type": "stream",
     "text": [
      "100\n"
     ]
    }
   ],
   "source": [
    "print(a)"
   ]
  },
  {
   "cell_type": "code",
   "execution_count": 19,
   "id": "56a9283c-1144-4ee4-8b73-755a7247da2c",
   "metadata": {},
   "outputs": [
    {
     "data": {
      "text/plain": [
       "50"
      ]
     },
     "execution_count": 19,
     "metadata": {},
     "output_type": "execute_result"
    }
   ],
   "source": [
    "b"
   ]
  },
  {
   "cell_type": "code",
   "execution_count": 22,
   "id": "ca8c276d-e9f5-4276-8bb2-27ea3d11fd0e",
   "metadata": {},
   "outputs": [
    {
     "data": {
      "text/plain": [
       "(100, 50)"
      ]
     },
     "execution_count": 22,
     "metadata": {},
     "output_type": "execute_result"
    }
   ],
   "source": [
    "a, b # 튜플 반환"
   ]
  },
  {
   "cell_type": "code",
   "execution_count": 24,
   "id": "1874b8ee-524a-4170-95a9-b83f94d6c269",
   "metadata": {},
   "outputs": [
    {
     "ename": "SyntaxError",
     "evalue": "invalid syntax (Temp/ipykernel_4632/210263012.py, line 1)",
     "output_type": "error",
     "traceback": [
      "\u001b[1;36m  File \u001b[1;32m\"C:\\Users\\BIT\\AppData\\Local\\Temp/ipykernel_4632/210263012.py\"\u001b[1;36m, line \u001b[1;32m1\u001b[0m\n\u001b[1;33m    a b\u001b[0m\n\u001b[1;37m      ^\u001b[0m\n\u001b[1;31mSyntaxError\u001b[0m\u001b[1;31m:\u001b[0m invalid syntax\n"
     ]
    }
   ],
   "source": [
    "a b"
   ]
  },
  {
   "cell_type": "code",
   "execution_count": 25,
   "id": "76026f21-ccd7-4746-8e9e-7fd2602c6c67",
   "metadata": {},
   "outputs": [
    {
     "data": {
      "text/plain": [
       "150"
      ]
     },
     "execution_count": 25,
     "metadata": {},
     "output_type": "execute_result"
    }
   ],
   "source": [
    "a + b"
   ]
  },
  {
   "cell_type": "code",
   "execution_count": 26,
   "id": "0c6c542a-a6fa-4e57-9a04-fc1c281b9939",
   "metadata": {},
   "outputs": [
    {
     "data": {
      "text/plain": [
       "50"
      ]
     },
     "execution_count": 26,
     "metadata": {},
     "output_type": "execute_result"
    }
   ],
   "source": [
    "a - b"
   ]
  },
  {
   "cell_type": "code",
   "execution_count": 27,
   "id": "4fc95cec-4143-4b7b-b6a5-8a22b1a80a9a",
   "metadata": {},
   "outputs": [
    {
     "data": {
      "text/plain": [
       "2.0"
      ]
     },
     "execution_count": 27,
     "metadata": {},
     "output_type": "execute_result"
    }
   ],
   "source": [
    "a / b"
   ]
  },
  {
   "cell_type": "code",
   "execution_count": 28,
   "id": "90cc7a99-4426-4a40-9e1a-c5a643267da9",
   "metadata": {},
   "outputs": [
    {
     "data": {
      "text/plain": [
       "5000"
      ]
     },
     "execution_count": 28,
     "metadata": {},
     "output_type": "execute_result"
    }
   ],
   "source": [
    "a * b"
   ]
  },
  {
   "cell_type": "code",
   "execution_count": 29,
   "id": "a3e80e2f-d812-435f-9d97-997f54db5947",
   "metadata": {},
   "outputs": [
    {
     "data": {
      "text/plain": [
       "5000"
      ]
     },
     "execution_count": 29,
     "metadata": {},
     "output_type": "execute_result"
    }
   ],
   "source": [
    "result = a * b\n",
    "result"
   ]
  },
  {
   "cell_type": "code",
   "execution_count": 30,
   "id": "09cd43b6-ede9-4f61-b3d5-c72af03a79dd",
   "metadata": {},
   "outputs": [
    {
     "data": {
      "text/plain": [
       "50000"
      ]
     },
     "execution_count": 30,
     "metadata": {},
     "output_type": "execute_result"
    }
   ],
   "source": [
    "result * 10"
   ]
  },
  {
   "cell_type": "code",
   "execution_count": 31,
   "id": "d070ab56-6605-48ae-a004-b12fab2e246a",
   "metadata": {},
   "outputs": [
    {
     "data": {
      "text/plain": [
       "100.0"
      ]
     },
     "execution_count": 31,
     "metadata": {},
     "output_type": "execute_result"
    }
   ],
   "source": [
    "math_score = 100\n",
    "eng_score = 100\n",
    "average = (math_score + eng_score) / 2\n",
    "average"
   ]
  },
  {
   "cell_type": "code",
   "execution_count": 34,
   "id": "6f8ddf06-d66b-43c9-8a1e-f06b8f9493da",
   "metadata": {},
   "outputs": [
    {
     "name": "stdout",
     "output_type": "stream",
     "text": [
      "100 * 50 = 5000\n"
     ]
    }
   ],
   "source": [
    "#결과 출력\n",
    "print(a, '*', b, '=', result)"
   ]
  },
  {
   "cell_type": "markdown",
   "id": "0776a142-e272-4823-a6b8-abcc4e36b263",
   "metadata": {},
   "source": [
    "## 사칙연산을 수행합니다."
   ]
  },
  {
   "cell_type": "code",
   "execution_count": null,
   "id": "ff218ee3-3be9-48de-866d-d1a439adc4cc",
   "metadata": {},
   "outputs": [],
   "source": [
    "a = 100\n",
    "b = 50\n",
    "\n",
    "result = a+b\n",
    "print(a, '+', b, '=', result)\n",
    "\n",
    "result = a-b\n",
    "print(a, '-', b, '=', result)\n",
    "\n",
    "result = a*b\n",
    "print(a, '*', b, '=', result)\n",
    "\n",
    "result = a/b\n",
    "print(a, '/', b, '=', result)"
   ]
  },
  {
   "cell_type": "markdown",
   "id": "b8b97cf8-197e-4dc4-99e5-10b1e0eb16e2",
   "metadata": {},
   "source": [
    "## input() 함수로 작성"
   ]
  },
  {
   "cell_type": "code",
   "execution_count": 43,
   "id": "a531a9b7-95ea-4389-b09f-fc42aef57bb2",
   "metadata": {},
   "outputs": [
    {
     "name": "stdin",
     "output_type": "stream",
     "text": [
      "첫 번째 숫자를 입력하세요: 150\n",
      "두 번째 숫자를 입력하세요: 350\n"
     ]
    },
    {
     "name": "stdout",
     "output_type": "stream",
     "text": [
      "150 + 350 = 500\n",
      "150 - 350 = -200\n",
      "150 * 350 = 52500\n",
      "150 / 350 = 0.42857142857142855\n"
     ]
    }
   ],
   "source": [
    "a = int(input(\"첫 번째 숫자를 입력하세요:\"))\n",
    "b = int(input(\"두 번째 숫자를 입력하세요:\"))\n",
    "\n",
    "result = a+b\n",
    "print(a, '+', b, '=', result)\n",
    "\n",
    "result = a-b\n",
    "print(a, '-', b, '=', result)\n",
    "\n",
    "result = a*b\n",
    "print(a, '*', b, '=', result)\n",
    "\n",
    "result = a/b\n",
    "print(a, '/', b, '=', result)"
   ]
  },
  {
   "cell_type": "markdown",
   "id": "5d186bbb-a6df-4742-bf67-ab9734832159",
   "metadata": {},
   "source": [
    "## p60 연습문제 7번"
   ]
  },
  {
   "cell_type": "code",
   "execution_count": 45,
   "id": "37eeaa81-efa0-4ddb-8428-b31c7d9e37cd",
   "metadata": {},
   "outputs": [
    {
     "name": "stdin",
     "output_type": "stream",
     "text": [
      "숫자1 입력: 10\n",
      "숫자2 입력: 20\n",
      "숫자3 입력: 30\n"
     ]
    },
    {
     "name": "stdout",
     "output_type": "stream",
     "text": [
      "10 + 20 + 30 = 60\n",
      "10 * 20 * 30 = 6000\n"
     ]
    }
   ],
   "source": [
    "a = int(input(\"숫자1 입력:\"))\n",
    "b = int(input(\"숫자2 입력:\"))\n",
    "c = int(input(\"숫자3 입력:\"))\n",
    "\n",
    "result = a+b+c\n",
    "print(a, '+', b, '+', c, '=', result)\n",
    "\n",
    "result =a*b*c\n",
    "print(a, '*', b, '*', c, '=', result)"
   ]
  },
  {
   "cell_type": "code",
   "execution_count": 20,
   "id": "2e67130c-f0df-4e22-91cb-17035bf63098",
   "metadata": {},
   "outputs": [
    {
     "name": "stdin",
     "output_type": "stream",
     "text": [
      "숫자1--> 100\n",
      "숫자2--> 50\n"
     ]
    },
    {
     "name": "stdout",
     "output_type": "stream",
     "text": [
      "100 + 50 = 150\n"
     ]
    }
   ],
   "source": [
    "n1 =int(input(\"숫자1-->\"))\n",
    "n2 =int(input(\"숫자2-->\"))\n",
    "res = n1 + n2\n",
    "print(n1, '+', n2, '=', res)"
   ]
  },
  {
   "cell_type": "markdown",
   "id": "01b279f9-f955-4303-826a-b2cc3d026e61",
   "metadata": {},
   "source": [
    "shift+m : 셀 결합"
   ]
  },
  {
   "cell_type": "code",
   "execution_count": 7,
   "id": "7e0330ad-cf2c-4370-a6a8-3111d902b6f6",
   "metadata": {},
   "outputs": [
    {
     "name": "stdin",
     "output_type": "stream",
     "text": [
      "숫자1 입력 10\n",
      "숫자2 입력 20\n",
      "숫자3 입력 30\n"
     ]
    },
    {
     "data": {
      "text/plain": [
       "('10', '20', '30')"
      ]
     },
     "execution_count": 7,
     "metadata": {},
     "output_type": "execute_result"
    }
   ],
   "source": [
    "a = input(\"숫자1 입력\")\n",
    "b = input(\"숫자2 입력\")\n",
    "c = input(\"숫자3 입력\")\n",
    "a, b, c"
   ]
  },
  {
   "cell_type": "code",
   "execution_count": 9,
   "id": "5a058d79-f32d-4178-9d1e-0545691479a6",
   "metadata": {},
   "outputs": [
    {
     "data": {
      "text/plain": [
       "'102030'"
      ]
     },
     "execution_count": 9,
     "metadata": {},
     "output_type": "execute_result"
    }
   ],
   "source": [
    "a + b + c"
   ]
  },
  {
   "cell_type": "code",
   "execution_count": 11,
   "id": "8097a24f-fb3c-4378-bacf-195d8db0c629",
   "metadata": {},
   "outputs": [
    {
     "data": {
      "text/plain": [
       "60"
      ]
     },
     "execution_count": 11,
     "metadata": {},
     "output_type": "execute_result"
    }
   ],
   "source": [
    "#int() : 문자 숫자 -> 숫자\n",
    "int(a) + int (b) + int(c)"
   ]
  },
  {
   "cell_type": "code",
   "execution_count": 12,
   "id": "c0949832-66d9-4778-9105-0b5358ff55e1",
   "metadata": {},
   "outputs": [
    {
     "data": {
      "text/plain": [
       "6000"
      ]
     },
     "execution_count": 12,
     "metadata": {},
     "output_type": "execute_result"
    }
   ],
   "source": [
    "int(a) * int (b) * int(c)"
   ]
  },
  {
   "cell_type": "code",
   "execution_count": 13,
   "id": "71d78825-9bfe-4e78-9558-35ffc393f0ea",
   "metadata": {},
   "outputs": [
    {
     "data": {
      "text/plain": [
       "(10, 20, 30)"
      ]
     },
     "execution_count": 13,
     "metadata": {},
     "output_type": "execute_result"
    }
   ],
   "source": [
    "a = int(a)\n",
    "b = int(b)\n",
    "c = int(c)\n",
    "a, b, c"
   ]
  },
  {
   "cell_type": "code",
   "execution_count": 20,
   "id": "aac01634-5dc3-409c-a788-a095fe3f1988",
   "metadata": {},
   "outputs": [
    {
     "name": "stdout",
     "output_type": "stream",
     "text": [
      "10+20+30= 60\n",
      "10*20*30= 6000\n"
     ]
    }
   ],
   "source": [
    "print(f\"{a}+{b}+{c}=\", (a+b+c))\n",
    "\n",
    "print(f\"{a}*{b}*{c}=\", (a*b*c))"
   ]
  },
  {
   "cell_type": "code",
   "execution_count": 22,
   "id": "8af98a3b-a10c-4d97-9b1f-942c1a2e42fd",
   "metadata": {},
   "outputs": [
    {
     "ename": "SyntaxError",
     "evalue": "invalid syntax (Temp/ipykernel_656/3770385373.py, line 1)",
     "output_type": "error",
     "traceback": [
      "\u001b[1;36m  File \u001b[1;32m\"C:\\Users\\BIT\\AppData\\Local\\Temp/ipykernel_656/3770385373.py\"\u001b[1;36m, line \u001b[1;32m1\u001b[0m\n\u001b[1;33m    print( a + '+' + b + '+' + c '=' +, (a+b+c))\u001b[0m\n\u001b[1;37m                                 ^\u001b[0m\n\u001b[1;31mSyntaxError\u001b[0m\u001b[1;31m:\u001b[0m invalid syntax\n"
     ]
    }
   ],
   "source": [
    "print( a + '+' + b + '+' + c '=' +, (a+b+c))"
   ]
  },
  {
   "cell_type": "code",
   "execution_count": null,
   "id": "2c3f950d-6ee1-4281-8e5c-0a9c51c09573",
   "metadata": {},
   "outputs": [],
   "source": []
  }
 ],
 "metadata": {
  "kernelspec": {
   "display_name": "Python 3 (ipykernel)",
   "language": "python",
   "name": "python3"
  },
  "language_info": {
   "codemirror_mode": {
    "name": "ipython",
    "version": 3
   },
   "file_extension": ".py",
   "mimetype": "text/x-python",
   "name": "python",
   "nbconvert_exporter": "python",
   "pygments_lexer": "ipython3",
   "version": "3.9.7"
  }
 },
 "nbformat": 4,
 "nbformat_minor": 5
}
