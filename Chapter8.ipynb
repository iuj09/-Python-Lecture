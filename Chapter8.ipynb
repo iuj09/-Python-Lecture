{
 "cells": [
  {
   "cell_type": "markdown",
   "id": "53ffafb3-8203-4f7f-9c7c-3f102bf668f2",
   "metadata": {},
   "source": [
    "# Chapter8 문자열\n",
    "\n",
    " - 불변형\n",
    " - 인덱스 가능\n",
    " - `str` 클래스에서 다양한 문자열 함수"
   ]
  },
  {
   "cell_type": "code",
   "execution_count": 1,
   "id": "fccc1b04-e1bb-4718-9de7-ec34e315903e",
   "metadata": {},
   "outputs": [
    {
     "data": {
      "text/plain": [
       "str"
      ]
     },
     "execution_count": 1,
     "metadata": {},
     "output_type": "execute_result"
    }
   ],
   "source": [
    "type('문자')"
   ]
  },
  {
   "cell_type": "code",
   "execution_count": 2,
   "id": "a6b82b6e-7194-4ffe-8d46-11ce5339655c",
   "metadata": {},
   "outputs": [
    {
     "data": {
      "text/plain": [
       "'안녕하세요 파이썬'"
      ]
     },
     "execution_count": 2,
     "metadata": {},
     "output_type": "execute_result"
    }
   ],
   "source": [
    "s = \"안녕하세요 파이썬\"\n",
    "s"
   ]
  },
  {
   "cell_type": "code",
   "execution_count": 3,
   "id": "a267cbfa-1c19-4666-928b-9b4808c3a474",
   "metadata": {},
   "outputs": [
    {
     "data": {
      "text/plain": [
       "9"
      ]
     },
     "execution_count": 3,
     "metadata": {},
     "output_type": "execute_result"
    }
   ],
   "source": [
    "len(s)"
   ]
  },
  {
   "cell_type": "code",
   "execution_count": 4,
   "id": "7977ff29-4f35-4c88-9841-309ba68d5bf3",
   "metadata": {},
   "outputs": [
    {
     "data": {
      "text/plain": [
       "('안', '썬')"
      ]
     },
     "execution_count": 4,
     "metadata": {},
     "output_type": "execute_result"
    }
   ],
   "source": [
    "s[0], s[8]"
   ]
  },
  {
   "cell_type": "code",
   "execution_count": 5,
   "id": "6089604d-133c-4a65-b7ec-481302a144b2",
   "metadata": {},
   "outputs": [
    {
     "data": {
      "text/plain": [
       "' 파이썬'"
      ]
     },
     "execution_count": 5,
     "metadata": {},
     "output_type": "execute_result"
    }
   ],
   "source": [
    "s[-4:]"
   ]
  },
  {
   "cell_type": "markdown",
   "id": "bee072ad-ab12-41dd-8bd6-beab947503c8",
   "metadata": {},
   "source": [
    "**문자열 결합**"
   ]
  },
  {
   "cell_type": "code",
   "execution_count": 6,
   "id": "9e5fbb40-41cf-4968-9862-359f68a8a5a8",
   "metadata": {},
   "outputs": [
    {
     "data": {
      "text/plain": [
       "'안녕파이썬'"
      ]
     },
     "execution_count": 6,
     "metadata": {},
     "output_type": "execute_result"
    }
   ],
   "source": [
    "'안녕' + '파이썬'"
   ]
  },
  {
   "cell_type": "code",
   "execution_count": 7,
   "id": "d4205cc2-b2d6-4660-b350-cfeaa01c2cc1",
   "metadata": {},
   "outputs": [
    {
     "ename": "TypeError",
     "evalue": "unsupported operand type(s) for -: 'str' and 'str'",
     "output_type": "error",
     "traceback": [
      "\u001b[1;31m---------------------------------------------------------------------------\u001b[0m",
      "\u001b[1;31mTypeError\u001b[0m                                 Traceback (most recent call last)",
      "\u001b[1;32m~\\AppData\\Local\\Temp/ipykernel_4052/3033357350.py\u001b[0m in \u001b[0;36m<module>\u001b[1;34m\u001b[0m\n\u001b[1;32m----> 1\u001b[1;33m \u001b[1;34m'안녕'\u001b[0m \u001b[1;33m-\u001b[0m \u001b[1;34m'파이썬'\u001b[0m\u001b[1;33m\u001b[0m\u001b[1;33m\u001b[0m\u001b[0m\n\u001b[0m",
      "\u001b[1;31mTypeError\u001b[0m: unsupported operand type(s) for -: 'str' and 'str'"
     ]
    }
   ],
   "source": [
    "'안녕' - '파이썬'"
   ]
  },
  {
   "cell_type": "code",
   "execution_count": 8,
   "id": "d2bcd16e-fd8c-4d40-a6f8-ed4ebaeddc07",
   "metadata": {},
   "outputs": [
    {
     "data": {
      "text/plain": [
       "'안녕안녕안녕'"
      ]
     },
     "execution_count": 8,
     "metadata": {},
     "output_type": "execute_result"
    }
   ],
   "source": [
    "'안녕' * 3"
   ]
  },
  {
   "cell_type": "code",
   "execution_count": 9,
   "id": "871361c6-a1f9-4737-999c-9e0cc5188d1d",
   "metadata": {},
   "outputs": [
    {
     "ename": "TypeError",
     "evalue": "can only concatenate str (not \"int\") to str",
     "output_type": "error",
     "traceback": [
      "\u001b[1;31m---------------------------------------------------------------------------\u001b[0m",
      "\u001b[1;31mTypeError\u001b[0m                                 Traceback (most recent call last)",
      "\u001b[1;32m~\\AppData\\Local\\Temp/ipykernel_4052/3056633407.py\u001b[0m in \u001b[0;36m<module>\u001b[1;34m\u001b[0m\n\u001b[1;32m----> 1\u001b[1;33m \u001b[1;34m'안녕'\u001b[0m \u001b[1;33m+\u001b[0m \u001b[1;36m2\u001b[0m\u001b[1;33m\u001b[0m\u001b[1;33m\u001b[0m\u001b[0m\n\u001b[0m",
      "\u001b[1;31mTypeError\u001b[0m: can only concatenate str (not \"int\") to str"
     ]
    }
   ],
   "source": [
    "'안녕' + 2"
   ]
  },
  {
   "cell_type": "code",
   "execution_count": 10,
   "id": "282c059b-9bf7-4e0d-8a2d-3a0fb0da7325",
   "metadata": {},
   "outputs": [
    {
     "data": {
      "text/plain": [
       "'안녕2'"
      ]
     },
     "execution_count": 10,
     "metadata": {},
     "output_type": "execute_result"
    }
   ],
   "source": [
    "'안녕' + str(2)"
   ]
  },
  {
   "cell_type": "code",
   "execution_count": 11,
   "id": "4f27f93f-5050-4c7a-8890-973e9a5ac609",
   "metadata": {},
   "outputs": [
    {
     "name": "stdin",
     "output_type": "stream",
     "text": [
      "문자열을 입력하세요 :  안녕하세요 파이썬\n"
     ]
    },
    {
     "name": "stdout",
     "output_type": "stream",
     "text": [
      "내용을 거꾸로 출력 --> 썬이파 요세하녕안\n"
     ]
    }
   ],
   "source": [
    "## 변수 선언 부분 ##\n",
    "inStr, outStr = \"\", \"\"\n",
    "count, i = 0, 0\n",
    "\n",
    "#메인 코드 부분 ##\n",
    "inStr = input(\"문자열을 입력하세요 : \")\n",
    "count = len(inStr) # 입력한 값의 문자열 개수를 셈\n",
    "\n",
    "for i in range(0, count) : # count = 마지막 index 값\n",
    "    outStr += inStr[count - (i + 1)] \n",
    "    \n",
    "print(\"내용을 거꾸로 출력 --> %s\" % outStr)"
   ]
  },
  {
   "cell_type": "markdown",
   "id": "458cc3c4-9fe3-45b6-994e-882383e9e04a",
   "metadata": {},
   "source": [
    "## 객체\n",
    "\n",
    "객체(Object)지향 프로그램\n",
    "\n",
    "객체란?\n",
    "- 이름\n",
    "- 속성 : 상태 값 / 현재의 상태 유지 -- 변수\n",
    "- 행위 : 상태를 변경할 수 있는 함수/매서드"
   ]
  },
  {
   "cell_type": "code",
   "execution_count": null,
   "id": "1c10cdb2-646c-4fcb-ba2f-9149ca32f744",
   "metadata": {},
   "outputs": [],
   "source": [
    "import random # 모듈"
   ]
  },
  {
   "cell_type": "code",
   "execution_count": null,
   "id": "5bd34d93-84d7-476b-afde-ec919363d646",
   "metadata": {},
   "outputs": [],
   "source": [
    "# 모듈의 이름 -> 객체\n",
    "# dot로 접근 : 속성, 함수(매서드)\n",
    "random.random()"
   ]
  },
  {
   "cell_type": "markdown",
   "id": "d85a5b8e-4cc4-4190-b347-8f816bc044bc",
   "metadata": {},
   "source": [
    "### 문자열 클래스"
   ]
  },
  {
   "cell_type": "code",
   "execution_count": 5,
   "id": "d66f7223-ffed-4338-9a39-5e9c74ea3d45",
   "metadata": {},
   "outputs": [
    {
     "data": {
      "text/plain": [
       "'Hello'"
      ]
     },
     "execution_count": 5,
     "metadata": {},
     "output_type": "execute_result"
    }
   ],
   "source": [
    "\"Hello\""
   ]
  },
  {
   "cell_type": "code",
   "execution_count": 3,
   "id": "a9500c40-e0a4-4b67-ad3e-ddeb97061103",
   "metadata": {},
   "outputs": [
    {
     "data": {
      "text/plain": [
       "2422767381808"
      ]
     },
     "execution_count": 3,
     "metadata": {},
     "output_type": "execute_result"
    }
   ],
   "source": [
    "id(\"Hello\")"
   ]
  },
  {
   "cell_type": "code",
   "execution_count": 4,
   "id": "b890a2b7-6ede-48e8-b5ab-938a85ec2f92",
   "metadata": {},
   "outputs": [
    {
     "data": {
      "text/plain": [
       "2422767381808"
      ]
     },
     "execution_count": 4,
     "metadata": {},
     "output_type": "execute_result"
    }
   ],
   "source": [
    "_"
   ]
  },
  {
   "cell_type": "code",
   "execution_count": 6,
   "id": "9f88a78b-74f5-480f-8c1b-49676589e156",
   "metadata": {},
   "outputs": [
    {
     "data": {
      "text/plain": [
       "'Hello'"
      ]
     },
     "execution_count": 6,
     "metadata": {},
     "output_type": "execute_result"
    }
   ],
   "source": [
    "\"Hello\""
   ]
  },
  {
   "cell_type": "code",
   "execution_count": 8,
   "id": "a4753a19-5b3e-4372-80a5-ed24ef69ae06",
   "metadata": {},
   "outputs": [
    {
     "data": {
      "text/plain": [
       "str"
      ]
     },
     "execution_count": 8,
     "metadata": {},
     "output_type": "execute_result"
    }
   ],
   "source": [
    "type('h')"
   ]
  },
  {
   "cell_type": "code",
   "execution_count": 9,
   "id": "adfff7f3-08d6-4c66-a02b-953c7d1a84f1",
   "metadata": {},
   "outputs": [],
   "source": [
    "ss = 'Hello Python'"
   ]
  },
  {
   "cell_type": "code",
   "execution_count": 10,
   "id": "be093a63-18ef-4f7f-9146-5044fe4c50e3",
   "metadata": {},
   "outputs": [
    {
     "data": {
      "text/plain": [
       "('HELLO PYTHON', 'hello python')"
      ]
     },
     "execution_count": 10,
     "metadata": {},
     "output_type": "execute_result"
    }
   ],
   "source": [
    "ss.upper(), ss.lower()"
   ]
  },
  {
   "cell_type": "code",
   "execution_count": 11,
   "id": "b84f6447-80cf-4862-9c5d-cefd38e4cd02",
   "metadata": {},
   "outputs": [
    {
     "data": {
      "text/plain": [
       "\u001b[1;31mSignature:\u001b[0m \u001b[0mss\u001b[0m\u001b[1;33m.\u001b[0m\u001b[0mswapcase\u001b[0m\u001b[1;33m(\u001b[0m\u001b[1;33m)\u001b[0m\u001b[1;33m\u001b[0m\u001b[1;33m\u001b[0m\u001b[0m\n",
       "\u001b[1;31mDocstring:\u001b[0m Convert uppercase characters to lowercase and lowercase characters to uppercase.\n",
       "\u001b[1;31mType:\u001b[0m      builtin_function_or_method\n"
      ]
     },
     "metadata": {},
     "output_type": "display_data"
    }
   ],
   "source": [
    "ss.swapcase?"
   ]
  },
  {
   "cell_type": "code",
   "execution_count": 12,
   "id": "343884f7-6948-404f-9ecd-12e58be9cc74",
   "metadata": {},
   "outputs": [
    {
     "data": {
      "text/plain": [
       "'hELLO pYTHON'"
      ]
     },
     "execution_count": 12,
     "metadata": {},
     "output_type": "execute_result"
    }
   ],
   "source": [
    "ss.swapcase()"
   ]
  },
  {
   "cell_type": "code",
   "execution_count": 13,
   "id": "4be18ea7-3f38-4398-ac06-79bb01aa3f39",
   "metadata": {},
   "outputs": [
    {
     "data": {
      "text/plain": [
       "\u001b[1;31mSignature:\u001b[0m \u001b[0mss\u001b[0m\u001b[1;33m.\u001b[0m\u001b[0mtitle\u001b[0m\u001b[1;33m(\u001b[0m\u001b[1;33m)\u001b[0m\u001b[1;33m\u001b[0m\u001b[1;33m\u001b[0m\u001b[0m\n",
       "\u001b[1;31mDocstring:\u001b[0m\n",
       "Return a version of the string where each word is titlecased.\n",
       "\n",
       "More specifically, words start with uppercased characters and all remaining\n",
       "cased characters have lower case.\n",
       "\u001b[1;31mType:\u001b[0m      builtin_function_or_method\n"
      ]
     },
     "metadata": {},
     "output_type": "display_data"
    }
   ],
   "source": [
    "ss.title?"
   ]
  },
  {
   "cell_type": "code",
   "execution_count": 14,
   "id": "252894fc-7cc0-4f1c-b28f-90be1ee9c715",
   "metadata": {},
   "outputs": [],
   "source": [
    "ss ='파이썬 공부는 즐겁습니다. 물론 공부가 재미있지는 않죠!'"
   ]
  },
  {
   "cell_type": "code",
   "execution_count": 15,
   "id": "9550b220-7678-4186-8e42-4b52d815178e",
   "metadata": {},
   "outputs": [
    {
     "data": {
      "text/plain": [
       "31"
      ]
     },
     "execution_count": 15,
     "metadata": {},
     "output_type": "execute_result"
    }
   ],
   "source": [
    "len(ss)"
   ]
  },
  {
   "cell_type": "code",
   "execution_count": 16,
   "id": "34fc97cf-2a9b-4b32-8676-81039951f444",
   "metadata": {},
   "outputs": [
    {
     "data": {
      "text/plain": [
       "2"
      ]
     },
     "execution_count": 16,
     "metadata": {},
     "output_type": "execute_result"
    }
   ],
   "source": [
    "ss.count('공부')"
   ]
  },
  {
   "cell_type": "code",
   "execution_count": 27,
   "id": "42eeca27-062e-463a-8ffe-4d2e4f45899d",
   "metadata": {},
   "outputs": [
    {
     "data": {
      "text/plain": [
       "4"
      ]
     },
     "execution_count": 27,
     "metadata": {},
     "output_type": "execute_result"
    }
   ],
   "source": [
    "ss.find('공부') #가장 앞의 index 값을 찾음"
   ]
  },
  {
   "cell_type": "code",
   "execution_count": 28,
   "id": "337836a0-9298-4283-ae64-3e51f64613d9",
   "metadata": {},
   "outputs": [
    {
     "data": {
      "text/plain": [
       "18"
      ]
     },
     "execution_count": 28,
     "metadata": {},
     "output_type": "execute_result"
    }
   ],
   "source": [
    "ss.rfind('공부') # 가장 뒤의 index 값을 찾음"
   ]
  },
  {
   "cell_type": "code",
   "execution_count": 29,
   "id": "6333832b-8a42-40da-8b7e-7fbdcb25870d",
   "metadata": {},
   "outputs": [
    {
     "data": {
      "text/plain": [
       "18"
      ]
     },
     "execution_count": 29,
     "metadata": {},
     "output_type": "execute_result"
    }
   ],
   "source": [
    "ss.find('공부', 5) # 5 이후에서 index 값을 찾음"
   ]
  },
  {
   "cell_type": "code",
   "execution_count": 25,
   "id": "1f1b301c-5dc9-4dce-808d-f5eddddc065f",
   "metadata": {},
   "outputs": [
    {
     "data": {
      "text/plain": [
       "'공부는 즐겁습니다. 물론 공부가 재미있지는 않죠!'"
      ]
     },
     "execution_count": 25,
     "metadata": {},
     "output_type": "execute_result"
    }
   ],
   "source": [
    "ss[ss.find('공부'):]"
   ]
  },
  {
   "cell_type": "code",
   "execution_count": 26,
   "id": "b8d6af68-b48c-437f-b4bc-e037194f73ce",
   "metadata": {},
   "outputs": [
    {
     "data": {
      "text/plain": [
       "'공부는 즐겁습니다.'"
      ]
     },
     "execution_count": 26,
     "metadata": {},
     "output_type": "execute_result"
    }
   ],
   "source": [
    "ss[ss.find('공부'):ss.rfind('물론')-1]"
   ]
  },
  {
   "cell_type": "code",
   "execution_count": 30,
   "id": "0030c103-5bd0-457c-b9fa-4957a02c2ba6",
   "metadata": {},
   "outputs": [
    {
     "data": {
      "text/plain": [
       "4"
      ]
     },
     "execution_count": 30,
     "metadata": {},
     "output_type": "execute_result"
    }
   ],
   "source": [
    "ss.index('공부')"
   ]
  },
  {
   "cell_type": "code",
   "execution_count": 45,
   "id": "1e0b13fe-2b39-4399-8d85-fc42c556b189",
   "metadata": {},
   "outputs": [
    {
     "data": {
      "text/plain": [
       "\u001b[1;31mDocstring:\u001b[0m\n",
       "S.index(sub[, start[, end]]) -> int\n",
       "\n",
       "Return the lowest index in S where substring sub is found,\n",
       "such that sub is contained within S[start:end].  Optional\n",
       "arguments start and end are interpreted as in slice notation.\n",
       "\n",
       "Raises ValueError when the substring is not found.\n",
       "\u001b[1;31mType:\u001b[0m      builtin_function_or_method\n"
      ]
     },
     "metadata": {},
     "output_type": "display_data"
    }
   ],
   "source": [
    "ss.index?"
   ]
  },
  {
   "cell_type": "code",
   "execution_count": 46,
   "id": "dd348872-246e-4a68-9607-036092d93477",
   "metadata": {},
   "outputs": [
    {
     "data": {
      "text/plain": [
       "\u001b[1;31mDocstring:\u001b[0m\n",
       "S.find(sub[, start[, end]]) -> int\n",
       "\n",
       "Return the lowest index in S where substring sub is found,\n",
       "such that sub is contained within S[start:end].  Optional\n",
       "arguments start and end are interpreted as in slice notation.\n",
       "\n",
       "Return -1 on failure.\n",
       "\u001b[1;31mType:\u001b[0m      builtin_function_or_method\n"
      ]
     },
     "metadata": {},
     "output_type": "display_data"
    }
   ],
   "source": [
    "ss.find?"
   ]
  },
  {
   "cell_type": "code",
   "execution_count": 47,
   "id": "25e22ea7-fc0d-4cc0-a0e6-2a0761ec79b6",
   "metadata": {},
   "outputs": [
    {
     "ename": "ValueError",
     "evalue": "substring not found",
     "output_type": "error",
     "traceback": [
      "\u001b[1;31m---------------------------------------------------------------------------\u001b[0m",
      "\u001b[1;31mValueError\u001b[0m                                Traceback (most recent call last)",
      "\u001b[1;32m~\\AppData\\Local\\Temp/ipykernel_3668/1852508587.py\u001b[0m in \u001b[0;36m<module>\u001b[1;34m\u001b[0m\n\u001b[1;32m----> 1\u001b[1;33m \u001b[0mss\u001b[0m\u001b[1;33m.\u001b[0m\u001b[0mindex\u001b[0m\u001b[1;33m(\u001b[0m\u001b[1;34m'킹콩'\u001b[0m\u001b[1;33m)\u001b[0m \u001b[1;31m# error를 발생시킴\u001b[0m\u001b[1;33m\u001b[0m\u001b[1;33m\u001b[0m\u001b[0m\n\u001b[0m",
      "\u001b[1;31mValueError\u001b[0m: substring not found"
     ]
    }
   ],
   "source": [
    "ss.index('킹콩') # error를 발생시킴"
   ]
  },
  {
   "cell_type": "code",
   "execution_count": 48,
   "id": "49f77454-2eac-4c72-aa55-81e0907bdf47",
   "metadata": {},
   "outputs": [
    {
     "data": {
      "text/plain": [
       "-1"
      ]
     },
     "execution_count": 48,
     "metadata": {},
     "output_type": "execute_result"
    }
   ],
   "source": [
    "ss.find('킹콩') # 에러가 있을 때 -1을 반환"
   ]
  },
  {
   "cell_type": "code",
   "execution_count": 49,
   "id": "a510326b-ee20-4cdf-8ad9-722ce7dec96a",
   "metadata": {},
   "outputs": [
    {
     "data": {
      "text/plain": [
       "True"
      ]
     },
     "execution_count": 49,
     "metadata": {},
     "output_type": "execute_result"
    }
   ],
   "source": [
    "ss.startswith('파이썬') # 시작값을 입력했을 때 True 출력"
   ]
  },
  {
   "cell_type": "code",
   "execution_count": 50,
   "id": "3579ca99-765d-4a70-93a1-b6f91f55f7e8",
   "metadata": {},
   "outputs": [
    {
     "data": {
      "text/plain": [
       "True"
      ]
     },
     "execution_count": 50,
     "metadata": {},
     "output_type": "execute_result"
    }
   ],
   "source": [
    "ss.endswith('!') # 끝값을 입력했을 때 True 출력"
   ]
  },
  {
   "cell_type": "code",
   "execution_count": 52,
   "id": "5688989b-de99-4e1e-9890-3ad3097affa5",
   "metadata": {},
   "outputs": [
    {
     "name": "stdin",
     "output_type": "stream",
     "text": [
      "입력 문자열 ==>  파이썬 열공 중~~\n"
     ]
    },
    {
     "name": "stdout",
     "output_type": "stream",
     "text": [
      "출력 문자열 ==> (파이썬 열공 중~~)"
     ]
    }
   ],
   "source": [
    "ss = input(\"입력 문자열 ==> \")\n",
    "print(\"출력 문자열 ==> \", end='')\n",
    "\n",
    "if ss.startswith('(') == False :  # 시작값이 '('로 시작하지 않는다면\n",
    "    print(\"(\", end='')            # '('를 출력함\n",
    "    \n",
    "print(ss, end='')\n",
    "\n",
    "if ss.endswith(')') == False :   # 끝값이 '('로 시작하지 않는다면\n",
    "    print(\")\", end='')           # ')'를 출력함"
   ]
  },
  {
   "attachments": {
    "58d9e3a3-2f08-424a-8a96-4c1913c05eb2.png": {
     "image/png": "[encoded data removed]"
    },
    "6cb1915b-0fbc-40ca-8ca1-7760cd9b5798.png": {
     "image/png": "[encoded data removed]"
    }
   },
   "cell_type": "markdown",
   "id": "d6250284-7e21-4b27-b06d-fd2c359f63d7",
   "metadata": {},
   "source": [
    "### Strip() : 공백 삭제/변경\n",
    "\n",
    "![image.png](attachment:6cb1915b-0fbc-40ca-8ca1-7760cd9b5798.png)![image.png](attachment:58d9e3a3-2f08-424a-8a96-4c1913c05eb2.png)"
   ]
  },
  {
   "cell_type": "code",
   "execution_count": 54,
   "id": "b9dafc8f-bce8-401c-8c12-6a640e6ddd67",
   "metadata": {},
   "outputs": [],
   "source": [
    "ss = ' 파이썬 '"
   ]
  },
  {
   "cell_type": "code",
   "execution_count": 56,
   "id": "6e5d2f62-c252-4c36-abcb-aa4901a73f2a",
   "metadata": {},
   "outputs": [
    {
     "data": {
      "text/plain": [
       "'파이썬'"
      ]
     },
     "execution_count": 56,
     "metadata": {},
     "output_type": "execute_result"
    }
   ],
   "source": [
    "ss.strip() # 공백 제거"
   ]
  },
  {
   "cell_type": "code",
   "execution_count": 57,
   "id": "b3796356-1f1b-4960-8874-bc8d55d5832c",
   "metadata": {},
   "outputs": [
    {
     "data": {
      "text/plain": [
       "' 파이썬'"
      ]
     },
     "execution_count": 57,
     "metadata": {},
     "output_type": "execute_result"
    }
   ],
   "source": [
    "ss.rstrip() # 우측 공백 제거"
   ]
  },
  {
   "cell_type": "code",
   "execution_count": 58,
   "id": "40f505e3-9db3-4e2c-b597-eea0fd67372b",
   "metadata": {},
   "outputs": [
    {
     "data": {
      "text/plain": [
       "'파이썬 '"
      ]
     },
     "execution_count": 58,
     "metadata": {},
     "output_type": "execute_result"
    }
   ],
   "source": [
    "ss.lstrip() # 좌측 공백 제거"
   ]
  },
  {
   "cell_type": "code",
   "execution_count": 59,
   "id": "f79079dc-49ec-4c0a-a5d8-710d00d93a0b",
   "metadata": {},
   "outputs": [
    {
     "name": "stdout",
     "output_type": "stream",
     "text": [
      "원래 문자열 ==> [  한글 Python 프로그래밍  ]\n",
      "공백 삭제 문자열 ==> [한글Python프로그래밍]\n"
     ]
    }
   ],
   "source": [
    "## 변수 선언 부분 ##\n",
    "inStr = \"  한글 Python 프로그래밍  \"\n",
    "outStr = \"\"\n",
    "\n",
    "## 메인 코드 부분 ##\n",
    "for i in range(0, len(inStr)) :    #\n",
    "    if inStr[i] != ' ' :           #\n",
    "        outStr += inStr[i]         #\n",
    "        \n",
    "print(\"원래 문자열 ==> \" + '[' + inStr + ']')       #\n",
    "print(\"공백 삭제 문자열 ==> \" + '[' + outStr + ']') #"
   ]
  },
  {
   "cell_type": "code",
   "execution_count": 60,
   "id": "589f2996-d633-4e0b-a5b4-3a694bc9e04d",
   "metadata": {},
   "outputs": [],
   "source": [
    "ss = '파이썬 프로그래밍'"
   ]
  },
  {
   "cell_type": "code",
   "execution_count": 62,
   "id": "41472b9a-921b-4799-904d-09566d0021ef",
   "metadata": {},
   "outputs": [
    {
     "data": {
      "text/plain": [
       "'Python 프로그래밍'"
      ]
     },
     "execution_count": 62,
     "metadata": {},
     "output_type": "execute_result"
    }
   ],
   "source": [
    "ss.replace('파이썬', 'Python')  # replace(기존값, 변경할 값)"
   ]
  },
  {
   "cell_type": "code",
   "execution_count": 63,
   "id": "34cff85d-ca7f-42d3-8637-3551e424a92f",
   "metadata": {},
   "outputs": [],
   "source": [
    "# split\n",
    "ss = 'Python을 공부 하느 는 거 은 재밌어'"
   ]
  },
  {
   "cell_type": "code",
   "execution_count": 65,
   "id": "13483233-34fd-46c7-9688-86862f9b0421",
   "metadata": {},
   "outputs": [
    {
     "data": {
      "text/plain": [
       "['Python을', '공부', '하느', '는', '거', '은', '재밌어']"
      ]
     },
     "execution_count": 65,
     "metadata": {},
     "output_type": "execute_result"
    }
   ],
   "source": [
    "ss.split() # 구분자를 기준으로 문자열을 구분하여 리스트로 반환 (기본구분자 : ' ')"
   ]
  },
  {
   "cell_type": "code",
   "execution_count": 66,
   "id": "bf137787-e28a-4ae8-b886-775ddf65b660",
   "metadata": {},
   "outputs": [],
   "source": [
    "ss = 'a:b:c:d;e;f'"
   ]
  },
  {
   "cell_type": "code",
   "execution_count": 67,
   "id": "c98e96e7-8b6e-4614-8c65-ecad4649d837",
   "metadata": {},
   "outputs": [
    {
     "data": {
      "text/plain": [
       "['a', 'b', 'c', 'd;e;f']"
      ]
     },
     "execution_count": 67,
     "metadata": {},
     "output_type": "execute_result"
    }
   ],
   "source": [
    "ss.split(sep=':')"
   ]
  },
  {
   "cell_type": "code",
   "execution_count": 68,
   "id": "16e51ecc-606b-4d67-aa25-1e18a07d20cb",
   "metadata": {},
   "outputs": [
    {
     "data": {
      "text/plain": [
       "['a', 'b', 'c', 'd;e;f']"
      ]
     },
     "execution_count": 68,
     "metadata": {},
     "output_type": "execute_result"
    }
   ],
   "source": [
    "ss.split(':')"
   ]
  },
  {
   "cell_type": "code",
   "execution_count": 72,
   "id": "d360c79f-7d2a-4c47-a623-53108e60b931",
   "metadata": {},
   "outputs": [
    {
     "data": {
      "text/plain": [
       "['안녕하세요.', '파이썬 재밌어요.']"
      ]
     },
     "execution_count": 72,
     "metadata": {},
     "output_type": "execute_result"
    }
   ],
   "source": [
    "ss = \"\"\"안녕하세요.\n",
    "파이썬 재밌어요.\"\"\"\n",
    "ss.splitlines()     # 줄바꿈을 기준으로 문자열을 구분하여 리스트로 반환"
   ]
  },
  {
   "cell_type": "code",
   "execution_count": 73,
   "id": "26cf6a88-1e2c-4194-b2b7-76256c056545",
   "metadata": {},
   "outputs": [
    {
     "data": {
      "text/plain": [
       "['안녕하세요.', '파이썬 재밌어요.']"
      ]
     },
     "execution_count": 73,
     "metadata": {},
     "output_type": "execute_result"
    }
   ],
   "source": [
    "ss.split(sep='\\n')"
   ]
  },
  {
   "cell_type": "code",
   "execution_count": 75,
   "id": "7c81e678-2a76-4f44-bcb7-e1e0497538a4",
   "metadata": {},
   "outputs": [],
   "source": [
    "ss = '%'"
   ]
  },
  {
   "cell_type": "code",
   "execution_count": 77,
   "id": "bcc7cfd6-1477-4201-ab84-8c1bf602f81d",
   "metadata": {},
   "outputs": [
    {
     "data": {
      "text/plain": [
       "'파%이%썬% %재%밌%어%요'"
      ]
     },
     "execution_count": 77,
     "metadata": {},
     "output_type": "execute_result"
    }
   ],
   "source": [
    "ss.join('파이썬 재밌어요') # 문자열 결합"
   ]
  },
  {
   "cell_type": "code",
   "execution_count": 78,
   "id": "993d87c3-7978-4b2f-a346-cb9de2caf7e6",
   "metadata": {},
   "outputs": [
    {
     "name": "stdin",
     "output_type": "stream",
     "text": [
      "날짜(연/월/일) 입력 ==>  2019/12/31\n"
     ]
    },
    {
     "name": "stdout",
     "output_type": "stream",
     "text": [
      "입력한 날짜의 10년 후 ==> 2029년12월31일\n"
     ]
    }
   ],
   "source": [
    "ss = input(\"날짜(연/월/일) 입력 ==> \")\n",
    "\n",
    "ssList = ss.split('/')\n",
    "\n",
    "print(\"입력한 날짜의 10년 후 ==> \", end = '')\n",
    "print(str(int(ssList[0]) + 10) + \"년\", end = '')\n",
    "print(ssList[1] + \"월\", end = '')\n",
    "print(ssList[2] + \"일\")"
   ]
  },
  {
   "cell_type": "markdown",
   "id": "c892d8a6-e42c-48b8-bf38-e50b59e7f321",
   "metadata": {},
   "source": [
    "**map()**"
   ]
  },
  {
   "cell_type": "code",
   "execution_count": 81,
   "id": "7b669196-84f5-4d7c-9f1f-1b8b3d751da3",
   "metadata": {},
   "outputs": [
    {
     "data": {
      "text/plain": [
       "['1', '3', '4', '5']"
      ]
     },
     "execution_count": 81,
     "metadata": {},
     "output_type": "execute_result"
    }
   ],
   "source": [
    "list(map(str, [1, 3, 4, 5]))  # map(함수명, 리스트명)"
   ]
  },
  {
   "cell_type": "code",
   "execution_count": 82,
   "id": "88514196-db81-48b7-83a1-8f9d38b1dae9",
   "metadata": {},
   "outputs": [
    {
     "data": {
      "text/plain": [
       "[12.0, 3.0, 4.0, 4.0]"
      ]
     },
     "execution_count": 82,
     "metadata": {},
     "output_type": "execute_result"
    }
   ],
   "source": [
    "list(map(float, [12, 3, 4, 4]))"
   ]
  },
  {
   "cell_type": "code",
   "execution_count": 83,
   "id": "1ac953b4-44ed-48b6-bb62-3211d2aff275",
   "metadata": {},
   "outputs": [
    {
     "data": {
      "text/plain": [
       "'1'"
      ]
     },
     "execution_count": 83,
     "metadata": {},
     "output_type": "execute_result"
    }
   ],
   "source": [
    "str(1)"
   ]
  },
  {
   "cell_type": "code",
   "execution_count": 84,
   "id": "0d6664f1-2dd2-4811-a806-eebff2ce45a0",
   "metadata": {},
   "outputs": [],
   "source": [
    "ss = '파이썬'"
   ]
  },
  {
   "cell_type": "code",
   "execution_count": 85,
   "id": "430ba9b0-df0d-459d-b3b8-dba63926935a",
   "metadata": {},
   "outputs": [
    {
     "data": {
      "text/plain": [
       "'   파이썬    '"
      ]
     },
     "execution_count": 85,
     "metadata": {},
     "output_type": "execute_result"
    }
   ],
   "source": [
    "ss.center(10)"
   ]
  },
  {
   "cell_type": "code",
   "execution_count": 86,
   "id": "3df9ace9-a3cb-4bc5-97e8-fdbfc1e5de11",
   "metadata": {},
   "outputs": [
    {
     "data": {
      "text/plain": [
       "'---파이썬----'"
      ]
     },
     "execution_count": 86,
     "metadata": {},
     "output_type": "execute_result"
    }
   ],
   "source": [
    "ss.center(10, '-')"
   ]
  },
  {
   "cell_type": "code",
   "execution_count": 87,
   "id": "6cd86e6f-b995-4d0a-b6af-647534fef9c8",
   "metadata": {},
   "outputs": [
    {
     "data": {
      "text/plain": [
       "'파이썬       '"
      ]
     },
     "execution_count": 87,
     "metadata": {},
     "output_type": "execute_result"
    }
   ],
   "source": [
    "ss.ljust(10)"
   ]
  },
  {
   "cell_type": "code",
   "execution_count": 88,
   "id": "4711e719-c570-4d4c-8eba-7750f423f1b7",
   "metadata": {},
   "outputs": [
    {
     "data": {
      "text/plain": [
       "'       파이썬'"
      ]
     },
     "execution_count": 88,
     "metadata": {},
     "output_type": "execute_result"
    }
   ],
   "source": [
    "ss.rjust(10)"
   ]
  },
  {
   "cell_type": "code",
   "execution_count": 89,
   "id": "84cedb08-619f-4958-859d-e9fa4f7315a1",
   "metadata": {},
   "outputs": [
    {
     "data": {
      "text/plain": [
       "'0000000파이썬'"
      ]
     },
     "execution_count": 89,
     "metadata": {},
     "output_type": "execute_result"
    }
   ],
   "source": [
    "ss.zfill(10)"
   ]
  },
  {
   "cell_type": "code",
   "execution_count": 96,
   "id": "09c02074-5deb-4440-b800-51b7ea498339",
   "metadata": {},
   "outputs": [
    {
     "data": {
      "text/plain": [
       "True"
      ]
     },
     "execution_count": 96,
     "metadata": {},
     "output_type": "execute_result"
    }
   ],
   "source": [
    "'1234'.isdigit() # 숫자로만 구성되었으면 True"
   ]
  },
  {
   "cell_type": "code",
   "execution_count": 97,
   "id": "43113f2a-e1e2-4cd4-a40d-624e83768145",
   "metadata": {},
   "outputs": [
    {
     "data": {
      "text/plain": [
       "False"
      ]
     },
     "execution_count": 97,
     "metadata": {},
     "output_type": "execute_result"
    }
   ],
   "source": [
    "'파이썬'.isdigit()"
   ]
  },
  {
   "cell_type": "code",
   "execution_count": 98,
   "id": "c19e0b77-dd6c-4b77-b72f-de9237adb7e3",
   "metadata": {},
   "outputs": [
    {
     "data": {
      "text/plain": [
       "True"
      ]
     },
     "execution_count": 98,
     "metadata": {},
     "output_type": "execute_result"
    }
   ],
   "source": [
    "'파이썬'.isalpha() # 글자로만(한글, 영어) 구성되었으면 True"
   ]
  },
  {
   "cell_type": "code",
   "execution_count": 99,
   "id": "11797ad8-0e4a-459d-ac6a-352383090c92",
   "metadata": {},
   "outputs": [
    {
     "data": {
      "text/plain": [
       "True"
      ]
     },
     "execution_count": 99,
     "metadata": {},
     "output_type": "execute_result"
    }
   ],
   "source": [
    "'파이썬'.isalnum() # isalpha + isdigit"
   ]
  },
  {
   "cell_type": "markdown",
   "id": "497952bd-bc1c-4ef2-a32d-6d0ba97eb7f4",
   "metadata": {},
   "source": [
    "ord() 함수"
   ]
  },
  {
   "cell_type": "code",
   "execution_count": 100,
   "id": "aed0d25e-030d-4251-af27-17682c770722",
   "metadata": {},
   "outputs": [
    {
     "data": {
      "text/plain": [
       "(65, 97)"
      ]
     },
     "execution_count": 100,
     "metadata": {},
     "output_type": "execute_result"
    }
   ],
   "source": [
    "ord('A'), ord('a')"
   ]
  },
  {
   "cell_type": "code",
   "execution_count": 101,
   "id": "70116e55-4efb-43b0-8d52-437b75c4fefc",
   "metadata": {},
   "outputs": [
    {
     "data": {
      "text/plain": [
       "(12593, 55147)"
      ]
     },
     "execution_count": 101,
     "metadata": {},
     "output_type": "execute_result"
    }
   ],
   "source": [
    "ord('ㄱ'), ord('흫')"
   ]
  },
  {
   "cell_type": "markdown",
   "id": "a7520302-962f-4788-94f7-1746ef67cb37",
   "metadata": {},
   "source": [
    "### 250p 연습문제 11번"
   ]
  },
  {
   "cell_type": "code",
   "execution_count": 106,
   "id": "234ef4c4-bee9-4a7e-9849-b16c51d51062",
   "metadata": {},
   "outputs": [
    {
     "name": "stdin",
     "output_type": "stream",
     "text": [
      "문자열 --> 파이썬 ### CookBoook 1234 열공중\n"
     ]
    },
    {
     "name": "stdout",
     "output_type": "stream",
     "text": [
      "한글/영문자만 남김 --> 파이썬CookBoook열공중\n"
     ]
    }
   ],
   "source": [
    "## 변수 입력 부분 ##\n",
    "inStr, outStr = '', ''\n",
    "inStr = input('문자열 -->')\n",
    "\n",
    "## 메인 코드 부분 ##\n",
    "for i in range(0, len(inStr)) :       # 입력값의 문자 갯수\n",
    "    if inStr[i].isalpha() == True :   # 입력값 중 숫자로 반환된 경우\n",
    "        outStr += inStr[i]\n",
    "    \n",
    "print('한글/영문자만 남김 --> ' + outStr)"
   ]
  },
  {
   "cell_type": "code",
   "execution_count": 107,
   "id": "4e39dfa0-0ad6-4880-89e2-652c454bf550",
   "metadata": {},
   "outputs": [
    {
     "name": "stdin",
     "output_type": "stream",
     "text": [
      "문자열을 입력하세요 :  IT CookBook 파이썬을 365일 공부하고 있습니다. ^____^\n"
     ]
    },
    {
     "name": "stdout",
     "output_type": "stream",
     "text": [
      "대문자 :  ITCB\n",
      "소문자 :  ookook\n",
      "숫자 :  365\n",
      "한글 :  파이썬을일공부하고있습니다\n",
      "기타 :       . ^____^\n"
     ]
    }
   ],
   "source": [
    "## 변수 입력 부분 ##\n",
    "numStr, lowerStr, upperStr, hanStr, etcStr = [''] * 5\n",
    "ch = \"\"\n",
    "\n",
    "## 메인 코드 부분 ##\n",
    "inStr = input(\"문자열을 입력하세요 : \")\n",
    "for ch in inStr :\n",
    "    if( ord(ch) >= ord(\"A\") and ord(ch) <= ord(\"Z\")) :\n",
    "        upperStr += ch\n",
    "    elif( ord(ch) >= ord(\"a\") and ord(ch) <= ord(\"z\")) :\n",
    "        lowerStr += ch\n",
    "    elif( ord(ch) >= ord(\"0\") and ord(ch) <= ord(\"9\")) :\n",
    "        numStr += ch\n",
    "    elif( ord(ch) >= ord(\"가\") and ord(ch) <= ord(\"힣\")) :\n",
    "        hanStr += ch\n",
    "    else :\n",
    "        etcStr += ch\n",
    "\n",
    "print(\"대문자 : \", upperStr)\n",
    "print(\"소문자 : \", lowerStr)\n",
    "print(\"숫자 : \", numStr)\n",
    "print(\"한글 : \", hanStr)\n",
    "print(\"기타 : \", etcStr)"
   ]
  },
  {
   "cell_type": "code",
   "execution_count": null,
   "id": "e56813aa-ed49-4368-b7bf-91afe8632062",
   "metadata": {},
   "outputs": [],
   "source": []
  },
  {
   "cell_type": "code",
   "execution_count": null,
   "id": "6e4ca37a-47fa-460f-b042-94e7897b6b32",
   "metadata": {},
   "outputs": [],
   "source": []
  },
  {
   "cell_type": "code",
   "execution_count": null,
   "id": "8e09b8b7-5a88-4a76-8012-a61c23b748c1",
   "metadata": {},
   "outputs": [],
   "source": []
  }
 ],
 "metadata": {
  "kernelspec": {
   "display_name": "Python 3 (ipykernel)",
   "language": "python",
   "name": "python3"
  },
  "language_info": {
   "codemirror_mode": {
    "name": "ipython",
    "version": 3
   },
   "file_extension": ".py",
   "mimetype": "text/x-python",
   "name": "python",
   "nbconvert_exporter": "python",
   "pygments_lexer": "ipython3",
   "version": "3.9.7"
  }
 },
 "nbformat": 4,
 "nbformat_minor": 5
}
