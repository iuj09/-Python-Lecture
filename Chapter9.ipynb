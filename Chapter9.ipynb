{
 "cells": [
  {
   "cell_type": "markdown",
   "id": "17e82b31-1c9e-4a1b-bc37-7769d18a1ec9",
   "metadata": {},
   "source": [
    "# Chapter9"
   ]
  },
  {
   "cell_type": "code",
   "execution_count": 6,
   "id": "eda0fbd6-1291-43f4-9cf4-235f13f7a942",
   "metadata": {},
   "outputs": [],
   "source": [
    "def coffeemachine(button) :\n",
    "    print()\n",
    "    print(\"#1. (자동으로) 뜨거운 물을 준비한다.\");\n",
    "    print(\"#2. (자동으로) 종이컵을 준비한다.\");\n",
    "    \n",
    "    if button == 1 :\n",
    "        print(\"#3. (자동으로) 보통커피를 탄다.\");\n",
    "    elif button == 2 :\n",
    "        print(\"#3. (자동으로) 설탕커피를 탄다.\");\n",
    "    elif button == 3 :\n",
    "        print(\"#3. (자동으로) 블랙커피를 탄다.\");\n",
    "    else :\n",
    "        print(\"#3. (자동으로) 아무거나 탄다.\\n\")\n",
    "        \n",
    "    print(\"#4. (자동으로) 물을 붓는다.\");\n",
    "    print(\"#5. (자동으로) 스푼으로 젓는다.\");\n",
    "    print()"
   ]
  },
  {
   "cell_type": "code",
   "execution_count": 7,
   "id": "2e8e858a-7ddf-427d-9e2c-3ffb79c75034",
   "metadata": {},
   "outputs": [
    {
     "data": {
      "text/plain": [
       "<function __main__.coffeemachine(button)>"
      ]
     },
     "execution_count": 7,
     "metadata": {},
     "output_type": "execute_result"
    }
   ],
   "source": [
    "coffeemachine"
   ]
  },
  {
   "cell_type": "code",
   "execution_count": 8,
   "id": "a889c350-4f78-459c-b76d-a8d8fadbbe4b",
   "metadata": {},
   "outputs": [
    {
     "data": {
      "text/plain": [
       "function"
      ]
     },
     "execution_count": 8,
     "metadata": {},
     "output_type": "execute_result"
    }
   ],
   "source": [
    "type(coffeemachine)"
   ]
  },
  {
   "cell_type": "code",
   "execution_count": 9,
   "id": "c3fbb041-d0c6-49c0-8b6f-36414c49912e",
   "metadata": {},
   "outputs": [
    {
     "name": "stdout",
     "output_type": "stream",
     "text": [
      "\n",
      "#1. (자동으로) 뜨거운 물을 준비한다.\n",
      "#2. (자동으로) 종이컵을 준비한다.\n",
      "#3. (자동으로) 보통커피를 탄다.\n",
      "#4. (자동으로) 물을 붓는다.\n",
      "#5. (자동으로) 스푼으로 젓는다.\n",
      "\n"
     ]
    }
   ],
   "source": [
    "# 함수호출 연산자()\n",
    "coffeemachine(button=1)"
   ]
  },
  {
   "cell_type": "markdown",
   "id": "f809d43c-f47e-4376-91de-05224b54d55f",
   "metadata": {},
   "source": [
    "매개변수 & return"
   ]
  },
  {
   "cell_type": "code",
   "execution_count": 10,
   "id": "bf9a71b3-2f2e-4164-aa85-5ec1c67263fe",
   "metadata": {},
   "outputs": [],
   "source": [
    "def plus(v1, v2) :\n",
    "    print(v1 + v2)"
   ]
  },
  {
   "cell_type": "code",
   "execution_count": 11,
   "id": "e80ee803-7930-48c5-a054-0cdde841f248",
   "metadata": {},
   "outputs": [],
   "source": [
    "def plus2(v1, v2) :\n",
    "    return v1 + v2"
   ]
  },
  {
   "cell_type": "code",
   "execution_count": 12,
   "id": "5e1a534f-52f2-4878-8e7f-8ae6a0cb6b63",
   "metadata": {},
   "outputs": [
    {
     "name": "stdout",
     "output_type": "stream",
     "text": [
      "0\n"
     ]
    }
   ],
   "source": [
    "plus(-2, 2)"
   ]
  },
  {
   "cell_type": "code",
   "execution_count": 13,
   "id": "54583515-ba93-45b2-b5f7-69958e983117",
   "metadata": {},
   "outputs": [
    {
     "data": {
      "text/plain": [
       "5"
      ]
     },
     "execution_count": 13,
     "metadata": {},
     "output_type": "execute_result"
    }
   ],
   "source": [
    "plus2(2,3)"
   ]
  },
  {
   "cell_type": "code",
   "execution_count": 14,
   "id": "b627f4f8-af50-487a-84dd-6a926f8cf0d7",
   "metadata": {},
   "outputs": [
    {
     "name": "stdout",
     "output_type": "stream",
     "text": [
      "5\n"
     ]
    }
   ],
   "source": [
    "r = plus(2, 3)\n",
    "r"
   ]
  },
  {
   "cell_type": "code",
   "execution_count": 15,
   "id": "ef2ba0fe-05b4-40ab-b56f-fd5937f47a3e",
   "metadata": {},
   "outputs": [],
   "source": [
    "def plus2(v1, v2) :\n",
    "    \"\"\"\n",
    "    plus2함수는 v1, v2 매개변수를 받는다.\n",
    "    - v1: 정수\n",
    "    \"\"\"\n",
    "    return v1 + v2"
   ]
  },
  {
   "cell_type": "code",
   "execution_count": 16,
   "id": "e537bb63-954c-4c74-96f3-6cfe68546626",
   "metadata": {},
   "outputs": [
    {
     "data": {
      "text/plain": [
       "\u001b[1;31mSignature:\u001b[0m \u001b[0mplus2\u001b[0m\u001b[1;33m(\u001b[0m\u001b[0mv1\u001b[0m\u001b[1;33m,\u001b[0m \u001b[0mv2\u001b[0m\u001b[1;33m)\u001b[0m\u001b[1;33m\u001b[0m\u001b[1;33m\u001b[0m\u001b[0m\n",
       "\u001b[1;31mDocstring:\u001b[0m\n",
       "plus2함수는 v1, v2 매개변수를 받는다.\n",
       "- v1: 정수\n",
       "\u001b[1;31mFile:\u001b[0m      c:\\users\\bit\\appdata\\local\\temp\\ipykernel_2432\\458370229.py\n",
       "\u001b[1;31mType:\u001b[0m      function\n"
      ]
     },
     "metadata": {},
     "output_type": "display_data"
    }
   ],
   "source": [
    "plus2?"
   ]
  },
  {
   "cell_type": "code",
   "execution_count": 17,
   "id": "94b630b3-500c-404d-b61b-f5d2370ef734",
   "metadata": {},
   "outputs": [
    {
     "data": {
      "text/plain": [
       "\u001b[1;31mSignature:\u001b[0m \u001b[0mplus2\u001b[0m\u001b[1;33m(\u001b[0m\u001b[0mv1\u001b[0m\u001b[1;33m,\u001b[0m \u001b[0mv2\u001b[0m\u001b[1;33m)\u001b[0m\u001b[1;33m\u001b[0m\u001b[1;33m\u001b[0m\u001b[0m\n",
       "\u001b[1;31mSource:\u001b[0m   \n",
       "\u001b[1;32mdef\u001b[0m \u001b[0mplus2\u001b[0m\u001b[1;33m(\u001b[0m\u001b[0mv1\u001b[0m\u001b[1;33m,\u001b[0m \u001b[0mv2\u001b[0m\u001b[1;33m)\u001b[0m \u001b[1;33m:\u001b[0m\u001b[1;33m\n",
       "\u001b[0m    \u001b[1;34m\"\"\"\n",
       "    plus2함수는 v1, v2 매개변수를 받는다.\n",
       "    - v1: 정수\n",
       "    \"\"\"\u001b[0m\u001b[1;33m\n",
       "\u001b[0m    \u001b[1;32mreturn\u001b[0m \u001b[0mv1\u001b[0m \u001b[1;33m+\u001b[0m \u001b[0mv2\u001b[0m\u001b[1;33m\u001b[0m\u001b[1;33m\u001b[0m\u001b[0m\n",
       "\u001b[1;31mFile:\u001b[0m      c:\\users\\bit\\appdata\\local\\temp\\ipykernel_2432\\458370229.py\n",
       "\u001b[1;31mType:\u001b[0m      function\n"
      ]
     },
     "metadata": {},
     "output_type": "display_data"
    }
   ],
   "source": [
    "plus2??"
   ]
  },
  {
   "cell_type": "code",
   "execution_count": 18,
   "id": "c1197765-09d6-40bd-8a76-5e2737817250",
   "metadata": {},
   "outputs": [],
   "source": [
    "def calc(v1, v2, op) :\n",
    "    result = 0\n",
    "    if op == '+' :\n",
    "        result = v1 + v2\n",
    "    elif op == '-' :\n",
    "        result = v1 - v2\n",
    "    elif op == '*' :\n",
    "        result = v1 * v2\n",
    "    elif op == '/' :\n",
    "        result = v1 / v2\n",
    "        \n",
    "    return result"
   ]
  },
  {
   "cell_type": "code",
   "execution_count": 19,
   "id": "2832f043-5bca-419b-bcee-5c3d2cc3afcb",
   "metadata": {},
   "outputs": [
    {
     "data": {
      "text/plain": [
       "60"
      ]
     },
     "execution_count": 19,
     "metadata": {},
     "output_type": "execute_result"
    }
   ],
   "source": [
    "calc(10, 6, '*')"
   ]
  },
  {
   "cell_type": "code",
   "execution_count": 20,
   "id": "c20c7320-e521-451d-add0-ef91d0f8eccf",
   "metadata": {},
   "outputs": [
    {
     "name": "stdout",
     "output_type": "stream",
     "text": [
      "10 / 6 = 1.6666666666666667\n"
     ]
    }
   ],
   "source": [
    "print('10 / 6 =', calc(10, 6, '/'))"
   ]
  },
  {
   "cell_type": "code",
   "execution_count": 21,
   "id": "b167c73d-bf7b-4811-b4d4-43284569a4f5",
   "metadata": {},
   "outputs": [
    {
     "data": {
      "text/plain": [
       "<function __main__.calc(v1, v2, op)>"
      ]
     },
     "execution_count": 21,
     "metadata": {},
     "output_type": "execute_result"
    }
   ],
   "source": [
    "calc"
   ]
  },
  {
   "cell_type": "code",
   "execution_count": 22,
   "id": "6f721dd2-05b7-4471-95b2-9d99941aab25",
   "metadata": {},
   "outputs": [],
   "source": [
    "calc2 = calc"
   ]
  },
  {
   "cell_type": "code",
   "execution_count": 23,
   "id": "ab3a1cf0-593d-46de-8eaa-bbca7dc56462",
   "metadata": {},
   "outputs": [
    {
     "data": {
      "text/plain": [
       "(2061217419904, 2061217419904)"
      ]
     },
     "execution_count": 23,
     "metadata": {},
     "output_type": "execute_result"
    }
   ],
   "source": [
    "id(calc2), id(calc)"
   ]
  },
  {
   "cell_type": "code",
   "execution_count": 24,
   "id": "9b27672f-8072-4b7d-911d-d1ce19f929a0",
   "metadata": {},
   "outputs": [
    {
     "data": {
      "text/plain": [
       "15"
      ]
     },
     "execution_count": 24,
     "metadata": {},
     "output_type": "execute_result"
    }
   ],
   "source": [
    "calc2(10, 5, '+')"
   ]
  },
  {
   "cell_type": "code",
   "execution_count": 25,
   "id": "d66de4ff-a60c-40df-8620-def354e8e65f",
   "metadata": {},
   "outputs": [],
   "source": [
    "#함수의 반환\n",
    "def mycalc() :\n",
    "    return calc"
   ]
  },
  {
   "cell_type": "code",
   "execution_count": 26,
   "id": "d9266c0f-17ca-45fa-9c1a-ae32efe0063b",
   "metadata": {},
   "outputs": [
    {
     "data": {
      "text/plain": [
       "<function __main__.mycalc()>"
      ]
     },
     "execution_count": 26,
     "metadata": {},
     "output_type": "execute_result"
    }
   ],
   "source": [
    "mycalc"
   ]
  },
  {
   "cell_type": "code",
   "execution_count": 27,
   "id": "79cb40da-c851-4d50-b29b-35a1c118bb93",
   "metadata": {},
   "outputs": [
    {
     "ename": "TypeError",
     "evalue": "mycalc() takes 0 positional arguments but 3 were given",
     "output_type": "error",
     "traceback": [
      "\u001b[1;31m---------------------------------------------------------------------------\u001b[0m",
      "\u001b[1;31mTypeError\u001b[0m                                 Traceback (most recent call last)",
      "\u001b[1;32m~\\AppData\\Local\\Temp/ipykernel_2432/3198824942.py\u001b[0m in \u001b[0;36m<module>\u001b[1;34m\u001b[0m\n\u001b[1;32m----> 1\u001b[1;33m \u001b[0mmycalc\u001b[0m\u001b[1;33m(\u001b[0m\u001b[1;36m10\u001b[0m\u001b[1;33m,\u001b[0m \u001b[1;36m5\u001b[0m\u001b[1;33m,\u001b[0m \u001b[1;34m'+'\u001b[0m\u001b[1;33m)\u001b[0m\u001b[1;33m\u001b[0m\u001b[1;33m\u001b[0m\u001b[0m\n\u001b[0m",
      "\u001b[1;31mTypeError\u001b[0m: mycalc() takes 0 positional arguments but 3 were given"
     ]
    }
   ],
   "source": [
    "mycalc(10, 5, '+')"
   ]
  },
  {
   "cell_type": "code",
   "execution_count": 28,
   "id": "9eb8052e-a216-482a-9ee2-3a65130041a6",
   "metadata": {},
   "outputs": [
    {
     "data": {
      "text/plain": [
       "<function __main__.calc(v1, v2, op)>"
      ]
     },
     "execution_count": 28,
     "metadata": {},
     "output_type": "execute_result"
    }
   ],
   "source": [
    "m = mycalc()\n",
    "m"
   ]
  },
  {
   "cell_type": "code",
   "execution_count": 29,
   "id": "dc50f40d-8452-4af1-850c-e9589e986a8a",
   "metadata": {},
   "outputs": [
    {
     "data": {
      "text/plain": [
       "15"
      ]
     },
     "execution_count": 29,
     "metadata": {},
     "output_type": "execute_result"
    }
   ],
   "source": [
    "m(10, 5, '+')"
   ]
  },
  {
   "cell_type": "code",
   "execution_count": 30,
   "id": "f745fe27-7215-44da-8a5d-e26e4f3e559e",
   "metadata": {},
   "outputs": [
    {
     "data": {
      "text/plain": [
       "15"
      ]
     },
     "execution_count": 30,
     "metadata": {},
     "output_type": "execute_result"
    }
   ],
   "source": [
    "mycalc()(10, 5, '+')"
   ]
  },
  {
   "cell_type": "markdown",
   "id": "4a0a6415-e205-4ca1-a34a-5bdee4896a27",
   "metadata": {},
   "source": [
    "## 전역변수 지역변수"
   ]
  },
  {
   "cell_type": "code",
   "execution_count": 31,
   "id": "68a7285f-4395-4049-a1b1-f52d312e20cf",
   "metadata": {},
   "outputs": [],
   "source": [
    "a = 20\n",
    "\n",
    "def f1() :\n",
    "    a = 10\n",
    "    print(a)"
   ]
  },
  {
   "cell_type": "code",
   "execution_count": 32,
   "id": "9ef07885-44b8-40ea-972c-955bb4ca3192",
   "metadata": {},
   "outputs": [
    {
     "name": "stdout",
     "output_type": "stream",
     "text": [
      "10\n"
     ]
    }
   ],
   "source": [
    "f1()"
   ]
  },
  {
   "cell_type": "code",
   "execution_count": 33,
   "id": "48614c6b-0f0f-4f5e-bf11-8c12dd12b671",
   "metadata": {},
   "outputs": [
    {
     "name": "stdout",
     "output_type": "stream",
     "text": [
      "func1()에서 a값 10\n"
     ]
    },
    {
     "ename": "TypeError",
     "evalue": "unsupported operand type(s) for &: 'str' and 'int'",
     "output_type": "error",
     "traceback": [
      "\u001b[1;31m---------------------------------------------------------------------------\u001b[0m",
      "\u001b[1;31mTypeError\u001b[0m                                 Traceback (most recent call last)",
      "\u001b[1;32m~\\AppData\\Local\\Temp/ipykernel_2432/3501197928.py\u001b[0m in \u001b[0;36m<module>\u001b[1;34m\u001b[0m\n\u001b[0;32m     12\u001b[0m \u001b[1;31m## 메인 코드 부분 ##\u001b[0m\u001b[1;33m\u001b[0m\u001b[1;33m\u001b[0m\u001b[0m\n\u001b[0;32m     13\u001b[0m \u001b[0mfunc1\u001b[0m\u001b[1;33m(\u001b[0m\u001b[1;33m)\u001b[0m\u001b[1;33m\u001b[0m\u001b[1;33m\u001b[0m\u001b[0m\n\u001b[1;32m---> 14\u001b[1;33m \u001b[0mfunc2\u001b[0m\u001b[1;33m(\u001b[0m\u001b[1;33m)\u001b[0m\u001b[1;33m\u001b[0m\u001b[1;33m\u001b[0m\u001b[0m\n\u001b[0m",
      "\u001b[1;32m~\\AppData\\Local\\Temp/ipykernel_2432/3501197928.py\u001b[0m in \u001b[0;36mfunc2\u001b[1;34m()\u001b[0m\n\u001b[0;32m      5\u001b[0m \u001b[1;33m\u001b[0m\u001b[0m\n\u001b[0;32m      6\u001b[0m \u001b[1;32mdef\u001b[0m \u001b[0mfunc2\u001b[0m\u001b[1;33m(\u001b[0m\u001b[1;33m)\u001b[0m \u001b[1;33m:\u001b[0m\u001b[1;33m\u001b[0m\u001b[1;33m\u001b[0m\u001b[0m\n\u001b[1;32m----> 7\u001b[1;33m     \u001b[0mprint\u001b[0m\u001b[1;33m(\u001b[0m\u001b[1;34m\"func2에서 a값 %d\"\u001b[0m \u001b[1;33m&\u001b[0m \u001b[0ma\u001b[0m\u001b[1;33m)\u001b[0m\u001b[1;33m\u001b[0m\u001b[1;33m\u001b[0m\u001b[0m\n\u001b[0m\u001b[0;32m      8\u001b[0m \u001b[1;33m\u001b[0m\u001b[0m\n\u001b[0;32m      9\u001b[0m \u001b[1;31m## 전역 변수 선언 부분 ##\u001b[0m\u001b[1;33m\u001b[0m\u001b[1;33m\u001b[0m\u001b[0m\n",
      "\u001b[1;31mTypeError\u001b[0m: unsupported operand type(s) for &: 'str' and 'int'"
     ]
    }
   ],
   "source": [
    "## 함수 선언 부분 ##\n",
    "def func1() :\n",
    "    a = 10   # 지역변수\n",
    "    print(\"func1()에서 a값 %d\" % a)\n",
    "    \n",
    "def func2() :\n",
    "    print(\"func2에서 a값 %d\" & a)\n",
    "    \n",
    "## 전역 변수 선언 부분 ##\n",
    "a = 20      # 전역변수\n",
    "\n",
    "## 메인 코드 부분 ##\n",
    "func1()\n",
    "func2()"
   ]
  },
  {
   "cell_type": "code",
   "execution_count": 34,
   "id": "7957f9d2-ba60-4de2-a960-cd9d930dc40d",
   "metadata": {},
   "outputs": [],
   "source": [
    "a = 20\n",
    "\n",
    "def f1() :\n",
    "    a = 10\n",
    "    print(a)\n",
    "    print(locals())"
   ]
  },
  {
   "cell_type": "code",
   "execution_count": 35,
   "id": "9d3fffd5-a6bc-42f3-aa86-149d1d148bc5",
   "metadata": {},
   "outputs": [],
   "source": [
    "def f2() :\n",
    "    print(a)"
   ]
  },
  {
   "cell_type": "code",
   "execution_count": 36,
   "id": "c25bb13d-7ca1-4f6b-9ee3-95920efb3647",
   "metadata": {},
   "outputs": [
    {
     "name": "stdout",
     "output_type": "stream",
     "text": [
      "10\n",
      "{'a': 10}\n"
     ]
    }
   ],
   "source": [
    "f1()"
   ]
  },
  {
   "cell_type": "code",
   "execution_count": 37,
   "id": "3a82dd93-22ab-46b5-bcb4-479c3de7b849",
   "metadata": {},
   "outputs": [
    {
     "name": "stdout",
     "output_type": "stream",
     "text": [
      "20\n"
     ]
    }
   ],
   "source": [
    "f2()"
   ]
  },
  {
   "cell_type": "code",
   "execution_count": 38,
   "id": "76865458-fe12-4f97-a284-3a6ec90952da",
   "metadata": {},
   "outputs": [],
   "source": [
    "def f3() :\n",
    "    global a   # 로컬에서 a라는 전역변수를 그대로 사용\n",
    "    a = 30\n",
    "    print(a)"
   ]
  },
  {
   "cell_type": "code",
   "execution_count": 39,
   "id": "4c3730c9-b722-466e-8d92-4e9b47fa02dd",
   "metadata": {},
   "outputs": [
    {
     "name": "stdout",
     "output_type": "stream",
     "text": [
      "30\n"
     ]
    }
   ],
   "source": [
    "f3()"
   ]
  },
  {
   "cell_type": "code",
   "execution_count": 40,
   "id": "8e94f708-90c5-4a20-ba4c-bdfa41ef0ca7",
   "metadata": {},
   "outputs": [
    {
     "data": {
      "text/plain": [
       "30"
      ]
     },
     "execution_count": 40,
     "metadata": {},
     "output_type": "execute_result"
    }
   ],
   "source": [
    "a"
   ]
  },
  {
   "cell_type": "code",
   "execution_count": 41,
   "id": "1a9c2c34-0562-45a7-84e4-25d339e5a4e9",
   "metadata": {},
   "outputs": [
    {
     "name": "stdout",
     "output_type": "stream",
     "text": [
      "multi()에서 돌려준 값 ==> 300, -100 \n"
     ]
    }
   ],
   "source": [
    "## 함수 선언 부분 ##\n",
    "def multi(v1, v2) :\n",
    "    retList = []      # 반환할 리스트\n",
    "    res1 = v1 + v2\n",
    "    res2 = v1 - v2\n",
    "    retList.append(res1)\n",
    "    retList.append(res2)\n",
    "    return retList\n",
    "\n",
    "## 전역 변수 선언 부분 ##\n",
    "myList = []\n",
    "hap, sub =  0, 0\n",
    "\n",
    "## 메인 코드 부분 ##\n",
    "myList = multi(100, 200)\n",
    "hap = myList[0]\n",
    "sub = myList[1]\n",
    "print(\"multi()에서 돌려준 값 ==> %d, %d \" % (hap,sub))"
   ]
  },
  {
   "cell_type": "code",
   "execution_count": 42,
   "id": "66409a0c-cffd-4c98-8cc0-ad12f80e98c5",
   "metadata": {},
   "outputs": [],
   "source": [
    "def multi(v1, v2) :\n",
    "    res1 = v1 + v2\n",
    "    res2 = v1 - v2\n",
    "    return res1, res2, res2, res1"
   ]
  },
  {
   "cell_type": "code",
   "execution_count": 43,
   "id": "97913825-b65b-4c34-8c58-22ac404f6947",
   "metadata": {},
   "outputs": [
    {
     "data": {
      "text/plain": [
       "(2100, -1900, -1900, 2100)"
      ]
     },
     "execution_count": 43,
     "metadata": {},
     "output_type": "execute_result"
    }
   ],
   "source": [
    "multi(100, 2000)"
   ]
  },
  {
   "cell_type": "code",
   "execution_count": 44,
   "id": "e591c658-00eb-4829-a0a3-105f3aa9c97c",
   "metadata": {},
   "outputs": [
    {
     "data": {
      "text/plain": [
       "(2100, -1900, -1900, 2100)"
      ]
     },
     "execution_count": 44,
     "metadata": {},
     "output_type": "execute_result"
    }
   ],
   "source": [
    "r = multi(100, 2000)\n",
    "r"
   ]
  },
  {
   "cell_type": "code",
   "execution_count": 45,
   "id": "b699863c-3dd8-4d1c-a2c7-65e70c214cda",
   "metadata": {},
   "outputs": [
    {
     "data": {
      "text/plain": [
       "2100"
      ]
     },
     "execution_count": 45,
     "metadata": {},
     "output_type": "execute_result"
    }
   ],
   "source": [
    "r[0]"
   ]
  },
  {
   "cell_type": "code",
   "execution_count": 46,
   "id": "d120a0bb-0226-4272-be47-357cf69f78c8",
   "metadata": {},
   "outputs": [],
   "source": [
    "def f1() :\n",
    "    pass"
   ]
  },
  {
   "cell_type": "code",
   "execution_count": 47,
   "id": "3befb90a-292c-4f70-89fd-3af30f1be92a",
   "metadata": {},
   "outputs": [],
   "source": [
    "f1()"
   ]
  },
  {
   "cell_type": "code",
   "execution_count": 48,
   "id": "a3a32a02-e785-43cd-9886-2d8b43b4d248",
   "metadata": {},
   "outputs": [],
   "source": [
    "if True :\n",
    "    pass\n",
    "else :\n",
    "    print('End')"
   ]
  },
  {
   "cell_type": "markdown",
   "id": "d1f27bce-043a-4609-83e4-10d4cb65ed17",
   "metadata": {},
   "source": [
    "# 매개변수 전달"
   ]
  },
  {
   "cell_type": "code",
   "execution_count": 49,
   "id": "6af7be6f-ffdb-4853-bea8-6e5b946b0159",
   "metadata": {},
   "outputs": [],
   "source": [
    "def f1(v1, v2) :\n",
    "    return v1 + v2"
   ]
  },
  {
   "cell_type": "code",
   "execution_count": 50,
   "id": "41a181f4-1887-4331-9ac5-590583264a66",
   "metadata": {},
   "outputs": [],
   "source": [
    "def f2(v1, v2, v3) :\n",
    "    return v1 + v2 + v3"
   ]
  },
  {
   "cell_type": "code",
   "execution_count": 51,
   "id": "0e1ae1c5-f59e-407f-b8a5-84e49adce5bd",
   "metadata": {},
   "outputs": [
    {
     "data": {
      "text/plain": [
       "30"
      ]
     },
     "execution_count": 51,
     "metadata": {},
     "output_type": "execute_result"
    }
   ],
   "source": [
    "f1(10, 20)"
   ]
  },
  {
   "cell_type": "code",
   "execution_count": 52,
   "id": "9060c2b2-c803-4a4a-ab1d-f6928f7a7359",
   "metadata": {},
   "outputs": [
    {
     "ename": "TypeError",
     "evalue": "f2() missing 1 required positional argument: 'v3'",
     "output_type": "error",
     "traceback": [
      "\u001b[1;31m---------------------------------------------------------------------------\u001b[0m",
      "\u001b[1;31mTypeError\u001b[0m                                 Traceback (most recent call last)",
      "\u001b[1;32m~\\AppData\\Local\\Temp/ipykernel_2432/855737036.py\u001b[0m in \u001b[0;36m<module>\u001b[1;34m\u001b[0m\n\u001b[1;32m----> 1\u001b[1;33m \u001b[0mf2\u001b[0m\u001b[1;33m(\u001b[0m\u001b[1;36m1\u001b[0m\u001b[1;33m,\u001b[0m \u001b[1;36m2\u001b[0m\u001b[1;33m)\u001b[0m\u001b[1;33m\u001b[0m\u001b[1;33m\u001b[0m\u001b[0m\n\u001b[0m",
      "\u001b[1;31mTypeError\u001b[0m: f2() missing 1 required positional argument: 'v3'"
     ]
    }
   ],
   "source": [
    "f2(1, 2)"
   ]
  },
  {
   "cell_type": "code",
   "execution_count": 53,
   "id": "c9abd5a8-bc08-4f95-9bf6-d4478b388ff6",
   "metadata": {},
   "outputs": [],
   "source": [
    "def f2(v1, v2, v3) :   \n",
    "    return v1 + v2 + v3"
   ]
  },
  {
   "cell_type": "code",
   "execution_count": 54,
   "id": "c9c99523-46ef-4221-9a4a-18ebceab776b",
   "metadata": {},
   "outputs": [
    {
     "data": {
      "text/plain": [
       "6"
      ]
     },
     "execution_count": 54,
     "metadata": {},
     "output_type": "execute_result"
    }
   ],
   "source": [
    "f2(1, 2, 3)"
   ]
  },
  {
   "cell_type": "markdown",
   "id": "b1d94dea-90a6-453f-a44f-e4a7016e9c43",
   "metadata": {},
   "source": [
    "**매개변수 기본값**"
   ]
  },
  {
   "cell_type": "code",
   "execution_count": 55,
   "id": "5b8664a2-7e48-4e38-85c5-ed4af0cca563",
   "metadata": {},
   "outputs": [],
   "source": [
    "def f3(v1, v2, v3 =0) : # 매개변수 값이 전달이 안되면 기본값\n",
    "    return v1 + v2 + v3"
   ]
  },
  {
   "cell_type": "code",
   "execution_count": 56,
   "id": "e3828d9c-805b-4a9e-83a0-2b84a6f98879",
   "metadata": {},
   "outputs": [
    {
     "data": {
      "text/plain": [
       "6"
      ]
     },
     "execution_count": 56,
     "metadata": {},
     "output_type": "execute_result"
    }
   ],
   "source": [
    "f3(1, 2, 3)"
   ]
  },
  {
   "cell_type": "code",
   "execution_count": 57,
   "id": "87f75cf2-fbb8-4bae-8886-d701f76bc97e",
   "metadata": {},
   "outputs": [
    {
     "data": {
      "text/plain": [
       "3"
      ]
     },
     "execution_count": 57,
     "metadata": {},
     "output_type": "execute_result"
    }
   ],
   "source": [
    "f3(1, 2)"
   ]
  },
  {
   "cell_type": "code",
   "execution_count": 58,
   "id": "b8ba77a2-561e-4808-826d-26f6dc3cf09d",
   "metadata": {},
   "outputs": [
    {
     "data": {
      "text/plain": [
       "8"
      ]
     },
     "execution_count": 58,
     "metadata": {},
     "output_type": "execute_result"
    }
   ],
   "source": [
    "f3(v1 = 1, v2 = 3, v3 =4)"
   ]
  },
  {
   "cell_type": "code",
   "execution_count": 59,
   "id": "b73acc31-a9b4-4b87-9882-0ed073520b60",
   "metadata": {},
   "outputs": [
    {
     "data": {
      "text/plain": [
       "4"
      ]
     },
     "execution_count": 59,
     "metadata": {},
     "output_type": "execute_result"
    }
   ],
   "source": [
    "f3(v1 = 1, v2 = 3)"
   ]
  },
  {
   "cell_type": "code",
   "execution_count": 60,
   "id": "39ad37be-0139-49ff-aeaa-694d7f4b44f5",
   "metadata": {},
   "outputs": [
    {
     "data": {
      "text/plain": [
       "6"
      ]
     },
     "execution_count": 60,
     "metadata": {},
     "output_type": "execute_result"
    }
   ],
   "source": [
    "f3(v1=1, v3=3, v2=2)"
   ]
  },
  {
   "cell_type": "markdown",
   "id": "c40b193d-3a5c-4c1a-8c2a-2c323785cf90",
   "metadata": {},
   "source": [
    "*,**매개변수"
   ]
  },
  {
   "cell_type": "markdown",
   "id": "e7b5eb8f-7df2-4391-93eb-4e16c047962f",
   "metadata": {},
   "source": [
    "**가변형 매개변수**"
   ]
  },
  {
   "cell_type": "code",
   "execution_count": 61,
   "id": "869fe588-9c9e-4e78-ad88-4e28e240265b",
   "metadata": {},
   "outputs": [],
   "source": [
    "def f4(*v) :\n",
    "    result = 0\n",
    "    for n in v :\n",
    "        result += n\n",
    "    return result"
   ]
  },
  {
   "cell_type": "code",
   "execution_count": 62,
   "id": "094eb7dd-dca0-445a-b655-53c0af9fec2b",
   "metadata": {},
   "outputs": [
    {
     "data": {
      "text/plain": [
       "<function __main__.f4(*v)>"
      ]
     },
     "execution_count": 62,
     "metadata": {},
     "output_type": "execute_result"
    }
   ],
   "source": [
    "f4"
   ]
  },
  {
   "cell_type": "code",
   "execution_count": 63,
   "id": "b71ff3b7-11ce-40e2-83de-2b2c309fb132",
   "metadata": {},
   "outputs": [
    {
     "data": {
      "text/plain": [
       "6"
      ]
     },
     "execution_count": 63,
     "metadata": {},
     "output_type": "execute_result"
    }
   ],
   "source": [
    "f4(1, 2, 3)"
   ]
  },
  {
   "cell_type": "code",
   "execution_count": 64,
   "id": "3c590b63-8833-4921-aa90-fd189a83fb51",
   "metadata": {},
   "outputs": [
    {
     "data": {
      "text/plain": [
       "1"
      ]
     },
     "execution_count": 64,
     "metadata": {},
     "output_type": "execute_result"
    }
   ],
   "source": [
    "f4(1)"
   ]
  },
  {
   "cell_type": "markdown",
   "id": "634b000a-17e1-4e96-96fe-1ea76f2e8e3a",
   "metadata": {},
   "source": [
    "**딕셔너리 매개변수**"
   ]
  },
  {
   "cell_type": "code",
   "execution_count": 65,
   "id": "3fe36003-033d-4836-926f-73d8e200b2f4",
   "metadata": {},
   "outputs": [],
   "source": [
    "def f5(**v) :   # dict\n",
    "    for k in v.keys() :\n",
    "        print('%s --> %d명' % (k, v[k]))"
   ]
  },
  {
   "cell_type": "code",
   "execution_count": 66,
   "id": "88c75a07-2137-4ca6-958d-ad79621ca223",
   "metadata": {},
   "outputs": [
    {
     "name": "stdout",
     "output_type": "stream",
     "text": [
      "v1 --> 1명\n",
      "v2 --> 2명\n",
      "v3 --> 3명\n"
     ]
    }
   ],
   "source": [
    "f5(v1=1, v2=2, v3=3)"
   ]
  },
  {
   "cell_type": "code",
   "execution_count": 67,
   "id": "6ea02185-550d-42aa-ac16-ce2b45f5a51d",
   "metadata": {},
   "outputs": [
    {
     "ename": "TypeError",
     "evalue": "f5() takes 0 positional arguments but 3 were given",
     "output_type": "error",
     "traceback": [
      "\u001b[1;31m---------------------------------------------------------------------------\u001b[0m",
      "\u001b[1;31mTypeError\u001b[0m                                 Traceback (most recent call last)",
      "\u001b[1;32m~\\AppData\\Local\\Temp/ipykernel_2432/1510659961.py\u001b[0m in \u001b[0;36m<module>\u001b[1;34m\u001b[0m\n\u001b[1;32m----> 1\u001b[1;33m \u001b[0mf5\u001b[0m\u001b[1;33m(\u001b[0m\u001b[1;36m1\u001b[0m\u001b[1;33m,\u001b[0m \u001b[1;36m2\u001b[0m\u001b[1;33m,\u001b[0m \u001b[1;36m3\u001b[0m\u001b[1;33m)\u001b[0m\u001b[1;33m\u001b[0m\u001b[1;33m\u001b[0m\u001b[0m\n\u001b[0m",
      "\u001b[1;31mTypeError\u001b[0m: f5() takes 0 positional arguments but 3 were given"
     ]
    }
   ],
   "source": [
    "f5(1, 2, 3)"
   ]
  },
  {
   "cell_type": "markdown",
   "id": "850d5cc1-4b15-40c7-b866-b195cee145e8",
   "metadata": {},
   "source": [
    "**가변형 인자 & 딕셔너리 인자**"
   ]
  },
  {
   "cell_type": "code",
   "execution_count": 68,
   "id": "386a4259-6792-44c8-8980-3023d569072e",
   "metadata": {},
   "outputs": [],
   "source": [
    "def myfunction(*args, **kwargs) :\n",
    "    print('args: ', args)\n",
    "    print('kwargs: ', kwargs)"
   ]
  },
  {
   "cell_type": "code",
   "execution_count": 69,
   "id": "4dc4547b-6fad-47f2-a3f6-625f69eb5d0e",
   "metadata": {},
   "outputs": [
    {
     "name": "stdout",
     "output_type": "stream",
     "text": [
      "args:  ()\n",
      "kwargs:  {}\n"
     ]
    }
   ],
   "source": [
    "myfunction()"
   ]
  },
  {
   "cell_type": "code",
   "execution_count": 70,
   "id": "e4ac592a-96f2-45af-b709-fc7e08253626",
   "metadata": {},
   "outputs": [
    {
     "name": "stdout",
     "output_type": "stream",
     "text": [
      "args:  (1,)\n",
      "kwargs:  {}\n"
     ]
    }
   ],
   "source": [
    "myfunction(1)"
   ]
  },
  {
   "cell_type": "code",
   "execution_count": 71,
   "id": "e3f03886-eb63-43a6-bae0-bbf62c477771",
   "metadata": {},
   "outputs": [
    {
     "name": "stdout",
     "output_type": "stream",
     "text": [
      "args:  ()\n",
      "kwargs:  {'a': 3}\n"
     ]
    }
   ],
   "source": [
    "myfunction(a=3)"
   ]
  },
  {
   "cell_type": "code",
   "execution_count": 72,
   "id": "061ba625-bfc0-4ef7-adea-385fba2eacd8",
   "metadata": {},
   "outputs": [
    {
     "name": "stdout",
     "output_type": "stream",
     "text": [
      "args:  (1, 2, 3)\n",
      "kwargs:  {'a': 3}\n"
     ]
    }
   ],
   "source": [
    "myfunction(1, 2, 3, a=3)"
   ]
  },
  {
   "cell_type": "code",
   "execution_count": 73,
   "id": "a5e66ca0-fd3e-48ea-944e-876dff85619f",
   "metadata": {},
   "outputs": [
    {
     "ename": "SyntaxError",
     "evalue": "positional argument follows keyword argument (Temp/ipykernel_2432/1769285388.py, line 1)",
     "output_type": "error",
     "traceback": [
      "\u001b[1;36m  File \u001b[1;32m\"C:\\Users\\BIT\\AppData\\Local\\Temp/ipykernel_2432/1769285388.py\"\u001b[1;36m, line \u001b[1;32m1\u001b[0m\n\u001b[1;33m    myfunction(a=3, 2, 3)\u001b[0m\n\u001b[1;37m                        ^\u001b[0m\n\u001b[1;31mSyntaxError\u001b[0m\u001b[1;31m:\u001b[0m positional argument follows keyword argument\n"
     ]
    }
   ],
   "source": [
    "myfunction(a=3, 2, 3)"
   ]
  },
  {
   "cell_type": "markdown",
   "id": "491bbde1-03b2-4442-8bb4-905c68398abb",
   "metadata": {},
   "source": [
    "# 모듈\n",
    "\n",
    " - `import MODULE`\n",
    " - `import MODULE as alias`\n",
    " - `from MODULE import`"
   ]
  },
  {
   "cell_type": "code",
   "execution_count": 77,
   "id": "e2e94abd-dbd9-4677-8fc0-64a64dd421fe",
   "metadata": {},
   "outputs": [],
   "source": [
    "import Module1"
   ]
  },
  {
   "cell_type": "code",
   "execution_count": 78,
   "id": "b5c5e633-cd4f-4361-bded-da8f12f51b08",
   "metadata": {},
   "outputs": [
    {
     "data": {
      "text/plain": [
       "module"
      ]
     },
     "execution_count": 78,
     "metadata": {},
     "output_type": "execute_result"
    }
   ],
   "source": [
    "type(Module1)"
   ]
  },
  {
   "cell_type": "code",
   "execution_count": 79,
   "id": "1bad6509-64fa-4ea7-b9aa-43bbc54a7c8d",
   "metadata": {},
   "outputs": [
    {
     "data": {
      "text/plain": [
       "<module 'Module1' from 'C:\\\\Users\\\\BIT\\\\Works\\\\Module1.py'>"
      ]
     },
     "execution_count": 79,
     "metadata": {},
     "output_type": "execute_result"
    }
   ],
   "source": [
    "Module1"
   ]
  },
  {
   "cell_type": "code",
   "execution_count": 80,
   "id": "37af6879-90e0-4055-995e-3a1da008bf0b",
   "metadata": {},
   "outputs": [
    {
     "data": {
      "text/plain": [
       "3.14"
      ]
     },
     "execution_count": 80,
     "metadata": {},
     "output_type": "execute_result"
    }
   ],
   "source": [
    "Module1.PI"
   ]
  },
  {
   "cell_type": "code",
   "execution_count": 81,
   "id": "261f153f-ce34-460d-86f3-11e299c1d355",
   "metadata": {},
   "outputs": [
    {
     "name": "stdout",
     "output_type": "stream",
     "text": [
      "Module1.py의 func1()이 호출됨.\n"
     ]
    }
   ],
   "source": [
    "Module1.func1()  # 함수호출"
   ]
  },
  {
   "cell_type": "code",
   "execution_count": 82,
   "id": "8fec47ed-ff38-4a6c-9eda-1716c16ea030",
   "metadata": {},
   "outputs": [
    {
     "data": {
      "text/plain": [
       "<function Module1.func1()>"
      ]
     },
     "execution_count": 82,
     "metadata": {},
     "output_type": "execute_result"
    }
   ],
   "source": [
    "Module1.func1   # 값에 reference"
   ]
  },
  {
   "cell_type": "code",
   "execution_count": 83,
   "id": "c63b1c9d-9992-462b-b234-201c1801b084",
   "metadata": {},
   "outputs": [],
   "source": [
    "import Module1 as m1"
   ]
  },
  {
   "cell_type": "code",
   "execution_count": 8,
   "id": "8a266c9b-e092-44c0-bddf-23d23ed05408",
   "metadata": {},
   "outputs": [
    {
     "name": "stdout",
     "output_type": "stream",
     "text": [
      "Module1.py의 func2()이 호출됨.\n"
     ]
    }
   ],
   "source": [
    "m1.func2()"
   ]
  },
  {
   "cell_type": "code",
   "execution_count": 9,
   "id": "8cefacf7-9f7c-4b3b-b774-4065df71487a",
   "metadata": {},
   "outputs": [],
   "source": [
    "# 모듈 안의 특정한 객체만 가져올 때\n",
    "from Module1 import func1, func2"
   ]
  },
  {
   "cell_type": "code",
   "execution_count": 10,
   "id": "90696a05-1459-4612-b6e0-7c5d6343c714",
   "metadata": {},
   "outputs": [
    {
     "name": "stdout",
     "output_type": "stream",
     "text": [
      "Module1.py의 func1()이 호출됨.\n"
     ]
    }
   ],
   "source": [
    "func1()"
   ]
  },
  {
   "cell_type": "code",
   "execution_count": 11,
   "id": "ef28c6df-82a0-486e-9a68-5845824f9def",
   "metadata": {},
   "outputs": [
    {
     "name": "stdout",
     "output_type": "stream",
     "text": [
      "Module1.py의 func2()이 호출됨.\n"
     ]
    }
   ],
   "source": [
    "func2()"
   ]
  },
  {
   "cell_type": "markdown",
   "id": "314edec5-44eb-4a2f-ba6c-f3bd1369571c",
   "metadata": {},
   "source": [
    "## Module2 테스트"
   ]
  },
  {
   "cell_type": "code",
   "execution_count": 1,
   "id": "b6696391-530d-45d0-88ce-f4fbceca3a9f",
   "metadata": {},
   "outputs": [
    {
     "name": "stdout",
     "output_type": "stream",
     "text": [
      " C 드라이브의 볼륨에는 이름이 없습니다.\n",
      " 볼륨 일련 번호: 688A-A792\n",
      "\n",
      " C:\\Users\\BIT\\Works 디렉터리\n",
      "\n",
      "2022-03-24  오후 03:10               213 Module1.py\n",
      "2022-03-24  오후 03:20                66 Module2.py\n",
      "               2개 파일                 279 바이트\n",
      "               0개 디렉터리  97,429,180,416 바이트 남음\n"
     ]
    }
   ],
   "source": [
    "%ls *.py"
   ]
  },
  {
   "cell_type": "code",
   "execution_count": 3,
   "id": "3bf9da2e-d66a-4f36-8530-1559347d2c79",
   "metadata": {},
   "outputs": [
    {
     "name": "stdout",
     "output_type": "stream",
     "text": [
      "Module2 --> func1()\n"
     ]
    }
   ],
   "source": [
    "!python Module2.py"
   ]
  },
  {
   "cell_type": "code",
   "execution_count": 4,
   "id": "39115c61-2a94-40d0-b31d-b20221e61f20",
   "metadata": {},
   "outputs": [
    {
     "name": "stdout",
     "output_type": "stream",
     "text": [
      "Module2 --> func1()\n"
     ]
    }
   ],
   "source": [
    "# 다른사람\n",
    "import Module2"
   ]
  },
  {
   "cell_type": "markdown",
   "id": "b3f2c81e-47c4-4fca-8248-fcf050bec91a",
   "metadata": {
    "tags": []
   },
   "source": [
    "### `__main__` 적용\n",
    "\n",
    " - C/JAVA 컴파일러 언어 -> start point\n",
    "     - 시작하는 함수\n",
    " - startpoint 대체\n",
    " - 모듈의 테스트 코드"
   ]
  },
  {
   "cell_type": "code",
   "execution_count": 9,
   "id": "080d75f8-537e-4a70-9ff8-3e9e13a494cb",
   "metadata": {},
   "outputs": [
    {
     "name": "stdout",
     "output_type": "stream",
     "text": [
      "Module3 --> func1()\n"
     ]
    }
   ],
   "source": [
    "!python Module3.py"
   ]
  },
  {
   "cell_type": "code",
   "execution_count": 3,
   "id": "acc63820-94bd-4728-a97a-d77a1ac6c2c1",
   "metadata": {},
   "outputs": [
    {
     "name": "stdout",
     "output_type": "stream",
     "text": [
      "('_abc', '_ast', '_bisect', '_blake2', '_codecs', '_codecs_cn', '_codecs_hk', '_codecs_iso2022', '_codecs_jp', '_codecs_kr', '_codecs_tw', '_collections', '_contextvars', '_csv', '_datetime', '_functools', '_heapq', '_imp', '_io', '_json', '_locale', '_lsprof', '_md5', '_multibytecodec', '_opcode', '_operator', '_peg_parser', '_pickle', '_random', '_sha1', '_sha256', '_sha3', '_sha512', '_signal', '_sre', '_stat', '_statistics', '_string', '_struct', '_symtable', '_thread', '_tracemalloc', '_warnings', '_weakref', '_winapi', '_xxsubinterpreters', 'array', 'atexit', 'audioop', 'binascii', 'builtins', 'cmath', 'errno', 'faulthandler', 'gc', 'itertools', 'marshal', 'math', 'mmap', 'msvcrt', 'nt', 'parser', 'sys', 'time', 'winreg', 'xxsubtype', 'zlib')\n"
     ]
    }
   ],
   "source": [
    "import sys\n",
    "print(sys.builtin_module_names)"
   ]
  },
  {
   "cell_type": "code",
   "execution_count": 4,
   "id": "da7f86e4-17b7-4654-887e-b9c7695687d3",
   "metadata": {},
   "outputs": [
    {
     "data": {
      "text/plain": [
       "['__doc__',\n",
       " '__loader__',\n",
       " '__name__',\n",
       " '__package__',\n",
       " '__spec__',\n",
       " 'acos',\n",
       " 'acosh',\n",
       " 'asin',\n",
       " 'asinh',\n",
       " 'atan',\n",
       " 'atan2',\n",
       " 'atanh',\n",
       " 'ceil',\n",
       " 'comb',\n",
       " 'copysign',\n",
       " 'cos',\n",
       " 'cosh',\n",
       " 'degrees',\n",
       " 'dist',\n",
       " 'e',\n",
       " 'erf',\n",
       " 'erfc',\n",
       " 'exp',\n",
       " 'expm1',\n",
       " 'fabs',\n",
       " 'factorial',\n",
       " 'floor',\n",
       " 'fmod',\n",
       " 'frexp',\n",
       " 'fsum',\n",
       " 'gamma',\n",
       " 'gcd',\n",
       " 'hypot',\n",
       " 'inf',\n",
       " 'isclose',\n",
       " 'isfinite',\n",
       " 'isinf',\n",
       " 'isnan',\n",
       " 'isqrt',\n",
       " 'lcm',\n",
       " 'ldexp',\n",
       " 'lgamma',\n",
       " 'log',\n",
       " 'log10',\n",
       " 'log1p',\n",
       " 'log2',\n",
       " 'modf',\n",
       " 'nan',\n",
       " 'nextafter',\n",
       " 'perm',\n",
       " 'pi',\n",
       " 'pow',\n",
       " 'prod',\n",
       " 'radians',\n",
       " 'remainder',\n",
       " 'sin',\n",
       " 'sinh',\n",
       " 'sqrt',\n",
       " 'tan',\n",
       " 'tanh',\n",
       " 'tau',\n",
       " 'trunc',\n",
       " 'ulp']"
      ]
     },
     "execution_count": 4,
     "metadata": {},
     "output_type": "execute_result"
    }
   ],
   "source": [
    "import math\n",
    "dir(math)"
   ]
  },
  {
   "cell_type": "code",
   "execution_count": 1,
   "id": "8c4cac04-1530-4c15-af39-c9b4d728ce6e",
   "metadata": {},
   "outputs": [],
   "source": [
    "import LottoModule as lm"
   ]
  },
  {
   "cell_type": "code",
   "execution_count": 2,
   "id": "33441d65-e867-4840-b3ea-0125dedee854",
   "metadata": {},
   "outputs": [
    {
     "name": "stdout",
     "output_type": "stream",
     "text": [
      "** 로또 추첨을 시작합니다. ** \n",
      "\n",
      "추첨된 로또 번호 ==> 1 11 15 25 33 34 "
     ]
    }
   ],
   "source": [
    "lotto = []\n",
    "num = 0\n",
    "\n",
    "print(\"** 로또 추첨을 시작합니다. ** \\n\");\n",
    "\n",
    "while True :\n",
    "    num = lm.getNumber()\n",
    "    \n",
    "    if lotto.count(num) == 0 :\n",
    "        lotto.append(num)\n",
    "        \n",
    "    if len(lotto) >= 6 :\n",
    "        break\n",
    "        \n",
    "print(\"추첨된 로또 번호 ==> \", end = '')\n",
    "lotto.sort()\n",
    "for i in range(0, 6) :\n",
    "    print(\"%d \" % lotto[i], end ='')"
   ]
  },
  {
   "cell_type": "markdown",
   "id": "a9de06c7-89b9-4843-8d2f-dd4b69580ca7",
   "metadata": {},
   "source": [
    "## 패키지"
   ]
  },
  {
   "cell_type": "code",
   "execution_count": 6,
   "id": "2fb189ce-cc31-4e53-a633-278b121e8a77",
   "metadata": {},
   "outputs": [],
   "source": [
    "import mypackage.Module3"
   ]
  },
  {
   "cell_type": "code",
   "execution_count": 7,
   "id": "40210e6c-c76a-4a5c-89a3-fb2ad895e49c",
   "metadata": {},
   "outputs": [
    {
     "name": "stdout",
     "output_type": "stream",
     "text": [
      "Module3 --> func1()\n"
     ]
    }
   ],
   "source": [
    "mypackage.Module3.func1()"
   ]
  },
  {
   "cell_type": "code",
   "execution_count": null,
   "id": "e9be079a-170e-40c0-8f55-342a96372169",
   "metadata": {},
   "outputs": [],
   "source": [
    "from mypackage import Module3"
   ]
  },
  {
   "cell_type": "code",
   "execution_count": null,
   "id": "37853d86-f9b6-42d9-9d04-76106c1a311e",
   "metadata": {},
   "outputs": [],
   "source": []
  },
  {
   "cell_type": "markdown",
   "id": "461fc113-fb2c-46f6-915e-c70665a0aa60",
   "metadata": {},
   "source": [
    "## Lambda 함수\n",
    "\n",
    "`lambda` 키워드 -> 이름이 없는 함수를 만든다"
   ]
  },
  {
   "cell_type": "code",
   "execution_count": 10,
   "id": "56217f3d-d100-405e-b417-60ba7cef051b",
   "metadata": {},
   "outputs": [],
   "source": [
    "hap2 = lambda x, y: x + y"
   ]
  },
  {
   "cell_type": "code",
   "execution_count": 11,
   "id": "ac5af4fe-19d7-440d-a087-c3ad15eec131",
   "metadata": {},
   "outputs": [
    {
     "data": {
      "text/plain": [
       "function"
      ]
     },
     "execution_count": 11,
     "metadata": {},
     "output_type": "execute_result"
    }
   ],
   "source": [
    "type(hap2)"
   ]
  },
  {
   "cell_type": "code",
   "execution_count": 12,
   "id": "9c2f8aca-c7d4-4538-8a43-ae074132e9af",
   "metadata": {},
   "outputs": [
    {
     "data": {
      "text/plain": [
       "<function __main__.<lambda>(x, y)>"
      ]
     },
     "execution_count": 12,
     "metadata": {},
     "output_type": "execute_result"
    }
   ],
   "source": [
    "hap2"
   ]
  },
  {
   "cell_type": "code",
   "execution_count": 13,
   "id": "3e65b3d2-de1f-431e-9520-3a19f8a7fa69",
   "metadata": {},
   "outputs": [
    {
     "data": {
      "text/plain": [
       "300"
      ]
     },
     "execution_count": 13,
     "metadata": {},
     "output_type": "execute_result"
    }
   ],
   "source": [
    "hap2(100, 200)"
   ]
  },
  {
   "cell_type": "code",
   "execution_count": 14,
   "id": "2f5ed6a3-a7d6-43ad-8f40-d4e020268aef",
   "metadata": {},
   "outputs": [],
   "source": [
    "hap2 = lambda x=10, y=20: x + y"
   ]
  },
  {
   "cell_type": "code",
   "execution_count": 16,
   "id": "f912c89f-9603-4529-8955-71c23f29a57c",
   "metadata": {},
   "outputs": [
    {
     "data": {
      "text/plain": [
       "30"
      ]
     },
     "execution_count": 16,
     "metadata": {},
     "output_type": "execute_result"
    }
   ],
   "source": [
    "hap2()"
   ]
  },
  {
   "cell_type": "code",
   "execution_count": 17,
   "id": "b9d387b2-5dcc-4910-a592-1b7bc6c2e517",
   "metadata": {},
   "outputs": [
    {
     "name": "stdout",
     "output_type": "stream",
     "text": [
      "[11, 12, 13, 14, 15]\n"
     ]
    }
   ],
   "source": [
    "li = [1, 2, 3, 4, 5]\n",
    "\n",
    "result = list(map(lambda x: x+10, li))\n",
    "print(result)"
   ]
  },
  {
   "cell_type": "markdown",
   "id": "1d8cc7cf-f968-4ece-ab28-ababab51db8c",
   "metadata": {},
   "source": [
    "## 재귀함수"
   ]
  },
  {
   "cell_type": "code",
   "execution_count": null,
   "id": "7471ab09-d45d-4e18-a0b3-7cc5d4984fcc",
   "metadata": {},
   "outputs": [
    {
     "name": "stdout",
     "output_type": "stream",
     "text": [
      "하하하하하하하하하하하하하하하하하하하하하하하하하하하하하하하하하하하하하하하하하하하하하하하하하하하하하하하하하하하하하하하하하하하하하하하하하하하하하하하하하하하하하하하하하하하하하하하하하하하하하하하하하하하하하하하하하하하하하하하하하하하하하하하하하하하하하하하하하하하하하하하하하하하하하하하하하하하하하하하하하하하하하하하하하하하하하하하하하하하하하하하하하하하하하하하하하하하하하하하하하하하하하하하하하하하하하하하하하하하하하하하하하하하하하하하하하하하하하하하하하하하하하하하하하하하하하하하하하하하하하하하하하하하하하하하하하하하하하하하하하하하하하하하하하하하하하하하하하하하하하하하하하하하하하하하하하하하하하하하하하하하하하하하하하하하하하하하하하하하하하하하하하하하하하하하하하하하하하하하하하하하하하하하하하하하하하하하하하하하하하하하하하하하하하하하하하하하하하하하하하하하하하하하하하하하하하하하하하하하하하하하하하하하하하하하하하하하하하하하하하하하하하하하하하하하하하하하하하하하하하하하하하하하하하하하하하하하하하하하하하하하하하하하하하하하하하하하하하하하하하하하하하하하하하하하하하하하하하하하하하하하하하하하하하하하하하하하하하하하하하하하하하하하하하하하하하하하하하하하하하하하하하하하하하하하하하하하하하하하하하하하하하하하하하하하하하하하하하하하하하하하하하하하하하하하하하하하하하하하하하하하하하하하하하하하하하하하하하하하하하하하하하하하하하하하하하하하하하하하하하하하하하하하하하하하하하하하하하하하하하하하하하하하하하하하하하하하하하하하하하하하하하하하하하하하하하하하하하하하하하하하하하하하하하하하하하하하하하하하하하하하하하하하하하하하하하하하하하하하하하하하하하하하하하하하하하하하하하하하하하하하하하하하하하하하하하하하하하하하하하하하하하하하하하하하하하하하하하하하하하하하하하하하하하하하하하하하하하하하하하하하하하하하하하하하하하하하하하하하하하하하하하하하하하하하하하하하하하하하하하하하하하하하하하하하하하하하하하하하하하하하하하하하하하하하하하하하하하하하하하하하하하하하하하하하하하하하하하하하하하하하하하하하하하하하하하하하하하하하하하하하하하하하하하하하하하하하하하하하하하하하하하하하하하하하하하하하하하하하하하하하하하하하하하하하하하하하하하하하하하하하하하하하하하하하하하하하하하하하하하하하하하하하하하하하하하하하하하하하하하하하하하하하하하하하하하하하하하하하하하하하하하하하하하하하하하하하하하하하하하하하하하하하하하하하하하하하하하하하하하하하하하하하하하하하하하하하하하하하하하하하하하하하하하하하하하하하하하하하하하하하하하하하하하하하하하하하하하하하하하하하하하하하하하하하하하하하하하하하하하하하하하하하하하하하하하하하하하하하하하하하하하하하하하하하하하하하하하하하하하하하하하하하하하하하하하하하하하하하하하하하하하하하하하하하하하하하하하하하하하하하하하하하하하하하하하하하하하하하하하하하하하하하하하하하하하하하하하하하하하하하하하하하하하하하하하하하하하하하하하하하하하하하하하하하하하하하하하하하하하하하하하하하하하하하하하하하하하하하하하하하하하하하하하하하하하하하하하하하하하하하하하하하하하하하하하하하하하하하하하하하하하하하하하하하하하하하하하하하하하하하하하하하하하하하하하하하하하하하하하하하하하하하하하하하하하하하하하하하하하하하하하하하하하하하하하하하하하하하하하하하하하하하하하하하하하하하하하하하하하하하하하하하하하하하하하하하하하하하하하하하하하하하하하하하하하하하하하하하하하하하하하하하하하하하하하하하하하하하하하하하하하하하하하하하하하하하하하하하하하하하하하하하하하하하하하하하하하하하하하하하하하하하하하하하하하하하하하하하하하하하하하하하하하하하하하하하하하하하하하하하하하하하하하하하하하하하하하하하하하하하하하하하하하하하하하하하하하하하하하하하하하하하하하하하하하하하하하하하하하하하하하하하하하하하하하하하하하하하하하하하하하하하하하하하하하하하하하하하하하하하하하하하하하하하하하하하하하하하하하하하하하하하하하하하하하하하하하하하하하하하하하하하하하하하하하하하하하하하하하하하하하하하하하하하하하하하하하하하하하하하하하하하하하하하하하하하하하하하하하하하하하하하하하하하하하하하하하하하하하하하하하하하하하하하하하하하하하하하하하하하하하하하하하하하하하하하하하하하하하하하하하하하하하하하하하하하하하하하하하하하하하하하하하하하하하하하하하하하하하하하하하하하하하하하하하하하하하하하하하하하하하하하하하하하하하하하하하하하하하하하하하하하하하하하하하하하하하하하하하하하하하하하하하하하하하하하하하하하하하하하하하하하하하하하하하하하하하하하하하하하하하하하하하하하하하하하하하하하하하하하하하하하하하하하하하하하하하하하하하하하하하하하하하하하하하하하하하하하하하하하하하하하하하하하하하하하하하하하하하하하하하하하하하하하하하하하하하하하하하하하하하하하하하하하하하하하하하하하하하하하하하하하하하하하하하하하하하하하하하하하하하하하하하하하하하하하하하하하하하하하하하하하하하하하하하하하하하하하하하하하하하하하하하하하하하하하하하하하하하하하하하하하하하하하하하하하하하하하하하하하하하하하하하하하하하하하하하하하하하하하하하하하하하하하하하하하하하하하하하하하하하하하하하하하하하하하하하하하하하하하하하하하하하하하하하하하하하하하하하하하하하하하하하하하하하하하하하하하하하하하하하하하하하하하하하하하하하하하하하하하하하하하하하하하하하하하하하하하하하하하하하하하하하하하하하하하하하하하하하하하하하하하하하하하하하하하하하하하하하하하하하하하하하하하하하하하하하하하하하하하하하하하하하하하하하하하하하하하하하하하하하하하하하하하하하하하하하하하하하하하하하하하하하하하하하하하하하하하하하하하하하하하하하하하하하하하하하하하하하하하하하하하하하하하하하하하하하하하하하하하하하하하하하하하하하하하하하하하하하하하하하하하하하하하하하하하하하하하하하하하하하하하하하하하하하하하하하하하하하하하하하하하하하하하하하하하하하하하하하하하하하하하하하하하하하하하하하하하하하하하하하하하하하하하하하하하하하하하하하하하하하하하하하하하하하하하하하하하하하하하하하하하하하하하하하하하하하하하하하하하하하하하하하하하하하하하하하하하하하하하하하하하하하하하하하하하하하하하하하하하하하하하하하하하하하하하하하하하하하하하하하하하하하하하하하하하하하"
     ]
    }
   ],
   "source": [
    "def selfCall() :\n",
    "    print('하', end = '')\n",
    "    selfCall()\n",
    "selfCall()"
   ]
  },
  {
   "cell_type": "code",
   "execution_count": 1,
   "id": "6fe1f8ec-f6d5-42c6-a60c-8c57011c836b",
   "metadata": {},
   "outputs": [
    {
     "name": "stdout",
     "output_type": "stream",
     "text": [
      "24\n",
      "3628800\n"
     ]
    }
   ],
   "source": [
    "def factorial(num) :\n",
    "    if num <= 1 :\n",
    "        return num\n",
    "    else :\n",
    "        return num * factorial(num - 1)\n",
    "print(factorial(4))\n",
    "print(factorial(10))"
   ]
  },
  {
   "cell_type": "code",
   "execution_count": null,
   "id": "ae305240-3016-47b2-a8bb-2a1d098a0b05",
   "metadata": {},
   "outputs": [],
   "source": []
  },
  {
   "cell_type": "code",
   "execution_count": null,
   "id": "add511a5-aae4-411a-8dab-c620e5df51f2",
   "metadata": {},
   "outputs": [],
   "source": []
  }
 ],
 "metadata": {
  "kernelspec": {
   "display_name": "Python 3 (ipykernel)",
   "language": "python",
   "name": "python3"
  },
  "language_info": {
   "codemirror_mode": {
    "name": "ipython",
    "version": 3
   },
   "file_extension": ".py",
   "mimetype": "text/x-python",
   "name": "python",
   "nbconvert_exporter": "python",
   "pygments_lexer": "ipython3",
   "version": "3.9.7"
  },
  "toc-autonumbering": false,
  "toc-showmarkdowntxt": false
 },
 "nbformat": 4,
 "nbformat_minor": 5
}
