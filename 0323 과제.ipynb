{
 "cells": [
  {
   "cell_type": "markdown",
   "id": "16f967d1-55c9-4ece-8be7-9def7ef8ab5d",
   "metadata": {},
   "source": [
    "연습문제 풀기"
   ]
  },
  {
   "cell_type": "markdown",
   "id": "148e435f-aae2-47c3-8886-1da4c93aa1dc",
   "metadata": {},
   "source": [
    "Chapter6 p178 9번, 10번(p180 참조)"
   ]
  },
  {
   "cell_type": "code",
   "execution_count": 7,
   "id": "b5095ebb-2a55-4f02-b66c-8e073fdacb55",
   "metadata": {},
   "outputs": [
    {
     "name": "stdout",
     "output_type": "stream",
     "text": [
      "40722\n"
     ]
    }
   ],
   "source": [
    "hap, i = 0, 0\n",
    "\n",
    "for i in range(3333, 10000) :\n",
    "    if i % 1234 != 0 :\n",
    "        continue\n",
    "        \n",
    "    hap += i\n",
    "    \n",
    "    if hap + i > 100000 :\n",
    "        break\n",
    "        \n",
    "print(hap)"
   ]
  },
  {
   "cell_type": "code",
   "execution_count": 8,
   "id": "f3ba3d2d-5d8c-4c5d-b3aa-c41cc6a576e6",
   "metadata": {},
   "outputs": [
    {
     "name": "stdin",
     "output_type": "stream",
     "text": [
      "숫자를 여러 개 입력하세요 :  5914\n"
     ]
    },
    {
     "name": "stdout",
     "output_type": "stream",
     "text": [
      "\n",
      "★★★★★★★★★★\n",
      "★★★★★★★★★★★★★★★★★★\n",
      "★★\n",
      "★★★★★★★★\n"
     ]
    }
   ],
   "source": [
    "## 변수 선언 부분 ##\n",
    "i, k, starNum = 0, 0, 0\n",
    "numStr, ch, starStr = \"\", \"\", \"\"\n",
    "\n",
    "## 메인 코드 부분 ##\n",
    "if __name__==\"__main__\" :\n",
    "    numStr = input(\"숫자를 여러 개 입력하세요 : \")\n",
    "    print(\"\") # 공백\n",
    "    i = 0\n",
    "    ch = numStr[i]\n",
    "    while True : #무한루프\n",
    "        starNum = int(ch)\n",
    "        \n",
    "        starStr = \"\"\n",
    "        for k in range(0, starNum) :\n",
    "            starStr += \"\\u2605\"\n",
    "            k += 1\n",
    "            \n",
    "        print(starStr * 2)\n",
    "        \n",
    "        i += 1\n",
    "        if (i > len(numStr) - 1) :\n",
    "            break\n",
    "            \n",
    "        ch = numStr[i]"
   ]
  },
  {
   "cell_type": "markdown",
   "id": "b80693e9-1ee1-45e9-881b-e71fc044cd1e",
   "metadata": {},
   "source": [
    "Chapter7 p224"
   ]
  },
  {
   "cell_type": "code",
   "execution_count": null,
   "id": "20d8b324-3f7e-4933-a28d-62afaa5f5c0b",
   "metadata": {},
   "outputs": [],
   "source": [
    "1. 2번 nn = [100,200, 300]"
   ]
  },
  {
   "cell_type": "code",
   "execution_count": null,
   "id": "bb31d99c-6e41-4497-a1d1-905ed549729a",
   "metadata": {},
   "outputs": [],
   "source": [
    "2."
   ]
  },
  {
   "cell_type": "code",
   "execution_count": null,
   "id": "33966ca2-de5d-4973-821a-a1614dbace65",
   "metadata": {},
   "outputs": [],
   "source": [
    "## random 모듈 ##\n",
    "\n",
    "import random\n",
    "nn = []\n",
    "for _ in range(10) :\n",
    "    num = random.randrange(1, 100) ## randrange(시작값, 끝값) - 범위  # randint(시작값, 끝값) - 정수값  # random(시작값, 끝값) - 실수  # choice(list) - 리스트 내의 랜덤 값\n",
    "    \n",
    "hap = 0\n",
    "for i in range(10) :\n",
    "    num = \n",
    "    hap += num\n",
    "print(hap)"
   ]
  },
  {
   "cell_type": "code",
   "execution_count": null,
   "id": "ef77e12e-213b-4a59-ac2d-79e60f854e85",
   "metadata": {},
   "outputs": [],
   "source": [
    "3.  1번\n",
    "    2번\n",
    "    3번\n",
    "    4번"
   ]
  },
  {
   "cell_type": "code",
   "execution_count": null,
   "id": "4431934f-6c4f-46b9-950c-f6111539217d",
   "metadata": {},
   "outputs": [],
   "source": [
    "4. 2번 3, -1, -1"
   ]
  },
  {
   "cell_type": "code",
   "execution_count": null,
   "id": "46939fd3-7328-4c59-b7f0-50cb98823780",
   "metadata": {},
   "outputs": [],
   "source": [
    "5.  (1) 500\n",
    "    (2) 500\n",
    "    (3) 400\n",
    "    (4) [200, 300, 400]\n",
    "    (5) [100]\n",
    "  > (6) [300, 400]\n",
    "    (7) [100, 300, 500]\n",
    "    (8) [500, 400, 300, 200, 100]\n",
    "    (9) [500, 300, 100]"
   ]
  },
  {
   "cell_type": "code",
   "execution_count": null,
   "id": "0345782c-1a4c-4c51-b469-5fde56b95565",
   "metadata": {},
   "outputs": [],
   "source": [
    "6.  (1) [100, 777, 300, 400, 500]\n",
    "    (2) [100, 444, 555, 300, 400, 500]\n",
    "    (3) [100, 444, 555, 500]\n",
    "  > (4) [100, 200]"
   ]
  },
  {
   "cell_type": "code",
   "execution_count": null,
   "id": "5e595532-00ca-4be2-b69c-9fe67c99a37c",
   "metadata": {},
   "outputs": [],
   "source": []
  },
  {
   "cell_type": "code",
   "execution_count": null,
   "id": "d45914e7-f757-4d08-9488-364d4bc19863",
   "metadata": {},
   "outputs": [],
   "source": [
    "7.  (1) len()\n",
    "    (2) extend()\n",
    "    (3) pop()\n",
    "    (4) index()\n",
    "    (5) count()"
   ]
  },
  {
   "cell_type": "code",
   "execution_count": null,
   "id": "d96fec61-0ab5-4d57-93b4-6e6d0ad6c9e0",
   "metadata": {},
   "outputs": [],
   "source": [
    "8. 3번"
   ]
  },
  {
   "cell_type": "code",
   "execution_count": null,
   "id": "f63c54d3-76bd-4eb2-a759-be19db944bd8",
   "metadata": {},
   "outputs": [],
   "source": [
    "9.  (1) 2\n",
    "    (2) 8\n",
    "    (3) [9, 10, 11, 12]"
   ]
  },
  {
   "cell_type": "code",
   "execution_count": null,
   "id": "63d3d820-afd4-4e7b-b031-0950431cad72",
   "metadata": {},
   "outputs": [],
   "source": [
    "10. 4번 주로 읽기 전용이지말, 필요한 경우 insert()는 사용이 가능하다\n",
    "    5번 튜플은 1차원만 가능하고, 2차원 튜플은 생성할 수 없다"
   ]
  },
  {
   "cell_type": "code",
   "execution_count": null,
   "id": "7fa36991-ca6d-4273-b607-96437d51a56f",
   "metadata": {},
   "outputs": [],
   "source": [
    "11. 2번\n",
    "    5번 항목의 추가 및 삭제는 가능하지만, '변경은 할 수 없다'"
   ]
  },
  {
   "cell_type": "code",
   "execution_count": null,
   "id": "06aa211d-0a45-457d-b6a5-562c97e53873",
   "metadata": {},
   "outputs": [],
   "source": [
    "12. (1)    (나)\n",
    "    (2)    (다)\n",
    "    (3)    (가)\n",
    "    (4)    (라)"
   ]
  },
  {
   "cell_type": "code",
   "execution_count": null,
   "id": "e2c9ce3d-89e9-4b0f-84b7-9771f08f75ad",
   "metadata": {},
   "outputs": [],
   "source": [
    "13. 1번 세트는 '튜플'의 특수한 형태다"
   ]
  },
  {
   "cell_type": "code",
   "execution_count": 2,
   "id": "24ad531c-e51b-4b75-8176-5b9e400c23d0",
   "metadata": {},
   "outputs": [
    {
     "data": {
      "text/plain": [
       "[[2, 4], [3, 6]]"
      ]
     },
     "execution_count": 2,
     "metadata": {},
     "output_type": "execute_result"
    }
   ],
   "source": [
    "myData = [[n * m for n in range(1,3)] for m in range(2,4)]\n",
    "myData"
   ]
  },
  {
   "cell_type": "code",
   "execution_count": null,
   "id": "21c3d2cf-8c37-4fec-8978-a5642e33c6a2",
   "metadata": {},
   "outputs": [],
   "source": [
    "14. [[2, 4], [3, 6]]"
   ]
  },
  {
   "cell_type": "markdown",
   "id": "e8b739be-bb8a-48fd-a02c-a9bed2fbafc6",
   "metadata": {},
   "source": [
    "스터디숙제"
   ]
  },
  {
   "cell_type": "markdown",
   "id": "25f7bfac-47be-4c5b-8e47-3282b87cb782",
   "metadata": {},
   "source": [
    "chapter7의 p218에 설명하는 리스트 이용한 stack을 해보고"
   ]
  },
  {
   "cell_type": "code",
   "execution_count": 30,
   "id": "14e05790-32d1-434c-81ea-473911c24773",
   "metadata": {},
   "outputs": [],
   "source": [
    "parking = []\n",
    "top = 0"
   ]
  },
  {
   "cell_type": "code",
   "execution_count": 31,
   "id": "976896b9-efce-448f-a385-21228ee8b3f4",
   "metadata": {},
   "outputs": [],
   "source": [
    "parking.append('자동차A')\n",
    "top += 1"
   ]
  },
  {
   "cell_type": "code",
   "execution_count": 33,
   "id": "a1bf7982-1ee6-4b63-975a-1dd8b5fb786f",
   "metadata": {},
   "outputs": [],
   "source": [
    "parking.append('자동차B')\n",
    "top += 1"
   ]
  },
  {
   "cell_type": "code",
   "execution_count": 34,
   "id": "4cc0268d-563f-4b36-a88f-101b585cad7e",
   "metadata": {},
   "outputs": [
    {
     "data": {
      "text/plain": [
       "['자동차A', '자동차B']"
      ]
     },
     "execution_count": 34,
     "metadata": {},
     "output_type": "execute_result"
    }
   ],
   "source": [
    "parking"
   ]
  },
  {
   "cell_type": "code",
   "execution_count": 35,
   "id": "5e806184-693f-4fee-927b-459a8b25c48c",
   "metadata": {},
   "outputs": [],
   "source": [
    "parking.append('자동차C')\n",
    "top += 1"
   ]
  },
  {
   "cell_type": "code",
   "execution_count": 36,
   "id": "0661621f-7718-49e2-b381-66efbd571871",
   "metadata": {},
   "outputs": [
    {
     "data": {
      "text/plain": [
       "['자동차A', '자동차B', '자동차C']"
      ]
     },
     "execution_count": 36,
     "metadata": {},
     "output_type": "execute_result"
    }
   ],
   "source": [
    "parking"
   ]
  },
  {
   "cell_type": "code",
   "execution_count": 37,
   "id": "f97fa67b-b2c2-4fce-ae54-f2702bd7f7c9",
   "metadata": {},
   "outputs": [
    {
     "name": "stdout",
     "output_type": "stream",
     "text": [
      "자동차C\n"
     ]
    }
   ],
   "source": [
    "top -= 1\n",
    "outCar = parking.pop()\n",
    "print(outCar)"
   ]
  },
  {
   "cell_type": "code",
   "execution_count": 38,
   "id": "346b5e4c-2c2f-47e0-a2d3-1892e28d0349",
   "metadata": {},
   "outputs": [
    {
     "data": {
      "text/plain": [
       "['자동차A', '자동차B']"
      ]
     },
     "execution_count": 38,
     "metadata": {},
     "output_type": "execute_result"
    }
   ],
   "source": [
    "parking"
   ]
  },
  {
   "cell_type": "markdown",
   "id": "73d5bfc8-79b8-406d-88a9-2280a2a8db0e",
   "metadata": {},
   "source": [
    "stack, queue에 대한 자료를 찾아보세요"
   ]
  },
  {
   "cell_type": "markdown",
   "id": "3dc81e0b-70fd-4934-bf1b-a7ed199c1339",
   "metadata": {},
   "source": [
    "### Stack\n",
    "\n",
    " - 물건을 쌓아 올리듯 자료를 쌓아 올린 형태의 자료구조\n",
    " - 선형구조\n",
    " - 후입선출구조(LIFO : Last-In-First-Out) : 마지막에 삽입한 자료를 가장 먼저 꺼냄"
   ]
  },
  {
   "cell_type": "markdown",
   "id": "c6674d8b-f842-4bfa-9261-5c9b659b3bdb",
   "metadata": {},
   "source": [
    "### Queue\n",
    "\n",
    " - 큐의 뒤(rear)에서만 삽입 하고, 큐의 앞(front)에서는 삭제만 이루어짐\n",
    " - 선형구조\n",
    " - 선입선출구조(FIFO : First-In-First-Out) : 가장 먼저 삽입된 원소가 가장 먼저 삭제됨\n",
    " - 자바에서는 스택을 Stack클래스로 구현하여 제공하지만 큐는 Queue 인터페이스만 있고 별도의 클래스가 없다. 그래서 Queue 인터페이스를 구현한 클래스들을 사용해야 한다."
   ]
  }
 ],
 "metadata": {
  "kernelspec": {
   "display_name": "Python 3 (ipykernel)",
   "language": "python",
   "name": "python3"
  },
  "language_info": {
   "codemirror_mode": {
    "name": "ipython",
    "version": 3
   },
   "file_extension": ".py",
   "mimetype": "text/x-python",
   "name": "python",
   "nbconvert_exporter": "python",
   "pygments_lexer": "ipython3",
   "version": "3.9.7"
  }
 },
 "nbformat": 4,
 "nbformat_minor": 5
}
