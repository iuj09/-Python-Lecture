{
 "cells": [
  {
   "cell_type": "markdown",
   "id": "bbc15502-67bb-4265-be00-e9506f646bcc",
   "metadata": {},
   "source": [
    "# Python에서 MySQL 접속"
   ]
  },
  {
   "cell_type": "code",
   "execution_count": null,
   "id": "a2f9c50c-761e-4fb7-b4d1-32546698de8c",
   "metadata": {},
   "outputs": [],
   "source": []
  },
  {
   "cell_type": "code",
   "execution_count": null,
   "id": "cc0cf733-6afb-4401-93ca-ff68e432dcdb",
   "metadata": {},
   "outputs": [],
   "source": []
  },
  {
   "cell_type": "code",
   "execution_count": 1,
   "id": "6e107caa-11c7-4d57-b997-021e9e6db1e7",
   "metadata": {},
   "outputs": [
    {
     "name": "stdout",
     "output_type": "stream",
     "text": [
      "Collecting package metadata (current_repodata.json): ...working... done\n",
      "Solving environment: ...working... done\n",
      "\n",
      "## Package Plan ##\n",
      "\n",
      "  environment location: C:\\Users\\BIT\\anaconda3\\envs\\lecture\n",
      "\n",
      "  added / updated specs:\n",
      "    - pymysql\n",
      "\n",
      "\n",
      "The following packages will be downloaded:\n",
      "\n",
      "    package                    |            build\n",
      "    ---------------------------|-----------------\n",
      "    ca-certificates-2022.3.29  |       haa95532_0         122 KB\n",
      "    pymysql-1.0.2              |   py38haa95532_1          77 KB\n",
      "    ------------------------------------------------------------\n",
      "                                           Total:         200 KB\n",
      "\n",
      "The following NEW packages will be INSTALLED:\n",
      "\n",
      "  pymysql            pkgs/main/win-64::pymysql-1.0.2-py38haa95532_1\n",
      "\n",
      "The following packages will be UPDATED:\n",
      "\n",
      "  ca-certificates                       2022.2.1-haa95532_0 --> 2022.3.29-haa95532_0\n",
      "\n",
      "\n",
      "\n",
      "Downloading and Extracting Packages\n",
      "\n",
      "ca-certificates-2022 | 122 KB    |            |   0% \n",
      "ca-certificates-2022 | 122 KB    | ########## | 100% \n",
      "\n",
      "pymysql-1.0.2        | 77 KB     |            |   0% \n",
      "pymysql-1.0.2        | 77 KB     | ########## | 100% \n",
      "Preparing transaction: ...working... done\n",
      "Verifying transaction: ...working... done\n",
      "Executing transaction: ...working... done\n"
     ]
    }
   ],
   "source": [
    "! conda install -y pymysql"
   ]
  },
  {
   "cell_type": "code",
   "execution_count": null,
   "id": "4fd6f18c-712c-4794-8fc2-7906ada58ffc",
   "metadata": {},
   "outputs": [],
   "source": []
  },
  {
   "cell_type": "code",
   "execution_count": 2,
   "id": "34845d97-87ea-4f96-8716-78dd7ae0b586",
   "metadata": {},
   "outputs": [],
   "source": [
    "# step 1 \n",
    "import pymysql"
   ]
  },
  {
   "cell_type": "code",
   "execution_count": 3,
   "id": "bf9a5433-b0ad-4aa0-8b31-d7852e550121",
   "metadata": {},
   "outputs": [],
   "source": [
    "# step 2 : MySQL Connection 연결\n",
    "con = pymysql.connect(host='127.0.0.1', user='root', password='1234',\n",
    "                      db='sqldb', charset='utf8')"
   ]
  },
  {
   "cell_type": "code",
   "execution_count": 4,
   "id": "76f37a32-84f5-4c45-acc9-5caf057b1476",
   "metadata": {},
   "outputs": [],
   "source": [
    "# step 3 : Connection으로부터 Cursor 생성\n",
    "cur = con.cursor()"
   ]
  },
  {
   "cell_type": "code",
   "execution_count": 5,
   "id": "6dac0967-9593-4439-b9c0-f8f2140e2635",
   "metadata": {},
   "outputs": [
    {
     "data": {
      "text/plain": [
       "11"
      ]
     },
     "execution_count": 5,
     "metadata": {},
     "output_type": "execute_result"
    }
   ],
   "source": [
    "# step 4 : SQL문 실행 및 Fetch\n",
    "sql = \"select * from sqldb.usertbl\"\n",
    "cur.execute(sql)"
   ]
  },
  {
   "cell_type": "code",
   "execution_count": 8,
   "id": "f98fbd40-baf9-4898-b664-c85f85bf9f7d",
   "metadata": {},
   "outputs": [],
   "source": [
    "# Data Fetch\n",
    "rows = cur.fetchall()"
   ]
  },
  {
   "cell_type": "code",
   "execution_count": 9,
   "id": "8ab3e75c-6bb5-430f-aa64-cc14c1bd5313",
   "metadata": {},
   "outputs": [
    {
     "data": {
      "text/plain": [
       "tuple"
      ]
     },
     "execution_count": 9,
     "metadata": {},
     "output_type": "execute_result"
    }
   ],
   "source": [
    "type(rows)"
   ]
  },
  {
   "cell_type": "code",
   "execution_count": 10,
   "id": "a081685a-149a-4925-99ef-f79be7d1600b",
   "metadata": {},
   "outputs": [
    {
     "name": "stdout",
     "output_type": "stream",
     "text": [
      "(('BBK', '바비킴', 1973, '서울', '010', '0000000', 176, datetime.date(2013, 5, 5)), ('EJW', '은지원', 1972, '경북', '011', '8888888', 174, datetime.date(2014, 3, 3)), ('JKW', '조관우', 1965, '부산', '018', '9999999', 172, datetime.date(2010, 10, 10)), ('JYP', '조용필', 1950, '경기', '011', '4444444', 166, datetime.date(2009, 4, 4)), ('KBM', '김병만', 1977, '경기', '010', '5555555', 158, datetime.date(2023, 1, 1)), ('KBS', '김범수', 1979, '경남', '011', '2222222', 173, datetime.date(2012, 4, 4)), ('KKH', '김경호', 1971, '전남', '019', '3333333', 177, datetime.date(2007, 7, 7)), ('LJB', '임재범', 1963, '서울', '016', '6666666', 182, datetime.date(2009, 9, 9)), ('LSG', '이승기', 1987, '서울', '011', '1111111', 182, datetime.date(2008, 8, 8)), ('SSK', '성시경', 1979, '서울', None, None, 186, datetime.date(2013, 12, 12)), ('YJS', '윤종신', 1969, '경남', None, None, 170, datetime.date(2005, 5, 5)))\n"
     ]
    }
   ],
   "source": [
    "print(rows)  # 전체 rows"
   ]
  },
  {
   "cell_type": "code",
   "execution_count": 11,
   "id": "8adcc4aa-7450-4aeb-a3f3-79278a67eb41",
   "metadata": {},
   "outputs": [],
   "source": [
    "# step 5 : DB 연결 종료\n",
    "con.close()"
   ]
  },
  {
   "cell_type": "code",
   "execution_count": 25,
   "id": "9d64e7af-0ffd-4d88-ab11-4507f8af8a60",
   "metadata": {},
   "outputs": [],
   "source": [
    "import pandas as pd"
   ]
  },
  {
   "cell_type": "code",
   "execution_count": 28,
   "id": "3f321962-8c4e-4ef1-bb10-7b1b69617e59",
   "metadata": {},
   "outputs": [],
   "source": [
    "df = pd.DataFrame(rows)"
   ]
  },
  {
   "cell_type": "code",
   "execution_count": 29,
   "id": "848cff7d-8e95-4a43-a8f2-d173a6ce39fd",
   "metadata": {},
   "outputs": [
    {
     "data": {
      "text/html": [
       "<div>\n",
       "<style scoped>\n",
       "    .dataframe tbody tr th:only-of-type {\n",
       "        vertical-align: middle;\n",
       "    }\n",
       "\n",
       "    .dataframe tbody tr th {\n",
       "        vertical-align: top;\n",
       "    }\n",
       "\n",
       "    .dataframe thead th {\n",
       "        text-align: right;\n",
       "    }\n",
       "</style>\n",
       "<table border=\"1\" class=\"dataframe\">\n",
       "  <thead>\n",
       "    <tr style=\"text-align: right;\">\n",
       "      <th></th>\n",
       "      <th>0</th>\n",
       "      <th>1</th>\n",
       "      <th>2</th>\n",
       "      <th>3</th>\n",
       "      <th>4</th>\n",
       "      <th>5</th>\n",
       "      <th>6</th>\n",
       "      <th>7</th>\n",
       "    </tr>\n",
       "  </thead>\n",
       "  <tbody>\n",
       "    <tr>\n",
       "      <th>0</th>\n",
       "      <td>BBK</td>\n",
       "      <td>바비킴</td>\n",
       "      <td>1973</td>\n",
       "      <td>서울</td>\n",
       "      <td>010</td>\n",
       "      <td>0000000</td>\n",
       "      <td>176</td>\n",
       "      <td>2013-05-05</td>\n",
       "    </tr>\n",
       "    <tr>\n",
       "      <th>1</th>\n",
       "      <td>EJW</td>\n",
       "      <td>은지원</td>\n",
       "      <td>1972</td>\n",
       "      <td>경북</td>\n",
       "      <td>011</td>\n",
       "      <td>8888888</td>\n",
       "      <td>174</td>\n",
       "      <td>2014-03-03</td>\n",
       "    </tr>\n",
       "    <tr>\n",
       "      <th>2</th>\n",
       "      <td>JKW</td>\n",
       "      <td>조관우</td>\n",
       "      <td>1965</td>\n",
       "      <td>부산</td>\n",
       "      <td>018</td>\n",
       "      <td>9999999</td>\n",
       "      <td>172</td>\n",
       "      <td>2010-10-10</td>\n",
       "    </tr>\n",
       "    <tr>\n",
       "      <th>3</th>\n",
       "      <td>JYP</td>\n",
       "      <td>조용필</td>\n",
       "      <td>1950</td>\n",
       "      <td>경기</td>\n",
       "      <td>011</td>\n",
       "      <td>4444444</td>\n",
       "      <td>166</td>\n",
       "      <td>2009-04-04</td>\n",
       "    </tr>\n",
       "    <tr>\n",
       "      <th>4</th>\n",
       "      <td>KBM</td>\n",
       "      <td>김병만</td>\n",
       "      <td>1977</td>\n",
       "      <td>경기</td>\n",
       "      <td>010</td>\n",
       "      <td>5555555</td>\n",
       "      <td>158</td>\n",
       "      <td>2023-01-01</td>\n",
       "    </tr>\n",
       "    <tr>\n",
       "      <th>5</th>\n",
       "      <td>KBS</td>\n",
       "      <td>김범수</td>\n",
       "      <td>1979</td>\n",
       "      <td>경남</td>\n",
       "      <td>011</td>\n",
       "      <td>2222222</td>\n",
       "      <td>173</td>\n",
       "      <td>2012-04-04</td>\n",
       "    </tr>\n",
       "    <tr>\n",
       "      <th>6</th>\n",
       "      <td>KKH</td>\n",
       "      <td>김경호</td>\n",
       "      <td>1971</td>\n",
       "      <td>전남</td>\n",
       "      <td>019</td>\n",
       "      <td>3333333</td>\n",
       "      <td>177</td>\n",
       "      <td>2007-07-07</td>\n",
       "    </tr>\n",
       "    <tr>\n",
       "      <th>7</th>\n",
       "      <td>LJB</td>\n",
       "      <td>임재범</td>\n",
       "      <td>1963</td>\n",
       "      <td>서울</td>\n",
       "      <td>016</td>\n",
       "      <td>6666666</td>\n",
       "      <td>182</td>\n",
       "      <td>2009-09-09</td>\n",
       "    </tr>\n",
       "    <tr>\n",
       "      <th>8</th>\n",
       "      <td>LSG</td>\n",
       "      <td>이승기</td>\n",
       "      <td>1987</td>\n",
       "      <td>서울</td>\n",
       "      <td>011</td>\n",
       "      <td>1111111</td>\n",
       "      <td>182</td>\n",
       "      <td>2008-08-08</td>\n",
       "    </tr>\n",
       "    <tr>\n",
       "      <th>9</th>\n",
       "      <td>SSK</td>\n",
       "      <td>성시경</td>\n",
       "      <td>1979</td>\n",
       "      <td>서울</td>\n",
       "      <td>None</td>\n",
       "      <td>None</td>\n",
       "      <td>186</td>\n",
       "      <td>2013-12-12</td>\n",
       "    </tr>\n",
       "    <tr>\n",
       "      <th>10</th>\n",
       "      <td>YJS</td>\n",
       "      <td>윤종신</td>\n",
       "      <td>1969</td>\n",
       "      <td>경남</td>\n",
       "      <td>None</td>\n",
       "      <td>None</td>\n",
       "      <td>170</td>\n",
       "      <td>2005-05-05</td>\n",
       "    </tr>\n",
       "  </tbody>\n",
       "</table>\n",
       "</div>"
      ],
      "text/plain": [
       "      0    1     2   3     4        5    6           7\n",
       "0   BBK  바비킴  1973  서울   010  0000000  176  2013-05-05\n",
       "1   EJW  은지원  1972  경북   011  8888888  174  2014-03-03\n",
       "2   JKW  조관우  1965  부산   018  9999999  172  2010-10-10\n",
       "3   JYP  조용필  1950  경기   011  4444444  166  2009-04-04\n",
       "4   KBM  김병만  1977  경기   010  5555555  158  2023-01-01\n",
       "5   KBS  김범수  1979  경남   011  2222222  173  2012-04-04\n",
       "6   KKH  김경호  1971  전남   019  3333333  177  2007-07-07\n",
       "7   LJB  임재범  1963  서울   016  6666666  182  2009-09-09\n",
       "8   LSG  이승기  1987  서울   011  1111111  182  2008-08-08\n",
       "9   SSK  성시경  1979  서울  None     None  186  2013-12-12\n",
       "10  YJS  윤종신  1969  경남  None     None  170  2005-05-05"
      ]
     },
     "execution_count": 29,
     "metadata": {},
     "output_type": "execute_result"
    }
   ],
   "source": [
    "df"
   ]
  },
  {
   "cell_type": "code",
   "execution_count": null,
   "id": "eb567499-7fda-4510-abbb-0f45996ee471",
   "metadata": {},
   "outputs": [],
   "source": []
  },
  {
   "cell_type": "code",
   "execution_count": 22,
   "id": "dc75d618-ea07-4ad4-8803-eba1b73f1fe1",
   "metadata": {},
   "outputs": [
    {
     "name": "stdout",
     "output_type": "stream",
     "text": [
      "사용자ID   사용자이름     이메일       출생연도\n",
      "--------------------------------------------------\n",
      "  BBK       바비킴                     1973  서울\n",
      "  EJW       은지원                     1972  경북\n",
      "  JKW       조관우                     1965  부산\n",
      "  JYP       조용필                     1950  경기\n",
      "  KBM       김병만                     1977  경기\n",
      "  KBS       김범수                     1979  경남\n",
      "  KKH       김경호                     1971  전남\n",
      "  LJB       임재범                     1963  서울\n",
      "  LSG       이승기                     1987  서울\n",
      "  SSK       성시경                     1979  서울\n",
      "  YJS       윤종신                     1969  경남\n"
     ]
    }
   ],
   "source": [
    "# 전역변수 선언부\n",
    "con, cur = None, None\n",
    "data1, data2, data3, data4 = \"\", \"\", \"\", \"\"\n",
    "row = None\n",
    "\n",
    "# 메인 코드\n",
    "con = pymysql.connect(host='localhost', user='root', password='1234',\n",
    "                      db='sqldb', charset='utf8')\n",
    "cur = con.cursor()\n",
    "\n",
    "cur.execute(\"select * from usertbl\")\n",
    "\n",
    "print(\"사용자ID   사용자이름     이메일       출생연도\")\n",
    "print(\"--------------------------------------------------\")\n",
    "\n",
    "while (True) :\n",
    "    row = cur.fetchone()\n",
    "    if row==None :\n",
    "        break\n",
    "    data1 = row[0]\n",
    "    data2 = row[1]\n",
    "    data3 = row[2]\n",
    "    data4 = row[3]\n",
    "    print(\"%5s  %8s  %23s  %s\" % (data1, data2, data3, data4))\n",
    "    \n",
    "con.close()"
   ]
  },
  {
   "cell_type": "code",
   "execution_count": null,
   "id": "8acf487d-e37f-40ab-b7c1-c59f669a17da",
   "metadata": {},
   "outputs": [],
   "source": []
  },
  {
   "cell_type": "code",
   "execution_count": 39,
   "id": "b77c4d61-f925-4d8a-94b9-2dea2e0d6ca3",
   "metadata": {},
   "outputs": [],
   "source": [
    "import pymysql\n",
    "from tkinter import *\n",
    "from tkinter import messagebox\n",
    "\n",
    "## 함수 선언부\n",
    "def insertData() :\n",
    "    con, cur = None, None\n",
    "    data1, data2, data3, data4 = \"\", \"\", \"\", \"\"\n",
    "    sql=\"\"\n",
    "    \n",
    "    conn = pymysql.connect(host='127.0.0.1', user='root', password='1234',\n",
    "                           db='sqldb', charset='utf8')\n",
    "    cur = conn.cursor()\n",
    "    \n",
    "    data1 = edt1.get();  data2 = edt2.get();  data3 = edt3.get();\n",
    "    data4 = edt4.get()\n",
    "    try :\n",
    "        sql = \"insert into usertbl values('\" + data1 + \"', '\" + data2 + \"','\"\n",
    "        + data3 + \"', \" + data4 + \")\"\n",
    "        cur.execute(sql)\n",
    "    except :\n",
    "        messagebox.showerror('오류', '데이터 입력 오류가 발생함')\n",
    "    else :\n",
    "        messagebox.showinfo('성공', '데이터 입력 성공')\n",
    "    conn.commit()\n",
    "    conn.close()\n",
    "    \n",
    "def selectData() :\n",
    "    strData1, strData2, strData3, strData4 = [], [], [], []\n",
    "    conn = pymysql.connect(host='127.0.0.1', user='root', password='1234',\n",
    "                           db='sqldb', charset='utf8')\n",
    "    cur = conn.cursor()\n",
    "    cur.execute(\"select * from usertbl\")\n",
    "    strData1.append(\"사용자ID\");    strData2.append(\"사용자이름\")\n",
    "    strData3.append(\"이메일\");    strData4.append(\"출생년도\")\n",
    "    strData1.append(\"-----------\");    strData2.append(\"-----------\")\n",
    "    strData3.append(\"-----------\");    strData4.append(\"-----------\")\n",
    "    \n",
    "    while (True) :\n",
    "        row = cur.fetchone()\n",
    "        if row == None :\n",
    "            break;\n",
    "        strData1.append(row[0]);    strData2.append(row[1])\n",
    "        strData3.append(row[2]);    strData4.append(row[3])\n",
    "        \n",
    "    listData1.delete(0,listData1.size() - 1);    listData2.delete(0,listData2.size() - 1)\n",
    "    listData3.delete(0,listData3.size() - 1);    listData4.delete(0,listData4.size() - 1)\n",
    "    for item1, item2, item3, item4 in zip(strData1, strData2, strData3, strData4 ):\n",
    "        listData1.insert(END, item1);    listData2.insert(END, item2)\n",
    "        listData3.insert(END, item3);    listData4.insert(END, item4)\n",
    "    conn.close()\n",
    "    \n",
    "## 메인 코드부\n",
    "window = Tk()\n",
    "window.geometry(\"600x300\")\n",
    "window.title(\"GUI 데이터 입력\")\n",
    "\n",
    "edtFrame = Frame(window);\n",
    "edtFrame.pack()\n",
    "listFrame = Frame(window)\n",
    "listFrame.pack(side = BOTTOM,fill=BOTH, expand=1)\n",
    "\n",
    "edt1 = Entry(edtFrame, width=10);    edt1.pack(side=LEFT,padx=10, pady=10)\n",
    "edt2 = Entry(edtFrame, width=10);    edt2.pack(side=LEFT,padx=10, pady=10)\n",
    "edt3 = Entry(edtFrame, width=10);    edt3.pack(side=LEFT,padx=10, pady=10)\n",
    "edt4 = Entry(edtFrame, width=10);    edt4.pack(side=LEFT,padx=10, pady=10)\n",
    "\n",
    "btnInsert = Button(edtFrame, text=\"입력\", command = insertData)\n",
    "btnInsert.pack(side=LEFT,padx=10,pady=10)\n",
    "btnInsert = Button(edtFrame, text=\"조회\", command = selectData)\n",
    "btnInsert.pack(side=LEFT,padx=10,pady=10)\n",
    "\n",
    "listData1 = Listbox(listFrame,bg = 'yellow');\n",
    "listData1.pack(side=LEFT,fill=BOTH, expand=1)\n",
    "listData2 = Listbox(listFrame,bg = 'yellow')\n",
    "listData2.pack(side=LEFT,fill=BOTH, expand=1)\n",
    "listData3 = Listbox(listFrame,bg = 'yellow')\n",
    "listData3.pack(side=LEFT,fill=BOTH, expand=1)\n",
    "listData4 = Listbox(listFrame,bg = 'yellow')\n",
    "listData4.pack(side=LEFT,fill=BOTH, expand=1)\n",
    "\n",
    "window.mainloop()"
   ]
  },
  {
   "cell_type": "code",
   "execution_count": null,
   "id": "876b54b4-398e-4e6e-b5b1-5737d0978dfb",
   "metadata": {},
   "outputs": [],
   "source": []
  },
  {
   "cell_type": "code",
   "execution_count": null,
   "id": "012cfab8-396c-40e5-a27c-3086c24abdf0",
   "metadata": {},
   "outputs": [],
   "source": []
  },
  {
   "cell_type": "code",
   "execution_count": null,
   "id": "2cdeace8-e978-4eec-9a51-0b878e195a5b",
   "metadata": {},
   "outputs": [],
   "source": []
  },
  {
   "cell_type": "code",
   "execution_count": null,
   "id": "516b8315-a527-4cdb-ad71-b2fde07ef7a5",
   "metadata": {},
   "outputs": [],
   "source": []
  },
  {
   "cell_type": "code",
   "execution_count": null,
   "id": "41527676-1ee3-49eb-9cc2-9575d0fe01bc",
   "metadata": {},
   "outputs": [],
   "source": []
  },
  {
   "cell_type": "code",
   "execution_count": null,
   "id": "cea7b065-e1e8-4d72-a95b-84bd91f113ef",
   "metadata": {},
   "outputs": [],
   "source": []
  },
  {
   "cell_type": "code",
   "execution_count": null,
   "id": "afdc299b-88e5-4a2a-ae48-f1b90ff3a52f",
   "metadata": {},
   "outputs": [],
   "source": []
  },
  {
   "cell_type": "code",
   "execution_count": null,
   "id": "2614c3b7-d78b-4adb-8018-ab064aac613b",
   "metadata": {},
   "outputs": [],
   "source": []
  },
  {
   "cell_type": "code",
   "execution_count": null,
   "id": "e8c071aa-1ab0-451d-b373-f8c5ccf42279",
   "metadata": {},
   "outputs": [],
   "source": []
  },
  {
   "cell_type": "code",
   "execution_count": null,
   "id": "e7f9e31d-9214-4cd7-a05a-0a254e7a31dd",
   "metadata": {},
   "outputs": [],
   "source": []
  },
  {
   "cell_type": "code",
   "execution_count": null,
   "id": "4bd21f38-ca0e-44f2-b3db-bf04e5fea6cc",
   "metadata": {},
   "outputs": [],
   "source": []
  },
  {
   "cell_type": "code",
   "execution_count": null,
   "id": "4e0aa297-655a-4d56-a349-46f3b0690b2f",
   "metadata": {},
   "outputs": [],
   "source": []
  },
  {
   "cell_type": "code",
   "execution_count": null,
   "id": "d1738652-1a8a-4822-9b84-9fca6dbcd101",
   "metadata": {},
   "outputs": [],
   "source": []
  },
  {
   "cell_type": "code",
   "execution_count": null,
   "id": "a4a57b06-a4ea-44a8-b35d-9d657c313076",
   "metadata": {},
   "outputs": [],
   "source": []
  },
  {
   "cell_type": "code",
   "execution_count": null,
   "id": "1e566894-fc49-45b8-b367-f9d712838063",
   "metadata": {},
   "outputs": [],
   "source": []
  },
  {
   "cell_type": "code",
   "execution_count": null,
   "id": "2f71db4f-4b91-4981-bbdb-a0fdb5e9f99c",
   "metadata": {},
   "outputs": [],
   "source": []
  },
  {
   "cell_type": "code",
   "execution_count": null,
   "id": "6041f381-8de3-4392-9355-530d0f6b4ab8",
   "metadata": {},
   "outputs": [],
   "source": []
  },
  {
   "cell_type": "code",
   "execution_count": null,
   "id": "476aae66-0d67-4d3a-887f-7650f3184a2d",
   "metadata": {},
   "outputs": [],
   "source": []
  },
  {
   "cell_type": "code",
   "execution_count": null,
   "id": "06930bfb-c36b-44d4-9678-6b7e0e6559f2",
   "metadata": {},
   "outputs": [],
   "source": []
  },
  {
   "cell_type": "code",
   "execution_count": null,
   "id": "3e469f75-c7f4-4765-a249-4047052fcd6f",
   "metadata": {},
   "outputs": [],
   "source": []
  },
  {
   "cell_type": "code",
   "execution_count": null,
   "id": "f069f06f-530f-4d7e-b0ec-b76a4fe55f88",
   "metadata": {},
   "outputs": [],
   "source": []
  },
  {
   "cell_type": "code",
   "execution_count": null,
   "id": "3eb626cb-5f45-4f77-a5f8-4c2a773153c4",
   "metadata": {},
   "outputs": [],
   "source": []
  }
 ],
 "metadata": {
  "kernelspec": {
   "display_name": "Python 3 (ipykernel)",
   "language": "python",
   "name": "python3"
  },
  "language_info": {
   "codemirror_mode": {
    "name": "ipython",
    "version": 3
   },
   "file_extension": ".py",
   "mimetype": "text/x-python",
   "name": "python",
   "nbconvert_exporter": "python",
   "pygments_lexer": "ipython3",
   "version": "3.9.7"
  }
 },
 "nbformat": 4,
 "nbformat_minor": 5
}
