{
 "cells": [
  {
   "cell_type": "markdown",
   "id": "244a6a22-e3a5-414f-9c6b-bae17f6ed692",
   "metadata": {
    "tags": []
   },
   "source": [
    "# Chapter3"
   ]
  },
  {
   "cell_type": "markdown",
   "id": "85dc449f-cefc-4b25-b2e9-1b1554fce009",
   "metadata": {},
   "source": [
    "print() 입력 값을 기본 콘솔(터미널)로 내보내는 역할\n",
    "\n",
    "**OS 콘솔**\n",
    " - 표준입출력을 수행하는 프로그램"
   ]
  },
  {
   "cell_type": "code",
   "execution_count": 1,
   "id": "3c416610-60e9-4661-b061-88abcfbcaab2",
   "metadata": {},
   "outputs": [
    {
     "name": "stdout",
     "output_type": "stream",
     "text": [
      "안녕\n"
     ]
    }
   ],
   "source": [
    "print(\"안녕\")"
   ]
  },
  {
   "cell_type": "code",
   "execution_count": 2,
   "id": "b9300505-0619-4752-a328-1a41ce84de0f",
   "metadata": {},
   "outputs": [
    {
     "name": "stdin",
     "output_type": "stream",
     "text": [
      "입력 028934038240234\n"
     ]
    },
    {
     "data": {
      "text/plain": [
       "'028934038240234'"
      ]
     },
     "execution_count": 2,
     "metadata": {},
     "output_type": "execute_result"
    }
   ],
   "source": [
    "input('입력')"
   ]
  },
  {
   "cell_type": "markdown",
   "id": "960ac0fd-d2ba-448c-b9e8-049305f3ca5f",
   "metadata": {},
   "source": [
    "**p63**"
   ]
  },
  {
   "cell_type": "code",
   "execution_count": 3,
   "id": "de615842-c9ff-4886-bc6d-814f51faaa99",
   "metadata": {},
   "outputs": [
    {
     "name": "stdout",
     "output_type": "stream",
     "text": [
      "100\n"
     ]
    }
   ],
   "source": [
    "print(\"100\")"
   ]
  },
  {
   "cell_type": "markdown",
   "id": "4147866a-88a5-4c90-aed8-bb68644c60b9",
   "metadata": {},
   "source": [
    "## 형식화문자열(Formatting string)\n",
    "\n",
    "1. '%' 연결자\n",
    "1. String.format()\n",
    "1. f 리터럴"
   ]
  },
  {
   "cell_type": "code",
   "execution_count": 7,
   "id": "85d2f299-4a97-4ca3-9a57-f60b1bd2b079",
   "metadata": {},
   "outputs": [
    {
     "name": "stdout",
     "output_type": "stream",
     "text": [
      "입력 100는 50의 평균이고 곱셈은 100*50=5000 입니다.\n"
     ]
    }
   ],
   "source": [
    "print(\"입력 %d는 %d의 평균이고 곱셈은 %d*%d=%d 입니다.\" % (100, 50, 100, 50, (100*50)))"
   ]
  },
  {
   "cell_type": "markdown",
   "id": "c35d893a-a43e-427f-8392-f5d0f79898cf",
   "metadata": {},
   "source": [
    "### f리터럴 방식"
   ]
  },
  {
   "cell_type": "code",
   "execution_count": 9,
   "id": "f2bfcc02-cea3-489a-98e6-3b51375ad894",
   "metadata": {},
   "outputs": [
    {
     "name": "stdout",
     "output_type": "stream",
     "text": [
      "입력 100는 50의 평균이고 곱셈은 100*50=5000 입니다.\n"
     ]
    }
   ],
   "source": [
    "print(f\"입력 {100}는 {50}의 평균이고 곱셈은 {100}*{50}={100*50} 입니다.\")"
   ]
  },
  {
   "cell_type": "markdown",
   "id": "2e254538-7856-44bf-98c3-72862f3310df",
   "metadata": {},
   "source": [
    "### 형식문자"
   ]
  },
  {
   "cell_type": "code",
   "execution_count": 10,
   "id": "33b38eff-6929-4177-8edc-5b9761847e56",
   "metadata": {},
   "outputs": [
    {
     "name": "stdout",
     "output_type": "stream",
     "text": [
      "1000\n"
     ]
    }
   ],
   "source": [
    "print(\"%d\" % 1000)"
   ]
  },
  {
   "cell_type": "code",
   "execution_count": 11,
   "id": "4dc9ecd2-2594-4995-9a0f-c5fa80079c6f",
   "metadata": {},
   "outputs": [
    {
     "name": "stdout",
     "output_type": "stream",
     "text": [
      "0\n"
     ]
    }
   ],
   "source": [
    "print(\"%d\" % 0.1)"
   ]
  },
  {
   "cell_type": "code",
   "execution_count": 12,
   "id": "23e15858-8ba9-4fe7-9203-edbedf6f546a",
   "metadata": {},
   "outputs": [
    {
     "name": "stdout",
     "output_type": "stream",
     "text": [
      "0.100000\n"
     ]
    }
   ],
   "source": [
    "print(\"%f\" % 0.1)"
   ]
  },
  {
   "cell_type": "code",
   "execution_count": 15,
   "id": "d58b2f14-d20b-4578-8627-db869629c96d",
   "metadata": {},
   "outputs": [
    {
     "name": "stdout",
     "output_type": "stream",
     "text": [
      "9 a b c d e f\n"
     ]
    }
   ],
   "source": [
    "print(\"%x %x %x %x %x %x %x\" % (9,10,11,12,13,14,15))"
   ]
  },
  {
   "cell_type": "code",
   "execution_count": 16,
   "id": "db96662a-48c2-41a4-9577-51e19b76112e",
   "metadata": {},
   "outputs": [
    {
     "name": "stdout",
     "output_type": "stream",
     "text": [
      "10\n"
     ]
    }
   ],
   "source": [
    "print(\"%x\" % 16)"
   ]
  },
  {
   "cell_type": "code",
   "execution_count": 18,
   "id": "eb3082e5-f93f-4c77-a177-8f9c5edc55e1",
   "metadata": {},
   "outputs": [
    {
     "name": "stdout",
     "output_type": "stream",
     "text": [
      "1 3 7 10 11 12 13\n"
     ]
    }
   ],
   "source": [
    "print(\"%o %o %o %o %o %o %o\" % (1,3,7,8,9,10,11))"
   ]
  },
  {
   "cell_type": "code",
   "execution_count": 19,
   "id": "643cfc51-8c1a-4917-aa31-fbd3673c9dfe",
   "metadata": {},
   "outputs": [
    {
     "name": "stdout",
     "output_type": "stream",
     "text": [
      "123\n",
      "  123\n",
      "00123\n",
      "123.450000\n",
      "  123.5\n",
      "123.450\n",
      "Python\n",
      "    Python\n"
     ]
    }
   ],
   "source": [
    "print(\"%d\" % 123)\n",
    "print(\"%5d\" % 123)\n",
    "print(\"%05d\" % 123)\n",
    "\n",
    "print(\"%f\" % 123.45)\n",
    "print(\"%7.1f\" % 123.45)\n",
    "print(\"%7.3f\" % 123.45)\n",
    "\n",
    "print(\"%s\" % \"Python\")\n",
    "print(\"%10s\" % \"Python\")"
   ]
  },
  {
   "cell_type": "markdown",
   "id": "fcb89c92-2890-4307-83ce-6fc681762912",
   "metadata": {},
   "source": [
    "### format() 문자열"
   ]
  },
  {
   "cell_type": "code",
   "execution_count": 20,
   "id": "ceec0bc4-cc35-41f0-86b1-ea4163f76abd",
   "metadata": {},
   "outputs": [
    {
     "name": "stdout",
     "output_type": "stream",
     "text": [
      "123   123 00123\n",
      "123   123 00123\n"
     ]
    }
   ],
   "source": [
    "print(\"%d %5d %05d\" % (123, 123, 123))\n",
    "print(\"{0:d} {1:5d} {2:05d}\".format(123, 123, 123))"
   ]
  },
  {
   "cell_type": "code",
   "execution_count": 23,
   "id": "bf91e7b1-29c1-42e5-8d56-3b1ae3427484",
   "metadata": {},
   "outputs": [
    {
     "name": "stdout",
     "output_type": "stream",
     "text": [
      "567   234 00123\n"
     ]
    }
   ],
   "source": [
    "print(\"{2:d} {1:5d} {0:05d}\".format(123, 234, 567))"
   ]
  },
  {
   "cell_type": "code",
   "execution_count": 21,
   "id": "07e24db4-b2dc-43f9-8cfa-94a1c56065c6",
   "metadata": {},
   "outputs": [
    {
     "name": "stdout",
     "output_type": "stream",
     "text": [
      "300 200 100\n"
     ]
    }
   ],
   "source": [
    "print(\"{2:d} {1:d} {0:d}\".format(100, 200, 300))"
   ]
  },
  {
   "cell_type": "markdown",
   "id": "e2c1fc51-1fc8-4ab6-b1f7-010a43e17050",
   "metadata": {},
   "source": [
    "**이스케이프 문자**"
   ]
  },
  {
   "cell_type": "code",
   "execution_count": 24,
   "id": "5c51fec9-9595-4ed9-9cba-8d87168c1e70",
   "metadata": {},
   "outputs": [
    {
     "name": "stdout",
     "output_type": "stream",
     "text": [
      "한줄에 다써보자...열심히 \n",
      "줄 바꿈\n",
      "연습\n"
     ]
    }
   ],
   "source": [
    "print(\"한줄에 다써보자...열심히 \\n줄 바꿈\\n연습\")"
   ]
  },
  {
   "cell_type": "code",
   "execution_count": 25,
   "id": "c7f91d8e-e171-4b94-a54a-4b57b521d461",
   "metadata": {},
   "outputs": [
    {
     "name": "stdout",
     "output_type": "stream",
     "text": [
      "----\t----\t----\n",
      "\n",
      "종류\t설명\t비고\n",
      "\n",
      "----\t----\t----\n",
      "\n"
     ]
    }
   ],
   "source": [
    "print(\"----\\t----\\t----\\n\")\n",
    "print(\"종류\\t설명\\t비고\\n\")\n",
    "print(\"----\\t----\\t----\\n\")"
   ]
  },
  {
   "cell_type": "code",
   "execution_count": null,
   "id": "070d72b7-b98a-4a5c-839b-cd6ce715cb43",
   "metadata": {},
   "outputs": [],
   "source": []
  },
  {
   "cell_type": "code",
   "execution_count": 26,
   "id": "1642d4b1-9a94-4fd3-8bed-e1799e625c7e",
   "metadata": {},
   "outputs": [
    {
     "name": "stdout",
     "output_type": "stream",
     "text": [
      "글자가 \"강조\"되는 효과1\n"
     ]
    }
   ],
   "source": [
    "print(\"글자가 \\\"강조\\\"되는 효과1\")"
   ]
  },
  {
   "cell_type": "code",
   "execution_count": 30,
   "id": "9c3ea153-8612-4028-acc0-92be4af44fbf",
   "metadata": {},
   "outputs": [
    {
     "name": "stdout",
     "output_type": "stream",
     "text": [
      "글자가 '강조'되는 효과2\n"
     ]
    }
   ],
   "source": [
    "print(\"글자가 \\'강조\\'되는 효과2\")"
   ]
  },
  {
   "cell_type": "code",
   "execution_count": 29,
   "id": "9499c5ad-e62a-4bb0-bfe7-9ef6f31ce674",
   "metadata": {},
   "outputs": [
    {
     "name": "stdout",
     "output_type": "stream",
     "text": [
      "\\\\\\ 역슬래시 세 개 출력\n"
     ]
    }
   ],
   "source": [
    "print(\"\\\\\\\\\\\\ 역슬래시 세 개 출력\")"
   ]
  },
  {
   "cell_type": "markdown",
   "id": "0f7debe8-e750-474d-a166-57a09ad88f08",
   "metadata": {},
   "source": [
    "raw string"
   ]
  },
  {
   "cell_type": "code",
   "execution_count": 31,
   "id": "aceb54c5-7c7a-45bd-bd07-a47a1013f887",
   "metadata": {},
   "outputs": [
    {
     "name": "stdout",
     "output_type": "stream",
     "text": [
      "\\n \\t \\\" \\\\를 그대로 출력\n"
     ]
    }
   ],
   "source": [
    "print(r\"\\n \\t \\\" \\\\를 그대로 출력\")"
   ]
  },
  {
   "cell_type": "code",
   "execution_count": 32,
   "id": "d53ec98f-916b-48e0-85aa-504fb2ed25b0",
   "metadata": {},
   "outputs": [
    {
     "name": "stdout",
     "output_type": "stream",
     "text": [
      "    *    \n",
      "   ***   \n",
      "  *****  \n",
      " ******* \n",
      "*********\n",
      " ******* \n",
      "  *****  \n",
      "   ***   \n",
      "    *    \n"
     ]
    }
   ],
   "source": [
    "print(\"    *    \")\n",
    "print(\"   ***   \")\n",
    "print(\"  *****  \")\n",
    "print(\" ******* \")\n",
    "print(\"*********\")\n",
    "print(\" ******* \")\n",
    "print(\"  *****  \")\n",
    "print(\"   ***   \")\n",
    "print(\"    *    \")"
   ]
  },
  {
   "cell_type": "markdown",
   "id": "6b622400-d489-40e9-a2f3-a96e899e9bcc",
   "metadata": {},
   "source": [
    "## Section03\n",
    "\n",
    "변수 : 값을 저장하는 메모리 공간 (식별자 identifier)\n",
    "\n",
    "    Python변수 : 동적타이핑(Dynamic typing) - 변수 선언시 임의로 형식 설정(별도 형식 지정X)\n",
    "    C, JAVA : 정적타이핑 - 변수 선언시 형식 지정"
   ]
  },
  {
   "cell_type": "code",
   "execution_count": null,
   "id": "cfd5a704-082e-40d4-9484-1ca0a9ba9ef2",
   "metadata": {},
   "outputs": [],
   "source": [
    "# 참거짓 값 : True, False"
   ]
  },
  {
   "cell_type": "code",
   "execution_count": 34,
   "id": "e790132b-4f68-4fff-8eb4-21da7d20b810",
   "metadata": {},
   "outputs": [],
   "source": [
    "boolVar = True"
   ]
  },
  {
   "cell_type": "code",
   "execution_count": 35,
   "id": "033b7fe5-75a3-49bb-90e7-95d1707e0bf6",
   "metadata": {},
   "outputs": [
    {
     "data": {
      "text/plain": [
       "True"
      ]
     },
     "execution_count": 35,
     "metadata": {},
     "output_type": "execute_result"
    }
   ],
   "source": [
    "boolVar"
   ]
  },
  {
   "cell_type": "code",
   "execution_count": 36,
   "id": "bd4dcde7-3822-45b5-8b66-682c0302e45a",
   "metadata": {},
   "outputs": [
    {
     "data": {
      "text/plain": [
       "'문자열'"
      ]
     },
     "execution_count": 36,
     "metadata": {},
     "output_type": "execute_result"
    }
   ],
   "source": [
    "boolVar = \"문자열\"\n",
    "boolVar"
   ]
  },
  {
   "cell_type": "code",
   "execution_count": 38,
   "id": "eca1981d-6768-4774-8682-20102cbca893",
   "metadata": {
    "tags": []
   },
   "outputs": [],
   "source": [
    "boolVar = 0.1"
   ]
  },
  {
   "cell_type": "code",
   "execution_count": 39,
   "id": "5acd8cf7-4926-4b37-9d02-528d6102aa2d",
   "metadata": {},
   "outputs": [
    {
     "ename": "TypeError",
     "evalue": "can only concatenate str (not \"float\") to str",
     "output_type": "error",
     "traceback": [
      "\u001b[1;31m---------------------------------------------------------------------------\u001b[0m",
      "\u001b[1;31mTypeError\u001b[0m                                 Traceback (most recent call last)",
      "\u001b[1;32m~\\AppData\\Local\\Temp/ipykernel_10148/4034436319.py\u001b[0m in \u001b[0;36m<module>\u001b[1;34m\u001b[0m\n\u001b[1;32m----> 1\u001b[1;33m \u001b[0mprint\u001b[0m\u001b[1;33m(\u001b[0m\u001b[1;34m\"boolVar는 \"\u001b[0m \u001b[1;33m+\u001b[0m \u001b[0mboolVar\u001b[0m\u001b[1;33m)\u001b[0m\u001b[1;33m\u001b[0m\u001b[1;33m\u001b[0m\u001b[0m\n\u001b[0m",
      "\u001b[1;31mTypeError\u001b[0m: can only concatenate str (not \"float\") to str"
     ]
    }
   ],
   "source": [
    "print(\"boolVar는 \" + boolVar)"
   ]
  },
  {
   "cell_type": "code",
   "execution_count": 40,
   "id": "e720e5bf-99ca-433b-ab62-f05b72dd06c0",
   "metadata": {},
   "outputs": [
    {
     "name": "stdout",
     "output_type": "stream",
     "text": [
      "boolVar는  0.1\n"
     ]
    }
   ],
   "source": [
    "print(\"boolVar는 \", boolVar)"
   ]
  },
  {
   "cell_type": "code",
   "execution_count": 41,
   "id": "2d0389eb-3336-4c72-95c7-2b0b87f657c8",
   "metadata": {},
   "outputs": [
    {
     "name": "stdout",
     "output_type": "stream",
     "text": [
      "boolVar는 0.100000\n"
     ]
    }
   ],
   "source": [
    "print(\"boolVar는 %f\" % boolVar)"
   ]
  },
  {
   "cell_type": "code",
   "execution_count": 42,
   "id": "2f2ac239-942c-42f2-93f8-33fcb2f65224",
   "metadata": {},
   "outputs": [
    {
     "data": {
      "text/plain": [
       "(True, 0, 0.1, '안녕')"
      ]
     },
     "execution_count": 42,
     "metadata": {},
     "output_type": "execute_result"
    }
   ],
   "source": [
    "a, b, f, s = True, 0, 0.1, \"안녕\"\n",
    "a, b, f, s"
   ]
  },
  {
   "cell_type": "code",
   "execution_count": 43,
   "id": "c4ad15d7-d95c-457b-9598-8dc33d869ac9",
   "metadata": {},
   "outputs": [],
   "source": [
    "z = y = w = 0"
   ]
  },
  {
   "cell_type": "code",
   "execution_count": 44,
   "id": "77b7763e-fe97-4bc4-a992-cd44ad227d3b",
   "metadata": {},
   "outputs": [
    {
     "data": {
      "text/plain": [
       "(0, 0, 0)"
      ]
     },
     "execution_count": 44,
     "metadata": {},
     "output_type": "execute_result"
    }
   ],
   "source": [
    "z, y, w"
   ]
  },
  {
   "cell_type": "markdown",
   "id": "bbdea75c-16e4-49af-95d6-94948c72cedd",
   "metadata": {},
   "source": [
    "변수이름\n",
    "\n",
    "- 숫자시작X\n",
    "- 예약어X\n",
    "- 대소문자 구분"
   ]
  },
  {
   "cell_type": "code",
   "execution_count": 45,
   "id": "895a3533-606a-495e-b5ad-f0b77feac0e0",
   "metadata": {},
   "outputs": [],
   "source": [
    "myVar = 10"
   ]
  },
  {
   "cell_type": "code",
   "execution_count": 46,
   "id": "153ee388-9075-4185-a462-241af23f20ea",
   "metadata": {},
   "outputs": [],
   "source": [
    "_var = 10"
   ]
  },
  {
   "cell_type": "code",
   "execution_count": 1,
   "id": "33ffc744-79c1-427c-bf71-ea3ba6814ec4",
   "metadata": {},
   "outputs": [
    {
     "data": {
      "text/plain": [
       "(10, 11)"
      ]
     },
     "execution_count": 1,
     "metadata": {},
     "output_type": "execute_result"
    }
   ],
   "source": [
    "myVar = 10\n",
    "MyVar = 11\n",
    "myVar, MyVar"
   ]
  },
  {
   "cell_type": "markdown",
   "id": "3ca193d1-ec8d-4ec4-9ec9-452de2a8dcfd",
   "metadata": {},
   "source": [
    "예약어"
   ]
  },
  {
   "cell_type": "code",
   "execution_count": 48,
   "id": "2cf50850-9592-445f-ad41-fd992e22fb23",
   "metadata": {},
   "outputs": [],
   "source": [
    "import keyword"
   ]
  },
  {
   "cell_type": "code",
   "execution_count": 50,
   "id": "3ef8a4c0-d3fb-4137-97ba-933d6eec61c0",
   "metadata": {},
   "outputs": [
    {
     "data": {
      "text/plain": [
       "['False',\n",
       " 'None',\n",
       " 'True',\n",
       " '__peg_parser__',\n",
       " 'and',\n",
       " 'as',\n",
       " 'assert',\n",
       " 'async',\n",
       " 'await',\n",
       " 'break',\n",
       " 'class',\n",
       " 'continue',\n",
       " 'def',\n",
       " 'del',\n",
       " 'elif',\n",
       " 'else',\n",
       " 'except',\n",
       " 'finally',\n",
       " 'for',\n",
       " 'from',\n",
       " 'global',\n",
       " 'if',\n",
       " 'import',\n",
       " 'in',\n",
       " 'is',\n",
       " 'lambda',\n",
       " 'nonlocal',\n",
       " 'not',\n",
       " 'or',\n",
       " 'pass',\n",
       " 'raise',\n",
       " 'return',\n",
       " 'try',\n",
       " 'while',\n",
       " 'with',\n",
       " 'yield']"
      ]
     },
     "execution_count": 50,
     "metadata": {},
     "output_type": "execute_result"
    }
   ],
   "source": [
    "keyword.kwlist"
   ]
  },
  {
   "cell_type": "code",
   "execution_count": 51,
   "id": "aaaf8251-11ac-404b-aedb-f83e86404c1e",
   "metadata": {},
   "outputs": [
    {
     "data": {
      "text/plain": [
       "int"
      ]
     },
     "execution_count": 51,
     "metadata": {},
     "output_type": "execute_result"
    }
   ],
   "source": [
    "type(myVar)"
   ]
  },
  {
   "cell_type": "code",
   "execution_count": 52,
   "id": "63e8496a-6063-4115-9c37-0c60c3584b2b",
   "metadata": {},
   "outputs": [
    {
     "data": {
      "text/plain": [
       "bool"
      ]
     },
     "execution_count": 52,
     "metadata": {},
     "output_type": "execute_result"
    }
   ],
   "source": [
    "type(a)"
   ]
  },
  {
   "cell_type": "code",
   "execution_count": 53,
   "id": "00413b9c-70ce-4c70-98a2-3d1ac6e6013d",
   "metadata": {},
   "outputs": [
    {
     "data": {
      "text/plain": [
       "float"
      ]
     },
     "execution_count": 53,
     "metadata": {},
     "output_type": "execute_result"
    }
   ],
   "source": [
    "a = 100.01\n",
    "type(a)"
   ]
  },
  {
   "cell_type": "code",
   "execution_count": 54,
   "id": "4bba1d85-a92d-4ffa-8a91-9da1cba0dd02",
   "metadata": {},
   "outputs": [
    {
     "data": {
      "text/plain": [
       "67"
      ]
     },
     "execution_count": 54,
     "metadata": {},
     "output_type": "execute_result"
    }
   ],
   "source": [
    "0b1000011"
   ]
  },
  {
   "cell_type": "code",
   "execution_count": 58,
   "id": "d0b12cfe-f565-4533-9d7b-9e60a3030146",
   "metadata": {},
   "outputs": [
    {
     "data": {
      "text/plain": [
       "147"
      ]
     },
     "execution_count": 58,
     "metadata": {},
     "output_type": "execute_result"
    }
   ],
   "source": [
    "a = 0b10010011\n",
    "a"
   ]
  },
  {
   "cell_type": "code",
   "execution_count": 55,
   "id": "0ef04544-d3a9-426c-85f0-6f6ad9c691c6",
   "metadata": {},
   "outputs": [
    {
     "data": {
      "text/plain": [
       "147"
      ]
     },
     "execution_count": 55,
     "metadata": {},
     "output_type": "execute_result"
    }
   ],
   "source": [
    "int('10010011', 2)"
   ]
  },
  {
   "cell_type": "code",
   "execution_count": 59,
   "id": "c3f77083-0ee4-49cb-84a3-6510f8a42b5c",
   "metadata": {},
   "outputs": [
    {
     "data": {
      "text/plain": [
       "250"
      ]
     },
     "execution_count": 59,
     "metadata": {},
     "output_type": "execute_result"
    }
   ],
   "source": [
    "int('FA', 16)"
   ]
  },
  {
   "cell_type": "code",
   "execution_count": 60,
   "id": "b7ffa442-5a58-4bce-8d29-5b657da607d5",
   "metadata": {},
   "outputs": [
    {
     "data": {
      "text/plain": [
       "'0b10010011'"
      ]
     },
     "execution_count": 60,
     "metadata": {},
     "output_type": "execute_result"
    }
   ],
   "source": [
    "bin(147)"
   ]
  },
  {
   "cell_type": "code",
   "execution_count": 61,
   "id": "58bbfe07-045c-4416-919b-0975143f1811",
   "metadata": {},
   "outputs": [
    {
     "data": {
      "text/plain": [
       "'0b11111010'"
      ]
     },
     "execution_count": 61,
     "metadata": {},
     "output_type": "execute_result"
    }
   ],
   "source": [
    "bin(0xFA)"
   ]
  },
  {
   "cell_type": "code",
   "execution_count": 62,
   "id": "93ffb503-623b-425d-960a-c716a3e77998",
   "metadata": {},
   "outputs": [
    {
     "data": {
      "text/plain": [
       "'0o223'"
      ]
     },
     "execution_count": 62,
     "metadata": {},
     "output_type": "execute_result"
    }
   ],
   "source": [
    "oct(147)"
   ]
  },
  {
   "cell_type": "code",
   "execution_count": 63,
   "id": "788be3e9-929c-46b1-8c80-72ca0a11b254",
   "metadata": {},
   "outputs": [
    {
     "data": {
      "text/plain": [
       "'0x93'"
      ]
     },
     "execution_count": 63,
     "metadata": {},
     "output_type": "execute_result"
    }
   ],
   "source": [
    "hex(147)"
   ]
  },
  {
   "cell_type": "markdown",
   "id": "61861c51-a4ef-48b6-8299-cd18b96c58db",
   "metadata": {},
   "source": [
    "### p81 연습"
   ]
  },
  {
   "cell_type": "code",
   "execution_count": 1,
   "id": "a791a955-6c2b-4bd3-a270-5c4d39e5cee7",
   "metadata": {},
   "outputs": [
    {
     "name": "stdin",
     "output_type": "stream",
     "text": [
      "입력 진수 결정(16/10/8/2) :  16\n",
      "값 입력 :  FF\n"
     ]
    },
    {
     "name": "stdout",
     "output_type": "stream",
     "text": [
      "16진수 ==>  0xff\n",
      "10진수 ==>  255\n",
      " 8진수 ==>  0o377\n",
      " 2진수 ==>  0b11111111\n"
     ]
    }
   ],
   "source": [
    "sel =int(input(\"입력 진수 결정(16/10/8/2) : \"))\n",
    "num = input(\"값 입력 : \")\n",
    "\n",
    "if sel == 16 :\n",
    "    num10 = int(num, 16)\n",
    "elif sel == 10 :\n",
    "    num10 = int(num, 10)\n",
    "elif sel == 8 :\n",
    "    num10 = int(num, 8)\n",
    "elif sel == 2 :\n",
    "    num10 = int(num, 2)\n",
    "else :\n",
    "    print(\"16, 10, 8, 2 숫자 중 하나만 입력하세요.\")\n",
    "    \n",
    "print(\"16진수 ==> \", hex(num10))\n",
    "print(\"10진수 ==> \", num10)\n",
    "print(\" 8진수 ==> \", oct(num10))\n",
    "print(\" 2진수 ==> \", bin(num10))"
   ]
  },
  {
   "cell_type": "markdown",
   "id": "93f6e8ea-5cad-4990-a543-a86c2339f1e5",
   "metadata": {},
   "source": [
    "81p 셀프스터디 - 조건문 하고 실습"
   ]
  },
  {
   "cell_type": "code",
   "execution_count": 3,
   "id": "197525f3-9171-40dd-9470-2664e3c3a5a0",
   "metadata": {},
   "outputs": [
    {
     "name": "stdin",
     "output_type": "stream",
     "text": [
      "입력 진수 결정(16/10/8/2) :  16\n"
     ]
    }
   ],
   "source": [
    "sel = input(\"입력 진수 결정(16/10/8/2) : \")"
   ]
  },
  {
   "cell_type": "code",
   "execution_count": null,
   "id": "aebdc8a1-d514-40fc-af00-6e4b64c6cb96",
   "metadata": {},
   "outputs": [],
   "source": []
  },
  {
   "cell_type": "markdown",
   "id": "6a87b5fc-b828-4cb1-9d69-d506833fc7ea",
   "metadata": {},
   "source": [
    "## Sec05 기본 데이터형\n",
    "\n",
    "기본형식 -> 하나의 값을 저장하는 방법"
   ]
  },
  {
   "cell_type": "code",
   "execution_count": 67,
   "id": "36c080cd-b38f-42dc-ba1b-ae5193e471d3",
   "metadata": {},
   "outputs": [
    {
     "data": {
      "text/plain": [
       "123"
      ]
     },
     "execution_count": 67,
     "metadata": {},
     "output_type": "execute_result"
    }
   ],
   "source": [
    "a = 123 # 정수\n",
    "a"
   ]
  },
  {
   "cell_type": "code",
   "execution_count": 68,
   "id": "5b2ce8f0-79db-48ab-bbaf-fa8885034861",
   "metadata": {},
   "outputs": [
    {
     "data": {
      "text/plain": [
       "int"
      ]
     },
     "execution_count": 68,
     "metadata": {},
     "output_type": "execute_result"
    }
   ],
   "source": [
    "type(a)"
   ]
  },
  {
   "cell_type": "code",
   "execution_count": 69,
   "id": "222d9ada-eebf-4dde-a8be-980c1dc0d68b",
   "metadata": {},
   "outputs": [
    {
     "data": {
      "text/plain": [
       "123000"
      ]
     },
     "execution_count": 69,
     "metadata": {},
     "output_type": "execute_result"
    }
   ],
   "source": [
    "a = a * 1000\n",
    "a"
   ]
  },
  {
   "cell_type": "code",
   "execution_count": 70,
   "id": "267426f4-2ed0-40ed-9dfe-bce35dac4131",
   "metadata": {},
   "outputs": [
    {
     "data": {
      "text/plain": [
       "100000000000000000000000000000000000000000000000000000000000000000000000000000000000000000000000000000000000000000000000000000000000000000000000000000000000000000000000000000000000000000000000000000000"
      ]
     },
     "execution_count": 70,
     "metadata": {},
     "output_type": "execute_result"
    }
   ],
   "source": [
    "a = 100 ** 100\n",
    "a"
   ]
  },
  {
   "cell_type": "code",
   "execution_count": 71,
   "id": "7a30ebfe-a4bb-4bad-88c8-bd9963cd268e",
   "metadata": {},
   "outputs": [
    {
     "data": {
      "text/plain": [
       "int"
      ]
     },
     "execution_count": 71,
     "metadata": {},
     "output_type": "execute_result"
    }
   ],
   "source": [
    "type(a)"
   ]
  },
  {
   "cell_type": "code",
   "execution_count": 72,
   "id": "c52233b3-7d7a-4ff1-ade7-f50f5c02cf4c",
   "metadata": {},
   "outputs": [
    {
     "data": {
      "text/plain": [
       "int"
      ]
     },
     "execution_count": 72,
     "metadata": {},
     "output_type": "execute_result"
    }
   ],
   "source": [
    "a = 0xFF\n",
    "type(a)"
   ]
  },
  {
   "cell_type": "code",
   "execution_count": 73,
   "id": "dda86b74-cc74-4e1b-a148-4fb059fc51b8",
   "metadata": {},
   "outputs": [
    {
     "data": {
      "text/plain": [
       "int"
      ]
     },
     "execution_count": 73,
     "metadata": {},
     "output_type": "execute_result"
    }
   ],
   "source": [
    "type(0b11111)"
   ]
  },
  {
   "cell_type": "code",
   "execution_count": 76,
   "id": "a53588e6-c65d-4031-852a-b3f6ee3cf927",
   "metadata": {},
   "outputs": [],
   "source": [
    "a = 3.14\n",
    "b = 3.14e5"
   ]
  },
  {
   "cell_type": "code",
   "execution_count": 77,
   "id": "73edf538-9f06-45a8-8508-57b1b89b6468",
   "metadata": {},
   "outputs": [
    {
     "data": {
      "text/plain": [
       "3.14"
      ]
     },
     "execution_count": 77,
     "metadata": {},
     "output_type": "execute_result"
    }
   ],
   "source": [
    "a"
   ]
  },
  {
   "cell_type": "code",
   "execution_count": 78,
   "id": "641d3a5c-9390-4a15-90d8-9718da09c347",
   "metadata": {},
   "outputs": [
    {
     "data": {
      "text/plain": [
       "314000.0"
      ]
     },
     "execution_count": 78,
     "metadata": {},
     "output_type": "execute_result"
    }
   ],
   "source": [
    "b"
   ]
  },
  {
   "cell_type": "code",
   "execution_count": 79,
   "id": "031f5517-526c-4379-a96e-694b6686000f",
   "metadata": {},
   "outputs": [
    {
     "data": {
      "text/plain": [
       "110000.0"
      ]
     },
     "execution_count": 79,
     "metadata": {},
     "output_type": "execute_result"
    }
   ],
   "source": [
    "1.1e5"
   ]
  },
  {
   "cell_type": "code",
   "execution_count": 80,
   "id": "232393b0-4299-49f2-82d5-c579e0959945",
   "metadata": {},
   "outputs": [
    {
     "data": {
      "text/plain": [
       "101000.0"
      ]
     },
     "execution_count": 80,
     "metadata": {},
     "output_type": "execute_result"
    }
   ],
   "source": [
    "1.01e5"
   ]
  },
  {
   "cell_type": "code",
   "execution_count": 81,
   "id": "bb4da628-72c6-4674-af1d-275f952ca835",
   "metadata": {},
   "outputs": [],
   "source": [
    "a = 10; b = 20"
   ]
  },
  {
   "cell_type": "markdown",
   "id": "01bdc2d8-7fa8-4e4c-b27c-a74b5b86287b",
   "metadata": {},
   "source": [
    "1. 정밀도가 큰 자료형으로 결과가 반환\n",
    "2. 자료 범위가 큰 자료형으로 결과가 반환"
   ]
  },
  {
   "cell_type": "code",
   "execution_count": 84,
   "id": "ca61c50f-b5ad-4797-bc19-8b1cf46fb5a0",
   "metadata": {},
   "outputs": [
    {
     "data": {
      "text/plain": [
       "30"
      ]
     },
     "execution_count": 84,
     "metadata": {},
     "output_type": "execute_result"
    }
   ],
   "source": [
    "a + b"
   ]
  },
  {
   "cell_type": "code",
   "execution_count": 88,
   "id": "5170d184-1c70-4452-a5ea-8b8052b5f882",
   "metadata": {},
   "outputs": [
    {
     "data": {
      "text/plain": [
       "10"
      ]
     },
     "execution_count": 88,
     "metadata": {},
     "output_type": "execute_result"
    }
   ],
   "source": [
    "a % b # 나머지"
   ]
  },
  {
   "cell_type": "code",
   "execution_count": 87,
   "id": "cddb906b-8463-48de-8f01-42bcae25310d",
   "metadata": {},
   "outputs": [
    {
     "data": {
      "text/plain": [
       "0"
      ]
     },
     "execution_count": 87,
     "metadata": {},
     "output_type": "execute_result"
    }
   ],
   "source": [
    "a // b # 몫"
   ]
  },
  {
   "cell_type": "markdown",
   "id": "aae36ccd-e778-4b3f-a683-fd067d5fe834",
   "metadata": {},
   "source": [
    "불리언 : True, False"
   ]
  },
  {
   "cell_type": "code",
   "execution_count": 89,
   "id": "4d4236a6-e7ac-4ee5-b4ce-9dc94fd4b816",
   "metadata": {},
   "outputs": [
    {
     "data": {
      "text/plain": [
       "bool"
      ]
     },
     "execution_count": 89,
     "metadata": {},
     "output_type": "execute_result"
    }
   ],
   "source": [
    "type(True)"
   ]
  },
  {
   "cell_type": "code",
   "execution_count": 91,
   "id": "8a4d2b89-9b0e-45b0-9819-a27a2e673e7c",
   "metadata": {},
   "outputs": [
    {
     "data": {
      "text/plain": [
       "(False, True)"
      ]
     },
     "execution_count": 91,
     "metadata": {},
     "output_type": "execute_result"
    }
   ],
   "source": [
    "10 == 1, 10 == 10"
   ]
  },
  {
   "cell_type": "markdown",
   "id": "48716825-9df7-44c0-8216-36370aa2e17a",
   "metadata": {},
   "source": [
    "문자열 : 문자의 집합"
   ]
  },
  {
   "cell_type": "code",
   "execution_count": 92,
   "id": "f562a648-4cc2-483d-be46-d463912776dd",
   "metadata": {},
   "outputs": [
    {
     "data": {
      "text/plain": [
       "'안녕하세요'"
      ]
     },
     "execution_count": 92,
     "metadata": {},
     "output_type": "execute_result"
    }
   ],
   "source": [
    "\"안녕하세요\""
   ]
  },
  {
   "cell_type": "code",
   "execution_count": 93,
   "id": "b0d2c2f9-0367-4876-bee3-24c14ca57f0d",
   "metadata": {},
   "outputs": [
    {
     "data": {
      "text/plain": [
       "'안녕하세요'"
      ]
     },
     "execution_count": 93,
     "metadata": {},
     "output_type": "execute_result"
    }
   ],
   "source": [
    "'안녕하세요'"
   ]
  },
  {
   "cell_type": "code",
   "execution_count": 95,
   "id": "4cf3d909-4f60-408f-9ca2-39d63717e225",
   "metadata": {},
   "outputs": [
    {
     "data": {
      "text/plain": [
       "str"
      ]
     },
     "execution_count": 95,
     "metadata": {},
     "output_type": "execute_result"
    }
   ],
   "source": [
    "a = '안녕하세요'\n",
    "type(a)"
   ]
  },
  {
   "cell_type": "markdown",
   "id": "5122f689-876c-43c8-8532-73818c5f0443",
   "metadata": {},
   "source": [
    "**docstrings**"
   ]
  },
  {
   "cell_type": "code",
   "execution_count": 96,
   "id": "eb212d3d-2251-4db0-9d5d-0b58afc3b13d",
   "metadata": {},
   "outputs": [],
   "source": [
    "a = \"\"\"\n",
    "안녕하세요\n",
    "반갑습니다\n",
    "파이썬 교육 수료하셨습니다\n",
    "\"\"\""
   ]
  },
  {
   "cell_type": "code",
   "execution_count": 98,
   "id": "e7b1acf8-cc1e-4c17-a2cf-a19ffb88daf8",
   "metadata": {},
   "outputs": [
    {
     "data": {
      "text/plain": [
       "str"
      ]
     },
     "execution_count": 98,
     "metadata": {},
     "output_type": "execute_result"
    }
   ],
   "source": [
    "type(a)"
   ]
  },
  {
   "cell_type": "code",
   "execution_count": 107,
   "id": "86e302ae-19e6-4151-83f0-eb1a199e5518",
   "metadata": {},
   "outputs": [
    {
     "name": "stdout",
     "output_type": "stream",
     "text": [
      "10진수 ==>  12345678\n",
      "16진수 ==>  0xbc614e\n",
      " 8진수 ==>  0o57060516\n",
      " 2진수 ==>  0b101111000110000101001110\n"
     ]
    }
   ],
   "source": [
    "num = 12345678\n",
    "hex_num = hex(num)\n",
    "oct_num = oct(num)\n",
    "bin_num = bin(num)\n",
    "\n",
    "print(\"10진수 ==> \", num)\n",
    "print(\"16진수 ==> \", hex_num)\n",
    "print(\" 8진수 ==> \", oct_num)\n",
    "print(\" 2진수 ==> \", bin_num)"
   ]
  },
  {
   "cell_type": "markdown",
   "id": "3644c06d-6550-47cc-99ba-24a8d028d220",
   "metadata": {},
   "source": [
    "p93 실습"
   ]
  },
  {
   "cell_type": "code",
   "execution_count": 4,
   "id": "6eb77e86-abf4-4561-aba6-3954bc11cebb",
   "metadata": {},
   "outputs": [],
   "source": [
    "import sys"
   ]
  },
  {
   "cell_type": "code",
   "execution_count": 6,
   "id": "2e6212c1-ea91-4e9f-b98f-cfdb1d11552f",
   "metadata": {},
   "outputs": [
    {
     "data": {
      "text/plain": [
       "\u001b[1;31mDocstring:\u001b[0m\n",
       "getsizeof(object [, default]) -> int\n",
       "\n",
       "Return the size of object in bytes.\n",
       "\u001b[1;31mType:\u001b[0m      builtin_function_or_method\n"
      ]
     },
     "metadata": {},
     "output_type": "display_data"
    }
   ],
   "source": [
    "sys.getsizeof??"
   ]
  },
  {
   "cell_type": "code",
   "execution_count": 7,
   "id": "c0b12cef-b7cb-420c-b1f0-b67c55df576d",
   "metadata": {},
   "outputs": [],
   "source": [
    "# 내장함수 help()"
   ]
  },
  {
   "cell_type": "code",
   "execution_count": 8,
   "id": "7a53b427-08e6-4d9c-8334-c1e74155d2f8",
   "metadata": {},
   "outputs": [
    {
     "name": "stdout",
     "output_type": "stream",
     "text": [
      "Help on built-in function getsizeof in module sys:\n",
      "\n",
      "getsizeof(...)\n",
      "    getsizeof(object [, default]) -> int\n",
      "    \n",
      "    Return the size of object in bytes.\n",
      "\n"
     ]
    }
   ],
   "source": [
    "help(sys.getsizeof)"
   ]
  },
  {
   "cell_type": "code",
   "execution_count": 9,
   "id": "42e0cfa9-4fad-4506-8d17-0a388843f4f0",
   "metadata": {},
   "outputs": [
    {
     "data": {
      "text/plain": [
       "78"
      ]
     },
     "execution_count": 9,
     "metadata": {},
     "output_type": "execute_result"
    }
   ],
   "source": [
    "sys.getsizeof('하나')"
   ]
  },
  {
   "cell_type": "code",
   "execution_count": 10,
   "id": "21e98cdd-6657-4858-ace9-45c491b5bdea",
   "metadata": {},
   "outputs": [
    {
     "data": {
      "text/plain": [
       "28"
      ]
     },
     "execution_count": 10,
     "metadata": {},
     "output_type": "execute_result"
    }
   ],
   "source": [
    "sys.getsizeof(1000)"
   ]
  },
  {
   "cell_type": "markdown",
   "id": "3055b2a9-9b2b-48f0-9d50-b19b7a6dd723",
   "metadata": {},
   "source": [
    "내장함수 eval()"
   ]
  },
  {
   "cell_type": "code",
   "execution_count": 11,
   "id": "af36c4d6-0a2c-4153-98d7-8296b005dd5d",
   "metadata": {},
   "outputs": [
    {
     "data": {
      "text/plain": [
       "\u001b[1;31mSignature:\u001b[0m \u001b[0meval\u001b[0m\u001b[1;33m(\u001b[0m\u001b[0msource\u001b[0m\u001b[1;33m,\u001b[0m \u001b[0mglobals\u001b[0m\u001b[1;33m=\u001b[0m\u001b[1;32mNone\u001b[0m\u001b[1;33m,\u001b[0m \u001b[0mlocals\u001b[0m\u001b[1;33m=\u001b[0m\u001b[1;32mNone\u001b[0m\u001b[1;33m,\u001b[0m \u001b[1;33m/\u001b[0m\u001b[1;33m)\u001b[0m\u001b[1;33m\u001b[0m\u001b[1;33m\u001b[0m\u001b[0m\n",
       "\u001b[1;31mDocstring:\u001b[0m\n",
       "Evaluate the given source in the context of globals and locals.\n",
       "\n",
       "The source may be a string representing a Python expression\n",
       "or a code object as returned by compile().\n",
       "The globals must be a dictionary and locals can be any mapping,\n",
       "defaulting to the current globals and locals.\n",
       "If only globals is given, locals defaults to it.\n",
       "\u001b[1;31mType:\u001b[0m      builtin_function_or_method\n"
      ]
     },
     "metadata": {},
     "output_type": "display_data"
    }
   ],
   "source": [
    "eval?"
   ]
  },
  {
   "cell_type": "code",
   "execution_count": 12,
   "id": "b8850f6d-542a-421f-abad-5e467058cfa5",
   "metadata": {},
   "outputs": [
    {
     "data": {
      "text/plain": [
       "3.3"
      ]
     },
     "execution_count": 12,
     "metadata": {},
     "output_type": "execute_result"
    }
   ],
   "source": [
    "eval(\"1+2+3 / 10\")"
   ]
  }
 ],
 "metadata": {
  "kernelspec": {
   "display_name": "Python 3 (ipykernel)",
   "language": "python",
   "name": "python3"
  },
  "language_info": {
   "codemirror_mode": {
    "name": "ipython",
    "version": 3
   },
   "file_extension": ".py",
   "mimetype": "text/x-python",
   "name": "python",
   "nbconvert_exporter": "python",
   "pygments_lexer": "ipython3",
   "version": "3.9.7"
  }
 },
 "nbformat": 4,
 "nbformat_minor": 5
}
