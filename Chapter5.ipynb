{
 "cells": [
  {
   "cell_type": "markdown",
   "id": "7a30a7eb-f0e6-465c-8aa0-681bcca09a74",
   "metadata": {},
   "source": [
    "## Chapter5 조건문"
   ]
  },
  {
   "cell_type": "markdown",
   "id": "37b17b48-e98f-47af-b148-7e7c614837c1",
   "metadata": {},
   "source": [
    "if 조건식\n",
    "\n",
    "코드블럭 - \":\"\n",
    "    들여쓰기\n",
    "    if, for, while, def, class"
   ]
  },
  {
   "cell_type": "code",
   "execution_count": 2,
   "id": "32b9c648-86f3-4267-b646-b3aa71e9b1e3",
   "metadata": {},
   "outputs": [
    {
     "name": "stdout",
     "output_type": "stream",
     "text": [
      "작다\n"
     ]
    }
   ],
   "source": [
    "a = 99\n",
    "if a < 100 :\n",
    "    print(\"작다\")"
   ]
  },
  {
   "cell_type": "code",
   "execution_count": 6,
   "id": "99bf94df-769b-47ff-bac3-044b74b99726",
   "metadata": {},
   "outputs": [
    {
     "name": "stdout",
     "output_type": "stream",
     "text": [
      "작다\n",
      "....\n"
     ]
    }
   ],
   "source": [
    "if a < 100 :\n",
    "    print(\"작다\")\n",
    "    print(\"....\")"
   ]
  },
  {
   "cell_type": "code",
   "execution_count": 7,
   "id": "e5867f75-a809-416b-9d57-eb4681512f7f",
   "metadata": {},
   "outputs": [
    {
     "name": "stdout",
     "output_type": "stream",
     "text": [
      "프로그램 끝\n"
     ]
    }
   ],
   "source": [
    "a = 200\n",
    "\n",
    "if a < 100 :\n",
    "    print(\"100보다 작군요.\")\n",
    "\n",
    "print(\"프로그램 끝\")"
   ]
  },
  {
   "cell_type": "code",
   "execution_count": 9,
   "id": "94998237-2abc-4fa8-83f8-04bf315edd5f",
   "metadata": {},
   "outputs": [
    {
     "name": "stdout",
     "output_type": "stream",
     "text": [
      "좀 더 힘내세요!\n",
      "프로그램 끝\n"
     ]
    }
   ],
   "source": [
    "a = 200\n",
    "\n",
    "if a < 100 :\n",
    "    print(\"100보다 작군요.\")\n",
    "else :\n",
    "    print(\"좀 더 힘내세요!\")\n",
    "    \n",
    "print(\"프로그램 끝\")"
   ]
  },
  {
   "cell_type": "markdown",
   "id": "20a9ac3a-bcf5-4bea-a381-1fd516ac5b1e",
   "metadata": {},
   "source": [
    "쉘 나누기: ctrl + shift + \"-\""
   ]
  },
  {
   "cell_type": "code",
   "execution_count": 12,
   "id": "56c602f1-3330-4017-81bb-da7660cf9c76",
   "metadata": {},
   "outputs": [
    {
     "name": "stdin",
     "output_type": "stream",
     "text": [
      "정수를 입력하세요 :  125\n"
     ]
    },
    {
     "name": "stdout",
     "output_type": "stream",
     "text": [
      "홀수를 입력했군요.\n"
     ]
    }
   ],
   "source": [
    "a = int(input(\"정수를 입력하세요 : \"))\n",
    "\n",
    "if a % 2 == 0 :\n",
    "    print(\"짝수를 입력했군요.\")\n",
    "else :\n",
    "    print(\"홀수를 입력했군요.\")"
   ]
  },
  {
   "cell_type": "code",
   "execution_count": 20,
   "id": "0dfad2f7-a3cd-433e-832a-b4207f2e4cb1",
   "metadata": {},
   "outputs": [
    {
     "name": "stdout",
     "output_type": "stream",
     "text": [
      "50보다 크고 100보다 작군요.\n"
     ]
    }
   ],
   "source": [
    "a = 75\n",
    "\n",
    "if a > 50 :\n",
    "        print(\"50보다 크고 100보다 작군요.\")\n",
    "elif a < 100 :\n",
    "        print(\"와~~ 100보다 크군요.\")\n",
    "else :\n",
    "    print(\"에고~ 50보다 작군요.\")"
   ]
  },
  {
   "cell_type": "code",
   "execution_count": 36,
   "id": "3e97c5ef-927b-41b8-812c-e7d555516019",
   "metadata": {},
   "outputs": [
    {
     "name": "stdin",
     "output_type": "stream",
     "text": [
      "점수를 입력하세요 :  90\n"
     ]
    },
    {
     "name": "stdout",
     "output_type": "stream",
     "text": [
      "A\n",
      "학점입니다. ^^\n"
     ]
    }
   ],
   "source": [
    "score = int(input(\"점수를 입력하세요 : \"))\n",
    "\n",
    "if score >= 90 :\n",
    "    print(\"A\")\n",
    "elif score >= 80 :\n",
    "    print(\"B\")\n",
    "elif score >= 70 :\n",
    "    print(\"C\")\n",
    "elif score >= 60 :\n",
    "    print(\"D\")\n",
    "else :\n",
    "    print(\"F\")\n",
    "    \n",
    "print(\"학점입니다. ^^\")"
   ]
  },
  {
   "cell_type": "code",
   "execution_count": 23,
   "id": "43affa11-6d0a-49d5-a625-58b4b774d2ee",
   "metadata": {},
   "outputs": [
    {
     "name": "stdout",
     "output_type": "stream",
     "text": [
      "불합격\n"
     ]
    }
   ],
   "source": [
    "jumsu = 55\n",
    "res = ''\n",
    "if jumsu >= 60 :\n",
    "    res = '합격'\n",
    "else :\n",
    "    res = '불합격'\n",
    "print(res)"
   ]
  },
  {
   "cell_type": "code",
   "execution_count": 33,
   "id": "e6d6da8c-b1b5-42bc-b522-43c6f82852df",
   "metadata": {},
   "outputs": [],
   "source": [
    "jumsu = 60"
   ]
  },
  {
   "cell_type": "code",
   "execution_count": 34,
   "id": "7ce9da8f-44ad-40e3-a25e-aaaf00028022",
   "metadata": {},
   "outputs": [],
   "source": [
    "res = '합격' if jumsu >= 60 else '불합격'"
   ]
  },
  {
   "cell_type": "code",
   "execution_count": 35,
   "id": "83b44238-495d-438f-b71f-0e9169533ecb",
   "metadata": {},
   "outputs": [
    {
     "data": {
      "text/plain": [
       "'합격'"
      ]
     },
     "execution_count": 35,
     "metadata": {},
     "output_type": "execute_result"
    }
   ],
   "source": [
    "res"
   ]
  }
 ],
 "metadata": {
  "kernelspec": {
   "display_name": "Python 3 (ipykernel)",
   "language": "python",
   "name": "python3"
  },
  "language_info": {
   "codemirror_mode": {
    "name": "ipython",
    "version": 3
   },
   "file_extension": ".py",
   "mimetype": "text/x-python",
   "name": "python",
   "nbconvert_exporter": "python",
   "pygments_lexer": "ipython3",
   "version": "3.9.7"
  }
 },
 "nbformat": 4,
 "nbformat_minor": 5
}
