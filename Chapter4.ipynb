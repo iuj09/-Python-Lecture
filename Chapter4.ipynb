{
 "cells": [
  {
   "cell_type": "markdown",
   "id": "b2bca5c6-3667-4a24-8e57-6a0b5952113a",
   "metadata": {},
   "source": [
    "# Chapter4"
   ]
  },
  {
   "cell_type": "code",
   "execution_count": 1,
   "id": "610a7f42-36b8-4419-be38-507014b2f981",
   "metadata": {},
   "outputs": [],
   "source": [
    "a = 3; b =5"
   ]
  },
  {
   "cell_type": "code",
   "execution_count": 2,
   "id": "e7a4cbcb-8261-4337-aa0b-08fd2d2225b0",
   "metadata": {},
   "outputs": [
    {
     "data": {
      "text/plain": [
       "8"
      ]
     },
     "execution_count": 2,
     "metadata": {},
     "output_type": "execute_result"
    }
   ],
   "source": [
    "a + b"
   ]
  },
  {
   "cell_type": "code",
   "execution_count": 3,
   "id": "d67041b4-fc0e-43ad-901e-5abb8165dbf2",
   "metadata": {},
   "outputs": [
    {
     "data": {
      "text/plain": [
       "-2"
      ]
     },
     "execution_count": 3,
     "metadata": {},
     "output_type": "execute_result"
    }
   ],
   "source": [
    "a - b"
   ]
  },
  {
   "cell_type": "code",
   "execution_count": 4,
   "id": "8ae070d3-c5ec-468f-aaa4-482a88e7a2c2",
   "metadata": {},
   "outputs": [
    {
     "data": {
      "text/plain": [
       "0.6"
      ]
     },
     "execution_count": 4,
     "metadata": {},
     "output_type": "execute_result"
    }
   ],
   "source": [
    "a / b"
   ]
  },
  {
   "cell_type": "code",
   "execution_count": 5,
   "id": "bb18f74d-9d8b-43cd-8da2-e13ac6d57003",
   "metadata": {},
   "outputs": [
    {
     "data": {
      "text/plain": [
       "0"
      ]
     },
     "execution_count": 5,
     "metadata": {},
     "output_type": "execute_result"
    }
   ],
   "source": [
    "a // b"
   ]
  },
  {
   "cell_type": "code",
   "execution_count": 6,
   "id": "f3501f8d-854f-4f2c-87b3-5088e067187f",
   "metadata": {},
   "outputs": [
    {
     "data": {
      "text/plain": [
       "3"
      ]
     },
     "execution_count": 6,
     "metadata": {},
     "output_type": "execute_result"
    }
   ],
   "source": [
    "a % b"
   ]
  },
  {
   "cell_type": "code",
   "execution_count": 7,
   "id": "568e1147-83f9-4350-b49f-bd19d1f22f51",
   "metadata": {},
   "outputs": [
    {
     "data": {
      "text/plain": [
       "243"
      ]
     },
     "execution_count": 7,
     "metadata": {},
     "output_type": "execute_result"
    }
   ],
   "source": [
    "a ** b"
   ]
  },
  {
   "cell_type": "markdown",
   "id": "9eee9021-e72b-471b-8a8d-c64171630ae2",
   "metadata": {},
   "source": [
    "우선순위"
   ]
  },
  {
   "cell_type": "code",
   "execution_count": 8,
   "id": "9ca44017-984c-4cb7-b247-d12f3f79e296",
   "metadata": {},
   "outputs": [],
   "source": [
    "a, b, c = 2, 3, 4"
   ]
  },
  {
   "cell_type": "code",
   "execution_count": 9,
   "id": "dc7616a3-9c44-4de4-aa70-6780b53793d4",
   "metadata": {},
   "outputs": [
    {
     "data": {
      "text/plain": [
       "1"
      ]
     },
     "execution_count": 9,
     "metadata": {},
     "output_type": "execute_result"
    }
   ],
   "source": [
    "a + b - c"
   ]
  },
  {
   "cell_type": "code",
   "execution_count": 10,
   "id": "f4a6e270-bdfd-469a-9633-a58006541c9d",
   "metadata": {},
   "outputs": [
    {
     "data": {
      "text/plain": [
       "20"
      ]
     },
     "execution_count": 10,
     "metadata": {},
     "output_type": "execute_result"
    }
   ],
   "source": [
    "(a + b) * c"
   ]
  },
  {
   "cell_type": "code",
   "execution_count": 11,
   "id": "6f3b1c37-821d-44eb-a114-2b18d161d62b",
   "metadata": {},
   "outputs": [
    {
     "data": {
      "text/plain": [
       "14"
      ]
     },
     "execution_count": 11,
     "metadata": {},
     "output_type": "execute_result"
    }
   ],
   "source": [
    "a + (b * c)"
   ]
  },
  {
   "cell_type": "markdown",
   "id": "a09b6884-e2a3-4dcf-82e1-28373136b831",
   "metadata": {},
   "source": [
    "### 내장 자료형 함수\n",
    " - int()\n",
    " - bin()\n",
    " - oct()\n",
    " - hex()\n",
    " - float()"
   ]
  },
  {
   "cell_type": "markdown",
   "id": "cbf8edc8-4e0e-4ccb-af44-14df57a6fb93",
   "metadata": {},
   "source": [
    "### 문자형 자료형 함수\n",
    "\n",
    " - str()"
   ]
  },
  {
   "cell_type": "code",
   "execution_count": 16,
   "id": "ee903b15-b97f-4d0a-a885-beb3ceb81e4e",
   "metadata": {},
   "outputs": [
    {
     "ename": "TypeError",
     "evalue": "can only concatenate str (not \"int\") to str",
     "output_type": "error",
     "traceback": [
      "\u001b[1;31m---------------------------------------------------------------------------\u001b[0m",
      "\u001b[1;31mTypeError\u001b[0m                                 Traceback (most recent call last)",
      "\u001b[1;32m~\\AppData\\Local\\Temp/ipykernel_8756/2588762661.py\u001b[0m in \u001b[0;36m<module>\u001b[1;34m\u001b[0m\n\u001b[0;32m      1\u001b[0m \u001b[0ma\u001b[0m \u001b[1;33m=\u001b[0m \u001b[1;36m100\u001b[0m\u001b[1;33m\u001b[0m\u001b[1;33m\u001b[0m\u001b[0m\n\u001b[1;32m----> 2\u001b[1;33m \u001b[0mprint\u001b[0m\u001b[1;33m(\u001b[0m\u001b[1;34m\"안녕 난 \"\u001b[0m \u001b[1;33m+\u001b[0m \u001b[0ma\u001b[0m \u001b[1;33m+\u001b[0m \u001b[1;34m\"야 !\"\u001b[0m\u001b[1;33m)\u001b[0m \u001b[1;31m# 안녕 난 100 야!\u001b[0m\u001b[1;33m\u001b[0m\u001b[1;33m\u001b[0m\u001b[0m\n\u001b[0m",
      "\u001b[1;31mTypeError\u001b[0m: can only concatenate str (not \"int\") to str"
     ]
    }
   ],
   "source": [
    "a = 100\n",
    "print(\"안녕 난 \" + a + \"야 !\") # 안녕 난 100 야!"
   ]
  },
  {
   "cell_type": "code",
   "execution_count": 15,
   "id": "5c2ed2c0-eee1-4888-9f2e-8fa63aa40363",
   "metadata": {},
   "outputs": [
    {
     "name": "stdout",
     "output_type": "stream",
     "text": [
      "안녕 난 100야 !\n"
     ]
    }
   ],
   "source": [
    "a = 100\n",
    "print(\"안녕 난 \" + str(a) + \"야 !\") # 안녕 난 100 야!"
   ]
  },
  {
   "cell_type": "markdown",
   "id": "416b7e93-3f9f-4680-9c40-5aa46ed1476a",
   "metadata": {},
   "source": [
    "## 복합대입연산자"
   ]
  },
  {
   "cell_type": "code",
   "execution_count": 17,
   "id": "0fdb7726-53f3-40bd-9f00-4fd7c2bf291e",
   "metadata": {},
   "outputs": [],
   "source": [
    "a = 10"
   ]
  },
  {
   "cell_type": "code",
   "execution_count": 26,
   "id": "72c02ae3-dbd0-4acb-a265-a758aa7b7834",
   "metadata": {},
   "outputs": [],
   "source": [
    "a = a + 3"
   ]
  },
  {
   "cell_type": "code",
   "execution_count": 44,
   "id": "d0c62929-491c-4cf3-a474-a3de012c078f",
   "metadata": {},
   "outputs": [
    {
     "data": {
      "text/plain": [
       "26559922791433"
      ]
     },
     "execution_count": 44,
     "metadata": {},
     "output_type": "execute_result"
    }
   ],
   "source": [
    "a += 3\n",
    "a"
   ]
  },
  {
   "cell_type": "code",
   "execution_count": 81,
   "id": "16f5a83d-3282-4069-bb9f-0d14c19b3971",
   "metadata": {},
   "outputs": [],
   "source": [
    "del a"
   ]
  },
  {
   "cell_type": "code",
   "execution_count": 84,
   "id": "156339b6-fd9c-479f-b64f-1d478362362b",
   "metadata": {},
   "outputs": [
    {
     "name": "stdin",
     "output_type": "stream",
     "text": [
      "교환할 돈은 얼마? 7777\n"
     ]
    },
    {
     "name": "stdout",
     "output_type": "stream",
     "text": [
      "\n",
      " 500원짜리 ==> 15개\n",
      " 100원짜리 ==> 2개\n",
      " 50원짜리 ==> 1개\n",
      " 10원짜리 ==> 2개\n",
      " 바꾸지 못한 잔돈 ==> 7원 \n",
      "\n"
     ]
    }
   ],
   "source": [
    "## 변수 선언 부분 ##\n",
    "money, c500, c100, c50, c10 = 0, 0, 0, 0, 0\n",
    "\n",
    "## 메인 코드 부분 ##\n",
    "money=int(input(\"교환할 돈은 얼마?\"))\n",
    "\n",
    "c500 = money // 500\n",
    "money %= 500\n",
    "\n",
    "c100 = money // 100\n",
    "money %= 100\n",
    "\n",
    "c50 = money // 50\n",
    "money %= 50\n",
    "\n",
    "c10 = money // 10\n",
    "money %= 10\n",
    "\n",
    "print(\"\\n 500원짜리 ==> %d개\" % c500)\n",
    "print(\" 100원짜리 ==> %d개\" % c100)\n",
    "print(\" 50원짜리 ==> %d개\" % c50)\n",
    "print(\" 10원짜리 ==> %d개\" % c10)\n",
    "print(\" 바꾸지 못한 잔돈 ==> %d원 \\n\" % money)"
   ]
  },
  {
   "cell_type": "markdown",
   "id": "a407cb22-07a7-41eb-b159-561a31ba075e",
   "metadata": {},
   "source": [
    "## 관계연산자"
   ]
  },
  {
   "cell_type": "code",
   "execution_count": 36,
   "id": "7b009d6f-b316-47bd-8b01-7a76c82aa1ec",
   "metadata": {},
   "outputs": [
    {
     "data": {
      "text/plain": [
       "False"
      ]
     },
     "execution_count": 36,
     "metadata": {},
     "output_type": "execute_result"
    }
   ],
   "source": [
    "10 == 5"
   ]
  },
  {
   "cell_type": "code",
   "execution_count": 37,
   "id": "6c697290-8f70-4022-a38f-7860786ac7f2",
   "metadata": {},
   "outputs": [
    {
     "data": {
      "text/plain": [
       "True"
      ]
     },
     "execution_count": 37,
     "metadata": {},
     "output_type": "execute_result"
    }
   ],
   "source": [
    "10 == 10"
   ]
  },
  {
   "cell_type": "code",
   "execution_count": 38,
   "id": "81b0e404-9dde-4812-8614-a9ca97587f80",
   "metadata": {},
   "outputs": [
    {
     "data": {
      "text/plain": [
       "True"
      ]
     },
     "execution_count": 38,
     "metadata": {},
     "output_type": "execute_result"
    }
   ],
   "source": [
    "10 > 5"
   ]
  },
  {
   "cell_type": "code",
   "execution_count": 39,
   "id": "1a850a6c-3ceb-4c49-a626-74f7c695f5bc",
   "metadata": {},
   "outputs": [
    {
     "data": {
      "text/plain": [
       "False"
      ]
     },
     "execution_count": 39,
     "metadata": {},
     "output_type": "execute_result"
    }
   ],
   "source": [
    "10 < 5"
   ]
  },
  {
   "cell_type": "code",
   "execution_count": 40,
   "id": "7fe979a7-39e4-4c19-8df9-d3ebdc0bd038",
   "metadata": {},
   "outputs": [
    {
     "name": "stdout",
     "output_type": "stream",
     "text": [
      "5보다 크다\n"
     ]
    }
   ],
   "source": [
    "if 10 > 5:\n",
    "    print(\"5보다 크다\")"
   ]
  },
  {
   "cell_type": "code",
   "execution_count": 41,
   "id": "9f3a181d-780f-496c-8abf-0cf1b127eb5c",
   "metadata": {},
   "outputs": [
    {
     "data": {
      "text/plain": [
       "True"
      ]
     },
     "execution_count": 41,
     "metadata": {},
     "output_type": "execute_result"
    }
   ],
   "source": [
    "10 != 5"
   ]
  },
  {
   "cell_type": "code",
   "execution_count": 45,
   "id": "0102e50e-b46a-41a5-91b7-2ae638de07cc",
   "metadata": {
    "tags": []
   },
   "outputs": [
    {
     "data": {
      "text/plain": [
       "False"
      ]
     },
     "execution_count": 45,
     "metadata": {},
     "output_type": "execute_result"
    }
   ],
   "source": [
    "10 != 10"
   ]
  },
  {
   "cell_type": "code",
   "execution_count": 46,
   "id": "46c392a9-685c-4d95-87b7-51763e0f8234",
   "metadata": {},
   "outputs": [],
   "source": [
    "a = 99"
   ]
  },
  {
   "cell_type": "code",
   "execution_count": 47,
   "id": "ed29c342-aeb2-4544-8046-29ab870f64ac",
   "metadata": {},
   "outputs": [
    {
     "data": {
      "text/plain": [
       "False"
      ]
     },
     "execution_count": 47,
     "metadata": {},
     "output_type": "execute_result"
    }
   ],
   "source": [
    "# 논리곱\n",
    "a > 100"
   ]
  },
  {
   "cell_type": "markdown",
   "id": "be20355f-a319-40c5-bdd0-1384d5ed6028",
   "metadata": {},
   "source": [
    "## 논리연산자"
   ]
  },
  {
   "cell_type": "code",
   "execution_count": 48,
   "id": "901c7da2-c994-4c33-bab2-7039f03e64d1",
   "metadata": {},
   "outputs": [
    {
     "data": {
      "text/plain": [
       "False"
      ]
     },
     "execution_count": 48,
     "metadata": {},
     "output_type": "execute_result"
    }
   ],
   "source": [
    "# a가 100보다 크고 200보다 작은 경우\n",
    "(a > 100) and (a < 200)"
   ]
  },
  {
   "cell_type": "code",
   "execution_count": 49,
   "id": "37fb1da7-a919-4343-90ee-9308adf9352b",
   "metadata": {},
   "outputs": [
    {
     "data": {
      "text/plain": [
       "True"
      ]
     },
     "execution_count": 49,
     "metadata": {},
     "output_type": "execute_result"
    }
   ],
   "source": [
    "# a가 100보다 크거나 200보다 작은 경우\n",
    "(a > 100) or (a < 200)"
   ]
  },
  {
   "cell_type": "code",
   "execution_count": 50,
   "id": "e7caa23b-1ffa-448d-bd26-c52b0c15c7cf",
   "metadata": {},
   "outputs": [
    {
     "data": {
      "text/plain": [
       "False"
      ]
     },
     "execution_count": 50,
     "metadata": {},
     "output_type": "execute_result"
    }
   ],
   "source": [
    "# 반대\n",
    "not True"
   ]
  },
  {
   "cell_type": "code",
   "execution_count": 52,
   "id": "7b861263-6164-40f5-8a3c-065907890d94",
   "metadata": {},
   "outputs": [
    {
     "data": {
      "text/plain": [
       "True"
      ]
     },
     "execution_count": 52,
     "metadata": {},
     "output_type": "execute_result"
    }
   ],
   "source": [
    "not (a > 100)"
   ]
  },
  {
   "cell_type": "markdown",
   "id": "4c863dee-8319-448e-b82d-b7df37de48a3",
   "metadata": {},
   "source": [
    "## 비트 연산자\n",
    "\n",
    "정수를 2진수로 변환한 후 각 자리의 비트끼리 연산을 수행"
   ]
  },
  {
   "cell_type": "code",
   "execution_count": 54,
   "id": "2f4e42c6-89ef-407d-93ae-496a2931de47",
   "metadata": {},
   "outputs": [],
   "source": [
    "# 비트 논리연산"
   ]
  },
  {
   "cell_type": "code",
   "execution_count": 58,
   "id": "019235fe-0d74-4ab7-90a1-efa6b3ffce2f",
   "metadata": {},
   "outputs": [
    {
     "data": {
      "text/plain": [
       "2"
      ]
     },
     "execution_count": 58,
     "metadata": {},
     "output_type": "execute_result"
    }
   ],
   "source": [
    "10 & 7"
   ]
  },
  {
   "cell_type": "code",
   "execution_count": 56,
   "id": "ebcee2da-e864-47a4-ac5c-c28178e6aa2c",
   "metadata": {},
   "outputs": [
    {
     "data": {
      "text/plain": [
       "('0b1010', '0b111')"
      ]
     },
     "execution_count": 56,
     "metadata": {},
     "output_type": "execute_result"
    }
   ],
   "source": [
    "bin(10), bin(7)"
   ]
  },
  {
   "cell_type": "markdown",
   "id": "62b54fe5-46c5-40f8-b43c-5e93d0922cde",
   "metadata": {},
   "source": [
    "```\n",
    "0b1010\n",
    "&0b111\n",
    "------\n",
    "  0010\n",
    "```"
   ]
  },
  {
   "cell_type": "code",
   "execution_count": 59,
   "id": "e94c1bc1-b5e4-4700-b015-c845da510832",
   "metadata": {
    "tags": []
   },
   "outputs": [
    {
     "data": {
      "text/plain": [
       "'0b10'"
      ]
     },
     "execution_count": 59,
     "metadata": {},
     "output_type": "execute_result"
    }
   ],
   "source": [
    "bin(10 & 7)"
   ]
  },
  {
   "cell_type": "code",
   "execution_count": 60,
   "id": "aafcb911-42de-4ea7-a7a2-ce03c60f2551",
   "metadata": {},
   "outputs": [
    {
     "data": {
      "text/plain": [
       "0"
      ]
     },
     "execution_count": 60,
     "metadata": {},
     "output_type": "execute_result"
    }
   ],
   "source": [
    "2 & 1"
   ]
  },
  {
   "cell_type": "code",
   "execution_count": 61,
   "id": "317d6dc0-c8b6-43c2-a725-53511c0d5fdc",
   "metadata": {},
   "outputs": [
    {
     "data": {
      "text/plain": [
       "'0b0'"
      ]
     },
     "execution_count": 61,
     "metadata": {},
     "output_type": "execute_result"
    }
   ],
   "source": [
    "bin(2 & 1)"
   ]
  },
  {
   "cell_type": "code",
   "execution_count": 62,
   "id": "b522ce44-15d3-41b2-9e03-d17f58be1b81",
   "metadata": {},
   "outputs": [
    {
     "data": {
      "text/plain": [
       "('0b1111011', '0b111001000')"
      ]
     },
     "execution_count": 62,
     "metadata": {},
     "output_type": "execute_result"
    }
   ],
   "source": [
    "bin(123), bin(456)"
   ]
  },
  {
   "cell_type": "markdown",
   "id": "cd37a2e1-1642-48fb-bad2-52b32e64ac2a",
   "metadata": {},
   "source": [
    "```\n",
    "\n",
    "  0b1111011\n",
    "0b111001000\n",
    "------------\n",
    "  001001000\n",
    "\n",
    "```"
   ]
  },
  {
   "cell_type": "code",
   "execution_count": 63,
   "id": "8d3ad907-1d63-4727-9147-26c4783769ec",
   "metadata": {},
   "outputs": [
    {
     "data": {
      "text/plain": [
       "'0b1001000'"
      ]
     },
     "execution_count": 63,
     "metadata": {},
     "output_type": "execute_result"
    }
   ],
   "source": [
    "bin(123 & 456)"
   ]
  },
  {
   "cell_type": "code",
   "execution_count": 64,
   "id": "4be082f2-a2eb-4c39-883e-9bd473a41a98",
   "metadata": {},
   "outputs": [
    {
     "data": {
      "text/plain": [
       "'0b10'"
      ]
     },
     "execution_count": 64,
     "metadata": {},
     "output_type": "execute_result"
    }
   ],
   "source": [
    "bin(2)"
   ]
  },
  {
   "cell_type": "code",
   "execution_count": 67,
   "id": "545e80f7-51b9-41cc-ae96-01dd62f3d42e",
   "metadata": {},
   "outputs": [
    {
     "data": {
      "text/plain": [
       "-3"
      ]
     },
     "execution_count": 67,
     "metadata": {},
     "output_type": "execute_result"
    }
   ],
   "source": [
    "~2"
   ]
  },
  {
   "cell_type": "code",
   "execution_count": 68,
   "id": "f7a1eef3-28d4-45f9-8dac-2eaeed813af6",
   "metadata": {},
   "outputs": [
    {
     "data": {
      "text/plain": [
       "'-0b11'"
      ]
     },
     "execution_count": 68,
     "metadata": {},
     "output_type": "execute_result"
    }
   ],
   "source": [
    "bin(~2)"
   ]
  },
  {
   "cell_type": "code",
   "execution_count": 69,
   "id": "9d7fe85a-fad8-4361-9a3d-ed0ce14eb950",
   "metadata": {},
   "outputs": [
    {
     "data": {
      "text/plain": [
       "15"
      ]
     },
     "execution_count": 69,
     "metadata": {},
     "output_type": "execute_result"
    }
   ],
   "source": [
    "10 | 7"
   ]
  },
  {
   "cell_type": "code",
   "execution_count": 70,
   "id": "290848c5-b262-4b2c-807d-cda88cc3d10d",
   "metadata": {},
   "outputs": [
    {
     "data": {
      "text/plain": [
       "('0b1010', '0b111')"
      ]
     },
     "execution_count": 70,
     "metadata": {},
     "output_type": "execute_result"
    }
   ],
   "source": [
    "bin(10), bin(7)"
   ]
  },
  {
   "cell_type": "markdown",
   "id": "b1bbdea3-43f2-4156-80a9-7ec2499d6764",
   "metadata": {},
   "source": [
    "```\n",
    "0b1010\n",
    " 0b111\n",
    "------\n",
    "0b1111\n",
    "\n",
    "```"
   ]
  },
  {
   "cell_type": "code",
   "execution_count": 71,
   "id": "74814892-200b-4ff8-becd-60e7127a87a9",
   "metadata": {},
   "outputs": [
    {
     "data": {
      "text/plain": [
       "'0b1111'"
      ]
     },
     "execution_count": 71,
     "metadata": {},
     "output_type": "execute_result"
    }
   ],
   "source": [
    "bin(10 | 7)"
   ]
  },
  {
   "cell_type": "code",
   "execution_count": 72,
   "id": "525c43d6-cc52-4dd9-ab14-b2ee0a3fcf3f",
   "metadata": {},
   "outputs": [
    {
     "data": {
      "text/plain": [
       "65535"
      ]
     },
     "execution_count": 72,
     "metadata": {},
     "output_type": "execute_result"
    }
   ],
   "source": [
    "0xFFFF | 0x0000"
   ]
  },
  {
   "cell_type": "markdown",
   "id": "93190ac4-7774-43b3-97f3-c670f0601447",
   "metadata": {},
   "source": [
    "### 배타적 논리합"
   ]
  },
  {
   "cell_type": "code",
   "execution_count": 73,
   "id": "ad3cb0b5-a9c2-41c4-8cd0-e269d43e0879",
   "metadata": {},
   "outputs": [
    {
     "data": {
      "text/plain": [
       "('0b1010', '0b111')"
      ]
     },
     "execution_count": 73,
     "metadata": {},
     "output_type": "execute_result"
    }
   ],
   "source": [
    "bin(10), bin(7)"
   ]
  },
  {
   "cell_type": "code",
   "execution_count": 74,
   "id": "edab1649-345c-4b09-96a3-950db37ff703",
   "metadata": {},
   "outputs": [
    {
     "data": {
      "text/plain": [
       "'0b1101'"
      ]
     },
     "execution_count": 74,
     "metadata": {},
     "output_type": "execute_result"
    }
   ],
   "source": [
    "bin(10 ^ 7)"
   ]
  },
  {
   "cell_type": "markdown",
   "id": "779fb76b-f57c-47ea-a770-99ff6bb6423a",
   "metadata": {},
   "source": [
    "Masking 기법 : 비트 기반 연산\n",
    "\n",
    "```\n",
    "00010 & 11000\n",
    "```"
   ]
  },
  {
   "cell_type": "markdown",
   "id": "ce91e918-a25d-4557-ab72-81e4e041511a",
   "metadata": {},
   "source": [
    "### Shift 연산자\n",
    "\n",
    "    >>\n",
    "    <<"
   ]
  },
  {
   "cell_type": "code",
   "execution_count": 100,
   "id": "3a5a4f0f-eabd-496a-8d85-aaa4b160128e",
   "metadata": {},
   "outputs": [
    {
     "data": {
      "text/plain": [
       "'0b1010'"
      ]
     },
     "execution_count": 100,
     "metadata": {},
     "output_type": "execute_result"
    }
   ],
   "source": [
    "a = 10; bin(a)"
   ]
  },
  {
   "cell_type": "code",
   "execution_count": 101,
   "id": "c8b5a652-cdbf-40cc-97fb-89020af4b6a7",
   "metadata": {},
   "outputs": [
    {
     "data": {
      "text/plain": [
       "20"
      ]
     },
     "execution_count": 101,
     "metadata": {},
     "output_type": "execute_result"
    }
   ],
   "source": [
    "a << 1 #1칸"
   ]
  },
  {
   "cell_type": "code",
   "execution_count": 102,
   "id": "f4fb3428-1162-4907-a4f8-4fa57c9560fb",
   "metadata": {},
   "outputs": [
    {
     "data": {
      "text/plain": [
       "'0b10100'"
      ]
     },
     "execution_count": 102,
     "metadata": {},
     "output_type": "execute_result"
    }
   ],
   "source": [
    "bin(a << 1)"
   ]
  },
  {
   "cell_type": "code",
   "execution_count": 80,
   "id": "1de6fe96-fb29-42d6-bf87-95d0943b051e",
   "metadata": {},
   "outputs": [
    {
     "data": {
      "text/plain": [
       "5"
      ]
     },
     "execution_count": 80,
     "metadata": {},
     "output_type": "execute_result"
    }
   ],
   "source": [
    "a >> 1 #1칸"
   ]
  },
  {
   "cell_type": "code",
   "execution_count": 103,
   "id": "0b503347-75c1-4dcb-bf65-281645222762",
   "metadata": {
    "tags": []
   },
   "outputs": [
    {
     "data": {
      "text/plain": [
       "'0b101'"
      ]
     },
     "execution_count": 103,
     "metadata": {},
     "output_type": "execute_result"
    }
   ],
   "source": [
    "bin(a >> 1)"
   ]
  },
  {
   "cell_type": "markdown",
   "id": "7098093f-d792-40db-bf70-1cd48f01a161",
   "metadata": {},
   "source": [
    "## 응용 - 윤년계산하기\n",
    "\n",
    "윤년은\n",
    "\n",
    " - 4로 나누어 떨어지고 100으로 나누어 떨어지지 않는다\n",
    " - 400으로 나누어 떨어진다"
   ]
  },
  {
   "cell_type": "markdown",
   "id": "d462e509-8879-41ea-b4e0-e00e22b3fb44",
   "metadata": {},
   "source": [
    ">__main__ 의미 : 86p 설명"
   ]
  },
  {
   "cell_type": "code",
   "execution_count": 94,
   "id": "f6211148-2454-48dc-b47d-a473656727ab",
   "metadata": {},
   "outputs": [
    {
     "name": "stdin",
     "output_type": "stream",
     "text": [
      "연도를 입력하세요 :  2022\n"
     ]
    }
   ],
   "source": [
    "year = int(input('연도를 입력하세요 : '))"
   ]
  },
  {
   "cell_type": "code",
   "execution_count": 95,
   "id": "20985f2c-5e67-4c79-8c29-73149afd7eb0",
   "metadata": {},
   "outputs": [
    {
     "data": {
      "text/plain": [
       "False"
      ]
     },
     "execution_count": 95,
     "metadata": {},
     "output_type": "execute_result"
    }
   ],
   "source": [
    "(year % 4 == 0) and (year % 100 != 0)"
   ]
  },
  {
   "cell_type": "code",
   "execution_count": 96,
   "id": "2cc9a741-3cfd-4167-ac5f-06e60976542b",
   "metadata": {},
   "outputs": [
    {
     "data": {
      "text/plain": [
       "False"
      ]
     },
     "execution_count": 96,
     "metadata": {},
     "output_type": "execute_result"
    }
   ],
   "source": [
    "(year % 400 ==0)"
   ]
  },
  {
   "cell_type": "code",
   "execution_count": 97,
   "id": "77d260c0-5138-4ac4-8bfa-8064829ddd9a",
   "metadata": {},
   "outputs": [
    {
     "name": "stdout",
     "output_type": "stream",
     "text": [
      "2022년은 윤년이 아닙니다.\n"
     ]
    }
   ],
   "source": [
    "# 4로 나누어 떨어지고 100으로 나누어 떨어지지 않는다\n",
    "# 400으로 나누어 떨어진다\n",
    "\n",
    "if ((year % 4 == 0) and (year % 100 != 0)) or (year % 400 ==0) :\n",
    "    print(\"%d년은 윤년입니다.\" % year);\n",
    "else :\n",
    "    print(\"%d년은 윤년이 아닙니다.\" % year);"
   ]
  }
 ],
 "metadata": {
  "kernelspec": {
   "display_name": "Python 3 (ipykernel)",
   "language": "python",
   "name": "python3"
  },
  "language_info": {
   "codemirror_mode": {
    "name": "ipython",
    "version": 3
   },
   "file_extension": ".py",
   "mimetype": "text/x-python",
   "name": "python",
   "nbconvert_exporter": "python",
   "pygments_lexer": "ipython3",
   "version": "3.9.7"
  }
 },
 "nbformat": 4,
 "nbformat_minor": 5
}
