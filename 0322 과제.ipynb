{
 "cells": [
  {
   "cell_type": "markdown",
   "id": "ee9a8b9d-b09d-46d2-823c-4f9e82e15939",
   "metadata": {},
   "source": [
    "3장 연습문제 1번~14번 p89~p91"
   ]
  },
  {
   "cell_type": "markdown",
   "id": "6ae3bcbb-7410-4485-a5af-4a11fe00cd92",
   "metadata": {},
   "source": [
    "1. 4번 print(\"50+50\")"
   ]
  },
  {
   "cell_type": "code",
   "execution_count": null,
   "id": "512300f6-927e-4513-9569-c0d884f67739",
   "metadata": {},
   "outputs": [],
   "source": [
    "2. 3번 5 / 10 = 0"
   ]
  },
  {
   "cell_type": "code",
   "execution_count": null,
   "id": "32312ffe-583c-4efc-a282-4b9d69feb0e8",
   "metadata": {},
   "outputs": [],
   "source": [
    "3.  (1) print(\"%04d\" % 876) => 0876\n",
    "    (2) print(\"%5s\" % \"CookBook\") => CookBook\n",
    "    (3) print(\"%1.1f\" % 123.45) => 123.5"
   ]
  },
  {
   "cell_type": "code",
   "execution_count": null,
   "id": "c3d2d5b7-cb67-42ca-9fed-a3f61a247f36",
   "metadata": {},
   "outputs": [],
   "source": [
    "4. print(\"{2:d} {0:d} {1:D}\".format(111, 222, 333)) => 3번 333 1111 222"
   ]
  },
  {
   "cell_type": "code",
   "execution_count": null,
   "id": "ddd8cb50-9823-44db-b1f1-8ca666e0b814",
   "metadata": {},
   "outputs": [],
   "source": [
    "5.  (1) \\t\n",
    "    (2) \\b\n",
    "    (3) \\\\"
   ]
  },
  {
   "cell_type": "code",
   "execution_count": null,
   "id": "b3396794-9885-46c5-846d-4d55df596c98",
   "metadata": {},
   "outputs": [],
   "source": [
    "6. 4번 문자 : character"
   ]
  },
  {
   "cell_type": "code",
   "execution_count": null,
   "id": "48fe6600-a6f3-41d2-b7ee-f09b3cace2d5",
   "metadata": {},
   "outputs": [],
   "source": [
    "7.  2번 100 = num1\n",
    "    4번 num1 = 100 = num2 = 100"
   ]
  },
  {
   "cell_type": "code",
   "execution_count": null,
   "id": "285cfb19-f98a-4d74-a5cf-065bf938511e",
   "metadata": {},
   "outputs": [],
   "source": [
    "8.  (a = b = 10 = c = d = 20)\n",
    "    위 코드의 오류 발생 이유 : 변수값 설정에 있어 10 = 20이라는 오류가 발생함"
   ]
  },
  {
   "cell_type": "code",
   "execution_count": null,
   "id": "6e83f126-9ca4-48db-b739-92a09ca4b8ce",
   "metadata": {},
   "outputs": [],
   "source": [
    "9.  2번 0011 => 0010\n",
    "    4번 1001 => 1010, C => B\n",
    "    5번 1111 => 1110, F => 10"
   ]
  },
  {
   "cell_type": "code",
   "execution_count": null,
   "id": "7d98b61d-a7f7-4cc6-9cfc-b553e478e476",
   "metadata": {},
   "outputs": [],
   "source": [
    "10. (1) 3 int(0b0011)\n",
    "    (2) 10 int(0b01010)\n",
    "    (3) 17 int(0x11)\n",
    "    (4) 15 int(0o17)"
   ]
  },
  {
   "cell_type": "code",
   "execution_count": null,
   "id": "3937ca3b-2640-477c-bda2-c73979db8823",
   "metadata": {},
   "outputs": [],
   "source": [
    "11. (1) 11 int(0b1011)\n",
    "    (2) 26 int(0x1A)"
   ]
  },
  {
   "cell_type": "code",
   "execution_count": null,
   "id": "cb9f5586-44e1-4eba-a651-725721a6a9e8",
   "metadata": {},
   "outputs": [],
   "source": [
    "12. (1) hex\n",
    "    (2) oct\n",
    "    (3) bin"
   ]
  },
  {
   "cell_type": "code",
   "execution_count": null,
   "id": "c7d1c3c1-374d-49a6-8e93-709020830dd6",
   "metadata": {},
   "outputs": [],
   "source": [
    "13. 전부\n",
    "    (1) 100'2'\n",
    "    (2) 100'8'\n",
    "    (3) AAF'G'"
   ]
  },
  {
   "cell_type": "code",
   "execution_count": null,
   "id": "ba5e23de-11c8-42e0-8e3d-434237ce27a3",
   "metadata": {},
   "outputs": [],
   "source": [
    "14. 3번 True와 False 두가지 값만 가짐\n",
    "    5번 문자열은 큰따옴표, 작은따옴표 둘 다 사용가능"
   ]
  },
  {
   "cell_type": "code",
   "execution_count": 14,
   "id": "922a61e4-f86f-4bb4-bfb7-363c6748c08b",
   "metadata": {},
   "outputs": [
    {
     "name": "stdin",
     "output_type": "stream",
     "text": [
      "글자 입력 :  G\n"
     ]
    },
    {
     "name": "stdout",
     "output_type": "stream",
     "text": [
      "숫자가 아닙니다\n"
     ]
    }
   ],
   "source": [
    "num = input(\"글자 입력 : \")\n",
    "\n",
    "if ('a' <= num <= 'f') or ('A' <= num <= 'F') :\n",
    "    print(\"16진수 입니다\")\n",
    "elif '8' <= num <= '9' :\n",
    "    print(\"10진수 또는 16진수 입니다\")\n",
    "elif '2' <= num <= '7' :\n",
    "    print(\"8진수 또는 10진수 또는 16진수 입니다\")\n",
    "elif '0' <= num <= '1' :\n",
    "    print(\"2진수 또는 8진수 또는 10진수 또는 16진수 입니다\")\n",
    "else :\n",
    "        print(\"숫자가 아닙니다\")"
   ]
  },
  {
   "cell_type": "code",
   "execution_count": null,
   "id": "4caa0ec3-dccf-4e86-8409-2d44908980b3",
   "metadata": {},
   "outputs": [],
   "source": [
    "4장 연습문제 1번~9번 p116~p118"
   ]
  },
  {
   "cell_type": "code",
   "execution_count": null,
   "id": "a860b96b-b9c0-49f6-8ae1-2261491b2c2c",
   "metadata": {},
   "outputs": [],
   "source": [
    "1.  (1) =\n",
    "    (2) //\n",
    "    (3) %\n",
    "    (4) **"
   ]
  },
  {
   "cell_type": "code",
   "execution_count": null,
   "id": "90d81801-418c-4f9c-b55f-219b672cfa83",
   "metadata": {},
   "outputs": [],
   "source": [
    "2.  (1) 7\n",
    "    (2) 5\n",
    "    (3) -5\n",
    "    (4) -1"
   ]
  },
  {
   "cell_type": "code",
   "execution_count": null,
   "id": "ec439fa4-5d7b-4398-8a63-16f909c325f6",
   "metadata": {},
   "outputs": [],
   "source": [
    "3.  (1) int\n",
    "    (2) float\n",
    "    (3) str"
   ]
  },
  {
   "cell_type": "code",
   "execution_count": null,
   "id": "087b0a79-c70e-421d-9718-562857739296",
   "metadata": {},
   "outputs": [],
   "source": [
    "4. 100"
   ]
  },
  {
   "cell_type": "code",
   "execution_count": null,
   "id": "6fd981a2-05a5-42e0-9e48-b4e3178218c8",
   "metadata": {},
   "outputs": [],
   "source": [
    "5.  (1) False\n",
    "    (2) False\n",
    "    (3) True\n",
    "    (4) True"
   ]
  },
  {
   "cell_type": "code",
   "execution_count": null,
   "id": "219daf76-525d-4ce0-a939-3cc9a53208e5",
   "metadata": {},
   "outputs": [],
   "source": [
    "6.  (1) False\n",
    "    (2) True\n",
    "    (3) False\n",
    "    (4) True"
   ]
  },
  {
   "cell_type": "code",
   "execution_count": null,
   "id": "91b4b195-64de-4081-a46b-6bc41f49af81",
   "metadata": {},
   "outputs": [],
   "source": [
    "7.  (1) 000\n",
    "    (2) 111\n",
    "    (3) 011\n",
    "    (4) 1100"
   ]
  },
  {
   "cell_type": "code",
   "execution_count": 4,
   "id": "e449a91d-905c-451a-b1dd-af545de074e2",
   "metadata": {},
   "outputs": [],
   "source": [
    "num1, num2 = 6, 1"
   ]
  },
  {
   "cell_type": "code",
   "execution_count": null,
   "id": "92c88934-7639-4627-80d7-340b12cda939",
   "metadata": {},
   "outputs": [],
   "source": [
    "8. () + << & >= == and"
   ]
  },
  {
   "cell_type": "code",
   "execution_count": 44,
   "id": "726c97a6-772c-4d81-9f66-c31186777b50",
   "metadata": {},
   "outputs": [
    {
     "name": "stdin",
     "output_type": "stream",
     "text": [
      "500원짜리 개수 -->  7\n",
      "100원짜리 개수 -->  13\n",
      "50원짜리 개수 -->  9\n",
      "10원짜리 개수 -->  2\n"
     ]
    },
    {
     "name": "stdout",
     "output_type": "stream",
     "text": [
      "5270원\n"
     ]
    }
   ],
   "source": [
    "money, a, b, c, d = 0, 0, 0, 0, 0\n",
    "\n",
    "a = int(input(\"500원짜리 개수 --> \"))\n",
    "b = int(input(\"100원짜리 개수 --> \"))\n",
    "c = int(input(\"50원짜리 개수 --> \"))\n",
    "d = int(input(\"10원짜리 개수 --> \"))\n",
    "\n",
    "a *= 500\n",
    "money += a\n",
    "\n",
    "b *= 100\n",
    "money += b\n",
    "\n",
    "c *= 50\n",
    "money += c\n",
    "\n",
    "d *= 10\n",
    "money += d\n",
    "\n",
    "print(money, \"\\b원\")"
   ]
  },
  {
   "cell_type": "code",
   "execution_count": null,
   "id": "f2f561bb-8762-4eb7-86be-f324e1c3232a",
   "metadata": {},
   "outputs": [],
   "source": [
    "5장 연습문제 1번~6번 p140~p141"
   ]
  },
  {
   "cell_type": "code",
   "execution_count": null,
   "id": "bb4a8c23-ceb8-491c-81c9-df08f8945d53",
   "metadata": {},
   "outputs": [],
   "source": [
    "1. 1번 if num == 100 :"
   ]
  },
  {
   "cell_type": "code",
   "execution_count": null,
   "id": "97676270-e5f5-4225-845b-7e2a16540e7d",
   "metadata": {},
   "outputs": [],
   "source": [
    "2. 5번 케이스2 케이스3"
   ]
  },
  {
   "cell_type": "code",
   "execution_count": null,
   "id": "99356cf6-3c58-4dd5-885c-43234397cbaf",
   "metadata": {},
   "outputs": [],
   "source": [
    "3. num % 5 != 0"
   ]
  },
  {
   "cell_type": "code",
   "execution_count": 8,
   "id": "985f997e-a0f7-42f3-aa16-8c94339931eb",
   "metadata": {},
   "outputs": [
    {
     "name": "stdin",
     "output_type": "stream",
     "text": [
      "정수를 입력하세요 :  10\n"
     ]
    },
    {
     "name": "stdout",
     "output_type": "stream",
     "text": [
      "5의 배수입니다.\n"
     ]
    }
   ],
   "source": [
    "num = int(input(\"정수를 입력하세요 : \"))\n",
    "\n",
    "if num % 5 != 0 :\n",
    "    print(\"5의 배수가 아닙니다.\")\n",
    "else :\n",
    "    print(\"5의 배수입니다.\")"
   ]
  },
  {
   "cell_type": "code",
   "execution_count": null,
   "id": "18ae0b60-9da8-460e-83a2-063c060a1d16",
   "metadata": {},
   "outputs": [],
   "source": [
    "4. score = int(input(\"점수를 입력하세요 : \"))\n",
    "\n",
    "if score >= 90 :\n",
    "    print(\"장학생\", end='')\n",
    "elif score >= 60 :\n",
    "    print(\"합격\", end='')\n",
    "else :\n",
    "    print(\"불합격\", end='')\n",
    "    \n",
    "print(\"입니다. ^^\")"
   ]
  },
  {
   "cell_type": "code",
   "execution_count": 10,
   "id": "dfacb53a-8c9e-4c5a-8a06-07ff1f763b4b",
   "metadata": {},
   "outputs": [
    {
     "name": "stdin",
     "output_type": "stream",
     "text": [
      "점수를 입력하세요 :  90\n"
     ]
    },
    {
     "name": "stdout",
     "output_type": "stream",
     "text": [
      "장학생입니다. ^^\n"
     ]
    }
   ],
   "source": [
    "score = int(input(\"점수를 입력하세요 : \"))\n",
    "\n",
    "if score >= 90 :\n",
    "    print(\"장학생\", end='')\n",
    "elif score >= 60 :\n",
    "    print(\"합격\", end='')\n",
    "else :\n",
    "    print(\"불합격\", end='')\n",
    "    \n",
    "print(\"입니다. ^^\")"
   ]
  },
  {
   "cell_type": "code",
   "execution_count": null,
   "id": "68a9a973-23f8-4e6c-bca1-65060782b8a3",
   "metadata": {},
   "outputs": [],
   "source": [
    "5. 3번 res ='짝수' if num % 2 == 0 else '홀수'"
   ]
  },
  {
   "cell_type": "code",
   "execution_count": null,
   "id": "044fde0b-a4ab-40b8-873e-b1ddfc15f253",
   "metadata": {},
   "outputs": [],
   "source": [
    "6. import random\n",
    "\n",
    "numbers = []\n",
    "for num in range(1, 20) :\n",
    "    numbers.append(random.randrange(0, 10))\n",
    "    \n",
    "print(\"생성된 리스트\", numbers)\n",
    "\n",
    "for num in range(1, 20) :\n",
    "    if num in numbers :\n",
    "        print(\"숫자 %d는(은) 뽑혔습니다.\" %num)"
   ]
  },
  {
   "cell_type": "code",
   "execution_count": 14,
   "id": "6e5cd69f-8b26-419e-a0e8-5a47eae3d52a",
   "metadata": {},
   "outputs": [
    {
     "name": "stdout",
     "output_type": "stream",
     "text": [
      "생성된 리스트 [5, 1, 3, 5, 2, 1, 9, 8, 8, 8, 7, 3, 3, 9, 9, 5, 9, 9, 4]\n",
      "숫자 1는(은) 뽑혔습니다.\n",
      "숫자 2는(은) 뽑혔습니다.\n",
      "숫자 3는(은) 뽑혔습니다.\n",
      "숫자 4는(은) 뽑혔습니다.\n",
      "숫자 5는(은) 뽑혔습니다.\n",
      "숫자 7는(은) 뽑혔습니다.\n",
      "숫자 8는(은) 뽑혔습니다.\n",
      "숫자 9는(은) 뽑혔습니다.\n"
     ]
    }
   ],
   "source": [
    "import random\n",
    "\n",
    "numbers = []\n",
    "for num in range(1, 20) :\n",
    "    numbers.append(random.randrange(0, 10))\n",
    "    \n",
    "print(\"생성된 리스트\", numbers)\n",
    "\n",
    "for num in range(1, 20) :\n",
    "    if num in numbers :\n",
    "        print(\"숫자 %d는(은) 뽑혔습니다.\" %num)"
   ]
  },
  {
   "cell_type": "code",
   "execution_count": null,
   "id": "e591688e-36ca-4403-970f-6cc191444e7c",
   "metadata": {},
   "outputs": [],
   "source": []
  }
 ],
 "metadata": {
  "kernelspec": {
   "display_name": "Python 3 (ipykernel)",
   "language": "python",
   "name": "python3"
  },
  "language_info": {
   "codemirror_mode": {
    "name": "ipython",
    "version": 3
   },
   "file_extension": ".py",
   "mimetype": "text/x-python",
   "name": "python",
   "nbconvert_exporter": "python",
   "pygments_lexer": "ipython3",
   "version": "3.9.7"
  }
 },
 "nbformat": 4,
 "nbformat_minor": 5
}
